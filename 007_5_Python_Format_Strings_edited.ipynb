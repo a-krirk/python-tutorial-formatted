{
 "cells": [
  {
   "cell_type": "markdown",
   "metadata": {
    "id": "S3yWTTxZh0e2"
   },
   "source": [
    "#### การจัดรูปแบบให้ Strings"
   ]
  },
  {
   "cell_type": "markdown",
   "metadata": {
    "id": "nETCJXt7iVhm"
   },
   "source": [
    "เราไม่สามารถรวม string กับ number เข้าด้วยกันได้ ดังตัวอย่าง"
   ]
  },
  {
   "cell_type": "code",
   "execution_count": 7,
   "metadata": {
    "colab": {
     "base_uri": "https://localhost:8080/",
     "height": 207
    },
    "id": "IOhcrge1im1g",
    "outputId": "a4df780f-53ed-4659-8570-596095646c7a"
   },
   "outputs": [
    {
     "ename": "TypeError",
     "evalue": "can only concatenate str (not \"int\") to str",
     "output_type": "error",
     "traceback": [
      "\u001b[1;31m---------------------------------------------------------------------------\u001b[0m",
      "\u001b[1;31mTypeError\u001b[0m                                 Traceback (most recent call last)",
      "\u001b[1;32m~\\AppData\\Local\\Temp/ipykernel_15176/2930295943.py\u001b[0m in \u001b[0;36m<module>\u001b[1;34m\u001b[0m\n\u001b[0;32m      1\u001b[0m \u001b[0mage\u001b[0m \u001b[1;33m=\u001b[0m \u001b[1;36m38\u001b[0m\u001b[1;33m\u001b[0m\u001b[1;33m\u001b[0m\u001b[0m\n\u001b[1;32m----> 2\u001b[1;33m \u001b[0mtxt\u001b[0m \u001b[1;33m=\u001b[0m \u001b[1;34m\"ผมชื่อสมชาย อายุ \"\u001b[0m \u001b[1;33m+\u001b[0m \u001b[0mage\u001b[0m \u001b[1;33m+\u001b[0m \u001b[1;34m\"ปี\"\u001b[0m\u001b[1;33m\u001b[0m\u001b[1;33m\u001b[0m\u001b[0m\n\u001b[0m\u001b[0;32m      3\u001b[0m \u001b[0mprint\u001b[0m\u001b[1;33m(\u001b[0m\u001b[0mtxt\u001b[0m\u001b[1;33m)\u001b[0m\u001b[1;33m\u001b[0m\u001b[1;33m\u001b[0m\u001b[0m\n",
      "\u001b[1;31mTypeError\u001b[0m: can only concatenate str (not \"int\") to str"
     ]
    }
   ],
   "source": [
    "age = 38\r\n",
    "txt = \"ผมชื่อสมชาย อายุ \" + age + \"ปี\"\r\n",
    "print(txt)"
   ]
  },
  {
   "cell_type": "markdown",
   "metadata": {
    "id": "HG9_Asy-io5k"
   },
   "source": [
    "ทางที่ดีควรใช้ method format() ในการจัดรูปแบบให้ string \r\n",
    "\r\n",
    "โดยใช้ placeholder {} เพื่อรับค่า argument เข้าไปจัดรูปแบบให้เป็น string"
   ]
  },
  {
   "cell_type": "markdown",
   "metadata": {
    "id": "xktSODRUisJ-"
   },
   "source": [
    "###### ตัวอย่าง\r\n",
    "\r\n",
    "ใช้ method format() เพื่อใส่ตัวเลขเข้าไปใน string"
   ]
  },
  {
   "cell_type": "code",
   "execution_count": null,
   "metadata": {
    "colab": {
     "base_uri": "https://localhost:8080/"
    },
    "id": "oJtjfDzHi55T",
    "outputId": "c60d057f-9d2b-41fc-f87d-a72b2a645a24"
   },
   "outputs": [
    {
     "name": "stdout",
     "output_type": "stream",
     "text": [
      "ผมชื่อสมชาย อายุ 38 ปี\n"
     ]
    }
   ],
   "source": [
    "age = 38\r\n",
    "txt = \"ผมชื่อสมชาย อายุ {} ปี\"\r\n",
    "print(txt.format(age))"
   ]
  },
  {
   "cell_type": "markdown",
   "metadata": {
    "id": "-Snr4gBCi7x6"
   },
   "source": [
    "สามารถรับ argument กี่ตัวก็ได้ โดยจะแทนค่าเข้าไปใน placeholder ตามลำดับ"
   ]
  },
  {
   "cell_type": "markdown",
   "metadata": {
    "id": "Ky2mv8_-i94u"
   },
   "source": [
    "###### ตัวอย่าง"
   ]
  },
  {
   "cell_type": "code",
   "execution_count": null,
   "metadata": {
    "colab": {
     "base_uri": "https://localhost:8080/"
    },
    "id": "0MqrLAIzi_GB",
    "outputId": "f650b178-5d32-4440-e181-c64fce189ed7"
   },
   "outputs": [
    {
     "name": "stdout",
     "output_type": "stream",
     "text": [
      "ไก่ 2 ชิ้นของออเดอร์ที่ 345 ได้แล้วค่ะ รวมแล้ว 67.89 บาทค่ะ\n"
     ]
    }
   ],
   "source": [
    "num = 2\r\n",
    "order = 345\r\n",
    "price = 67.89\r\n",
    "sentence = \"ไก่ {} ชิ้นของออเดอร์ที่ {} ได้แล้วค่ะ รวมแล้ว {} บาทค่ะ\"\r\n",
    "print(sentence.format(num, order, price))"
   ]
  },
  {
   "cell_type": "markdown",
   "metadata": {
    "id": "31sT7qPBjG67"
   },
   "source": [
    "สามารถใช้ index number ใส่ลงไปใน placeholder เพื่อกำหนดลำดับของ argument ให้ถูกต้อง"
   ]
  },
  {
   "cell_type": "markdown",
   "metadata": {
    "id": "9A09_MoljJaN"
   },
   "source": [
    "###### ตัวอย่าง"
   ]
  },
  {
   "cell_type": "code",
   "execution_count": null,
   "metadata": {
    "colab": {
     "base_uri": "https://localhost:8080/"
    },
    "id": "CMUEh1ePjKub",
    "outputId": "ce95d324-4e19-460d-ab7a-ef0ff99aecb1"
   },
   "outputs": [
    {
     "name": "stdout",
     "output_type": "stream",
     "text": [
      "จ่ายเงิน 67.89 บาท สำหรับออเดอร์ที่ 345 เรียบร้อยแล้วครับ ได้ไก่ทั้งหมด 2 ชิ้นครับ\n"
     ]
    }
   ],
   "source": [
    "num = 2\r\n",
    "order = 345\r\n",
    "price = 67.89\r\n",
    "sentence = \"จ่ายเงิน {2} บาท สำหรับออเดอร์ที่ {1} เรียบร้อยแล้วครับ ได้ไก่ทั้งหมด {0} ชิ้นครับ\"\r\n",
    "print(sentence.format(num, order, price))\r\n"
   ]
  },
  {
   "cell_type": "code",
   "execution_count": null,
   "metadata": {},
   "outputs": [],
   "source": []
  }
 ],
 "metadata": {
  "colab": {
   "name": "7.3Python - Format Strings.ipynb",
   "provenance": []
  },
  "interpreter": {
   "hash": "00034aa5cd6c44013b830fd98c7a620a61a498e75425ca81fcc1166b84a69895"
  },
  "kernelspec": {
   "display_name": "Python 3.8.5 64-bit ('base': conda)",
   "name": "python3"
  },
  "language_info": {
   "codemirror_mode": {
    "name": "ipython",
    "version": 3
   },
   "file_extension": ".py",
   "mimetype": "text/x-python",
   "name": "python",
   "nbconvert_exporter": "python",
   "pygments_lexer": "ipython3",
   "version": "3.8.5"
  }
 },
 "nbformat": 4,
 "nbformat_minor": 2
}
