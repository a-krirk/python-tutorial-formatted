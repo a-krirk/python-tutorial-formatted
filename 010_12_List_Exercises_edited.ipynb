{
 "cells": [
  {
   "cell_type": "markdown",
   "metadata": {
    "id": "qoEkt5VGTlFX"
   },
   "source": [
    "#### แบบฝึกหัด List "
   ]
  },
  {
   "cell_type": "markdown",
   "metadata": {
    "id": "iFWW9rPVTlFZ"
   },
   "source": [
    "###### มาลองทำแบบฝึกหัดกันเถอะ\n",
    "\n",
    "มาถึงตอนนี้เราได้เรียนรู้การใช้งาน Python กันมาพอสมควรแล้ว โดยเฉพาะการใช้คำสั่งต่าง ๆ กับ list ใน Python\n",
    "\n",
    "พร้อมลุยแบบฝึกหัดกันหรือยังเอ่ย?\n",
    "ถ้าพร้อมแล้วไปลุยกันเลย"
   ]
  },
  {
   "cell_type": "markdown",
   "metadata": {
    "id": "FuDKqiIhTlFa"
   },
   "source": [
    "###### ตัวอย่าง\r\n",
    "print item ที่สองของ \"fruits\""
   ]
  },
  {
   "cell_type": "code",
   "execution_count": null,
   "metadata": {
    "id": "4SFp7f-zTlFa"
   },
   "outputs": [],
   "source": [
    "fruits = [\"apple\", \"banana\", \"cherry\"]\r\n",
    "# พิมพ์โค้ดของคุณที่บรรทัดนี้ จากนั้นแทนที่ ___ ในบรรทัดต่อไปด้วยโค้ดของคุณ\r\n",
    "print(___) "
   ]
  }
 ],
 "metadata": {
  "colab": {
   "collapsed_sections": [],
   "name": "010_12_List_Exercises.ipynb",
   "provenance": [],
   "toc_visible": true
  },
  "interpreter": {
   "hash": "00034aa5cd6c44013b830fd98c7a620a61a498e75425ca81fcc1166b84a69895"
  },
  "kernelspec": {
   "display_name": "Python 3.8.5 64-bit ('base': conda)",
   "name": "python3"
  },
  "language_info": {
   "name": "python",
   "version": "3.8.5"
  }
 },
 "nbformat": 4,
 "nbformat_minor": 2
}
