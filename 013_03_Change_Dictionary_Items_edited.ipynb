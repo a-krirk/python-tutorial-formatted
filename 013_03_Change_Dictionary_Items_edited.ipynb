{
 "cells": [
  {
   "cell_type": "markdown",
   "metadata": {
    "id": "4YosgLXH77pq"
   },
   "source": [
    "#### การเปลี่ยน Items ใน Dictionary "
   ]
  },
  {
   "cell_type": "markdown",
   "metadata": {
    "id": "xGpVfWcX77p0"
   },
   "source": [
    "###### การเปลี่ยน value\n",
    "เปลี่ยน value ได้ด้วยการระบุชื่อ key"
   ]
  },
  {
   "cell_type": "markdown",
   "metadata": {
    "id": "wWiiMzd277p2"
   },
   "source": [
    "###### ตัวอย่าง\r\n",
    "Change the \"year\" to 2018:"
   ]
  },
  {
   "cell_type": "code",
   "execution_count": 5,
   "metadata": {
    "id": "nnb8mKFF77p3"
   },
   "outputs": [],
   "source": [
    "thisdict = {\r\n",
    "  \"brand\": \"Honda\",\r\n",
    "  \"model\": \"City\",\r\n",
    "  \"year\": 2020\r\n",
    "}\r\n",
    "thisdict[\"year\"] = 2018"
   ]
  },
  {
   "cell_type": "markdown",
   "metadata": {
    "id": "bcVhZLMS77p7"
   },
   "source": [
    "###### การ update ค่าใน Dictionary\r\n",
    "ใช้ method `update()` เพื่อเปลี่ยนแปลง value ใน dictionary\r\n",
    "โดยค่า (argument) ที่เป็นข้อมูลประเภท dictionary ไปในวงเล็บ"
   ]
  },
  {
   "cell_type": "markdown",
   "metadata": {
    "id": "clZaui1w77p8"
   },
   "source": [
    "###### ตัวอย่าง \r\n",
    "update \"year\" ของ car ด้วย method `update()`"
   ]
  },
  {
   "cell_type": "code",
   "execution_count": 6,
   "metadata": {
    "id": "8NWoQ8tl77p9"
   },
   "outputs": [],
   "source": [
    "thisdict = {\r\n",
    "  \"brand\": \"Honda\",\r\n",
    "  \"model\": \"City\",\r\n",
    "  \"year\": 2020\r\n",
    "}\r\n",
    "thisdict.update({\"year\": 2021})"
   ]
  }
 ],
 "metadata": {
  "colab": {
   "collapsed_sections": [],
   "name": "013_03_Change_Dictionary_Items.ipynb",
   "provenance": []
  },
  "interpreter": {
   "hash": "00034aa5cd6c44013b830fd98c7a620a61a498e75425ca81fcc1166b84a69895"
  },
  "kernelspec": {
   "display_name": "Python 3.8.5 64-bit ('base': conda)",
   "name": "python3"
  },
  "language_info": {
   "codemirror_mode": {
    "name": "ipython",
    "version": 3
   },
   "file_extension": ".py",
   "mimetype": "text/x-python",
   "name": "python",
   "nbconvert_exporter": "python",
   "pygments_lexer": "ipython3",
   "version": "3.8.5"
  }
 },
 "nbformat": 4,
 "nbformat_minor": 2
}
