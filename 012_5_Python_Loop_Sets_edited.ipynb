{
 "cells": [
  {
   "cell_type": "markdown",
   "metadata": {
    "id": "rfEvK5_fCG-n"
   },
   "source": [
    "#### การทำ Loop กับ Sets"
   ]
  },
  {
   "cell_type": "markdown",
   "metadata": {
    "id": "cQMG4Gf9CG-s"
   },
   "source": [
    "เราสามารถ loop ผ่าน set ได้โดยการใช้ for loop"
   ]
  },
  {
   "cell_type": "markdown",
   "metadata": {
    "id": "nPQ3WQ83CG-t"
   },
   "source": [
    "###### ตัวอย่าง\r\n",
    "\r\n",
    "loop ผ่าน set พร้อมกับแสดงค่าภายใน set"
   ]
  },
  {
   "cell_type": "code",
   "execution_count": 2,
   "metadata": {},
   "outputs": [
    {
     "name": "stdout",
     "output_type": "stream",
     "text": [
      "Sushi\n",
      "Salad\n",
      "Burger\n"
     ]
    }
   ],
   "source": [
    "foodset = {\"Sushi\", \"Burger\", \"Salad\"}\r\n",
    "for i in foodset:\r\n",
    "    print(i)"
   ]
  }
 ],
 "metadata": {
  "colab": {
   "name": "012_5_Python_Loop_Sets.ipynb",
   "provenance": []
  },
  "interpreter": {
   "hash": "8a42e8581704d812f174276cadf47b91a8b3cbce976324507688b69a62b18c0b"
  },
  "kernelspec": {
   "display_name": "Python 3.8.2 32-bit",
   "name": "python3"
  },
  "language_info": {
   "codemirror_mode": {
    "name": "ipython",
    "version": 3
   },
   "file_extension": ".py",
   "mimetype": "text/x-python",
   "name": "python",
   "nbconvert_exporter": "python",
   "pygments_lexer": "ipython3",
   "version": "3.8.2"
  }
 },
 "nbformat": 4,
 "nbformat_minor": 2
}
