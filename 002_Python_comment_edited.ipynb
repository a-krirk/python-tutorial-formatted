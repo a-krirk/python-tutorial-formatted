{
 "cells": [
  {
   "cell_type": "markdown",
   "metadata": {
    "id": "_kTHz4i450TC"
   },
   "source": [
    "#### Python comment"
   ]
  },
  {
   "cell_type": "markdown",
   "metadata": {
    "id": "-SI7wBBq529j"
   },
   "source": [
    "เราสามารถเขียน comment เพื่ออธิบายการทำงานของโค้ด ทำให้โค้ดอ่านง่ายขึ้น\r\n",
    "\r\n",
    "หรือใช้ comment เพื่อครอบโค้ดบางส่วนออก เวลาต้องการทดสอบการทำงานของโค้ดทีละส่วน\r\n"
   ]
  },
  {
   "cell_type": "markdown",
   "metadata": {},
   "source": [
    "###### การเขียน comment \r\n",
    "ให้เริ่มประโยคที่ต้องการ comment ด้วยเครื่องหมาย # \r\n",
    "\r\n",
    "โดย # จะเป็นการบอกให้ interpreter รู้ว่าไม่ต้องรัน code ด้านหลังตัวมัน"
   ]
  },
  {
   "cell_type": "code",
   "execution_count": 1,
   "metadata": {
    "id": "AfjGkdO66bJC"
   },
   "outputs": [
    {
     "name": "stdout",
     "output_type": "stream",
     "text": [
      "Hello world\n"
     ]
    }
   ],
   "source": [
    "####ตัวอย่าง comment\r\n",
    "#โค้ดข้างล่างจะเป็นการ print คำว่า \"Hello world\" ออกมา\r\n",
    "print(\"Hello world\")"
   ]
  },
  {
   "cell_type": "markdown",
   "metadata": {
    "id": "DqlZDqPHROJu"
   },
   "source": [
    "เราสามารถเขียน comment ไว้ท้ายสุดของโค้ดบรรทัดนั้น ๆ ก็ได้"
   ]
  },
  {
   "cell_type": "code",
   "execution_count": 2,
   "metadata": {},
   "outputs": [
    {
     "name": "stdout",
     "output_type": "stream",
     "text": [
      "ฉันจะพยายามใส่ comment เมื่อโค้ดส่วนนั้นเข้าใจยาก\n"
     ]
    }
   ],
   "source": [
    "print(\"ฉันจะพยายามใส่ comment เมื่อโค้ดส่วนนั้นเข้าใจยาก\") #print คำว่า \"ฉันจะพยายามใส่ comment เมื่อโค้ดส่วนนั้นเข้าใจยาก\""
   ]
  },
  {
   "cell_type": "markdown",
   "metadata": {
    "id": "oRAhq_xwRuU8"
   },
   "source": [
    "เราสามารถใช้ comment เพื่อครอบโค้ดส่วนที่เราไม่อยากให้รันได้ ซึ่งมีประโยชน์มากตอนหาความผิดพลาดของโค้ด\r\n",
    "\r\n",
    "ตัวอย่างโค้ดข้างล่าง จะมีการ print แค่คำว่า \"Sawasdee Python\" เท่านั้น จะไม่ print คำว่า \"สวัสดีไพทอน\" ออกมา"
   ]
  },
  {
   "cell_type": "code",
   "execution_count": 3,
   "metadata": {
    "colab": {
     "base_uri": "https://localhost:8080/"
    },
    "id": "4nBj84P-R2tV",
    "outputId": "7996a605-7ad7-426b-d859-664d27fdd5b6"
   },
   "outputs": [
    {
     "name": "stdout",
     "output_type": "stream",
     "text": [
      "Sawasdee Python\n"
     ]
    }
   ],
   "source": [
    "####print(\"สวัสดีไพทอน\") \r\n",
    "print(\"Sawasdee Python\")\r\n"
   ]
  },
  {
   "cell_type": "markdown",
   "metadata": {
    "id": "AK0vUdd9SYUk"
   },
   "source": [
    "###### การเขียน comment หลายบรรทัด"
   ]
  },
  {
   "cell_type": "markdown",
   "metadata": {
    "id": "3jnQXypkSOyU"
   },
   "source": [
    "Python ไม่มี syntax สำหรับการเขียน comment ทีละหลายบรรทัด\r\n",
    "\r\n",
    "วิธีการแรกในการเขียน comment ทีละหลายบรรทัด คือ การขึ้น comment ใหม่ โดยใช้ # ทีละบรรทัด"
   ]
  },
  {
   "cell_type": "code",
   "execution_count": 4,
   "metadata": {},
   "outputs": [],
   "source": [
    "####นี่คือวิธีการ\r\n",
    "#เขียน comment\r\n",
    "#ทีละหลายบรรทัดวิธีแรก"
   ]
  },
  {
   "cell_type": "markdown",
   "metadata": {},
   "source": [
    "อีกวิธีการหนึ่ง ทำได้โดยใช้ multiline string (triple quotes) แล้วใส่ comment ไว้ข้างใน ตามตัวอย่าง"
   ]
  },
  {
   "cell_type": "code",
   "execution_count": 5,
   "metadata": {
    "colab": {
     "base_uri": "https://localhost:8080/"
    },
    "id": "2FsVD9J6SvO1",
    "outputId": "c84e5c26-0382-4b21-99f6-e54d17c26921"
   },
   "outputs": [
    {
     "name": "stdout",
     "output_type": "stream",
     "text": [
      "Nice comment!\n"
     ]
    }
   ],
   "source": [
    "\"\"\"\r\n",
    "นี่คือวิธีการ\r\n",
    "เขียน comment\r\n",
    "ทีละหลายบรรทัดวิธีที่สอง \r\n",
    "\"\"\"\r\n",
    "\r\n",
    "print(\"Nice comment!\")"
   ]
  }
 ],
 "metadata": {
  "colab": {
   "collapsed_sections": [],
   "name": "2.python_comment.ipynb",
   "provenance": []
  },
  "interpreter": {
   "hash": "8a42e8581704d812f174276cadf47b91a8b3cbce976324507688b69a62b18c0b"
  },
  "kernelspec": {
   "display_name": "Python 3.8.2 32-bit",
   "name": "python3"
  },
  "language_info": {
   "codemirror_mode": {
    "name": "ipython",
    "version": 3
   },
   "file_extension": ".py",
   "mimetype": "text/x-python",
   "name": "python",
   "nbconvert_exporter": "python",
   "pygments_lexer": "ipython3",
   "version": "3.8.2"
  }
 },
 "nbformat": 4,
 "nbformat_minor": 2
}
