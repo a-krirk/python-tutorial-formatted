{
 "cells": [
  {
   "cell_type": "markdown",
   "metadata": {
    "id": "bFT2ubTF2ha6"
   },
   "source": [
    "#### การเข้าถึง Tuple"
   ]
  },
  {
   "cell_type": "markdown",
   "metadata": {
    "id": "yZ1DmYe72ha-"
   },
   "source": [
    "เราสามารถเข้าถึง tuple โดยการใช้เลข index ใส่ใน [ ] \r\n"
   ]
  },
  {
   "cell_type": "markdown",
   "metadata": {
    "id": "jHR446Ss2ha_"
   },
   "source": [
    "###### ตัวอย่าง\r\n",
    "\r\n",
    "แสดงค่าลำดับที่ 3 ใน tuple \r\n",
    "\r\n",
    "Note: index แรก คือ 0\r\n"
   ]
  },
  {
   "cell_type": "code",
   "execution_count": 1,
   "metadata": {
    "id": "WJ5QM7F32ha_",
    "outputId": "37832bee-bb5e-4dcf-b2a5-e2cb4ab02c73"
   },
   "outputs": [
    {
     "name": "stdout",
     "output_type": "stream",
     "text": [
      "Salad\n"
     ]
    }
   ],
   "source": [
    "foodtuple = (\"Sushi\", \"Burger\", \"Salad\")\r\n",
    "print(foodtuple[2])"
   ]
  },
  {
   "cell_type": "markdown",
   "metadata": {
    "id": "J-2JgyDK2hbB"
   },
   "source": [
    "###### Negative Indexing\r\n",
    "Negative indexing คือ การเริ่มต้น index จากส่วนท้าย -1 คือ ตัวสุดท้าย , -2 คือ ตัวรองสุดท้าย , ฯลฯ\r\n"
   ]
  },
  {
   "cell_type": "markdown",
   "metadata": {
    "id": "Bd1561912hbB"
   },
   "source": [
    "###### ตัวอย่าง\r\n",
    "\r\n",
    "แสดงค่าสุดท้ายของ tuple "
   ]
  },
  {
   "cell_type": "code",
   "execution_count": 2,
   "metadata": {
    "id": "hyoC9Ax-2hbC",
    "outputId": "593a7ce2-5c31-404d-fea6-e1523b0d0064"
   },
   "outputs": [
    {
     "name": "stdout",
     "output_type": "stream",
     "text": [
      "Salad\n"
     ]
    }
   ],
   "source": [
    "foodtuple = (\"Sushi\", \"Burger\", \"Salad\")\r\n",
    "print(foodtuple[-1])"
   ]
  },
  {
   "cell_type": "markdown",
   "metadata": {
    "id": "CIEt1yRb2hbC"
   },
   "source": [
    "###### ช่วงของ Indexes\r\n",
    "\r\n",
    "เราสามารถระบุเป็นช่วงของ index ว่าเริ่มที่ไหนและจบที่ไหนโดยการระบุเป็นช่วงของ index นั้น จะมีการส่งคืนค่ามาเป็น tuple ใหม่ที่มีรายการตามที่ระบุ"
   ]
  },
  {
   "cell_type": "markdown",
   "metadata": {
    "id": "bNAI0mH92hbD"
   },
   "source": [
    "###### ตัวอย่าง\r\n",
    "\r\n",
    "ส่งคืนค่าลำดับที่ 2 ,3 ,4 Note: การระบุ index เพื่อส่งคืนค่า index ที่ 1 (รวมอยู่ด้วย) และ index สุดท้าย index ที่ 4 (ไม่รวมอยู่ด้วย)\r\n",
    "\r\n",
    "**อย่าลืมว่า รายการแรกมี index คือ 0\r\n"
   ]
  },
  {
   "cell_type": "code",
   "execution_count": 3,
   "metadata": {
    "id": "sUQFzC7S2hbE",
    "outputId": "9f0e1bc3-58d1-4171-adc5-5409b41508b7"
   },
   "outputs": [
    {
     "name": "stdout",
     "output_type": "stream",
     "text": [
      "('Burger', 'Salad', 'Pizza')\n"
     ]
    }
   ],
   "source": [
    "foodtuple = (\"Sushi\", \"Burger\", \"Salad\", \"Pizza\", \"Noodle\", \"Curry\", \"Soup\")\r\n",
    "print(foodtuple[1:4])"
   ]
  },
  {
   "cell_type": "markdown",
   "metadata": {
    "id": "DDdnim9I2hbE"
   },
   "source": [
    "การไม่ระบุค่าเริ่มต้น คือ การเริ่มเอาตั้งแต่ค่าแรก\n"
   ]
  },
  {
   "cell_type": "markdown",
   "metadata": {
    "id": "cOR86jUK2hbE"
   },
   "source": [
    "###### ตัวอย่าง\r\n",
    "จากตัวอย่างจะส่งคืนค่าตั้งแต่ค่าเริ่มต้นจนถึงค่า index ที่ 2 ก่อนถึงไม่รวม Pizza \r\n",
    "\r\n"
   ]
  },
  {
   "cell_type": "code",
   "execution_count": 4,
   "metadata": {
    "id": "xclzm9ED2hbF",
    "outputId": "143489d4-f330-4abd-bd55-02c1b93bf228"
   },
   "outputs": [
    {
     "name": "stdout",
     "output_type": "stream",
     "text": [
      "('Sushi', 'Burger', 'Salad')\n"
     ]
    }
   ],
   "source": [
    "foodtuple = (\"Sushi\", \"Burger\", \"Salad\", \"Pizza\", \"Noodle\", \"Curry\", \"Soup\")\r\n",
    "print(foodtuple[:3])"
   ]
  },
  {
   "cell_type": "markdown",
   "metadata": {
    "id": "C9_Ev6NX2hbF"
   },
   "source": [
    "การไม่ระบุค่าสุดท้าย คือ การเอาค่าตั้งแต่ที่กำหนดถึงค่าสุดท้ายของรายการ\n"
   ]
  },
  {
   "cell_type": "markdown",
   "metadata": {
    "id": "DuP7SLJT2hbF"
   },
   "source": [
    "###### ตัวอย่าง\r\n",
    "จากตัวอย่างเป็นการส่งคืนค่าตั้งแต่ Salad ไปจนถึงตัวสุดท้ายของรายการ\r\n"
   ]
  },
  {
   "cell_type": "code",
   "execution_count": 5,
   "metadata": {
    "id": "mYUhMhbc2hbG",
    "outputId": "f1d9a099-a0a0-4b95-f94a-b9bcfe368baa"
   },
   "outputs": [
    {
     "name": "stdout",
     "output_type": "stream",
     "text": [
      "('Salad', 'Pizza', 'Noodle', 'Curry', 'Soup')\n"
     ]
    }
   ],
   "source": [
    "foodtuple = (\"Sushi\", \"Burger\", \"Salad\", \"Pizza\", \"Noodle\", \"Curry\", \"Soup\")\r\n",
    "print(foodtuple[2:])"
   ]
  },
  {
   "cell_type": "markdown",
   "metadata": {
    "id": "M_J4hD-r2hbG"
   },
   "source": [
    "###### ช่วงของ Negative Indexes\r\n",
    "การระบุ negative indexes เราต้องระบุค่าเริ่มต้นที่ต้องการหาเป็นค่าสุดท้ายของ tuple"
   ]
  },
  {
   "cell_type": "markdown",
   "metadata": {
    "id": "eqnZToPa2hbG"
   },
   "source": [
    "###### ตัวอย่าง\n",
    "จากตัวอย่างเป็นการส่งคืนค่าของ index ที่ -4 (รวมอยู่ด้วย) ถึงค่าของ index ที่ -1 (ไม่รวมอยู่ด้วย)\n"
   ]
  },
  {
   "cell_type": "code",
   "execution_count": 7,
   "metadata": {
    "id": "dmLghvMP2hbG",
    "outputId": "784c1672-cce0-439b-bbce-62f90408e62e"
   },
   "outputs": [
    {
     "name": "stdout",
     "output_type": "stream",
     "text": [
      "('Pizza', 'Noodle', 'Curry')\n"
     ]
    }
   ],
   "source": [
    "foodtuple = (\"Sushi\", \"Burger\", \"Salad\", \"Pizza\", \"Noodle\", \"Curry\", \"Soup\")\r\n",
    "print(foodtuple[-4:-1])"
   ]
  },
  {
   "cell_type": "markdown",
   "metadata": {
    "id": "BGBpkG4p2hbH"
   },
   "source": [
    "###### ตรวจสอบว่ามีรายการนี้อยู่หรือไม่\r\n",
    "การตรวจสอบว่ามีรายการนี้อยู่ใน tuple หรือไม่ สามารถใช้คำสั่ง in ในการตรวจสอบได้"
   ]
  },
  {
   "cell_type": "markdown",
   "metadata": {
    "id": "BzPrfDrc2hbH"
   },
   "source": [
    "###### ตัวอย่าง\r\n",
    "จงตรวจสอบว่ามี Pizza อยู่ใน tuple นี้หรือไม่"
   ]
  },
  {
   "cell_type": "code",
   "execution_count": 8,
   "metadata": {
    "id": "U6_Ran1H2hbH",
    "outputId": "4d80a368-0c59-4f4d-c89c-dc6beb210482"
   },
   "outputs": [
    {
     "name": "stdout",
     "output_type": "stream",
     "text": [
      "Yes, 'Pizza' is in the food tuple\n"
     ]
    }
   ],
   "source": [
    "foodtuple = (\"Sushi\", \"Burger\", \"Salad\", \"Pizza\", \"Noodle\", \"Curry\", \"Soup\")\r\n",
    "if \"Pizza\" in foodtuple:\r\n",
    "  print(\"Yes, 'Pizza' is in the food tuple\")"
   ]
  }
 ],
 "metadata": {
  "colab": {
   "name": "011_2_Python_Access_Tuple_Items.ipynb",
   "provenance": []
  },
  "interpreter": {
   "hash": "8a42e8581704d812f174276cadf47b91a8b3cbce976324507688b69a62b18c0b"
  },
  "kernelspec": {
   "display_name": "Python 3.8.2 32-bit",
   "name": "python3"
  },
  "language_info": {
   "codemirror_mode": {
    "name": "ipython",
    "version": 3
   },
   "file_extension": ".py",
   "mimetype": "text/x-python",
   "name": "python",
   "nbconvert_exporter": "python",
   "pygments_lexer": "ipython3",
   "version": "3.8.2"
  }
 },
 "nbformat": 4,
 "nbformat_minor": 2
}
