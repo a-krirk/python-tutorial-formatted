{
 "cells": [
  {
   "cell_type": "markdown",
   "metadata": {
    "id": "hizDZ5525nju"
   },
   "source": [
    "#### การจัดการกับไฟล์"
   ]
  },
  {
   "cell_type": "markdown",
   "metadata": {
    "id": "Cs2U0kUc50x9"
   },
   "source": [
    "Python มี function หลายตัวสำหรับการจัดการกับไฟล์ ตั้งแต่การสร้างไฟล์ อ่านไฟล์ อัพเดทไฟล์ และการลบไฟล์"
   ]
  },
  {
   "cell_type": "markdown",
   "metadata": {},
   "source": [
    "###### การเปิดไฟล์ open()"
   ]
  },
  {
   "cell_type": "markdown",
   "metadata": {
    "id": "NbAOZj6853q1"
   },
   "source": [
    "สามาถใช้ฟังก์ชั่น open() เพื่อเปิดไฟล์สำหรับเตรียมดำเนินการต่อไปกับไฟล์\r\n",
    "\r\n",
    "ฟังก์ชั่น open() รับค่า parameter สองตัว คือ filename และ mode\r\n",
    "\r\n",
    "mode ในการเปิดไฟล์มี 4 mode ดังนี้\r\n",
    "\r\n",
    "\"r\" - Read - เป็นค่าเริ่มต้น. ใช้สำหรับการอ่านไฟล์ จะ return error ถ้าไม่พบไฟล์ที่จะเปิดอ่าน\r\n",
    "\r\n",
    "\"a\" - Append - ใช้สำหรับเขียนไฟล์ต่อจากเดิม จะสร้างไฟล์ขึ้นมาถ้าไม่พบไฟล์ที่จะเปิดอ่าน\r\n",
    "\r\n",
    "\"w\" - Write - ใช้สำหรับเขียนไฟล์ จะสร้างไฟล์ขึ้นมาถ้าไม่พบไฟล์ที่จะเปิดอ่าน\r\n",
    "\r\n",
    "\"x\" - Create - ใช้สำหรับสร้างไฟล์ขึ้นใหม่ จะ return error มาถ้ามีไฟล์นั้นอยู่แล้ว\r\n",
    "\r\n",
    "นอกจากนี้ สามารถกำหนดได้ว่าจะจัดการกับไฟล์ในฐานะที่เป็น binary หรือ text\r\n",
    "\r\n",
    "\"t\" - Text - เป็นค่าเริ่มต้น จัดการกับไฟล์ในฐานะที่เป็น Text \r\n",
    "\r\n",
    "\"b\" - Binary - Binary mode มักใช้กับไฟล์ที่ไม่ได้เป็น Text เช่น ไฟล์รูปภาพ"
   ]
  },
  {
   "cell_type": "markdown",
   "metadata": {
    "id": "nP5mRD9t6Dhk"
   },
   "source": [
    "###### ตัวอย่าง\r\n",
    "\r\n",
    "ถ้าต้องการเปิดไฟล์เพื่ออ่านอย่างเดียว ก็สามารถใส่เฉพาะชื่อไฟล์ได้เลย"
   ]
  },
  {
   "cell_type": "code",
   "execution_count": null,
   "metadata": {
    "id": "gcofnQ4B5JWF"
   },
   "outputs": [],
   "source": [
    "f = open(\"example.txt\")"
   ]
  },
  {
   "cell_type": "markdown",
   "metadata": {
    "id": "38bH30136NdE"
   },
   "source": [
    "ซึ่งให้ผลเหมือนกับ code ข้างล่างนี้"
   ]
  },
  {
   "cell_type": "code",
   "execution_count": null,
   "metadata": {
    "id": "hsyxP9ru6Qzt"
   },
   "outputs": [],
   "source": [
    "f = open(\"example.txt\", \"rt\")"
   ]
  },
  {
   "cell_type": "markdown",
   "metadata": {
    "id": "FZCsVlFR6HAN"
   },
   "source": [
    "ซึ่งจริง ๆ แล้ว r กับ t เป็นค่าเริ่มต้นอยู่แล้ว จึงไม่จำเป็นต้องใส่ก็ได้"
   ]
  },
  {
   "cell_type": "markdown",
   "metadata": {
    "id": "XKgVweyf6foc"
   },
   "source": [
    "###### การปิดไฟล์"
   ]
  },
  {
   "cell_type": "markdown",
   "metadata": {
    "id": "vPZfns4E6zfN"
   },
   "source": [
    "ควรจะปิดไฟล์ทุกครั้ง โดยใช้ฟังก์ชั่น close() หลังจากที่ได้เปิดไฟล์และจัดการกับไฟล์แล้วทุกครั้ง เพื่อประหยัดหน่วยความจำ"
   ]
  },
  {
   "cell_type": "markdown",
   "metadata": {
    "id": "b5rzMaP164M4"
   },
   "source": [
    "###### ตัวอย่าง\r\n",
    "ปิดไฟล์โดยใช้ close() เมื่อจัดการกับไฟล์เรียบร้อยแล้ว"
   ]
  },
  {
   "cell_type": "code",
   "execution_count": null,
   "metadata": {
    "id": "k_mDv-jM6_8j"
   },
   "outputs": [],
   "source": [
    "f = open(\"exmaple.txt\", \"r\")\r\n",
    "print(f.readline())\r\n",
    "f.close()"
   ]
  },
  {
   "cell_type": "markdown",
   "metadata": {
    "id": "Tenvqfzf7ZEc"
   },
   "source": [
    "###### การลบไฟล์"
   ]
  },
  {
   "cell_type": "markdown",
   "metadata": {
    "id": "-4SUX0jA7RGQ"
   },
   "source": [
    "สามารถ import os module และใช้ method os.remove() เพื่อลบไฟล์ที่ไม่ต้องการใช้แล้ว"
   ]
  },
  {
   "cell_type": "markdown",
   "metadata": {
    "id": "IlrMOwsQ7g2I"
   },
   "source": [
    "###### ตัวอย่าง\r\n"
   ]
  },
  {
   "cell_type": "code",
   "execution_count": null,
   "metadata": {
    "id": "DiGAD0KG7rtc"
   },
   "outputs": [],
   "source": [
    "import os\r\n",
    "os.remove(\"example.txt\")"
   ]
  },
  {
   "cell_type": "markdown",
   "metadata": {
    "id": "CKJNSWaI70tt"
   },
   "source": [
    "###### การตรวจสอบว่ามีไฟล์อยู่แล้วหรือไม่"
   ]
  },
  {
   "cell_type": "markdown",
   "metadata": {
    "id": "UteZTkFK7ugs"
   },
   "source": [
    "เพื่อป้องกันไม่ให้เกิด error ควรจะตรวจสอบว่ามีไฟล์นั้นอยู่แล้วหรือไม่ ก่อนจะดำเนินการใด ๆ กับไฟล์"
   ]
  },
  {
   "cell_type": "markdown",
   "metadata": {
    "id": "i2VL8kil8Brp"
   },
   "source": [
    "###### ตัวอย่าง\r\n",
    "\r\n",
    "ตรวจสอบว่ามีไฟล์นี้อยู่หรือไม่ ก่อนจะลบไฟล์โดยใช้ method os.remove()\r\n"
   ]
  },
  {
   "cell_type": "code",
   "execution_count": null,
   "metadata": {
    "id": "C28ZRA0l8Jao"
   },
   "outputs": [],
   "source": [
    "import os\r\n",
    "if os.path.exists(\"example.txt\"):\r\n",
    "  os.remove(\"example.txt\")\r\n",
    "else:\r\n",
    "  print(\"The file does not exist\")"
   ]
  },
  {
   "cell_type": "markdown",
   "metadata": {
    "id": "s9M1gzNv8Mp-"
   },
   "source": [
    "###### การลบทั้ง folder"
   ]
  },
  {
   "cell_type": "markdown",
   "metadata": {
    "id": "ZJe5sqb68Rw9"
   },
   "source": [
    "สามารถใช้ method os.rmdir() เพื่อลบทั้ง folder ในครั้งเดียว"
   ]
  },
  {
   "cell_type": "markdown",
   "metadata": {
    "id": "FLGCno4x8YNJ"
   },
   "source": [
    "###### ตัวอย่าง\r\n",
    "\r\n",
    "ลบ folder ที่ชื่อ 'thisfolder' ทั้ง folder"
   ]
  },
  {
   "cell_type": "code",
   "execution_count": null,
   "metadata": {
    "id": "0yBsf_EM8Wid"
   },
   "outputs": [],
   "source": [
    "import os\r\n",
    "os.rmdir(\"thisfolder\")"
   ]
  }
 ],
 "metadata": {
  "colab": {
   "name": "30.Python file handling.ipynb",
   "provenance": []
  },
  "kernelspec": {
   "display_name": "Python 3",
   "name": "python3"
  },
  "language_info": {
   "name": "python"
  }
 },
 "nbformat": 4,
 "nbformat_minor": 2
}
