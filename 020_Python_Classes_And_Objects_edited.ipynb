{
 "cells": [
  {
   "cell_type": "markdown",
   "metadata": {
    "id": "o8kR6jT_CO62"
   },
   "source": [
    "#### Classes and Objects"
   ]
  },
  {
   "cell_type": "markdown",
   "metadata": {
    "id": "yHLocn8hCOlj"
   },
   "source": [
    "Python เป็น object oriented programming language\r\n",
    "\r\n",
    "เกือบทุกอย่างใน Python เป็น Object ซึ่งจะต้องมี properties และ method ประจำตัว\r\n",
    "\r\n",
    "โดย Class จะเป็นเหมือนพิมพ์เขียวในการสร้าง Object"
   ]
  },
  {
   "cell_type": "markdown",
   "metadata": {
    "id": "JWO-qhlvCU_G"
   },
   "source": [
    "###### การสร้าง Class\r\n",
    "\r\n",
    "สามารถใช้ keyword `class` ในการสร้าง class"
   ]
  },
  {
   "cell_type": "markdown",
   "metadata": {
    "id": "ES_fyIoUCWo7"
   },
   "source": [
    "###### ตัวอย่าง\r\n",
    "\r\n",
    "สร้าง class ชื่อว่า MyClass ที่มี property ชื่อ x"
   ]
  },
  {
   "cell_type": "code",
   "execution_count": 2,
   "metadata": {
    "id": "5A8NLJzZCNgw"
   },
   "outputs": [],
   "source": [
    "class MyClass:\r\n",
    "  x = 10"
   ]
  },
  {
   "cell_type": "markdown",
   "metadata": {
    "id": "2RbpmtDoCaG4"
   },
   "source": [
    "###### การสร้าง Object\r\n",
    "\r\n",
    "ตอนนี้เราสามารถใช้ class ที่ชื่อว่า MyClass ในการสร้าง Objects\r\n",
    "\r\n",
    "\r\n"
   ]
  },
  {
   "cell_type": "markdown",
   "metadata": {
    "id": "lYt58YsfCa3n"
   },
   "source": [
    "###### ตัวอย่าง\r\n",
    "\r\n",
    "สร้าง object ชื่อว่า b1 และแสดงค่าของ x"
   ]
  },
  {
   "cell_type": "code",
   "execution_count": 3,
   "metadata": {
    "colab": {
     "base_uri": "https://localhost:8080/"
    },
    "id": "wSoI2OReCbgd",
    "outputId": "42e812e5-2fd3-4a59-9525-46f27c247b91"
   },
   "outputs": [
    {
     "name": "stdout",
     "output_type": "stream",
     "text": [
      "10\n"
     ]
    }
   ],
   "source": [
    "b1 = MyClass()\r\n",
    "print(b1.x)"
   ]
  },
  {
   "cell_type": "markdown",
   "metadata": {
    "id": "7ZbZbIH-CdDn"
   },
   "source": [
    "###### ฟังก์ชั่น init()\r\n",
    "\r\n",
    "จากตัวอย่างข้างต้นจะเป็นรูปแบบง่าย ๆ ของ class และ object ซึ่งยังไม่สามารถนำไปใช้ประโยชน์ได้ในชีวิตจริง\r\n",
    "\r\n",
    "เพื่อให้เข้าใจความหมายของ class เราต้องเข้าใจกับฟังก์ชั่น __init__() กันก่อน\r\n",
    "\r\n",
    "ทุก class จะต้องมีฟังก์ชั่นที่ชื่อ  __init__() ซึ่งจะถูกใช้เสมอเมื่อเริ่มสร้าง class object\r\n",
    "\r\n",
    "เราจะใช้ฟังก์ชั่น __init__() เพื่อกำหนดคุณสมบัติให้กับ object หรือ operation อื่น ๆ ที่จำเป็นเมื่อสร้าง object :"
   ]
  },
  {
   "cell_type": "markdown",
   "metadata": {
    "id": "DevP_p-KCdmh"
   },
   "source": [
    "###### ตัวอย่าง\r\n",
    "\r\n",
    "สร้าง class ชื่อว่า Food และใช้ฟังก์ชั่น __init__() ในการกำหนดค่าตัวแปร menu และ price :\r\n"
   ]
  },
  {
   "cell_type": "code",
   "execution_count": 1,
   "metadata": {
    "colab": {
     "base_uri": "https://localhost:8080/"
    },
    "id": "zIIl7W2gCeC_",
    "outputId": "7aa51081-ac94-430c-9c7a-05cce838d7ad"
   },
   "outputs": [
    {
     "name": "stdout",
     "output_type": "stream",
     "text": [
      "burger\n",
      "50\n"
     ]
    }
   ],
   "source": [
    "class Food:\r\n",
    "  def __init__(self, menu, price):\r\n",
    "    self.menu = menu\r\n",
    "    self.price = price\r\n",
    "\r\n",
    "b1 = Food(\"burger\", 50)\r\n",
    "\r\n",
    "print(b1.menu)\r\n",
    "print(b1.price)"
   ]
  },
  {
   "cell_type": "markdown",
   "metadata": {
    "id": "r31xpGWaCiT6"
   },
   "source": [
    "###### Object Methods\r\n",
    "\r\n",
    "เรายังสามารถที่จะกำหนด method ใน Object ได้ โดย method ใน object จะเป็นฟังก์ชั่นของ object \r\n",
    "\r\n",
    "ตัวอย่างการสร้าง method ใน class Food"
   ]
  },
  {
   "cell_type": "markdown",
   "metadata": {
    "id": "rg9bo5UXCi35"
   },
   "source": [
    "###### ตัวอย่าง\r\n",
    "\r\n",
    "เพิ่มฟังก์ชั่นแสดงคำถามให้กับ class Food และให้ object b1 เรียกใช้ฟังก์ชั่นดังกล่าว"
   ]
  },
  {
   "cell_type": "code",
   "execution_count": 10,
   "metadata": {
    "colab": {
     "base_uri": "https://localhost:8080/"
    },
    "id": "9FXS6JiqDpae",
    "outputId": "ef8c3761-c687-4871-e8e7-181344a26946"
   },
   "outputs": [
    {
     "name": "stdout",
     "output_type": "stream",
     "text": [
      "คุณชอบกิน Burger มั้ย?\n"
     ]
    }
   ],
   "source": [
    "class Food:\r\n",
    "  def __init__(self, menu, price):\r\n",
    "    self.menu = menu\r\n",
    "    self.price = price\r\n",
    "\r\n",
    "  def myfunc(self):\r\n",
    "    print(\"คุณชอบกิน \" + self.menu + \" มั้ย?\")\r\n",
    "\r\n",
    "b1 = Food(\"Burger\", 50)\r\n",
    "b1.myfunc()"
   ]
  },
  {
   "cell_type": "markdown",
   "metadata": {
    "id": "q9X2WmNcCjfG"
   },
   "source": [
    "###### Self Parameter\r\n",
    "\r\n",
    "self parameter จะอ้างอิงไปยัง class ปัจจุบัน และใช้เพื่อเข้าถึงตัวแปรใน class\r\n",
    "\r\n",
    "เราสามารถที่จะตั้งชื่อได้ตามที่ต้องการ ไม่จำเป็นที่จะต้องตั้งชื่อว่า self แต่ parameter self จะต้องเป็นตัวแรกในฟังก์ชั่นนั้น ๆ ใน class :"
   ]
  },
  {
   "cell_type": "markdown",
   "metadata": {
    "id": "-CBlxnDSCj4-"
   },
   "source": [
    "###### ตัวอย่าง\r\n",
    "\r\n",
    "เราใช้ชื่อ myfood และ botnoi แทนที่จะใช้ self\r\n"
   ]
  },
  {
   "cell_type": "code",
   "execution_count": 12,
   "metadata": {
    "colab": {
     "base_uri": "https://localhost:8080/"
    },
    "id": "n7U-Dn49Dzoq",
    "outputId": "34068e9e-3af3-4c81-898c-caee8ee27da1"
   },
   "outputs": [
    {
     "name": "stdout",
     "output_type": "stream",
     "text": [
      "บอทน้อยชอบกิน Burger\n"
     ]
    }
   ],
   "source": [
    "class Food:\r\n",
    "  def __init__(myfood, menu, price):\r\n",
    "    myfood.menu = menu\r\n",
    "    myfood.price = price\r\n",
    "\r\n",
    "  def myfunc(botnoi):\r\n",
    "    print(\"บอทน้อยชอบกิน \" + botnoi.menu)\r\n",
    "\r\n",
    "b1 = Food(\"Burger\", 50)\r\n",
    "b1.myfunc()"
   ]
  },
  {
   "cell_type": "markdown",
   "metadata": {
    "id": "AYMAOK8nCk40"
   },
   "source": [
    "###### การแก้ไข Object properties\r\n",
    "\r\n",
    "เราสามารถแก้ไข Object properties ได้ดังนี้ :\r\n"
   ]
  },
  {
   "cell_type": "markdown",
   "metadata": {
    "id": "UGYQTi2QClld"
   },
   "source": [
    "###### ตัวอย่าง\r\n",
    "\r\n",
    "กำหนดให้ price ของ b1 เท่ากับ 60"
   ]
  },
  {
   "cell_type": "code",
   "execution_count": 6,
   "metadata": {
    "id": "heLG-_6OD8Qo"
   },
   "outputs": [],
   "source": [
    "b1.price = 60"
   ]
  },
  {
   "cell_type": "markdown",
   "metadata": {
    "id": "Y1dg7U_NCmKd"
   },
   "source": [
    "###### การลบคุณ Object property\r\n",
    "\r\n",
    "เราสามารถลบ Object property โดยใช้คำสั่ง `del`\r\n"
   ]
  },
  {
   "cell_type": "markdown",
   "metadata": {
    "id": "CksZR9xuCmwx"
   },
   "source": [
    "###### ตัวอย่าง\r\n",
    "\r\n",
    "ลบ price ออกจาก Object b1 :\r\n"
   ]
  },
  {
   "cell_type": "code",
   "execution_count": 13,
   "metadata": {
    "id": "ilcUQxwYEFhB"
   },
   "outputs": [],
   "source": [
    "del b1.price\r\n"
   ]
  },
  {
   "cell_type": "markdown",
   "metadata": {
    "id": "z0ZocLMHCnW6"
   },
   "source": [
    "###### การลบ Object\r\n",
    "\r\n",
    "เราสามารถลบ Object โดยใช้คำสั่ง del\r\n",
    "\r\n",
    "\r\n",
    "\r\n"
   ]
  },
  {
   "cell_type": "markdown",
   "metadata": {
    "id": "i4pakotvCn9D"
   },
   "source": [
    "###### ตัวอย่าง\r\n",
    "\r\n",
    "ลบ Object b1 :\r\n",
    "\r\n",
    "\r\n"
   ]
  },
  {
   "cell_type": "code",
   "execution_count": 14,
   "metadata": {
    "id": "G88FfTKLEMYA"
   },
   "outputs": [],
   "source": [
    "del b1\r\n"
   ]
  },
  {
   "cell_type": "markdown",
   "metadata": {
    "id": "IQJlnTqTCoiX"
   },
   "source": [
    "###### การใช้ pass statement\r\n",
    "\r\n",
    "ภายใน class จะต้องมี content บางอย่าง แต่ถ้าเราอยากประกาศ class ไว้ก่อนโดยยังไม่ใส่ content อะไร เราสามารถที่จะใช้ pass เพื่อไม่ให้เกิด error ได้"
   ]
  },
  {
   "cell_type": "markdown",
   "metadata": {
    "id": "n5s-S0PAEU4J"
   },
   "source": [
    "###### ตัวอย่าง\r\n"
   ]
  },
  {
   "cell_type": "code",
   "execution_count": 15,
   "metadata": {
    "id": "LYjVoFPkEuR1"
   },
   "outputs": [],
   "source": [
    "class Food:\r\n",
    "  pass"
   ]
  }
 ],
 "metadata": {
  "colab": {
   "name": "020_Python_Classes_and_Objects.ipynb",
   "provenance": []
  },
  "interpreter": {
   "hash": "00034aa5cd6c44013b830fd98c7a620a61a498e75425ca81fcc1166b84a69895"
  },
  "kernelspec": {
   "display_name": "Python 3.8.5 64-bit ('base': conda)",
   "name": "python3"
  },
  "language_info": {
   "codemirror_mode": {
    "name": "ipython",
    "version": 3
   },
   "file_extension": ".py",
   "mimetype": "text/x-python",
   "name": "python",
   "nbconvert_exporter": "python",
   "pygments_lexer": "ipython3",
   "version": "3.8.5"
  }
 },
 "nbformat": 4,
 "nbformat_minor": 2
}
