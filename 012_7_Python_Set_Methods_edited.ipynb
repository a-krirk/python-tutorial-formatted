{
 "cells": [
  {
   "cell_type": "markdown",
   "metadata": {
    "id": "-MuIvccYik_X"
   },
   "source": [
    "#### Set Methods"
   ]
  },
  {
   "cell_type": "markdown",
   "metadata": {
    "id": "U6zHEVUKik_b"
   },
   "source": [
    "เราสามารถใช้ method เหล่านี้ในการจัดการกับ set ได้"
   ]
  },
  {
   "cell_type": "markdown",
   "metadata": {
    "id": "oUX__jd0ik_c"
   },
   "source": [
    "คำอธิบาย Method\r\n",
    "\r\n",
    "`add()` เพิ่มค่าใน set\r\n",
    "\r\n",
    "`clear()` ลบค่าทั้งหมดใน set\r\n",
    "\r\n",
    "`copy()` ส่งคืนค่าสำเนาของ set\r\n",
    "\r\n",
    "`difference()` ส่งคืนค่าที่แตกต่างระหว่าง 2 set หรือมากกว่า\r\n",
    "\r\n",
    "`difference_update()` ลบค่าใน set ที่ซ้ำกับค่าใน set อื่นที่กำหนด\r\n",
    "\r\n",
    "`discard()` ลบค่าที่กำหนด\r\n",
    "\r\n",
    "`intersection()` ส่งคืน set ที่มีเฉพาะค่าซ้ำจากทั้ง 2 set\r\n",
    "\r\n",
    "`intersection_update()` ลบค่าใน set ทุกค่า ยกเว้นค่าที่ซ้ำกับ set ที่กำหนด\r\n",
    "\r\n",
    "`isdisjoint()` ส่งคืนว่าทั้ง 2 set มีค่าซ้ำกันหรือไม่\r\n",
    "\r\n",
    "`issubset()` ส่งคืนค่าว่า set นี้เป็น subset ของอีก set หรือไม่\r\n",
    "\r\n",
    "`issuperset()` ส่งคืนค่าว่าใน set นี้ มีใน set อื่นหรือไม่\r\n",
    "\r\n",
    "`pop()` สุ่มลบค่าใน set\r\n",
    "\r\n",
    "`remove()` ลบค่าที่กำหนด\r\n",
    "\r\n",
    "`symmetric_difference()` ส่งคืน set ที่มีค่าทุกค่าที่แตกต่างกันจากทั้ง 2 set\r\n",
    "\r\n",
    "`symmetric_difference_update()` update ทุกค่าที่แตกต่างกันจากทั้ง 2 set\r\n",
    "\r\n",
    "`union()`\tส่งคืน set ที่มีค่าทุกค่าของทั้ง 2 set \r\n",
    "\r\n",
    "`update()`\tUpdate ค่าใน set ด้วยค่า union จาก set อื่น"
   ]
  },
  {
   "cell_type": "markdown",
   "metadata": {
    "id": "MUapX6xTik_d"
   },
   "source": []
  }
 ],
 "metadata": {
  "colab": {
   "name": "012_7_Python_Set_Methods.ipynb",
   "provenance": []
  },
  "interpreter": {
   "hash": "00034aa5cd6c44013b830fd98c7a620a61a498e75425ca81fcc1166b84a69895"
  },
  "kernelspec": {
   "display_name": "Python 3.8.5 64-bit",
   "name": "python3"
  },
  "language_info": {
   "name": "python",
   "version": "3.8.5"
  }
 },
 "nbformat": 4,
 "nbformat_minor": 2
}
