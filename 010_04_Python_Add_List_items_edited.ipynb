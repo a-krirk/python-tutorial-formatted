{
 "cells": [
  {
   "cell_type": "markdown",
   "metadata": {
    "id": "52c6jgi88SWd"
   },
   "source": [
    "#### การเพิ่ม Items ใน List"
   ]
  },
  {
   "cell_type": "markdown",
   "metadata": {
    "id": "G4RDLOiC8SWi"
   },
   "source": [
    "###### การใช้คำสั่ง Append Items\r\n",
    "\r\n",
    "เพิ่ม item ไปในตำแหน่งสุดท้ายของ list ได้โดยใช้ method `append()`"
   ]
  },
  {
   "cell_type": "markdown",
   "metadata": {
    "id": "k1P2gNSO8SWn"
   },
   "source": [
    "###### ตัวอย่าง\r\n",
    "การใช้ method append() เพื่อเพิ่ม item ไปในตำแหน่งสุดท้ายของ list"
   ]
  },
  {
   "cell_type": "code",
   "execution_count": 1,
   "metadata": {
    "id": "1s9ZuqWi8SWp"
   },
   "outputs": [
    {
     "name": "stdout",
     "output_type": "stream",
     "text": [
      "['red', 'blue', 'green', 'white']\n"
     ]
    }
   ],
   "source": [
    "my_list = [\"red\", \"blue\", \"green\"]\r\n",
    "my_list.append(\"white\")\r\n",
    "print(my_list)"
   ]
  },
  {
   "cell_type": "markdown",
   "metadata": {
    "id": "E3PjqVWv8SWw"
   },
   "source": [
    "###### การใช้คำสั่ง Insert Items\r\n",
    "เพิ่ม item ไปในตำแหน่งที่ต้องการใน list (ด้วยเลข index) โดยใช้ method `insert()`"
   ]
  },
  {
   "cell_type": "markdown",
   "metadata": {
    "id": "eYCamBIS8SWy"
   },
   "source": [
    "###### ตัวอย่าง\r\n",
    "เพิ่ม item ไปในตำแหน่งที่สองของ list\r\n",
    "\r\n",
    "Note: ผลลัพธ์ที่ได้ คือ list ที่ประกอบด้วย 4 items"
   ]
  },
  {
   "cell_type": "code",
   "execution_count": 2,
   "metadata": {
    "id": "_bsdf1Nf8SW0"
   },
   "outputs": [
    {
     "name": "stdout",
     "output_type": "stream",
     "text": [
      "['red', 'white', 'blue', 'green']\n"
     ]
    }
   ],
   "source": [
    "my_list = [\"red\", \"blue\", \"green\"]\r\n",
    "my_list.insert(1, \"white\")\r\n",
    "print(my_list)"
   ]
  },
  {
   "cell_type": "markdown",
   "metadata": {
    "id": "IMLnmY1E8SW1"
   },
   "source": [
    "###### การ Extend List\n",
    "สามารถนำ item(s) ของ list อีกอัน มารวมกับ list อันเดิมได้ โดยใช้ method **extend()**"
   ]
  },
  {
   "cell_type": "markdown",
   "metadata": {
    "id": "wJBXfI3r8SW3"
   },
   "source": [
    "###### ตัวอย่าง\r\n",
    "นำ items ทั้งสามตัวของ list_2 มารวมกับ list_1\r\n",
    "\r\n",
    "โดย items ทั้งหมดของ list_2 จะถูกเพิ่มต่อหลัง items ของ list_1"
   ]
  },
  {
   "cell_type": "code",
   "execution_count": 3,
   "metadata": {
    "id": "o02a8XQG8SW6"
   },
   "outputs": [
    {
     "name": "stdout",
     "output_type": "stream",
     "text": [
      "['red', 'blue', 'green', 'white', 'black']\n"
     ]
    }
   ],
   "source": [
    "list_1 = [\"red\", \"blue\", \"green\"]\r\n",
    "list_2 = [\"white\", \"black\"]\r\n",
    "list_1.extend(list_2)\r\n",
    "print(list_1)"
   ]
  },
  {
   "cell_type": "markdown",
   "metadata": {
    "id": "_irDx-XH8SW9"
   },
   "source": [
    "###### การเพิ่มข้อมูลประเภทอื่น ๆ\r\n",
    "\r\n",
    "`extend()` method ไม่ได้ใช้ได้เฉพาะกับ list เท่านั้น\r\n",
    "แต่สามารถใช้ได้กับ data structure ทุกประเภท เช่น tuples, sets, dictionaries"
   ]
  },
  {
   "cell_type": "markdown",
   "metadata": {
    "id": "KWdjd8eI8SW_"
   },
   "source": [
    "###### ตัวอย่าง\r\n",
    "เพิ่ม items ของ tuple ไปใน list"
   ]
  },
  {
   "cell_type": "code",
   "execution_count": 4,
   "metadata": {
    "id": "G9i9LV6q8SXB"
   },
   "outputs": [
    {
     "name": "stdout",
     "output_type": "stream",
     "text": [
      "['red', 'blue', 'green', 'white', 'black']\n"
     ]
    }
   ],
   "source": [
    "my_list = [\"red\", \"blue\", \"green\"]\r\n",
    "my_tuple = (\"white\", \"black\")\r\n",
    "my_list.extend(my_tuple)\r\n",
    "print(my_list)"
   ]
  }
 ],
 "metadata": {
  "colab": {
   "collapsed_sections": [],
   "name": "010_04_Python_Add_List_items.ipynb",
   "provenance": []
  },
  "interpreter": {
   "hash": "8a42e8581704d812f174276cadf47b91a8b3cbce976324507688b69a62b18c0b"
  },
  "kernelspec": {
   "display_name": "Python 3.8.2 32-bit",
   "name": "python3"
  },
  "language_info": {
   "codemirror_mode": {
    "name": "ipython",
    "version": 3
   },
   "file_extension": ".py",
   "mimetype": "text/x-python",
   "name": "python",
   "nbconvert_exporter": "python",
   "pygments_lexer": "ipython3",
   "version": "3.8.2"
  }
 },
 "nbformat": 4,
 "nbformat_minor": 2
}
