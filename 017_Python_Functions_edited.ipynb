{
 "cells": [
  {
   "cell_type": "markdown",
   "source": [
    "#### Python Functions\r\n",
    "\r\n",
    "คือ กลุ่มคำสั่งที่ใช้บ่อย ๆ แต่เราไม่อยากเขียนซ้ำ ๆ จึงแก้ปัญหานี้ด้วยการเขียนรวบรวมคำสั่งที่ใช้ซ้ำ ๆ เหล่านั้นไว้ด้วยกันใน function แล้วตั้งชื่อ function ไว้\r\n",
    "โดยเราสามารถเรียกใช้งานได้ด้วยการเรียกชื่อของ function \r\n"
   ],
   "metadata": {
    "id": "bJCFi_GI5D1r"
   }
  },
  {
   "cell_type": "markdown",
   "source": [
    "- function เป็นการแยกส่วนคำสั่งที่ซ้ำ ๆ กัน หรือเข้าใจยาก ออกมาจากโปรแกรมหลัก\n",
    "ทำให้โปรแกรมหลักเรียกใช้ฟังก์ชันได้ โดยไม่ต้องเขียนคำสั่งหลายรอบ\n",
    "- สามารถใส่ค่าไปใน function ได้ เรียกค่าเหล่านั้นว่า parameters \n",
    "- function จะคืนค่ากลับมาด้วยคำสั่ง return"
   ],
   "metadata": {
    "id": "ZPSPP0a_6Lqz"
   }
  },
  {
   "cell_type": "markdown",
   "source": [
    "###### การสร้าง Function\r\n",
    "\r\n",
    "- ใช้ keyword `def` แทน function\r\n",
    "- ใส่ `ชื่อ function` ต่อหลัง def (อย่าลืมเว้นวรรค 1 เคาะ)\r\n",
    "- ใส่เครื่องหมาย `()` หลังชื่อ function\r\n",
    "- ใส่เครื่องหมาย `:` หลังชื่อ function\r\n",
    "\r\n"
   ],
   "metadata": {
    "id": "aDAs3Fvn5WTZ"
   }
  },
  {
   "cell_type": "markdown",
   "source": [
    "###### ตัวอย่าง\r\n"
   ],
   "metadata": {
    "id": "nolmaLmM5XRp"
   }
  },
  {
   "cell_type": "code",
   "execution_count": null,
   "source": [
    "def my_function():\r\n",
    "  print(\"Hello Botnoi\")"
   ],
   "outputs": [],
   "metadata": {
    "id": "estnWhh35CfU"
   }
  },
  {
   "cell_type": "markdown",
   "source": [
    "###### การเรียกใช้ Function\n",
    "เรียกใช้ function ได้ด้วยการใช้ชื่อของ function ตามด้วยวงเล็บเปิดและปิด เช่น my_function()\n",
    "\n"
   ],
   "metadata": {
    "id": "2beDYw0_5ZTs"
   }
  },
  {
   "cell_type": "markdown",
   "source": [
    "###### ตัวอย่าง\r\n"
   ],
   "metadata": {
    "id": "-1tGE_zj5Z-I"
   }
  },
  {
   "cell_type": "code",
   "execution_count": null,
   "source": [
    "def my_function():\r\n",
    "  print(\"Hello Botnoi\")\r\n",
    "\r\n",
    "my_function()"
   ],
   "outputs": [
    {
     "output_type": "stream",
     "name": "stdout",
     "text": [
      "Hello Botnoi\n"
     ]
    }
   ],
   "metadata": {
    "colab": {
     "base_uri": "https://localhost:8080/"
    },
    "id": "TjkmpZLh5atZ",
    "outputId": "84b9c69d-6fe5-4b74-d74c-a3fbd072bde0"
   }
  },
  {
   "cell_type": "markdown",
   "source": [
    "###### การใช้ Argument(s)\n",
    "- argument(s) คือ ข้อมูลที่สามารถผ่านเข้าไปใน function\n",
    "\n",
    "- argument(s) จะถูกระบุไว้หลังชื่อของ function โดยจะอยู่ในวงเล็บ ซึ่งเราสามารถเพิ่มจำนวน argument(s) ได้มากเท่าที่เราต้องการ เพียงแค่ใส่เครื่องหมาย comma (,) เพื่อแยกแต่ละ argument\n",
    "\n",
    "- ตัวอย่างด้านล่างต่อไปนี้นี้เป็น function ที่มี 1 argument นั่นคือ nickname\n",
    "\n",
    "    เมื่อมีการเรียกใช้งาน function เราก็จะใส่ค่าของ nickname เข้าไปใน function เพื่อปริ้นชื่อเต็มออกมา\n"
   ],
   "metadata": {
    "id": "k8AH8LVt5cWb"
   }
  },
  {
   "cell_type": "markdown",
   "source": [
    "###### ตัวอย่าง\r\n"
   ],
   "metadata": {
    "id": "rJfPu4zT5c6D"
   }
  },
  {
   "cell_type": "code",
   "execution_count": null,
   "source": [
    "def my_function(nickname):\r\n",
    "  print(nickname + \" Botnoi\")\r\n",
    "\r\n",
    "my_function(\"Winn\")\r\n",
    "my_function(\"Tao\")\r\n",
    "my_function(\"Hong\")"
   ],
   "outputs": [
    {
     "output_type": "stream",
     "name": "stdout",
     "text": [
      "Winn Botnoi\n",
      "Tao Botnoi\n",
      "Hong Botnoi\n"
     ]
    }
   ],
   "metadata": {
    "colab": {
     "base_uri": "https://localhost:8080/"
    },
    "id": "XrNdBld25dtx",
    "outputId": "b4d95a84-566c-45ca-eca7-5b2b4c8d6928"
   }
  },
  {
   "cell_type": "markdown",
   "source": [
    "###### Parameter ต่างจาก Argument อย่างไร?"
   ],
   "metadata": {
    "id": "HwdXZmr35ij-"
   }
  },
  {
   "cell_type": "markdown",
   "source": [
    "- `Argument` คือ `ตัวแปร`ที่อยู่ในวงเล็บของ function definition (def)\r\n",
    "\r\n",
    "    เช่น def my_function(nickname)\r\n",
    "    \r\n",
    "    nickname เป็นตัวแปรที่อยู่ในวงเล็บ ดังนั้น nickname คือ Argument\r\n",
    "- `Parameter` คือ `ค่า`ที่ส่งไปยัง function เมื่อมีการเรียกใช้งาน function\r\n",
    "    \r\n",
    "    เช่น my_function(\"Winn\")\r\n",
    "    \r\n",
    "    ใส่ \"Winn\" ไปเพื่อเรียกใช้งาน function ดังนั้น Winn คือ Parameter"
   ],
   "metadata": {
    "id": "ysWE_VJX6waO"
   }
  },
  {
   "cell_type": "markdown",
   "source": [
    "###### จำนวน Arguments\r\n",
    "\r\n",
    "การเรียกใช้งาน function จำเป็นต้องใส่จำนวน `argument` ให้ครบถ้วน\r\n",
    "\r\n",
    "เช่น หากกำหนดให้ function มี 2 arguments --> ตอนเรียกใช้งานก็ต้องเรียกใช้ทั้ง 2 arguments  (ห้ามขาด ห้ามเกิน)"
   ],
   "metadata": {
    "id": "L3En13bP5jTn"
   }
  },
  {
   "cell_type": "markdown",
   "source": [
    "###### ตัวอย่าง\r\n",
    "\r\n",
    "กำหนดให้ function มี 2 arguments โดยจะต้องรับค่ามาให้ครบทั้ง 2 arguments เพื่อส่งค่าเหล่านี้ไปเรียกใช้งาน function\r\n",
    "\r\n"
   ],
   "metadata": {
    "id": "mdxAl2df5nJu"
   }
  },
  {
   "cell_type": "code",
   "execution_count": null,
   "source": [
    "def my_function(fname, lname):\r\n",
    "  print(fname + \" \" + lname)\r\n",
    "\r\n",
    "my_function(\"John\", \"Thomson\")"
   ],
   "outputs": [
    {
     "output_type": "stream",
     "name": "stdout",
     "text": [
      "John Thomson\n"
     ]
    }
   ],
   "metadata": {
    "colab": {
     "base_uri": "https://localhost:8080/"
    },
    "id": "SlkX3Q7s5ouM",
    "outputId": "8a93093e-fc25-42c2-e86e-8f8749383b9c"
   }
  },
  {
   "cell_type": "markdown",
   "source": [
    "หากพยายามเรียกใช้งาน function ด้วย 1 หรือ 3 arguments จะทำให้โค้ดชุดนี้จะเกิด error ทันที"
   ],
   "metadata": {
    "id": "ysA5aXLO5pGV"
   }
  },
  {
   "cell_type": "markdown",
   "source": [
    "###### การใช้ Arbitrary Arguments (*args)\n",
    "หากไม่ทราบจำนวน arguments ที่จะผ่านเข้ามาใน function\n",
    "ให้**ใส่เครื่องหมาย * ก่อนชื่อ argument**\n",
    "\n",
    "วิธีนี้ function จะมอง argument เป็นข้อมูลประเภท **tuple** คือ สามารถเข้าถึงค่าแต่ละตัวได้**ตามลำดับ** ซึ่งสามารถเข้าถึงได้ด้วย index เช่น x[2]"
   ],
   "metadata": {
    "id": "xaYienJE5rwL"
   }
  },
  {
   "cell_type": "markdown",
   "source": [
    "###### ตัวอย่าง\r\n",
    "หากไม่ทราบจำนวน argument(s) ให้เพิ่มเครื่องหมาย * ก่อนชื่อของตัวแปร"
   ],
   "metadata": {
    "id": "MXQM-LP35skw"
   }
  },
  {
   "cell_type": "code",
   "execution_count": null,
   "source": [
    "def my_function(*kids):\r\n",
    "  print(\"The youngest child is \" + kids[2])\r\n",
    "\r\n",
    "my_function(\"John\", \"Jay\", \"May\")"
   ],
   "outputs": [
    {
     "output_type": "stream",
     "name": "stdout",
     "text": [
      "The youngest child is May\n"
     ]
    }
   ],
   "metadata": {
    "colab": {
     "base_uri": "https://localhost:8080/"
    },
    "id": "9sAhgu_35tbd",
    "outputId": "b3ac1bcf-eff7-4339-e3c5-31e7f97c930e"
   }
  },
  {
   "cell_type": "markdown",
   "source": [
    "###### การใช้ Keyword Arguments\n",
    "สามารถส่ง argument(s) ด้วย syntax **= value** ได้\n",
    "\n",
    "ซึ่งวิธีนี้**ไม่ส่งผลกับลำดับ**ของ argument(s)\n",
    "เนื่องจาก function จะเข้าถึง argument(s) ด้วย value"
   ],
   "metadata": {
    "id": "ZiPumARG5vBU"
   }
  },
  {
   "cell_type": "markdown",
   "source": [
    "###### ตัวอย่าง\r\n"
   ],
   "metadata": {
    "id": "3gWW2Do95wCo"
   }
  },
  {
   "cell_type": "code",
   "execution_count": null,
   "source": [
    "def my_function(child3, child2, child1):\r\n",
    "  print(\"The youngest child is \" + child3)\r\n",
    "\r\n",
    "my_function(child1 = \"๋John\", child2 = \"Jay\", child3 = \"Jade\")"
   ],
   "outputs": [
    {
     "output_type": "stream",
     "name": "stdout",
     "text": [
      "The youngest child is Jade\n"
     ]
    }
   ],
   "metadata": {
    "colab": {
     "base_uri": "https://localhost:8080/"
    },
    "id": "HJFHP48p5wyM",
    "outputId": "27815657-a4d9-4ae1-f658-25890fbeb7a5"
   }
  },
  {
   "cell_type": "markdown",
   "source": [
    "###### การใช้ Arbitrary Keyword Arguments (**kwargs)\n",
    "หากไม่ทราบจำนวน keyword arguments ที่จะผ่านเข้ามาใน function\n",
    "ให้*ใส่เครื่องหมาย ** ก่อนชื่อ argument*\n",
    "\n",
    "วิธีนี้ function จะมอง argument เป็นข้อมูลประเภท **dictionary** คือ สามารถเข้าถึงค่าแต่ละตัวได้**ตาม keyword** เช่น kid[\"lname\"]"
   ],
   "metadata": {
    "id": "lQR_pCpy7bZ5"
   }
  },
  {
   "cell_type": "markdown",
   "source": [
    "###### ตัวอย่าง\r\n",
    "หากไม่ทราบจำนวน argument(s) ให้เพิ่มเครื่องหมาย ** ก่อนชื่อของตัวแปร\r\n",
    "\r\n"
   ],
   "metadata": {
    "id": "ZAzSRSd07c2s"
   }
  },
  {
   "cell_type": "code",
   "execution_count": null,
   "source": [
    "def my_function(**kid):\r\n",
    "  print(\"His last name is \" + kid[\"lname\"])\r\n",
    "\r\n",
    "my_function(fname = \"Tobias\", lname = \"Refsnes\")"
   ],
   "outputs": [
    {
     "output_type": "stream",
     "name": "stdout",
     "text": [
      "His last name is Refsnes\n"
     ]
    }
   ],
   "metadata": {
    "colab": {
     "base_uri": "https://localhost:8080/"
    },
    "id": "0x5UZqSb8TyA",
    "outputId": "932d8cca-5585-4f40-c705-1a5414d512a7"
   }
  },
  {
   "cell_type": "markdown",
   "source": [
    "###### ค่า Default Parameter\n",
    "ตัวอย่างด้านล่างเป็นการแสดงตัวอย่างการใช้ค่า **default parameter**\n",
    "\n",
    "ถ้ามีการเรียกใช้งานที่ไม่มี argument ค่า default จะถูกใช้งานทันที"
   ],
   "metadata": {
    "id": "4z8hoe7B8Rh1"
   }
  },
  {
   "cell_type": "markdown",
   "source": [
    "###### ตัวอย่าง\r\n"
   ],
   "metadata": {
    "id": "zQKygr0g8Zyb"
   }
  },
  {
   "cell_type": "code",
   "execution_count": null,
   "source": [
    "def my_function(country = \"Thailand\"):\r\n",
    "  print(\"I am from \" + country)\r\n",
    "\r\n",
    "my_function(\"Sweden\")\r\n",
    "my_function(\"USA\")\r\n",
    "my_function()\r\n",
    "my_function(\"Brazil\")"
   ],
   "outputs": [
    {
     "output_type": "stream",
     "name": "stdout",
     "text": [
      "I am from Sweden\n",
      "I am from USA\n",
      "I am from Thailand\n",
      "I am from Brazil\n"
     ]
    }
   ],
   "metadata": {
    "colab": {
     "base_uri": "https://localhost:8080/"
    },
    "id": "-fCmb1sW8m97",
    "outputId": "4382fd64-40df-4057-c09d-b01051702658"
   }
  },
  {
   "cell_type": "markdown",
   "source": [
    "###### การส่ง List ไปเป็น Argument\n",
    "\n",
    "สามารถส่งข้อมูลประเภทไหนก็ได้ (string, number, list, dictionary) ไปเป็น  **argument** ใน function โดยประเภทข้อมูลนั้นจะไม่มีเปลี่ยนแปลง\n",
    "\n",
    "เช่น ถ้าส่งข้อมูลประเภท list ไปเป็น argument ใน function --> เมื่อข้อมูลไปอยู่ใน function มันก็จะเป็น list เหมือนเดิม\n"
   ],
   "metadata": {
    "id": "_qet4Tea8Wvw"
   }
  },
  {
   "cell_type": "markdown",
   "source": [
    "###### ตัวอย่าง\r\n"
   ],
   "metadata": {
    "id": "GHAo1Jn08cNE"
   }
  },
  {
   "cell_type": "code",
   "execution_count": null,
   "source": [
    "def my_function(color):\r\n",
    "  for x in color:\r\n",
    "    print(x)\r\n",
    "\r\n",
    "colors = [\"red\", \"blue\", \"green\"]\r\n",
    "\r\n",
    "my_function(colors)"
   ],
   "outputs": [
    {
     "output_type": "stream",
     "name": "stdout",
     "text": [
      "red\n",
      "blue\n",
      "green\n"
     ]
    }
   ],
   "metadata": {
    "colab": {
     "base_uri": "https://localhost:8080/"
    },
    "id": "cno1hX_p8wlx",
    "outputId": "4f5f82af-f3b5-4834-8749-848b15e6eecf"
   }
  },
  {
   "cell_type": "markdown",
   "source": [
    "###### การ Return ค่า\n",
    "ใช้คำสั่ง **return** เพื่อให้ def ส่งค่าออกมาเป็นผลลัพธ์"
   ],
   "metadata": {
    "id": "gOtWlOMX8c5a"
   }
  },
  {
   "cell_type": "markdown",
   "source": [
    "###### ตัวอย่าง\r\n"
   ],
   "metadata": {
    "id": "WlMP_EMf8ejj"
   }
  },
  {
   "cell_type": "code",
   "execution_count": null,
   "source": [
    "def my_function(x):\r\n",
    "  return 5 * x\r\n",
    "\r\n",
    "print(my_function(3))\r\n",
    "print(my_function(5))\r\n",
    "print(my_function(9))"
   ],
   "outputs": [
    {
     "output_type": "stream",
     "name": "stdout",
     "text": [
      "15\n",
      "25\n",
      "45\n"
     ]
    }
   ],
   "metadata": {
    "colab": {
     "base_uri": "https://localhost:8080/"
    },
    "id": "K4eThJ79832c",
    "outputId": "1772ea53-f08f-4683-ccb9-64f0e984b1f5"
   }
  },
  {
   "cell_type": "markdown",
   "source": [
    "###### การใช้คำสั่ง pass\r\n",
    "\r\n",
    "`function` definitions (def) ไม่สามารถปล่อยเป็นค่าว่างได้ เพราะจะทำให้เกิด error\r\n",
    "\r\n",
    "เราสามารถแก้ปัญหานี้ได้ด้วยการใช้คำสั่ง `pass` เพื่อไม่ให้เกิด error"
   ],
   "metadata": {
    "id": "3GWkpZR48fLS"
   }
  },
  {
   "cell_type": "markdown",
   "source": [
    "###### ตัวอย่าง\r\n"
   ],
   "metadata": {
    "id": "PnyDRFDR8f2k"
   }
  },
  {
   "cell_type": "code",
   "execution_count": null,
   "source": [
    "def myfunction():\r\n",
    "  pass"
   ],
   "outputs": [],
   "metadata": {
    "id": "MZyHH7DI9HHu"
   }
  },
  {
   "cell_type": "markdown",
   "source": [
    "###### การใช้ Recursion\r\n",
    "\r\n",
    "- Recursive function คือการที่ function เรียกใช้ตัวมันเองวนไปเรื่อย ๆ จนกว่าจะถึง break case คือหยุดเรียก function โดยมันเป็นรูปแบบการ loop รูปแบบหนึ่ง\r\n",
    "\r\n",
    "- ใน Python จัดให้ `recursion` เป็น function รูปแแบบหนึ่งที่สามารถเรียกใช้งานตัวเองได้\r\n",
    "\r\n",
    "- โดยมันจะเรียกใช้งานตัวเองซ้ำไปเรื่อย ๆ เหมือนเป็นการ loop รูปแบบหนึ่งผ่านข้อมูล เพื่อให้ได้ผลลัพธ์ออกมา\r\n",
    "\r\n",
    "\r\n",
    "- developer จึงควรใช้งาน `recursion` เพราะมันใช้งานง่าย เขียนสั้นกระชับ ไม่ต้องใช้ memory หรือ processor power จำนวนมากในการรันโปรแกรม\r\n",
    "\r\n",
    "- ตัวอย่างเช่น `tri_recursion()` เป็น function ที่สามารถเรียกใช้งานตัวเองได้\r\n",
    "\r\n",
    "    เรากำหนดให้ `k` เป็นตัวแปรที่มีค่าลดลง `-1` ที่ครั้งที่มีการเรียกใช้งาน\r\n",
    "\r\n",
    "    โดย function จะหยุดทำงานก็ต่อเมื่อเงื่อนไขมีค่าเท่ากับ 0"
   ],
   "metadata": {
    "id": "i72nTvKO8gas"
   }
  },
  {
   "cell_type": "markdown",
   "source": [
    "###### ตัวอย่าง"
   ],
   "metadata": {
    "id": "Os0dJ4Ry9KwH"
   }
  },
  {
   "cell_type": "code",
   "execution_count": null,
   "source": [
    "def tri_recursion(k):\r\n",
    "  if(k > 0):\r\n",
    "    result = k + tri_recursion(k - 1)\r\n",
    "    print(result)\r\n",
    "  else:\r\n",
    "    result = 0\r\n",
    "  return result\r\n",
    "\r\n",
    "print(\"\\n\\nRecursion Example Results\")\r\n",
    "tri_recursion(6)"
   ],
   "outputs": [
    {
     "output_type": "stream",
     "name": "stdout",
     "text": [
      "\n",
      "\n",
      "Recursion Example Results\n",
      "1\n",
      "3\n",
      "6\n",
      "10\n",
      "15\n",
      "21\n"
     ]
    },
    {
     "output_type": "execute_result",
     "data": {
      "text/plain": [
       "21"
      ]
     },
     "metadata": {},
     "execution_count": 12
    }
   ],
   "metadata": {
    "colab": {
     "base_uri": "https://localhost:8080/"
    },
    "id": "FQjn4pIp9cpv",
    "outputId": "41d18e37-2090-4e35-c376-fd3cc0797617"
   }
  }
 ],
 "metadata": {
  "colab": {
   "name": "สำเนาของ 017_Python_Functions.ipynb",
   "provenance": [],
   "toc_visible": true
  },
  "kernelspec": {
   "display_name": "Python 3",
   "name": "python3"
  },
  "language_info": {
   "name": "python"
  }
 },
 "nbformat": 4,
 "nbformat_minor": 2
}