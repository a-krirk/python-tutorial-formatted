{
 "cells": [
  {
   "cell_type": "markdown",
   "metadata": {
    "id": "c7DPlxK9nEYE"
   },
   "source": [
    "#### Try Except"
   ]
  },
  {
   "cell_type": "markdown",
   "metadata": {
    "id": "0B5l7YbOnhvD"
   },
   "source": [
    "block ของคำสั่ง `try` ใช้ตรวจจับ error ของโค้ด\r\n",
    "\r\n",
    "block ของคำสั่ง `except` ใช้จัดการกับ error นั้น\r\n",
    "\r\n",
    "block `finally` จะเป็นการรันโค้ด โดยไม่ขึ้นกับผลลัพธ์ของ block `try` และ `except`"
   ]
  },
  {
   "cell_type": "markdown",
   "metadata": {
    "id": "1QxlD3Qcnszy"
   },
   "source": [
    "###### Exception Handling\r\n"
   ]
  },
  {
   "cell_type": "markdown",
   "metadata": {
    "id": "A0Gzqe2In7z6"
   },
   "source": [
    "เมื่อมีข้อผิดพลาดเกิดขึ้น ปกติ Python จะหยุดรันแล้วส่งข้อความ error กลับมา\n",
    "\n",
    "ข้อผิดพลาดต่าง ๆ แก้ได้ด้วยการใช้คำสั่ง **try**"
   ]
  },
  {
   "cell_type": "markdown",
   "metadata": {
    "id": "LxUk6rgxn-GT"
   },
   "source": [
    "###### ตัวอย่าง\r\n",
    "block `try` จะเกิด error ขึ้น เพราะไม่ได้ระบุค่าของ x"
   ]
  },
  {
   "cell_type": "code",
   "execution_count": 1,
   "metadata": {
    "colab": {
     "base_uri": "https://localhost:8080/"
    },
    "id": "omSiGB-7n8pa",
    "outputId": "561ac85f-ac78-4f6e-c112-c95be556c21c"
   },
   "outputs": [
    {
     "name": "stdout",
     "output_type": "stream",
     "text": [
      "เกิด exception ขึ้น\n"
     ]
    }
   ],
   "source": [
    "try:\r\n",
    "  print(x)\r\n",
    "except:\r\n",
    "  print(\"เกิด exception ขึ้น\")"
   ]
  },
  {
   "cell_type": "markdown",
   "metadata": {
    "id": "iqPXTUQfoNKi"
   },
   "source": [
    "เมื่อ block `try` เกิด error ขึ้น block `except` ก็จะรันต่อ\r\n",
    "\r\n",
    "หากไม่มี block `try` โปรแกรมจะหยุดทำงานและแสดงข้อความ error ออกมา"
   ]
  },
  {
   "cell_type": "code",
   "execution_count": null,
   "metadata": {
    "colab": {
     "base_uri": "https://localhost:8080/",
     "height": 163
    },
    "id": "uIa-7aYXoZ3b",
    "outputId": "afbc836b-614a-42c5-c62a-034f4c9dfc81"
   },
   "outputs": [
    {
     "ename": "NameError",
     "evalue": "ignored",
     "output_type": "error",
     "traceback": [
      "\u001b[0;31m---------------------------------------------------------------------------\u001b[0m",
      "\u001b[0;31mNameError\u001b[0m                                 Traceback (most recent call last)",
      "\u001b[0;32m<ipython-input-2-fc17d851ef81>\u001b[0m in \u001b[0;36m<module>\u001b[0;34m()\u001b[0m\n\u001b[0;32m----> 1\u001b[0;31m \u001b[0mprint\u001b[0m\u001b[0;34m(\u001b[0m\u001b[0mx\u001b[0m\u001b[0;34m)\u001b[0m\u001b[0;34m\u001b[0m\u001b[0;34m\u001b[0m\u001b[0m\n\u001b[0m",
      "\u001b[0;31mNameError\u001b[0m: name 'x' is not defined"
     ]
    }
   ],
   "source": [
    "print(x)"
   ]
  },
  {
   "cell_type": "markdown",
   "metadata": {
    "id": "pHEaMjTYocR7"
   },
   "source": [
    "###### การจัดการกับ Exceptions หลายแบบ"
   ]
  },
  {
   "cell_type": "markdown",
   "metadata": {
    "id": "I8moF-eiolkT"
   },
   "source": [
    "สามารถสร้าง exception ได้หลาย ๆ block เพื่อจัดการกับ error แต่ละประเภท"
   ]
  },
  {
   "cell_type": "markdown",
   "metadata": {
    "id": "tWFUqwv5ooij"
   },
   "source": [
    "###### ตัวอย่าง\r\n",
    "\r\n",
    "Print ข้อความแบบหนึ่ง หากเกิด NameError และ print ข้อความอีกแบบหนึ่ง หากเกิด error แบบอื่น ๆ"
   ]
  },
  {
   "cell_type": "code",
   "execution_count": 2,
   "metadata": {
    "colab": {
     "base_uri": "https://localhost:8080/"
    },
    "id": "LhKTw-azozaq",
    "outputId": "d4758c0c-494d-4800-c323-158d60ddb9d1"
   },
   "outputs": [
    {
     "name": "stdout",
     "output_type": "stream",
     "text": [
      "ยังไม่ได้ประกาศตัวแปร\n"
     ]
    }
   ],
   "source": [
    "try:\r\n",
    "  print(x)\r\n",
    "except NameError:\r\n",
    "  print(\"ยังไม่ได้ประกาศตัวแปร\")\r\n",
    "except:\r\n",
    "  print(\"เกิดความผิดพลาดอย่างอื่น\")"
   ]
  },
  {
   "cell_type": "markdown",
   "metadata": {
    "id": "YWIysqQEpEoC"
   },
   "source": [
    "###### Else"
   ]
  },
  {
   "cell_type": "markdown",
   "metadata": {
    "id": "LyL_8rdVpJ1K"
   },
   "source": [
    "สามารถใช้ keyword `else` เพื่อสร้าง block ของ code ที่ต้องการรัน หากไม่เจอ exceptions"
   ]
  },
  {
   "cell_type": "markdown",
   "metadata": {
    "id": "mmufipMMpMa6"
   },
   "source": [
    "###### ตัวอย่าง\r\n"
   ]
  },
  {
   "cell_type": "markdown",
   "metadata": {
    "id": "jPdjuL0OpS_T"
   },
   "source": [
    "ในตัวอย่างนี้ block try ไม่มีข้อผิดพลาดใด ๆ เกิดขึ้น"
   ]
  },
  {
   "cell_type": "code",
   "execution_count": 3,
   "metadata": {
    "colab": {
     "base_uri": "https://localhost:8080/"
    },
    "id": "lXcxhA36pVyT",
    "outputId": "ad98e843-704e-4864-a76b-ea170d9fcf5e"
   },
   "outputs": [
    {
     "name": "stdout",
     "output_type": "stream",
     "text": [
      "สวัสดี\n",
      "ไม่มีอะไรผิดพลาดเลย\n"
     ]
    }
   ],
   "source": [
    "try:\r\n",
    "  print(\"สวัสดี\")\r\n",
    "except:\r\n",
    "  print(\"มีบางอย่างผิดพลาดนะ\")\r\n",
    "else:\r\n",
    "  print(\"ไม่มีอะไรผิดพลาดเลย\")"
   ]
  },
  {
   "cell_type": "markdown",
   "metadata": {
    "id": "Fb8mbgnLpkx0"
   },
   "source": [
    "###### Finally"
   ]
  },
  {
   "cell_type": "markdown",
   "metadata": {
    "id": "5EBIrWFuptt7"
   },
   "source": [
    "สามารถใช้ `finally` เพื่อให้ code รัน เมื่อ try กับ except blcok รันเรียบร้อยแล้ว"
   ]
  },
  {
   "cell_type": "markdown",
   "metadata": {
    "id": "c1vIyCIkpwlb"
   },
   "source": [
    "###### ตัวอย่าง\r\n"
   ]
  },
  {
   "cell_type": "code",
   "execution_count": 4,
   "metadata": {
    "colab": {
     "base_uri": "https://localhost:8080/"
    },
    "id": "79pdpvMxpoPr",
    "outputId": "5a86e6b6-7572-47b4-95e1-fcfce34c2eed"
   },
   "outputs": [
    {
     "name": "stdout",
     "output_type": "stream",
     "text": [
      "มีบางอย่างผิดพลาด\n",
      "try และ except block รันเสร็จแล้ว\n"
     ]
    }
   ],
   "source": [
    "try:\r\n",
    "  print(x)\r\n",
    "except:\r\n",
    "  print(\"มีบางอย่างผิดพลาด\")\r\n",
    "finally:\r\n",
    "  print(\"try และ except block รันเสร็จแล้ว\")"
   ]
  },
  {
   "cell_type": "markdown",
   "metadata": {
    "id": "1R64CpEDphGt"
   },
   "source": [
    "การใช้ `finally` มีประโยชน์ในการปิด object และช่วย clean up ทรัพยากรที่ใช้ไป"
   ]
  },
  {
   "cell_type": "markdown",
   "metadata": {
    "id": "6nkrIFZar5AG"
   },
   "source": [
    "###### ตัวอย่าง"
   ]
  },
  {
   "cell_type": "code",
   "execution_count": 5,
   "metadata": {
    "colab": {
     "base_uri": "https://localhost:8080/"
    },
    "id": "x2vG1GBJr7YS",
    "outputId": "fa896c9f-c795-4cd4-9d28-b28fbf3a59de"
   },
   "outputs": [
    {
     "name": "stdout",
     "output_type": "stream",
     "text": [
      "มีบางอย่างผิดพลาดเมื่อพยายามจะเปิดไฟล์\n"
     ]
    }
   ],
   "source": [
    "try:\r\n",
    "  f = open(\"demofile.txt\")\r\n",
    "  try:\r\n",
    "    f.write(\"คำนำ\")\r\n",
    "  except:\r\n",
    "    print(\"มีบางอย่างผิดพลาดเมื่อพยายามจะเขียนไฟล์\")\r\n",
    "  finally:\r\n",
    "    f.close()\r\n",
    "except:\r\n",
    "  print(\"มีบางอย่างผิดพลาดเมื่อพยายามจะเปิดไฟล์\")"
   ]
  },
  {
   "cell_type": "markdown",
   "metadata": {
    "id": "sTzDDFFGsHTB"
   },
   "source": [
    "โปรแกรมจะสามารถรันต่อไปได้ โดยไม่เปิดไฟล์ทิ้งไว้"
   ]
  },
  {
   "cell_type": "markdown",
   "metadata": {
    "id": "WvQObTWtsNya"
   },
   "source": [
    "###### Raise an expection"
   ]
  },
  {
   "cell_type": "markdown",
   "metadata": {
    "id": "sAvNFtEhsalp"
   },
   "source": [
    "สามารถเลือก throw an exception ได้ หากตรงตามเงื่อนไข โดยใช้ keyword `raise`"
   ]
  },
  {
   "cell_type": "markdown",
   "metadata": {
    "id": "krcZzoK9tNvy"
   },
   "source": [
    "###### ตัวอย่าง\r\n"
   ]
  },
  {
   "cell_type": "markdown",
   "metadata": {
    "id": "F__nnmQPtWBz"
   },
   "source": [
    "Raise an error และหยุดการทำงานของ program ถ้า x มีค่าน้อยกว่า 0"
   ]
  },
  {
   "cell_type": "code",
   "execution_count": 6,
   "metadata": {
    "colab": {
     "base_uri": "https://localhost:8080/",
     "height": 197
    },
    "id": "xvLMEnV8td5O",
    "outputId": "d5e593ac-7454-4f95-8c34-6c9709a5de7b"
   },
   "outputs": [
    {
     "ename": "Exception",
     "evalue": "ขออภัย ห้ามใช้ตัวเลขที่มีค่าน้อยกว่า 0",
     "output_type": "error",
     "traceback": [
      "\u001b[1;31m---------------------------------------------------------------------------\u001b[0m",
      "\u001b[1;31mException\u001b[0m                                 Traceback (most recent call last)",
      "\u001b[1;32m~\\AppData\\Local\\Temp/ipykernel_17756/2455154661.py\u001b[0m in \u001b[0;36m<module>\u001b[1;34m\u001b[0m\n\u001b[0;32m      1\u001b[0m \u001b[0mx\u001b[0m \u001b[1;33m=\u001b[0m \u001b[1;33m-\u001b[0m\u001b[1;36m10\u001b[0m\u001b[1;33m\u001b[0m\u001b[1;33m\u001b[0m\u001b[0m\n\u001b[0;32m      2\u001b[0m \u001b[1;32mif\u001b[0m \u001b[0mx\u001b[0m \u001b[1;33m<\u001b[0m \u001b[1;36m0\u001b[0m\u001b[1;33m:\u001b[0m\u001b[1;33m\u001b[0m\u001b[1;33m\u001b[0m\u001b[0m\n\u001b[1;32m----> 3\u001b[1;33m   \u001b[1;32mraise\u001b[0m \u001b[0mException\u001b[0m\u001b[1;33m(\u001b[0m\u001b[1;34m\"ขออภัย ห้ามใช้ตัวเลขที่มีค่าน้อยกว่า 0\"\u001b[0m\u001b[1;33m)\u001b[0m\u001b[1;33m\u001b[0m\u001b[1;33m\u001b[0m\u001b[0m\n\u001b[0m",
      "\u001b[1;31mException\u001b[0m: ขออภัย ห้ามใช้ตัวเลขที่มีค่าน้อยกว่า 0"
     ]
    }
   ],
   "source": [
    "x = -10\r\n",
    "if x < 0:\r\n",
    "  raise Exception(\"ขออภัย ห้ามใช้ตัวเลขที่มีค่าน้อยกว่า 0\")"
   ]
  },
  {
   "cell_type": "markdown",
   "metadata": {
    "id": "FrgmaBwIthPK"
   },
   "source": [
    "สามารถกำหนดได้ว่าจะ raise error ชนิดใด และ print ข้อความนั้นให้ user มองเห็น"
   ]
  },
  {
   "cell_type": "markdown",
   "metadata": {
    "id": "uaE-ykextlKy"
   },
   "source": [
    "######ตัวอย่าง\r\n",
    "Raise a TypeError ถ้า x ไม่ใช่ integer"
   ]
  },
  {
   "cell_type": "code",
   "execution_count": 7,
   "metadata": {
    "colab": {
     "base_uri": "https://localhost:8080/",
     "height": 197
    },
    "id": "-35XLw6FtvYa",
    "outputId": "ae7e2a28-d9af-41bd-e2aa-76156f197f28"
   },
   "outputs": [
    {
     "ename": "TypeError",
     "evalue": "ใช้ได้เฉพาะ integers ครับ",
     "output_type": "error",
     "traceback": [
      "\u001b[1;31m---------------------------------------------------------------------------\u001b[0m",
      "\u001b[1;31mTypeError\u001b[0m                                 Traceback (most recent call last)",
      "\u001b[1;32m~\\AppData\\Local\\Temp/ipykernel_17756/295463515.py\u001b[0m in \u001b[0;36m<module>\u001b[1;34m\u001b[0m\n\u001b[0;32m      2\u001b[0m \u001b[1;33m\u001b[0m\u001b[0m\n\u001b[0;32m      3\u001b[0m \u001b[1;32mif\u001b[0m \u001b[1;32mnot\u001b[0m \u001b[0mtype\u001b[0m\u001b[1;33m(\u001b[0m\u001b[0mx\u001b[0m\u001b[1;33m)\u001b[0m \u001b[1;32mis\u001b[0m \u001b[0mint\u001b[0m\u001b[1;33m:\u001b[0m\u001b[1;33m\u001b[0m\u001b[1;33m\u001b[0m\u001b[0m\n\u001b[1;32m----> 4\u001b[1;33m   \u001b[1;32mraise\u001b[0m \u001b[0mTypeError\u001b[0m\u001b[1;33m(\u001b[0m\u001b[1;34m\"ใช้ได้เฉพาะ integers ครับ\"\u001b[0m\u001b[1;33m)\u001b[0m\u001b[1;33m\u001b[0m\u001b[1;33m\u001b[0m\u001b[0m\n\u001b[0m",
      "\u001b[1;31mTypeError\u001b[0m: ใช้ได้เฉพาะ integers ครับ"
     ]
    }
   ],
   "source": [
    "x = \"สวัสดี\"\r\n",
    "\r\n",
    "if not type(x) is int:\r\n",
    "  raise TypeError(\"ใช้ได้เฉพาะ integers ครับ\")"
   ]
  }
 ],
 "metadata": {
  "colab": {
   "name": "030_Python_TryExcept.ipynb",
   "provenance": []
  },
  "interpreter": {
   "hash": "00034aa5cd6c44013b830fd98c7a620a61a498e75425ca81fcc1166b84a69895"
  },
  "kernelspec": {
   "display_name": "Python 3.8.5 64-bit ('base': conda)",
   "name": "python3"
  },
  "language_info": {
   "codemirror_mode": {
    "name": "ipython",
    "version": 3
   },
   "file_extension": ".py",
   "mimetype": "text/x-python",
   "name": "python",
   "nbconvert_exporter": "python",
   "pygments_lexer": "ipython3",
   "version": "3.8.5"
  }
 },
 "nbformat": 4,
 "nbformat_minor": 2
}
