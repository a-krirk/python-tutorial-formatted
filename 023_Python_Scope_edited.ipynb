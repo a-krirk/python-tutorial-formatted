{
 "cells": [
  {
   "cell_type": "markdown",
   "metadata": {
    "id": "2FkExhFIoNY8"
   },
   "source": [
    "#### Scope\r\n"
   ]
  },
  {
   "cell_type": "markdown",
   "metadata": {
    "id": "_fzw-I-wVWyH"
   },
   "source": [
    "ตัวแปรที่อยู่ภายใต้ขอบเขตที่กำหนดขึ้น เรียกว่า scope\n"
   ]
  },
  {
   "cell_type": "markdown",
   "metadata": {
    "id": "6XUZFN6tn75v"
   },
   "source": [
    "###### Local Scope"
   ]
  },
  {
   "cell_type": "markdown",
   "metadata": {
    "id": "Pi4B7jk_nZkJ"
   },
   "source": [
    "ตัวแปรที่ถูกสร้างขึ้นภายใต้ฟังก์ชั่นนึงจะสามารถใช้ได้แค่ภายในฟังก์ชั่นนั้นเท่านั้น\n",
    "\n",
    "\n"
   ]
  },
  {
   "cell_type": "code",
   "execution_count": 1,
   "metadata": {
    "colab": {
     "base_uri": "https://localhost:8080/"
    },
    "executionInfo": {
     "elapsed": 329,
     "status": "ok",
     "timestamp": 1630382239892,
     "user": {
      "displayName": "Wachirawit Viriyaphisathan",
      "photoUrl": "https://lh3.googleusercontent.com/a-/AOh14GhpFNFOo2HRjyI36_HMPGhSHMfGYozwoiGMZBoPbA=s64",
      "userId": "03875063837227722804"
     },
     "user_tz": -420
    },
    "id": "LJBxqh5kodY2",
    "outputId": "9ef3a373-3584-4353-f655-09e85956eebd"
   },
   "outputs": [
    {
     "name": "stdout",
     "output_type": "stream",
     "text": [
      "555\n"
     ]
    }
   ],
   "source": [
    "def myfunc():\r\n",
    "  A = 555\r\n",
    "  print(A)\r\n",
    "\r\n",
    "myfunc()"
   ]
  },
  {
   "cell_type": "markdown",
   "metadata": {
    "id": "3WHFf7Pmone1"
   },
   "source": [
    "###### ฟังก์ชั่นในฟังก์ชั่น"
   ]
  },
  {
   "cell_type": "markdown",
   "metadata": {
    "id": "6MGH3hPdt0nL"
   },
   "source": [
    "จากที่อธิบายไปข้างต้น ตัวแปร A ไม่สามารถใช้นอกฟังก์ชั่นได้ แต่จะสามารถใช้ในฟังก์ชั่นใด ๆ ก็ได้ที่อยู่ในฟังก์ชั่น"
   ]
  },
  {
   "cell_type": "code",
   "execution_count": 2,
   "metadata": {
    "colab": {
     "base_uri": "https://localhost:8080/"
    },
    "executionInfo": {
     "elapsed": 18,
     "status": "ok",
     "timestamp": 1630382241132,
     "user": {
      "displayName": "Wachirawit Viriyaphisathan",
      "photoUrl": "https://lh3.googleusercontent.com/a-/AOh14GhpFNFOo2HRjyI36_HMPGhSHMfGYozwoiGMZBoPbA=s64",
      "userId": "03875063837227722804"
     },
     "user_tz": -420
    },
    "id": "zclqdMSMVn60",
    "outputId": "470e40c0-6543-492b-98db-8a38fb1a0e6c"
   },
   "outputs": [
    {
     "name": "stdout",
     "output_type": "stream",
     "text": [
      "555\n"
     ]
    }
   ],
   "source": [
    "def myfunc():\r\n",
    "  A = 555\r\n",
    "  def myinnerfunc():\r\n",
    "    print(A)\r\n",
    "  myinnerfunc()\r\n",
    "\r\n",
    "myfunc()"
   ]
  },
  {
   "cell_type": "markdown",
   "metadata": {
    "id": "4qYqdoSorl-l"
   },
   "source": [
    "###### Global Scope"
   ]
  },
  {
   "cell_type": "markdown",
   "metadata": {
    "id": "gRCHxfzIzkAB"
   },
   "source": [
    "ตัวแปร global คือ ตัวแปรที่สร้างขึ้นในส่วนหลักของ code python \n",
    "\n",
    "ตัวแปร global สามารถใช้งานได้ในทุกๆขอบเขตทั้ง global และ local\n",
    "\n",
    "\n",
    "\n"
   ]
  },
  {
   "cell_type": "code",
   "execution_count": 3,
   "metadata": {
    "colab": {
     "base_uri": "https://localhost:8080/"
    },
    "executionInfo": {
     "elapsed": 12,
     "status": "ok",
     "timestamp": 1630382241964,
     "user": {
      "displayName": "Wachirawit Viriyaphisathan",
      "photoUrl": "https://lh3.googleusercontent.com/a-/AOh14GhpFNFOo2HRjyI36_HMPGhSHMfGYozwoiGMZBoPbA=s64",
      "userId": "03875063837227722804"
     },
     "user_tz": -420
    },
    "id": "njorQVEKVxF8",
    "outputId": "d4eb234d-636a-48c2-f4f4-f4b9437bef7e"
   },
   "outputs": [
    {
     "name": "stdout",
     "output_type": "stream",
     "text": [
      "300\n",
      "300\n"
     ]
    }
   ],
   "source": [
    "A = 300\r\n",
    "\r\n",
    "def myfunc():\r\n",
    "  print(A)\r\n",
    "\r\n",
    "myfunc()\r\n",
    "\r\n",
    "print(A)"
   ]
  },
  {
   "cell_type": "markdown",
   "metadata": {
    "id": "mNXrIn39zHA9"
   },
   "source": [
    "###### การตั้งชื่อตัวแปร"
   ]
  },
  {
   "cell_type": "markdown",
   "metadata": {
    "id": "Wpcmkrow2SMl"
   },
   "source": [
    "ถ้าหากในฟังก์ชั่นและนอกฟังก์ชั่นมีการสร้างตัวแปรที่มีชื่อที่ตรงกัน python จะถือว่าตัวแปร 2 ตัวนี้เป็นคนละตัว โดยตัวนึงจะมีขอบเขตในส่วน global ( ภายนอกฟังก์ชั่น ) และอีกตัวจะมีขอบเขตในส่วนของ local ( ภายในฟังก์ชั่น ) :\n",
    "\n"
   ]
  },
  {
   "cell_type": "code",
   "execution_count": 4,
   "metadata": {
    "colab": {
     "base_uri": "https://localhost:8080/"
    },
    "executionInfo": {
     "elapsed": 10,
     "status": "ok",
     "timestamp": 1630382242474,
     "user": {
      "displayName": "Wachirawit Viriyaphisathan",
      "photoUrl": "https://lh3.googleusercontent.com/a-/AOh14GhpFNFOo2HRjyI36_HMPGhSHMfGYozwoiGMZBoPbA=s64",
      "userId": "03875063837227722804"
     },
     "user_tz": -420
    },
    "id": "roadtX2aV5ZQ",
    "outputId": "766f90f7-2d2d-4392-9c22-fe24da69faff"
   },
   "outputs": [
    {
     "name": "stdout",
     "output_type": "stream",
     "text": [
      "999\n",
      "555\n"
     ]
    }
   ],
   "source": [
    "A = 555\r\n",
    "\r\n",
    "def myfunc():\r\n",
    "  A = 999\r\n",
    "  print(A)\r\n",
    "\r\n",
    "myfunc()\r\n",
    "\r\n",
    "print(A)"
   ]
  },
  {
   "cell_type": "markdown",
   "metadata": {
    "id": "vtUXPcWZzKuK"
   },
   "source": [
    "###### Global Keyword"
   ]
  },
  {
   "cell_type": "markdown",
   "metadata": {
    "id": "TUeOR-JC2sIW"
   },
   "source": [
    "ถ้าหากเราต้องการสร้างตัวแปร global ที่อยู่ในขอบเขต local เราสามารถใช้ keyword global\n",
    "\n",
    "keyword global จะเป็นการประกาศให้ตัวแปรนั้นเป็นตัวแปร global\n",
    "\n",
    "\n"
   ]
  },
  {
   "cell_type": "code",
   "execution_count": 5,
   "metadata": {
    "colab": {
     "base_uri": "https://localhost:8080/"
    },
    "executionInfo": {
     "elapsed": 24,
     "status": "ok",
     "timestamp": 1630382247832,
     "user": {
      "displayName": "Wachirawit Viriyaphisathan",
      "photoUrl": "https://lh3.googleusercontent.com/a-/AOh14GhpFNFOo2HRjyI36_HMPGhSHMfGYozwoiGMZBoPbA=s64",
      "userId": "03875063837227722804"
     },
     "user_tz": -420
    },
    "id": "7ba04mJs27BJ",
    "outputId": "6c658576-0769-49e4-8f8f-a16077f6f22d"
   },
   "outputs": [
    {
     "name": "stdout",
     "output_type": "stream",
     "text": [
      "555\n"
     ]
    }
   ],
   "source": [
    "def myfunc():\r\n",
    "  global A\r\n",
    "  A = 555\r\n",
    "\r\n",
    "myfunc()\r\n",
    "\r\n",
    "print(A)"
   ]
  },
  {
   "cell_type": "markdown",
   "metadata": {
    "id": "gffb3nmaWgo7"
   },
   "source": [
    "นอกจากนี้ถ้าเราต้องการที่จะเปลี่ยนค่าของตัวแปร global ที่อยู่ในฟังก์ชั่น ก็สามารถใช้ keyword global เพื่อเปลี่ยนค่าได้\n"
   ]
  },
  {
   "cell_type": "code",
   "execution_count": 6,
   "metadata": {
    "colab": {
     "base_uri": "https://localhost:8080/"
    },
    "executionInfo": {
     "elapsed": 12,
     "status": "ok",
     "timestamp": 1630382247833,
     "user": {
      "displayName": "Wachirawit Viriyaphisathan",
      "photoUrl": "https://lh3.googleusercontent.com/a-/AOh14GhpFNFOo2HRjyI36_HMPGhSHMfGYozwoiGMZBoPbA=s64",
      "userId": "03875063837227722804"
     },
     "user_tz": -420
    },
    "id": "lzpsGQ6mWj_D",
    "outputId": "15c624ca-3366-414b-b41c-5acaef0a173a"
   },
   "outputs": [
    {
     "name": "stdout",
     "output_type": "stream",
     "text": [
      "222\n"
     ]
    }
   ],
   "source": [
    "A = 555\r\n",
    "\r\n",
    "def myfunc():\r\n",
    "  global A\r\n",
    "  A = 222\r\n",
    "\r\n",
    "myfunc()\r\n",
    "\r\n",
    "print(A)"
   ]
  }
 ],
 "metadata": {
  "colab": {
   "collapsed_sections": [
    "6XUZFN6tn75v",
    "3WHFf7Pmone1",
    "4qYqdoSorl-l",
    "mNXrIn39zHA9",
    "vtUXPcWZzKuK"
   ],
   "name": "023_Python_Scope.ipynb",
   "provenance": [
    {
     "file_id": "1v3i8iLWGEzHHjhmBzekbKNw4jYC7jVdy",
     "timestamp": 1630381854148
    },
    {
     "file_id": "1zGEzryzY-8X3orGID4GQgh8_ngVGiVXQ",
     "timestamp": 1630381031721
    },
    {
     "file_id": "1-eAGg9tPyYdkRd6R0xhPBfdVtwyLMWIY",
     "timestamp": 1630380612810
    },
    {
     "file_id": "1sVn9bVEnWLbtTPu4idRaMz-ZBXY1fG62",
     "timestamp": 1630340809849
    },
    {
     "file_id": "1YtwUjCetdLnR50UNYGnR1IAtH0W9ooO1",
     "timestamp": 1630337697384
    },
    {
     "file_id": "17XEX7PlOXBuY9UKKtSy1bB2_DdHBOg1P",
     "timestamp": 1630337226185
    }
   ]
  },
  "interpreter": {
   "hash": "00034aa5cd6c44013b830fd98c7a620a61a498e75425ca81fcc1166b84a69895"
  },
  "kernelspec": {
   "display_name": "Python 3.8.5 64-bit ('base': conda)",
   "name": "python3"
  },
  "language_info": {
   "codemirror_mode": {
    "name": "ipython",
    "version": 3
   },
   "file_extension": ".py",
   "mimetype": "text/x-python",
   "name": "python",
   "nbconvert_exporter": "python",
   "pygments_lexer": "ipython3",
   "version": "3.8.5"
  }
 },
 "nbformat": 4,
 "nbformat_minor": 2
}
