{
 "cells": [
  {
   "cell_type": "markdown",
   "metadata": {
    "id": "2FkExhFIoNY8"
   },
   "source": [
    "#### JSON"
   ]
  },
  {
   "cell_type": "markdown",
   "metadata": {
    "id": "_fzw-I-wVWyH"
   },
   "source": [
    "JSON เป็น syntax สำหรับการเก็บและแลกเปลี่ยนข้อมูล โดยตัว JSON จะเป็น text ที่เขียนตาม JavaScript object notation"
   ]
  },
  {
   "cell_type": "markdown",
   "metadata": {
    "id": "ivayp-vFcY1x"
   },
   "source": [
    "###### json module "
   ]
  },
  {
   "cell_type": "markdown",
   "metadata": {
    "id": "D1qUO64dcgy2"
   },
   "source": [
    "Python มีโมดูล json สำหรับทำงานร่วมกันข้อมูลแบบ JSON สามารถเรียกใช้งานได้โดยการ import json "
   ]
  },
  {
   "cell_type": "code",
   "execution_count": 3,
   "metadata": {
    "id": "9mciK2Uxcjzs"
   },
   "outputs": [],
   "source": [
    "import json"
   ]
  },
  {
   "cell_type": "markdown",
   "metadata": {
    "id": "hL3CXZNMcnue"
   },
   "source": [
    "###### Parse JSON \r\n",
    "\r\n",
    "สามารถใช้ method json.loads() เพื่อเปลี่ยนข้อมูล JSON ให้เป็นข้อมูลในรูปแบบของ Python (dictionary)"
   ]
  },
  {
   "cell_type": "markdown",
   "metadata": {
    "id": "46_w8kYjcsE0"
   },
   "source": [
    "###### ตัวอย่าง"
   ]
  },
  {
   "cell_type": "code",
   "execution_count": 4,
   "metadata": {
    "id": "d1vaE2zXcuTp"
   },
   "outputs": [
    {
     "name": "stdout",
     "output_type": "stream",
     "text": [
      "17\n",
      "<class 'dict'>\n"
     ]
    }
   ],
   "source": [
    "import json\r\n",
    "\r\n",
    "# JSON\r\n",
    "x =  '{ \"name\":\"James\", \"age\":17, \"city\":\"Bangkok\"}'\r\n",
    "\r\n",
    "# parse x\r\n",
    "y = json.loads(x)\r\n",
    "\r\n",
    "print(y[\"age\"])\r\n",
    "print(type(y))"
   ]
  },
  {
   "cell_type": "markdown",
   "metadata": {
    "id": "Jt9K9hliV8ki"
   },
   "source": [
    "###### แปลง Python object ให้เป็น JSON\r\n",
    "\r\n"
   ]
  },
  {
   "cell_type": "markdown",
   "metadata": {
    "id": "XNueowkDWJii"
   },
   "source": [
    "สามารถใช้ method json.dumps() เพื่อแปลง python object ให้เป็น JSON string"
   ]
  },
  {
   "cell_type": "code",
   "execution_count": 5,
   "metadata": {
    "id": "tp-Qwp10WNxT"
   },
   "outputs": [
    {
     "name": "stdout",
     "output_type": "stream",
     "text": [
      "{\"name\": \"James\", \"age\": 17, \"city\": \"Bangkok\"}\n",
      "<class 'str'>\n"
     ]
    }
   ],
   "source": [
    "import json\r\n",
    "\r\n",
    "# Python dictionary\r\n",
    "x = {\r\n",
    "  \"name\": \"James\",\r\n",
    "  \"age\": 17,\r\n",
    "  \"city\": \"Bangkok\"\r\n",
    "}\r\n",
    "\r\n",
    "# แปลงเป็น JSON string\r\n",
    "y = json.dumps(x)\r\n",
    "\r\n",
    "print(y)\r\n",
    "print(type(y))"
   ]
  },
  {
   "cell_type": "markdown",
   "metadata": {
    "id": "iz3AJ1GiWmlc"
   },
   "source": [
    "สามารถแปลง Python object ดังต่อไปนี้ให้เป็น JSON string ได้\r\n",
    "\r\n",
    "* dict --> Object\r\n",
    "* list --> Array\r\n",
    "* tuple --> Array\r\n",
    "* string --> String\r\n",
    "* int --> Number\r\n",
    "* float --> Number\r\n",
    "* True --> true\r\n",
    "* False --> false\r\n",
    "* None --> null"
   ]
  },
  {
   "cell_type": "markdown",
   "metadata": {},
   "source": [
    "###### ตัวอย่าง"
   ]
  },
  {
   "cell_type": "code",
   "execution_count": 6,
   "metadata": {
    "colab": {
     "base_uri": "https://localhost:8080/"
    },
    "executionInfo": {
     "elapsed": 7,
     "status": "ok",
     "timestamp": 1630399673053,
     "user": {
      "displayName": "Wachirawit Viriyaphisathan",
      "photoUrl": "https://lh3.googleusercontent.com/a-/AOh14GhpFNFOo2HRjyI36_HMPGhSHMfGYozwoiGMZBoPbA=s64",
      "userId": "03875063837227722804"
     },
     "user_tz": -420
    },
    "id": "FsilS8RBZHYA",
    "outputId": "d23b2bce-c8e1-4e88-916d-f54e8413b419"
   },
   "outputs": [
    {
     "name": "stdout",
     "output_type": "stream",
     "text": [
      "{\"name\": \"James\", \"age\": 17}\n",
      "[\"brown\", \"blue\"]\n",
      "[\"red\", \"green\"]\n",
      "\"yellow\"\n",
      "48\n",
      "3.14\n",
      "true\n",
      "false\n",
      "null\n"
     ]
    }
   ],
   "source": [
    "import json\r\n",
    "\r\n",
    "print(json.dumps({\"name\": \"James\", \"age\": 17}))\r\n",
    "print(json.dumps([\"brown\", \"blue\"]))\r\n",
    "print(json.dumps((\"red\", \"green\")))\r\n",
    "print(json.dumps(\"yellow\"))\r\n",
    "print(json.dumps(48))\r\n",
    "print(json.dumps(3.14))\r\n",
    "print(json.dumps(True))\r\n",
    "print(json.dumps(False))\r\n",
    "print(json.dumps(None))"
   ]
  },
  {
   "cell_type": "markdown",
   "metadata": {},
   "source": [
    "###### ตัวอย่าง"
   ]
  },
  {
   "cell_type": "code",
   "execution_count": 13,
   "metadata": {
    "colab": {
     "base_uri": "https://localhost:8080/"
    },
    "executionInfo": {
     "elapsed": 590,
     "status": "ok",
     "timestamp": 1630399932255,
     "user": {
      "displayName": "Wachirawit Viriyaphisathan",
      "photoUrl": "https://lh3.googleusercontent.com/a-/AOh14GhpFNFOo2HRjyI36_HMPGhSHMfGYozwoiGMZBoPbA=s64",
      "userId": "03875063837227722804"
     },
     "user_tz": -420
    },
    "id": "EC6lWNN-aI1e",
    "outputId": "c33af811-9085-4e96-ec37-88c48a36b04e"
   },
   "outputs": [
    {
     "name": "stdout",
     "output_type": "stream",
     "text": [
      "{\"name\": \"James\", \"age\": 17, \"married\": false, \"divorced\": false, \"children\": [\"Anna\", \"Simon\"], \"pets\": null, \"cars\": [{\"model\": \"Toyota\", \"engine\": 1.5}, {\"model\": \"Honda\", \"engine\": 2.0}]}\n"
     ]
    }
   ],
   "source": [
    "import json\r\n",
    "\r\n",
    "x = {\r\n",
    "  \"name\": \"James\",\r\n",
    "  \"age\": 17,\r\n",
    "  \"married\": False,\r\n",
    "  \"divorced\": False,\r\n",
    "  \"children\": (\"Anna\",\"Simon\"),\r\n",
    "  \"pets\": None,\r\n",
    "  \"cars\": [\r\n",
    "    {\"model\": \"Toyota\", \"engine\": 1.5},\r\n",
    "    {\"model\": \"Honda\", \"engine\": 2.0}\r\n",
    "  ]\r\n",
    "}\r\n",
    "\r\n",
    "print(json.dumps(x))"
   ]
  },
  {
   "cell_type": "markdown",
   "metadata": {
    "id": "tN7q-32naQcS"
   },
   "source": [
    "###### จัดรูปแบบผลลัพธ์"
   ]
  },
  {
   "cell_type": "markdown",
   "metadata": {
    "id": "EJ68gXbMaWmk"
   },
   "source": [
    "ตัวอย่างข้างต้นเป็นการ print JSON string แต่ยังอยู่ในรูปแบบที่อ่านยาก เพราะไม่มีเครื่องหมายวรรคตอน\r\n",
    "\r\n",
    "เราสามารถใช้ method json.dumps() ในการจัดรูปแบบผลลัพธ์ให้อ่านง่ายขึ้น"
   ]
  },
  {
   "cell_type": "code",
   "execution_count": 14,
   "metadata": {
    "id": "322RmicgaY7g"
   },
   "outputs": [
    {
     "data": {
      "text/plain": [
       "'{\\n  \"name\": \"James\",\\n  \"age\": 17,\\n  \"married\": false,\\n  \"divorced\": false,\\n  \"children\": [\\n    \"Anna\",\\n    \"Simon\"\\n  ],\\n  \"pets\": null,\\n  \"cars\": [\\n    {\\n      \"model\": \"Toyota\",\\n      \"engine\": 1.5\\n    },\\n    {\\n      \"model\": \"Honda\",\\n      \"engine\": 2.0\\n    }\\n  ]\\n}'"
      ]
     },
     "execution_count": 14,
     "metadata": {},
     "output_type": "execute_result"
    }
   ],
   "source": [
    "json.dumps(x, indent=2)"
   ]
  },
  {
   "cell_type": "markdown",
   "metadata": {
    "id": "8aq8Mm1IactB"
   },
   "source": [
    "นอกจากนี้ยังสามารถกำหนด separators (ค่าเริ่มต้นคือ \", \", \": \") ซึ่งเป็นการใช้ comma กับ space ในการแยกแต่ละ object และใช้ colon กับ space ในการแยก keys ออกจาก values"
   ]
  },
  {
   "cell_type": "code",
   "execution_count": 15,
   "metadata": {
    "id": "WOM28ss7adlh"
   },
   "outputs": [
    {
     "data": {
      "text/plain": [
       "'{\\n  \"name\" = \"James\". \\n  \"age\" = 17. \\n  \"married\" = false. \\n  \"divorced\" = false. \\n  \"children\" = [\\n    \"Anna\". \\n    \"Simon\"\\n  ]. \\n  \"pets\" = null. \\n  \"cars\" = [\\n    {\\n      \"model\" = \"Toyota\". \\n      \"engine\" = 1.5\\n    }. \\n    {\\n      \"model\" = \"Honda\". \\n      \"engine\" = 2.0\\n    }\\n  ]\\n}'"
      ]
     },
     "execution_count": 15,
     "metadata": {},
     "output_type": "execute_result"
    }
   ],
   "source": [
    "json.dumps(x, indent=2, separators=(\". \", \" = \"))"
   ]
  },
  {
   "cell_type": "markdown",
   "metadata": {
    "id": "0LhohKFyajBy"
   },
   "source": [
    "###### การเรียงลำดับผลลัพธ์"
   ]
  },
  {
   "cell_type": "markdown",
   "metadata": {
    "id": "GG3NK09IasH8"
   },
   "source": [
    "สามารถใช้ parameter sort_keys ป้อนเข้า method json.dumps() เพื่อเรียงลำดับผลลัพธ์ตาม keys ได้"
   ]
  },
  {
   "cell_type": "code",
   "execution_count": 16,
   "metadata": {
    "id": "No3IPF__auMV"
   },
   "outputs": [
    {
     "data": {
      "text/plain": [
       "'{\\n    \"age\": 17,\\n    \"cars\": [\\n        {\\n            \"engine\": 1.5,\\n            \"model\": \"Toyota\"\\n        },\\n        {\\n            \"engine\": 2.0,\\n            \"model\": \"Honda\"\\n        }\\n    ],\\n    \"children\": [\\n        \"Anna\",\\n        \"Simon\"\\n    ],\\n    \"divorced\": false,\\n    \"married\": false,\\n    \"name\": \"James\",\\n    \"pets\": null\\n}'"
      ]
     },
     "execution_count": 16,
     "metadata": {},
     "output_type": "execute_result"
    }
   ],
   "source": [
    "json.dumps(x, indent=4, sort_keys=True)"
   ]
  }
 ],
 "metadata": {
  "colab": {
   "collapsed_sections": [
    "2FkExhFIoNY8",
    "ivayp-vFcY1x",
    "hL3CXZNMcnue",
    "Jt9K9hliV8ki",
    "tN7q-32naQcS",
    "0LhohKFyajBy"
   ],
   "name": "Python JSON.ipynb",
   "provenance": [
    {
     "file_id": "164z6LTKmLfqabpHbILAwOWiMZ8J9rpQ5",
     "timestamp": 1630399385240
    },
    {
     "file_id": "1GYWqwTjyvoCIVHKuHjJVrPNZES1x2701",
     "timestamp": 1630398666821
    },
    {
     "file_id": "1G-ipvCETvy7-qf8RmyZHhKlggDOTUjdF",
     "timestamp": 1630382852722
    },
    {
     "file_id": "1v3i8iLWGEzHHjhmBzekbKNw4jYC7jVdy",
     "timestamp": 1630381854148
    },
    {
     "file_id": "1zGEzryzY-8X3orGID4GQgh8_ngVGiVXQ",
     "timestamp": 1630381031721
    },
    {
     "file_id": "1-eAGg9tPyYdkRd6R0xhPBfdVtwyLMWIY",
     "timestamp": 1630380612810
    },
    {
     "file_id": "1sVn9bVEnWLbtTPu4idRaMz-ZBXY1fG62",
     "timestamp": 1630340809849
    },
    {
     "file_id": "1YtwUjCetdLnR50UNYGnR1IAtH0W9ooO1",
     "timestamp": 1630337697384
    },
    {
     "file_id": "17XEX7PlOXBuY9UKKtSy1bB2_DdHBOg1P",
     "timestamp": 1630337226185
    }
   ]
  },
  "interpreter": {
   "hash": "00034aa5cd6c44013b830fd98c7a620a61a498e75425ca81fcc1166b84a69895"
  },
  "kernelspec": {
   "display_name": "Python 3.8.5 64-bit ('base': conda)",
   "name": "python3"
  },
  "language_info": {
   "codemirror_mode": {
    "name": "ipython",
    "version": 3
   },
   "file_extension": ".py",
   "mimetype": "text/x-python",
   "name": "python",
   "nbconvert_exporter": "python",
   "pygments_lexer": "ipython3",
   "version": "3.8.5"
  }
 },
 "nbformat": 4,
 "nbformat_minor": 2
}
