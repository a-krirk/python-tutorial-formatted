{
 "cells": [
  {
   "cell_type": "markdown",
   "metadata": {
    "id": "6G3rhKCe_jEM"
   },
   "source": [
    "#### การกำหนดค่าให้ตัวแปรหลาย ๆ ตัวพร้อมกัน"
   ]
  },
  {
   "cell_type": "markdown",
   "metadata": {
    "id": "36Q7Ks_I_kRx"
   },
   "source": [
    "###### การกำหนดค่าให้ตัวแปรแต่ละตัวด้วยค่าที่ต่างกัน\r\n",
    "เราสามารถกำหนดค่าให้ตัวแปรแต่ละตัวด้วยค่าที่ต่างกันได้ด้วยโค้ดบรรทัดเดียว ดังโค้ดตัวอย่าง"
   ]
  },
  {
   "cell_type": "markdown",
   "metadata": {
    "id": "pqTjC-Ew_nv1"
   },
   "source": [
    "###### ตัวอย่าง"
   ]
  },
  {
   "cell_type": "code",
   "execution_count": 1,
   "metadata": {
    "colab": {
     "base_uri": "https://localhost:8080/"
    },
    "id": "7Ua67WU8_pSy",
    "outputId": "63890f5f-f0a4-4b18-eb38-f422eb9439d0"
   },
   "outputs": [
    {
     "name": "stdout",
     "output_type": "stream",
     "text": [
      "เค้ก\n",
      "ขนมปัง\n",
      "ครัวซองก์\n"
     ]
    }
   ],
   "source": [
    "x, y, z = \"เค้ก\", \"ขนมปัง\", \"ครัวซองก์\"\r\n",
    "print(x)\r\n",
    "print(y)\r\n",
    "print(z)"
   ]
  },
  {
   "cell_type": "markdown",
   "metadata": {
    "id": "Hd3nGdIFAg0n"
   },
   "source": [
    "###### การกำหนดค่าให้ตัวแปรแต่ละตัวด้วยค่าเดียวกัน \r\n",
    "เราสามารถกำหนดค่าให้ตัวแปรแต่ละตัวด้วยค่าเดียวกันได้ดังโค้ดข้างล่างนี้เพียงบรรทัดเดียว"
   ]
  },
  {
   "cell_type": "markdown",
   "metadata": {
    "id": "y9kZdLlz_4Lw"
   },
   "source": [
    "###### ตัวอย่าง"
   ]
  },
  {
   "cell_type": "code",
   "execution_count": 2,
   "metadata": {
    "colab": {
     "base_uri": "https://localhost:8080/"
    },
    "id": "dwPAkXo2_7B5",
    "outputId": "a018f873-1f09-40cc-d021-cba683e9d86c"
   },
   "outputs": [
    {
     "name": "stdout",
     "output_type": "stream",
     "text": [
      "โดนัท\n",
      "โดนัท\n",
      "โดนัท\n"
     ]
    }
   ],
   "source": [
    "x = y = z = \"โดนัท\"\r\n",
    "print(x)\r\n",
    "print(y)\r\n",
    "print(z)"
   ]
  },
  {
   "cell_type": "markdown",
   "metadata": {
    "id": "vMGXfi_p__By"
   },
   "source": [
    "###### Unpack a Collection\r\n",
    "ถ้าเรามี collection ของค่าต่าง ๆ เก็บไว้ใน list หรือ tuple เราสามารถสกัดค่าต่าง ๆ เหล่านั้นมาเก็บไว้ในตัวแปรได้\r\n",
    "\r\n",
    "วิธีการนี้เรียกว่า unpacking"
   ]
  },
  {
   "cell_type": "markdown",
   "metadata": {
    "id": "j23r4WkhACrK"
   },
   "source": [
    "###### ตัวอย่าง\r\n",
    "Unpack a list"
   ]
  },
  {
   "cell_type": "code",
   "execution_count": 4,
   "metadata": {
    "colab": {
     "base_uri": "https://localhost:8080/"
    },
    "id": "J8HVPSXHAFc2",
    "outputId": "d096542d-ee4d-42f9-c59c-831642f11e32"
   },
   "outputs": [
    {
     "name": "stdout",
     "output_type": "stream",
     "text": [
      "กาแฟ\n",
      "โกโก้\n",
      "ชา\n"
     ]
    }
   ],
   "source": [
    "drinks = [\"กาแฟ\", \"โกโก้\", \"ชา\"]\r\n",
    "x, y, z = drinks\r\n",
    "print(x)\r\n",
    "print(y)\r\n",
    "print(z)"
   ]
  }
 ],
 "metadata": {
  "colab": {
   "name": "Python Variables - Assign Multiple Values.ipynb",
   "provenance": []
  },
  "interpreter": {
   "hash": "00034aa5cd6c44013b830fd98c7a620a61a498e75425ca81fcc1166b84a69895"
  },
  "kernelspec": {
   "display_name": "Python 3.8.5 64-bit ('base': conda)",
   "name": "python3"
  },
  "language_info": {
   "codemirror_mode": {
    "name": "ipython",
    "version": 3
   },
   "file_extension": ".py",
   "mimetype": "text/x-python",
   "name": "python",
   "nbconvert_exporter": "python",
   "pygments_lexer": "ipython3",
   "version": "3.8.5"
  }
 },
 "nbformat": 4,
 "nbformat_minor": 2
}
