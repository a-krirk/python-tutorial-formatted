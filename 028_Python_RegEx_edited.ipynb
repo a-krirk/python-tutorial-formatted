{
 "cells": [
  {
   "cell_type": "markdown",
   "metadata": {},
   "source": [
    "#### RegEx : Regular Expression"
   ]
  },
  {
   "cell_type": "markdown",
   "metadata": {},
   "source": [
    "RegEx หรือ Regular Expression เป็นลำดับของตัวอักษรที่ใช้ในการทำ search pattern \r\n",
    "\r\n",
    "สามารถใช้ RegEx ในการตรวจสอบว่า string ตัวนี้ประกอบไปด้วยตัวอักษรตามใน search pattern หรือไม่"
   ]
  },
  {
   "cell_type": "markdown",
   "metadata": {},
   "source": [
    "###### RegEx Module\r\n",
    "\r\n",
    "RegEx module ใน Python มีชื่อว่า re \r\n",
    "\r\n",
    "ให้ใช้คำสั่ง import re เพื่อใช้งาน module re"
   ]
  },
  {
   "cell_type": "code",
   "execution_count": 1,
   "metadata": {},
   "outputs": [],
   "source": [
    "import re"
   ]
  },
  {
   "cell_type": "markdown",
   "metadata": {},
   "source": [
    "###### ตัวอย่าง\r\n",
    "\r\n",
    "ค้นหาดูว่า string ตัวนี้ขึ้นต้นด้วย \"The\" และลงท้ายด้วย \"Spain\" หรือไม่"
   ]
  },
  {
   "cell_type": "code",
   "execution_count": 4,
   "metadata": {},
   "outputs": [],
   "source": [
    "import re\r\n",
    "\r\n",
    "txt = \"The rain in Spain\"\r\n",
    "x = re.search(\"^The.*Spain$\", txt)"
   ]
  },
  {
   "cell_type": "markdown",
   "metadata": {},
   "source": [
    "###### Special Sequences\r\n",
    "\r\n",
    "เป็นตัวอักษรที่ตามด้วย `\\` จะมีความหมายพิเศษดังนี้\r\n",
    "\r\n",
    "`\\A` จะให้ผลลัพธ์เป็น match ถ้าตัวอักษรที่ระบุอยู่ที่จุดเริ่มต้นของ string เช่น \"\\AThe\"\r\n",
    "\r\n",
    "`\\b` จะให้ผลลัพธ์เป็น match ถ้าตัวอักษรที่ระบุอยู่ที่จุดเริ่มต้นหรือจุดสิ้นสุดของคำ เช่น \"\\bain\"\r\n",
    "\r\n",
    "`\\B` จะให้ผลลัพธ์เป็น match ถ้าตัวอักษรที่ระบุมีอยู่ใน string แต่ต้องไม่อยู่ที่จุดเริ่มต้นหรือจุดสิ้นสุดของคำ เช่น \"\\Bain\"\r\n",
    "\r\n",
    "`\\d` จะให้ผลลัพธ์เป็น match ถ้า string มีตัวเลข 0-9 อยู่ \"\\d\"\t\r\n",
    "\r\n",
    "`\\D` จะให้ผลลัพธ์เป็น match ถ้า string มีตัวเลข 0-9 อยู่ \"\\D\"\r\n",
    "\r\n",
    "`\\s` จะให้ผลลัพธ์เป็น match ถ้า string นั้นมี white space อยู่ \"\\s\"\t\r\n",
    "\r\n",
    "`\\S` จะให้ผลลัพธ์เป็น match ถ้า string นั้นไม่มี white space อยู่ \"\\S\"\r\n",
    "\r\n",
    "`\\w` จะให้ผลลัพธ์เป็น match ถ้า string นั้นมี word characters ตัวใดก็ได้ (a-z, 0-9 และ underscore) \"\\w\"\t\r\n",
    "\r\n",
    "`\\W` จะให้ผลลัพธ์เป็น match ถ้า string นั้นไม่มี word characters ตัวใดก็ได้ (a-z, 0-9 และ underscore) \"\\W\"\r\n",
    "\r\n",
    "`\\Z` จะให้ผลลัพธ์เป็น match ถ้าตัวอักษรที่ระบุอยู่ที่จุดสิ้นสุดของ string"
   ]
  },
  {
   "cell_type": "markdown",
   "metadata": {},
   "source": [
    "###### RegEx Functions\r\n",
    "\r\n",
    "ภายใน module มีฟังก์ชั่นที่ช่วยในการ search string หลายฟังก์ชั่น เช่น findall(), search(), split(), sub()"
   ]
  },
  {
   "cell_type": "markdown",
   "metadata": {},
   "source": [
    "###### findall()\r\n",
    "\r\n",
    "ฟังก์ชั่น findall() จะให้ผลลัพธ์เป็น list ของการ match ทั้งหมดที่พบ\r\n",
    "\r\n",
    "ถ้าไม่พบการ match จะได้ผลลัพธ์เป็น empty list"
   ]
  },
  {
   "cell_type": "markdown",
   "metadata": {},
   "source": [
    "###### ตัวอย่าง"
   ]
  },
  {
   "cell_type": "code",
   "execution_count": 7,
   "metadata": {},
   "outputs": [
    {
     "name": "stdout",
     "output_type": "stream",
     "text": [
      "['เพื่อน', 'เพื่อน']\n",
      "[]\n"
     ]
    }
   ],
   "source": [
    "import re\r\n",
    "\r\n",
    "txt = \"เพื่อนเล่นอย่าเล่นเพื่อน\"\r\n",
    "x = re.findall(\"เพื่อน\", txt)\r\n",
    "print(x)\r\n",
    "\r\n",
    "y = re.findall(\"แฟน\", txt)\r\n",
    "print(y)"
   ]
  },
  {
   "cell_type": "markdown",
   "metadata": {},
   "source": [
    "###### search()\r\n",
    "\r\n",
    "ฟังก์ชั่น search() จะค้นหา match และให้ผลลัพธ์เป็น match แรกเพียงตัวเดียว แม้ว่าในประโยคจะมีจำนวน match มีมากกว่าหนึ่งครั้งก็ตาม"
   ]
  },
  {
   "cell_type": "markdown",
   "metadata": {},
   "source": [
    "###### ตัวอย่าง\r\n",
    "\r\n",
    "ค้นหา white space ตัวแรกใน string \r\n",
    "\r\n",
    "ุถ้าไม่พบ white space จะได้ผลลัพธ์เป็น None"
   ]
  },
  {
   "cell_type": "code",
   "execution_count": 15,
   "metadata": {},
   "outputs": [
    {
     "name": "stdout",
     "output_type": "stream",
     "text": [
      "white space ตัวแรกอยู่ที่ตัวอักษรตำแหน่งที่  26\n",
      "None\n"
     ]
    }
   ],
   "source": [
    "import re\r\n",
    "\r\n",
    "txt = \"ไม่อยากรู้ว่าตัวเองเป็นใคร ไม่อยากรู้ว่าเคยรักใคร\"\r\n",
    "x = re.search(\"\\s\", txt)\r\n",
    "\r\n",
    "print(\"white space ตัวแรกอยู่ที่ตัวอักษรตำแหน่งที่ \", x.start())\r\n",
    "\r\n",
    "y = re.search(\"เธอ\", txt)\r\n",
    "print(y)"
   ]
  },
  {
   "cell_type": "markdown",
   "metadata": {},
   "source": [
    "###### split()\r\n",
    "\r\n",
    "ฟังก์ชั่น split() ให้ผลลัพธ์เป็น list ของ string ที่ถูกแบ่งตามแต่ละ match"
   ]
  },
  {
   "cell_type": "markdown",
   "metadata": {},
   "source": [
    "###### ตัวอย่าง\r\n",
    "Split ณ white-space character แต่ละตัว\r\n",
    "\r\n",
    "สามารถระบุ maxsplit parameter เพื่อกำหนดว่าจะให้มีการ split สูงสุดได้กี่ครั้ง โดยใส่ตัวเลขตามหลัง parameter ของ string ที่ต้องการ split"
   ]
  },
  {
   "cell_type": "code",
   "execution_count": 17,
   "metadata": {},
   "outputs": [
    {
     "name": "stdout",
     "output_type": "stream",
     "text": [
      "['The', 'rain', 'in', 'Spain']\n",
      "ถ้ากำหนด maxsplit = 1 ก็คือ ให้มีการ split เพียงครั้งเดียว\n",
      "['The', 'rain in Spain']\n"
     ]
    }
   ],
   "source": [
    "import re\r\n",
    "\r\n",
    "txt = \"The rain in Spain\"\r\n",
    "x = re.split(\"\\s\", txt)\r\n",
    "print(x)\r\n",
    "\r\n",
    "y = re.split(\"\\s\", txt, 1)\r\n",
    "print(\"ถ้ากำหนด maxsplit = 1 ก็คือ ให้มีการ split เพียงครั้งเดียว\")\r\n",
    "print(y)"
   ]
  },
  {
   "cell_type": "markdown",
   "metadata": {},
   "source": [
    "###### sub()\r\n",
    "\r\n",
    "function sub() จะแทนที่การ match ที่พบด้วยข้อความที่คุณกำหนด"
   ]
  },
  {
   "cell_type": "markdown",
   "metadata": {},
   "source": [
    "###### ตัวอย่าง\r\n",
    "\r\n",
    "แทนที่ white-space character ทุกตัวที่พบ ด้วยตัวเลข 7\r\n",
    "\r\n",
    "สามารถควบคุมว่าจะให้มีการแทนที่กี่ครั้ง โดยป้อน parameter ตามหลัง parameter ของ string ที่ต้องการแทนที่ "
   ]
  },
  {
   "cell_type": "code",
   "execution_count": 22,
   "metadata": {},
   "outputs": [
    {
     "name": "stdout",
     "output_type": "stream",
     "text": [
      "ชั่ว7ทีดี7หน\n",
      "ชั่ว7ทีดี หน\n"
     ]
    }
   ],
   "source": [
    "import re\r\n",
    "\r\n",
    "txt = \"ชั่ว ทีดี หน\"\r\n",
    "x = re.sub(\"\\s\", \"7\", txt)\r\n",
    "print(x)\r\n",
    "\r\n",
    "y = re.sub(\"\\s\", \"7\", txt, 1)\r\n",
    "print(y)"
   ]
  },
  {
   "cell_type": "markdown",
   "metadata": {},
   "source": [
    "###### Match Object\r\n",
    "\r\n",
    "Match Object เป็น object ที่มีข้อมูลเกี่ยวกับการ search และผลลัพธ์ของการ search\r\n",
    "\r\n",
    "ถ้าไม่มีการ match เกิดขึ้น จะได้ผลลัพธ์เป็น None แทนที่จะเป็น Match Object"
   ]
  },
  {
   "cell_type": "markdown",
   "metadata": {},
   "source": [
    "###### ตัวอย่าง"
   ]
  },
  {
   "cell_type": "code",
   "execution_count": 23,
   "metadata": {},
   "outputs": [
    {
     "name": "stdout",
     "output_type": "stream",
     "text": [
      "<re.Match object; span=(6, 10), match='หลอก'>\n"
     ]
    }
   ],
   "source": [
    "import re\r\n",
    "\r\n",
    "txt = \"รู้เขาหลอกแต่เต็มใจให้หลอก\"\r\n",
    "x = re.search(\"หลอก\", txt)\r\n",
    "print(x)"
   ]
  },
  {
   "cell_type": "markdown",
   "metadata": {},
   "source": [
    "Match object มี properties และ methods ให้เรียกใช้ เพื่อเข้าถึงข้อมูลต่าง ๆ เกี่ยวกับการ search\r\n",
    "\r\n",
    ".span() ให้ผลลัพธ์เป็น tuple ระบุตำแหน่งเริ่มต้นและสิ้นสุดของ match ที่ได้\r\n",
    "\r\n",
    ".string ให้ผลลัพธ์เป็น string ที่ส่งเข้ามาใน function\r\n",
    "\r\n",
    ".group() ให้ผลลัพธ์เป็น string ตัวที่ match"
   ]
  },
  {
   "cell_type": "markdown",
   "metadata": {},
   "source": [
    "###### ตัวอย่าง\r\n",
    "\r\n",
    "Print ตำแหน่งเริ่มต้นและสิ้นสุดของ match ตัวแรกที่พบ\r\n",
    "\r\n",
    "Regular expression ในตัวอย่างจะมองหาคำที่ขึ้นต้นด้วย S ตัวพิมพ์ใหญ่"
   ]
  },
  {
   "cell_type": "code",
   "execution_count": 24,
   "metadata": {},
   "outputs": [
    {
     "name": "stdout",
     "output_type": "stream",
     "text": [
      "(14, 21)\n"
     ]
    }
   ],
   "source": [
    "import re\r\n",
    "\r\n",
    "txt = \"Everything is Science\"\r\n",
    "x = re.search(r\"\\bS\\w+\", txt)\r\n",
    "print(x.span())"
   ]
  },
  {
   "cell_type": "markdown",
   "metadata": {},
   "source": [
    "###### ตัวอย่าง\r\n",
    "\r\n",
    "Print string ที่ส่งเข้ามาใน function"
   ]
  },
  {
   "cell_type": "code",
   "execution_count": 26,
   "metadata": {},
   "outputs": [
    {
     "name": "stdout",
     "output_type": "stream",
     "text": [
      "Everything is Science\n"
     ]
    }
   ],
   "source": [
    "import re\r\n",
    "\r\n",
    "txt = \"Everything is Science\"\r\n",
    "x = re.search(r\"\\bS\\w+\", txt)\r\n",
    "print(x.string)"
   ]
  },
  {
   "cell_type": "markdown",
   "metadata": {},
   "source": [
    "###### ตัวอย่าง\r\n",
    "\r\n",
    "Print บางส่วนของ string ที่มีการ match เกิดขึ้น\r\n",
    "\r\n",
    "ถ้าไม่พบการ match ก็จะให้ผลลัพธ์เป็น None"
   ]
  },
  {
   "cell_type": "code",
   "execution_count": 27,
   "metadata": {},
   "outputs": [
    {
     "name": "stdout",
     "output_type": "stream",
     "text": [
      "Science\n"
     ]
    }
   ],
   "source": [
    "import re\r\n",
    "\r\n",
    "txt = \"Everything is Science\"\r\n",
    "x = re.search(r\"\\bS\\w+\", txt)\r\n",
    "print(x.group())"
   ]
  }
 ],
 "metadata": {
  "interpreter": {
   "hash": "00034aa5cd6c44013b830fd98c7a620a61a498e75425ca81fcc1166b84a69895"
  },
  "kernelspec": {
   "display_name": "Python 3.8.5 64-bit ('base': conda)",
   "name": "python3"
  },
  "language_info": {
   "codemirror_mode": {
    "name": "ipython",
    "version": 3
   },
   "file_extension": ".py",
   "mimetype": "text/x-python",
   "name": "python",
   "nbconvert_exporter": "python",
   "pygments_lexer": "ipython3",
   "version": "3.8.5"
  }
 },
 "nbformat": 4,
 "nbformat_minor": 2
}
