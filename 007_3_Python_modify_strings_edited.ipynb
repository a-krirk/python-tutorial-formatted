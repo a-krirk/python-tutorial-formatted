{
 "cells": [
  {
   "cell_type": "markdown",
   "metadata": {},
   "source": [
    "#### การแก้ไข Strings"
   ]
  },
  {
   "cell_type": "markdown",
   "metadata": {},
   "source": [
    "Python มี built-in methods หลายตัวที่ใช้งานกับ strings ได้"
   ]
  },
  {
   "cell_type": "markdown",
   "metadata": {},
   "source": [
    "###### เปลี่ยนตัวอักษรเป็นตัวพิมพ์ใหญ่"
   ]
  },
  {
   "cell_type": "markdown",
   "metadata": {},
   "source": [
    "###### ตัวอย่าง \r\n",
    "\r\n",
    "สามารถใช้ method upper() เพื่อเปลี่ยนตัวอักษรให้กลายเป็นตัวพิมพ์ใหญ่ทั้งหมด"
   ]
  },
  {
   "cell_type": "code",
   "execution_count": 1,
   "metadata": {},
   "outputs": [
    {
     "name": "stdout",
     "output_type": "stream",
     "text": [
      "DATA SCIENTIST\n"
     ]
    }
   ],
   "source": [
    "a = \"data scientist\"\r\n",
    "print(a.upper())"
   ]
  },
  {
   "cell_type": "markdown",
   "metadata": {},
   "source": [
    "###### เปลี่ยนตัวอักษรเป็นตัวพิมพ์เล็ก"
   ]
  },
  {
   "cell_type": "markdown",
   "metadata": {},
   "source": [
    "###### ตัวอย่าง\r\n",
    "\r\n",
    "สามารถใช้ method lower() เพื่อเปลี่ยนตัวอักษรให้กลายเป็นตัวพิมพ์เล็กทั้งหมด\r\n"
   ]
  },
  {
   "cell_type": "code",
   "execution_count": 2,
   "metadata": {},
   "outputs": [
    {
     "name": "stdout",
     "output_type": "stream",
     "text": [
      "recommendation system\n"
     ]
    }
   ],
   "source": [
    "b = \"Recommendation System\"\r\n",
    "print(b.lower())"
   ]
  },
  {
   "cell_type": "markdown",
   "metadata": {},
   "source": [
    "###### กำจัด Whitespace ออกไป"
   ]
  },
  {
   "cell_type": "markdown",
   "metadata": {},
   "source": [
    "###### ตัวอย่าง\r\n",
    "\r\n",
    "สามารถใช้ method strip() เพื่อกำจัด whitespace ออกไปจากจุดเริ่มต้นหรือจุดจบของ string"
   ]
  },
  {
   "cell_type": "code",
   "execution_count": 3,
   "metadata": {},
   "outputs": [
    {
     "name": "stdout",
     "output_type": "stream",
     "text": [
      "Machine Learning\n"
     ]
    }
   ],
   "source": [
    "c = \"      Machine Learning     \"\r\n",
    "print(c.strip())"
   ]
  },
  {
   "cell_type": "markdown",
   "metadata": {},
   "source": [
    "###### การแทนที่ String"
   ]
  },
  {
   "cell_type": "markdown",
   "metadata": {},
   "source": [
    "###### ตัวอย่าง\r\n",
    "\r\n",
    "สามารถใช้ method replace() เพื่อแทนที่ string ด้วย string อีกตัวหนึ่งได้"
   ]
  },
  {
   "cell_type": "code",
   "execution_count": 4,
   "metadata": {},
   "outputs": [
    {
     "name": "stdout",
     "output_type": "stream",
     "text": [
      "Smart Toy\n"
     ]
    }
   ],
   "source": [
    "d = \"Smart Boy\"\r\n",
    "print(d.replace(\"B\", \"T\"))"
   ]
  },
  {
   "cell_type": "markdown",
   "metadata": {},
   "source": [
    "###### Split String"
   ]
  },
  {
   "cell_type": "markdown",
   "metadata": {},
   "source": [
    "###### ตัวอย่าง\r\n",
    "\r\n",
    "สามารถใช้ method split() เพื่อแบ่ง String ออกเป็นส่วน ๆ โดยใช้ separator ที่ระบุ ซึ่งจะได้ผลลัพธ์ออกมาเป็น list"
   ]
  },
  {
   "cell_type": "code",
   "execution_count": 6,
   "metadata": {},
   "outputs": [
    {
     "name": "stdout",
     "output_type": "stream",
     "text": [
      "['แอปเปิ้ล', 'มะละกอ', 'กล้วย', 'ส้ม']\n"
     ]
    }
   ],
   "source": [
    "e = \"แอปเปิ้ล,มะละกอ,กล้วย,ส้ม\"\r\n",
    "print(e.split(\",\")) # returns ['แอปเปิ้ล', 'มะละกอ', 'กล้วย', 'ส้ม']"
   ]
  }
 ],
 "metadata": {
  "interpreter": {
   "hash": "8a42e8581704d812f174276cadf47b91a8b3cbce976324507688b69a62b18c0b"
  },
  "kernelspec": {
   "display_name": "Python 3.8.2 32-bit",
   "name": "python3"
  },
  "language_info": {
   "codemirror_mode": {
    "name": "ipython",
    "version": 3
   },
   "file_extension": ".py",
   "mimetype": "text/x-python",
   "name": "python",
   "nbconvert_exporter": "python",
   "pygments_lexer": "ipython3",
   "version": "3.8.2"
  }
 },
 "nbformat": 4,
 "nbformat_minor": 2
}
