{
 "cells": [
  {
   "cell_type": "markdown",
   "metadata": {
    "id": "syUlJ_oeJdhg"
   },
   "source": [
    "#### การเชื่อม Tuples"
   ]
  },
  {
   "cell_type": "markdown",
   "metadata": {
    "id": "_3uI8M3PJdhl"
   },
   "source": [
    "เราสามารถเชื่อม tuple เข้าด้วยกันโดยใช้เครื่องหมาย + \r\n"
   ]
  },
  {
   "cell_type": "markdown",
   "metadata": {
    "id": "svexfFWJJdhm"
   },
   "source": [
    "###### ตัวอย่าง\r\n",
    "เชื่อม 2 tuple"
   ]
  },
  {
   "cell_type": "code",
   "execution_count": 1,
   "metadata": {
    "id": "eJsKYfDBJdhn",
    "outputId": "34610e1c-1b1e-4191-c885-91c50b057a8e"
   },
   "outputs": [
    {
     "name": "stdout",
     "output_type": "stream",
     "text": [
      "('B', 'O', 'T', 'N', 'O', 'I')\n"
     ]
    }
   ],
   "source": [
    "tuple1 = (\"B\", \"O\" , \"T\")\r\n",
    "tuple2 = (\"N\", \"O\", \"I\")\r\n",
    "\r\n",
    "tuple3 = tuple1 + tuple2\r\n",
    "print(tuple3)"
   ]
  },
  {
   "cell_type": "markdown",
   "metadata": {
    "id": "G522CcNzJdhp"
   },
   "source": [
    "###### การคูณ Tuples\r\n",
    "ถ้าหากต้องการเพิ่มเนื้อหาของ tuple ตามจำนวนครั้งที่กำหนด สามารถใช้เครื่องหมาย *\r\n"
   ]
  },
  {
   "cell_type": "markdown",
   "metadata": {
    "id": "LbVByGQeJdhp"
   },
   "source": [
    "###### ตัวอย่าง\r\n",
    "เพิ่มจำนวนเนื้อหาของ food tuple 3 ครั้ง\r\n"
   ]
  },
  {
   "cell_type": "code",
   "execution_count": 2,
   "metadata": {
    "id": "SlHcOCBOJdhq",
    "outputId": "da68369b-877f-4545-81e8-b487bc256874"
   },
   "outputs": [
    {
     "name": "stdout",
     "output_type": "stream",
     "text": [
      "('Sushi', 'Burger', 'Salad', 'Sushi', 'Burger', 'Salad', 'Sushi', 'Burger', 'Salad')\n"
     ]
    }
   ],
   "source": [
    "food = (\"Sushi\", \"Burger\", \"Salad\")\r\n",
    "mytuple = food * 3\r\n",
    "\r\n",
    "print(mytuple)"
   ]
  }
 ],
 "metadata": {
  "colab": {
   "name": "011_6_Python_Join_Tuples.ipynb",
   "provenance": []
  },
  "interpreter": {
   "hash": "8a42e8581704d812f174276cadf47b91a8b3cbce976324507688b69a62b18c0b"
  },
  "kernelspec": {
   "display_name": "Python 3.8.2 32-bit",
   "name": "python3"
  },
  "language_info": {
   "codemirror_mode": {
    "name": "ipython",
    "version": 3
   },
   "file_extension": ".py",
   "mimetype": "text/x-python",
   "name": "python",
   "nbconvert_exporter": "python",
   "pygments_lexer": "ipython3",
   "version": "3.8.2"
  }
 },
 "nbformat": 4,
 "nbformat_minor": 2
}
