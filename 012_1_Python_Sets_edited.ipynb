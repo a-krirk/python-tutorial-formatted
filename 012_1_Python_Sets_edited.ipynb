{
 "cells": [
  {
   "cell_type": "markdown",
   "metadata": {
    "id": "2FkExhFIoNY8"
   },
   "source": [
    "#### Sets"
   ]
  },
  {
   "cell_type": "markdown",
   "metadata": {
    "id": "6XUZFN6tn75v"
   },
   "source": [
    "Set ใช้เพื่อเก็บหลายรายการในตัวแปรเดียว โดยไม่มีการกำหนดลำดับ และไม่มีการกำหนด index\r\n",
    "\r\n",
    "สามารถสร้าง set โดยใช้ `{}`"
   ]
  },
  {
   "cell_type": "code",
   "execution_count": null,
   "metadata": {
    "colab": {
     "base_uri": "https://localhost:8080/"
    },
    "executionInfo": {
     "elapsed": 421,
     "status": "ok",
     "timestamp": 1630381542291,
     "user": {
      "displayName": "Wachirawit Viriyaphisathan",
      "photoUrl": "https://lh3.googleusercontent.com/a-/AOh14GhpFNFOo2HRjyI36_HMPGhSHMfGYozwoiGMZBoPbA=s64",
      "userId": "03875063837227722804"
     },
     "user_tz": -420
    },
    "id": "LJBxqh5kodY2",
    "outputId": "fe7b3411-4feb-45bd-c7eb-a3ffaea14078"
   },
   "outputs": [
    {
     "name": "stdout",
     "output_type": "stream",
     "text": [
      "{'apple', 'banana', 'cherry'}\n"
     ]
    }
   ],
   "source": [
    "thisset = {\"mango\", \"banana\", \"coconut\"}\r\n",
    "print(thisset)"
   ]
  },
  {
   "cell_type": "markdown",
   "metadata": {
    "id": "3WHFf7Pmone1"
   },
   "source": [
    "###### Set Items"
   ]
  },
  {
   "cell_type": "markdown",
   "metadata": {
    "id": "6MGH3hPdt0nL"
   },
   "source": [
    "item ใน set จะไม่มีการกำหนดลำดับ (unordered) ไม่สามารถเปลี่ยนแปลงได้ (unchangeable) และไม่อนุญาตให้มีค่าที่ซ้ำกัน (duplicate values not allow)"
   ]
  },
  {
   "cell_type": "markdown",
   "metadata": {
    "id": "4qYqdoSorl-l"
   },
   "source": [
    "ไม่มีการกำหนดลำดับ (Unordered) : item ใน set จะไม่มีการกำหนดลำดับ ทำให้ item แต่ละตัวใน set อาจมีการแสดงผลที่แตกต่างกันทุกครั้งที่คุณใช้งาน และไม่สามารถอ้างอิงด้วย index หรือ key ได้\r\n",
    "\r\n",
    "ไม่สามารถเปลี่ยนแปลงได้ (Unchangeable) : item ใน set ไม่สามารถเปลี่ยนแปลงค่าภายหลังจากที่สร้าง set แล้ว\r\n",
    "\r\n",
    "\r\n",
    "ไม่อนุญาตให้มีค่าที่ซ้ำกัน (Duplicate values not allow) : set จะต้องไม่มีค่าที่ซ้ำกัน หากมีการใส่ค่าที่ซ้ำกัน ค่านั้นจะปรากฎเพียงครั้งเดียว"
   ]
  },
  {
   "cell_type": "code",
   "execution_count": 1,
   "metadata": {
    "colab": {
     "base_uri": "https://localhost:8080/"
    },
    "executionInfo": {
     "elapsed": 427,
     "status": "ok",
     "timestamp": 1630381545744,
     "user": {
      "displayName": "Wachirawit Viriyaphisathan",
      "photoUrl": "https://lh3.googleusercontent.com/a-/AOh14GhpFNFOo2HRjyI36_HMPGhSHMfGYozwoiGMZBoPbA=s64",
      "userId": "03875063837227722804"
     },
     "user_tz": -420
    },
    "id": "7ba04mJs27BJ",
    "outputId": "cdd634ea-1236-414c-866f-5bff48eddd88"
   },
   "outputs": [
    {
     "name": "stdout",
     "output_type": "stream",
     "text": [
      "{'apple', 'banana', 'coconut'}\n"
     ]
    }
   ],
   "source": [
    "thisset = {\"apple\", \"banana\", \"coconut\", \"apple\"}\r\n",
    "print(thisset)"
   ]
  },
  {
   "cell_type": "markdown",
   "metadata": {
    "id": "19FMz2VSzLrC"
   },
   "source": [
    "###### การหาค่าความยาวของ set"
   ]
  },
  {
   "cell_type": "markdown",
   "metadata": {
    "id": "iVZ3OrlM3GPd"
   },
   "source": [
    "สามารถใช้ len() เพื่อหาจำนวน item ภายใน set\r\n"
   ]
  },
  {
   "cell_type": "code",
   "execution_count": 2,
   "metadata": {
    "colab": {
     "base_uri": "https://localhost:8080/"
    },
    "executionInfo": {
     "elapsed": 468,
     "status": "ok",
     "timestamp": 1630381548082,
     "user": {
      "displayName": "Wachirawit Viriyaphisathan",
      "photoUrl": "https://lh3.googleusercontent.com/a-/AOh14GhpFNFOo2HRjyI36_HMPGhSHMfGYozwoiGMZBoPbA=s64",
      "userId": "03875063837227722804"
     },
     "user_tz": -420
    },
    "id": "c14ANZqU6aly",
    "outputId": "baf23210-d832-47fa-92c1-e24d897bb135"
   },
   "outputs": [
    {
     "name": "stdout",
     "output_type": "stream",
     "text": [
      "3\n"
     ]
    }
   ],
   "source": [
    "thisset = {\"apple\", \"coconut\", \"mango\"}\r\n",
    "print(len(thisset))"
   ]
  },
  {
   "cell_type": "markdown",
   "metadata": {
    "id": "DK12bVb46kE5"
   },
   "source": [
    "###### ชนิดของข้อมูลของ set"
   ]
  },
  {
   "cell_type": "markdown",
   "metadata": {
    "id": "k-BZk8r1PB8r"
   },
   "source": [
    "item ใน set สามารถเป็นข้อมูลชนิดใดก็ได้"
   ]
  },
  {
   "cell_type": "markdown",
   "metadata": {},
   "source": [
    "###### ตัวอย่าง"
   ]
  },
  {
   "cell_type": "code",
   "execution_count": 3,
   "metadata": {
    "id": "NVct2r_OPEAF"
   },
   "outputs": [],
   "source": [
    "set1 = {\"apple\", \"mango\", \"coconut\"}\r\n",
    "set2 = {1, 5, 8, 10, 3}\r\n",
    "set3 = {True, False, False}"
   ]
  },
  {
   "cell_type": "markdown",
   "metadata": {
    "id": "k7S8KETrPHwx"
   },
   "source": [
    "set สามารถมีข้อมูลหลายชนิดได้"
   ]
  },
  {
   "cell_type": "code",
   "execution_count": 4,
   "metadata": {
    "id": "C82A5ftzPIqu"
   },
   "outputs": [],
   "source": [
    "set1 = {\"นาย สมศักดิ์ ศักดิ์สม\", 34, True, 40, \"male\"}"
   ]
  },
  {
   "cell_type": "markdown",
   "metadata": {
    "id": "NIhZZyjB6uYk"
   },
   "source": [
    "###### type()"
   ]
  },
  {
   "cell_type": "markdown",
   "metadata": {
    "id": "0ZNDuxQnPfGJ"
   },
   "source": [
    "set มีชนิดของข้อมูลเป็น 'set'"
   ]
  },
  {
   "cell_type": "code",
   "execution_count": 5,
   "metadata": {
    "colab": {
     "base_uri": "https://localhost:8080/"
    },
    "executionInfo": {
     "elapsed": 421,
     "status": "ok",
     "timestamp": 1630381550487,
     "user": {
      "displayName": "Wachirawit Viriyaphisathan",
      "photoUrl": "https://lh3.googleusercontent.com/a-/AOh14GhpFNFOo2HRjyI36_HMPGhSHMfGYozwoiGMZBoPbA=s64",
      "userId": "03875063837227722804"
     },
     "user_tz": -420
    },
    "id": "TkBly3e4Phks",
    "outputId": "7bcf3eaf-6b62-468c-9e9a-eef10bb41836"
   },
   "outputs": [
    {
     "name": "stdout",
     "output_type": "stream",
     "text": [
      "<class 'set'>\n"
     ]
    }
   ],
   "source": [
    "myset = {\"apple\", \"mango\", \"coconut\"}\r\n",
    "print(type(myset))"
   ]
  },
  {
   "cell_type": "markdown",
   "metadata": {
    "id": "gR06Hw4i6vPU"
   },
   "source": [
    "###### set()"
   ]
  },
  {
   "cell_type": "markdown",
   "metadata": {
    "id": "jLYnCPbfPmdY"
   },
   "source": [
    "สามารถใช้ set() เพื่อสร้าง set จาก tuple "
   ]
  },
  {
   "cell_type": "code",
   "execution_count": 7,
   "metadata": {
    "colab": {
     "base_uri": "https://localhost:8080/"
    },
    "executionInfo": {
     "elapsed": 5,
     "status": "ok",
     "timestamp": 1630381550910,
     "user": {
      "displayName": "Wachirawit Viriyaphisathan",
      "photoUrl": "https://lh3.googleusercontent.com/a-/AOh14GhpFNFOo2HRjyI36_HMPGhSHMfGYozwoiGMZBoPbA=s64",
      "userId": "03875063837227722804"
     },
     "user_tz": -420
    },
    "id": "IB9LuXGTPp9r",
    "outputId": "73de6656-1883-42d0-a437-f7043eeda415"
   },
   "outputs": [
    {
     "name": "stdout",
     "output_type": "stream",
     "text": [
      "{'apple', 'coconut', 'mango'}\n",
      "<class 'set'>\n"
     ]
    }
   ],
   "source": [
    "thisset = set((\"apple\", \"mango\", \"coconut\")) # สังเกตุการใช้วงเล็บ2อันซ้อนกัน\r\n",
    "print(thisset)\r\n",
    "print(type(thisset))"
   ]
  },
  {
   "cell_type": "markdown",
   "metadata": {
    "id": "aHKYQrg1naQM"
   },
   "source": [
    "###### Python Collections"
   ]
  },
  {
   "cell_type": "markdown",
   "metadata": {
    "id": "q8xOyvWNnaQM"
   },
   "source": [
    "ใน Python มี Collections ของข้อมูล 4 ประเภท\r\n",
    "\r\n",
    "* `List` เป็น collection ที่มีการกำหนดลำดับของข้อมูลไว้ เปลี่ยนแปลงค่าได้ และสามารถมีสมาชิกที่ซ้ำกันได้\r\n",
    "* `Tuple` เป็น collection ที่ไม่มีการกำหนดลำดับของข้อมูลไว้ เปลี่ยนแปลงค่าไม่ได้ และสามารถมีสมาชิกที่ซ้ำกันได้\r\n",
    "* `set` เป็น collection ที่ไม่มีการกำหนดลำดับของข้อมูลไว้ ไม่มีการกำหนด index และไม่สามารถมีสมาชิกที่ซ้ำกันได้\r\n",
    "* `dictionary` เป็น collection ที่มีการกำหนดลำดับของข้อมูลไว้ เปลี่ยนแปลงค่าได้ และไม่สามารถมีสมาชิกที่ซ้ำกันได้\r\n",
    "\r\n",
    "ควรเลือกชนิดของ collection ให้เหมาะสมกับงานและการนำไปใช้ เพื่อความปลอดภัยของข้อมูลและประสิทธิภาพของ application \r\n"
   ]
  }
 ],
 "metadata": {
  "colab": {
   "collapsed_sections": [
    "2FkExhFIoNY8",
    "6XUZFN6tn75v",
    "3WHFf7Pmone1",
    "4qYqdoSorl-l",
    "mNXrIn39zHA9",
    "vtUXPcWZzKuK",
    "19FMz2VSzLrC",
    "DK12bVb46kE5",
    "NIhZZyjB6uYk",
    "gR06Hw4i6vPU",
    "CevM3m-36wRe"
   ],
   "name": "012_Python_Sets.ipynb",
   "provenance": [
    {
     "file_id": "1zGEzryzY-8X3orGID4GQgh8_ngVGiVXQ",
     "timestamp": 1630381031721
    },
    {
     "file_id": "1-eAGg9tPyYdkRd6R0xhPBfdVtwyLMWIY",
     "timestamp": 1630380612810
    },
    {
     "file_id": "1sVn9bVEnWLbtTPu4idRaMz-ZBXY1fG62",
     "timestamp": 1630340809849
    },
    {
     "file_id": "1YtwUjCetdLnR50UNYGnR1IAtH0W9ooO1",
     "timestamp": 1630337697384
    },
    {
     "file_id": "17XEX7PlOXBuY9UKKtSy1bB2_DdHBOg1P",
     "timestamp": 1630337226185
    }
   ]
  },
  "interpreter": {
   "hash": "00034aa5cd6c44013b830fd98c7a620a61a498e75425ca81fcc1166b84a69895"
  },
  "kernelspec": {
   "display_name": "Python 3.8.5 64-bit ('base': conda)",
   "name": "python3"
  },
  "language_info": {
   "codemirror_mode": {
    "name": "ipython",
    "version": 3
   },
   "file_extension": ".py",
   "mimetype": "text/x-python",
   "name": "python",
   "nbconvert_exporter": "python",
   "pygments_lexer": "ipython3",
   "version": "3.8.5"
  }
 },
 "nbformat": 4,
 "nbformat_minor": 2
}
