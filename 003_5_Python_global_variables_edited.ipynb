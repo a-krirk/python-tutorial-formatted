{
 "cells": [
  {
   "cell_type": "markdown",
   "metadata": {
    "id": "RsPbzQiFFLNI"
   },
   "source": [
    "#### ตัวแปรแบบ Global (Global Variables)"
   ]
  },
  {
   "cell_type": "markdown",
   "metadata": {
    "id": "T0oDzO-CFOGw"
   },
   "source": [
    "###### Global Variables\r\n",
    "ตัวแปรที่สร้างขึ้นภายนอก function เรียกว่า ตัวแปรแบบ global (global variables)\r\n",
    "\r\n",
    "ตัวแปรแบบ global สามารถเรียกใช้จากที่ไหนก็ได้ ทั้งจากภายในและภายนอก function"
   ]
  },
  {
   "cell_type": "markdown",
   "metadata": {
    "id": "lHFZkkKhFUhI"
   },
   "source": [
    "###### ตัวอย่าง\r\n",
    "ประกาศตัวแปรภายนอก function แต่เรียกใช้ภายใน function"
   ]
  },
  {
   "cell_type": "code",
   "execution_count": 1,
   "metadata": {
    "colab": {
     "base_uri": "https://localhost:8080/"
    },
    "id": "mIwk3fSaFaM9",
    "outputId": "6937076f-9e6d-4665-c922-7d8632ea1ce4"
   },
   "outputs": [
    {
     "name": "stdout",
     "output_type": "stream",
     "text": [
      "เรียน Python สนุกมาก\n"
     ]
    }
   ],
   "source": [
    "x = \"สนุกมาก\"\r\n",
    "\r\n",
    "def myfunc():\r\n",
    "  print(\"เรียน Python \" + x)\r\n",
    "\r\n",
    "myfunc()"
   ]
  },
  {
   "cell_type": "markdown",
   "metadata": {
    "id": "uOe8Q32wFni5"
   },
   "source": [
    "ถ้าประกาศตัวแปรไว้ใน function ด้วยชื่อเดียวกันกับตัวแปร global ตัวแปรใน function ดังกล่าวจะเป็นตัวแปรแบบ local\r\n",
    "\r\n",
    "และถูกใช้งานภายใน function เท่านั้น ซึ่งตัวแปรภายใน function จะไม่ทำให้ค่าของตัวแปร global เปลี่ยนไป"
   ]
  },
  {
   "cell_type": "markdown",
   "metadata": {
    "id": "CcyYF-uOFpnn"
   },
   "source": [
    "###### ตัวอย่าง\r\n",
    "สร้างตัวแปรภายใน function ที่มีชื่อเหมือนกับตัวแปร global"
   ]
  },
  {
   "cell_type": "code",
   "execution_count": 2,
   "metadata": {
    "colab": {
     "base_uri": "https://localhost:8080/"
    },
    "id": "XkjZk0YWFuyY",
    "outputId": "092877cd-019f-4887-f73b-a8bf2837a992"
   },
   "outputs": [
    {
     "name": "stdout",
     "output_type": "stream",
     "text": [
      "เรียน Python ง่ายกว่าที่คิด\n",
      "เรียน Python สนุกมาก\n"
     ]
    }
   ],
   "source": [
    "x = \"สนุกมาก\"\r\n",
    "\r\n",
    "def myfunc():\r\n",
    "  x = \"ง่ายกว่าที่คิด\"\r\n",
    "  print(\"เรียน Python \" + x)\r\n",
    "\r\n",
    "myfunc()\r\n",
    "\r\n",
    "print(\"เรียน Python \" + x)"
   ]
  },
  {
   "cell_type": "markdown",
   "metadata": {
    "id": "ajrNXWQmF3QH"
   },
   "source": [
    "###### การใช้ keyword คำว่า global\r\n",
    "โดยปกติแล้วถ้าประกาศตัวแปรภายใน function ตัวแปรนั้นจะเป็นตัวแปรแบบ local (local variable) และถูกเรียกใช้ได้เฉพาะภายใน function นั้น ๆ\r\n",
    "\r\n",
    "ถ้าต้องการประกาศตัวแปรแบบ global ภายใน function ให้ใช้ keyword คำว่า global ก่อนประกาศตัวแปร"
   ]
  },
  {
   "cell_type": "markdown",
   "metadata": {
    "id": "JNCbzIPkF8P_"
   },
   "source": [
    "###### ตัวอย่าง"
   ]
  },
  {
   "cell_type": "code",
   "execution_count": 3,
   "metadata": {
    "colab": {
     "base_uri": "https://localhost:8080/"
    },
    "id": "vyJz0F3lF-dK",
    "outputId": "217e2049-27a5-42de-abee-c7bb83a721be"
   },
   "outputs": [
    {
     "name": "stdout",
     "output_type": "stream",
     "text": [
      "เรียน Python สนุกมาก\n"
     ]
    }
   ],
   "source": [
    "def myfunc():\r\n",
    "  global x\r\n",
    "  x = \"สนุกมาก\"\r\n",
    "\r\n",
    "myfunc()\r\n",
    "\r\n",
    "print(\"เรียน Python \" + x)"
   ]
  },
  {
   "cell_type": "markdown",
   "metadata": {
    "id": "JvOatCWpG71z"
   },
   "source": [
    "ใช้ keyword คำว่า global ตามด้วยชื่อตัวแปรภายใน function ถ้าต้องการเปลี่ยนแปลงค่าตัวแปรภายใน function นั้นให้เป็นตัวแปรแบบ global"
   ]
  },
  {
   "cell_type": "markdown",
   "metadata": {
    "id": "iRMfyeFTG9KX"
   },
   "source": [
    "###### ตัวอย่าง"
   ]
  },
  {
   "cell_type": "code",
   "execution_count": 4,
   "metadata": {
    "colab": {
     "base_uri": "https://localhost:8080/"
    },
    "id": "XBOgIYjEHByy",
    "outputId": "c4339d5b-3b0b-4ba9-ec5e-c34d6f173f56"
   },
   "outputs": [
    {
     "name": "stdout",
     "output_type": "stream",
     "text": [
      "เรียน Python ง่ายกว่าที่คิด\n"
     ]
    }
   ],
   "source": [
    "x = \"สนุกมาก\"\r\n",
    "\r\n",
    "def myfunc():\r\n",
    "  global x\r\n",
    "  x = \"ง่ายกว่าที่คิด\"\r\n",
    "\r\n",
    "myfunc()\r\n",
    "\r\n",
    "print(\"เรียน Python \" + x)"
   ]
  }
 ],
 "metadata": {
  "colab": {
   "name": "Python global variables.ipynb",
   "provenance": []
  },
  "interpreter": {
   "hash": "8a42e8581704d812f174276cadf47b91a8b3cbce976324507688b69a62b18c0b"
  },
  "kernelspec": {
   "display_name": "Python 3.8.2 32-bit",
   "name": "python3"
  },
  "language_info": {
   "codemirror_mode": {
    "name": "ipython",
    "version": 3
   },
   "file_extension": ".py",
   "mimetype": "text/x-python",
   "name": "python",
   "nbconvert_exporter": "python",
   "pygments_lexer": "ipython3",
   "version": "3.8.2"
  }
 },
 "nbformat": 4,
 "nbformat_minor": 2
}
