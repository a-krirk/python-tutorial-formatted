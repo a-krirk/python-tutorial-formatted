{
 "cells": [
  {
   "cell_type": "markdown",
   "metadata": {
    "id": "XsK5veUd_h0U"
   },
   "source": [
    "#### การ Copy List"
   ]
  },
  {
   "cell_type": "markdown",
   "metadata": {
    "id": "WXRIDjPH_h0s"
   },
   "source": [
    "เราไม่สามารถ copy ได้ง่าย ๆ ด้วยการพิมพ์  list2 = list1\r\n",
    "\r\n",
    "เพราะ list2 จะเป็นเพียงการอ้างถึง list1 เท่านั้น และทุกการเปลี่ยนแปลงใน list1 จะมีผลใน list2 อัตโนมัติ\r\n",
    "\r\n",
    "เราสามารถคัดลอก list ได้หลายวิธี ซึ่งหนึ่งในวิธีเหล่านั้น คือการใช้ method `copy()`"
   ]
  },
  {
   "cell_type": "markdown",
   "metadata": {
    "id": "NsuPoe6p_h0w"
   },
   "source": [
    "###### ตัวอย่าง\r\n",
    "การคัดลอก list ด้วย method `copy()`"
   ]
  },
  {
   "cell_type": "code",
   "execution_count": 1,
   "metadata": {
    "id": "gWh-b2TC_h00"
   },
   "outputs": [
    {
     "name": "stdout",
     "output_type": "stream",
     "text": [
      "['red', 'green', 'blue']\n"
     ]
    }
   ],
   "source": [
    "colors1 = [\"red\", \"green\", \"blue\"]\r\n",
    "colors2 = colors1.copy()\r\n",
    "print(colors2)"
   ]
  },
  {
   "cell_type": "markdown",
   "metadata": {
    "id": "jUzv_niM_h08"
   },
   "source": [
    "อีกวิธีที่ใช้ในการคัดลอก list คือการใช้ method `list()`"
   ]
  },
  {
   "cell_type": "markdown",
   "metadata": {
    "id": "RC8akE26_h0-"
   },
   "source": [
    "###### ตัวอย่าง\r\n",
    "การคัดลอก list ด้วย method `list()`"
   ]
  },
  {
   "cell_type": "code",
   "execution_count": 2,
   "metadata": {
    "id": "zssE5QJD_h1A"
   },
   "outputs": [
    {
     "name": "stdout",
     "output_type": "stream",
     "text": [
      "['red', 'green', 'blue']\n"
     ]
    }
   ],
   "source": [
    "colors1 = [\"red\", \"green\", \"blue\"]\r\n",
    "colors2 = list(colors1)\r\n",
    "print(colors2)"
   ]
  }
 ],
 "metadata": {
  "colab": {
   "collapsed_sections": [],
   "name": "010_09_Copy_Lists.ipynb",
   "provenance": []
  },
  "interpreter": {
   "hash": "00034aa5cd6c44013b830fd98c7a620a61a498e75425ca81fcc1166b84a69895"
  },
  "kernelspec": {
   "display_name": "Python 3.8.5 64-bit ('base': conda)",
   "name": "python3"
  },
  "language_info": {
   "codemirror_mode": {
    "name": "ipython",
    "version": 3
   },
   "file_extension": ".py",
   "mimetype": "text/x-python",
   "name": "python",
   "nbconvert_exporter": "python",
   "pygments_lexer": "ipython3",
   "version": "3.8.5"
  }
 },
 "nbformat": 4,
 "nbformat_minor": 2
}
