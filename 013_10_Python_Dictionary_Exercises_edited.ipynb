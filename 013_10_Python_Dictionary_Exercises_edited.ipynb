{
 "cells": [
  {
   "cell_type": "markdown",
   "metadata": {
    "id": "eSLZjqjfT-g4"
   },
   "source": [
    "#### แบบฝึกหัด Dictionary"
   ]
  },
  {
   "cell_type": "markdown",
   "metadata": {
    "id": "lI5KLWofT-hC"
   },
   "source": [
    "###### มาทดสอบความเข้าใจด้วยแบบฝึกหัดนี้กันเถอะ\n",
    "ตอนนี้คุณได้เรียนรู้เกี่ยวกับการใช้ dictionary ไปพอสมควรแล้ว\n",
    "\n",
    "พร้อมจะไปทำแบบทดสอบกันรึยังเอ่ย?\n"
   ]
  },
  {
   "cell_type": "markdown",
   "metadata": {
    "id": "rUZA8uDET-hE"
   },
   "source": [
    "###### แบบฝึกหัด\r\n",
    "ใช้ method `get()` เพื่อปริ้น value ของ key \"model\" ของ car dictionary"
   ]
  },
  {
   "cell_type": "code",
   "execution_count": null,
   "metadata": {
    "id": "-qduj0ifT-hE",
    "outputId": "eaa40e08-673b-4dc4-b6ec-ec7acb8e7b64"
   },
   "outputs": [
    {
     "name": "stdout",
     "output_type": "stream",
     "text": [
      "\n"
     ]
    }
   ],
   "source": [
    "car =\t{\r\n",
    "  \"brand\": \"Toyota\",\r\n",
    "  \"model\": \"Vios\",\r\n",
    "  \"year\": 2000\r\n",
    "}\r\n",
    "\r\n",
    "# เขียนโค้ดบรรทัดนี้ได้เลย จากนั้นแก้ไขการปริ้นผลลัพธ์ในบรรทัดต่อไปด้วยการแทนที่โค้ดของคุณใน __\r\n",
    "print(__)"
   ]
  }
 ],
 "metadata": {
  "colab": {
   "collapsed_sections": [],
   "name": "013_10_Python_Dictionary_Exercises.ipynb",
   "provenance": []
  },
  "interpreter": {
   "hash": "00034aa5cd6c44013b830fd98c7a620a61a498e75425ca81fcc1166b84a69895"
  },
  "kernelspec": {
   "display_name": "Python 3.8.5 64-bit",
   "name": "python3"
  },
  "language_info": {
   "codemirror_mode": {
    "name": "ipython",
    "version": 3
   },
   "file_extension": ".py",
   "mimetype": "text/x-python",
   "name": "python",
   "nbconvert_exporter": "python",
   "pygments_lexer": "ipython3",
   "version": "3.8.5"
  }
 },
 "nbformat": 4,
 "nbformat_minor": 2
}
