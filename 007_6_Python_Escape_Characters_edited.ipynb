{
 "cells": [
  {
   "cell_type": "markdown",
   "metadata": {
    "id": "LEWMr8Rqj5ZN"
   },
   "source": [
    "#### Escape Characters"
   ]
  },
  {
   "cell_type": "markdown",
   "metadata": {
    "id": "C0gpZF8Wj6b-"
   },
   "source": [
    "สามารถใช้ Escape characters \\ เพื่อใช้อักขระพิเศษต่าง ๆ "
   ]
  },
  {
   "cell_type": "markdown",
   "metadata": {
    "id": "VSG1ViFWj8r0"
   },
   "source": [
    "###### ตัวอย่าง\r\n",
    "\r\n",
    "ถ้าใช้ double quote ภายใน string โดยไม่ใส่ Escape characters จะเกิด error"
   ]
  },
  {
   "cell_type": "code",
   "execution_count": 6,
   "metadata": {
    "colab": {
     "base_uri": "https://localhost:8080/",
     "height": 135
    },
    "id": "bOK4y_e4kABL",
    "outputId": "b8f46be7-d98f-4b97-812a-7408c528c23f"
   },
   "outputs": [
    {
     "ename": "SyntaxError",
     "evalue": "invalid syntax (Temp/ipykernel_6952/1939025690.py, line 1)",
     "output_type": "error",
     "traceback": [
      "\u001b[1;36m  File \u001b[1;32m\"C:\\Users\\krirk\\AppData\\Local\\Temp/ipykernel_6952/1939025690.py\"\u001b[1;36m, line \u001b[1;32m1\u001b[0m\n\u001b[1;33m    sentence = \"อยากจะบอกเธอว่า \"รัก\" อยากจะฉุดรั้งเธอไว้\"\u001b[0m\n\u001b[1;37m                                 ^\u001b[0m\n\u001b[1;31mSyntaxError\u001b[0m\u001b[1;31m:\u001b[0m invalid syntax\n"
     ]
    }
   ],
   "source": [
    "sentence = \"อยากจะบอกเธอว่า \"รัก\" อยากจะฉุดรั้งเธอไว้\"\r\n",
    "print(sentence)"
   ]
  },
  {
   "cell_type": "markdown",
   "metadata": {
    "id": "EnUSGK7nkB7B"
   },
   "source": [
    "สามารถใช้ Escape characters \\ เพื่อใช้ double quotes ภายใน string"
   ]
  },
  {
   "cell_type": "markdown",
   "metadata": {
    "id": "_soC4EHdkD00"
   },
   "source": [
    "###### ตัวอย่าง"
   ]
  },
  {
   "cell_type": "code",
   "execution_count": null,
   "metadata": {
    "id": "lSKczVcakGNG"
   },
   "outputs": [
    {
     "name": "stdout",
     "output_type": "stream",
     "text": [
      "อยากจะบอกเธอว่า \"รัก\" อยากจะฉุดรั้งเธอไว้\n"
     ]
    }
   ],
   "source": [
    "sentence = \"อยากจะบอกเธอว่า \\\"รัก\\\" อยากจะฉุดรั้งเธอไว้\"\r\n",
    "print(sentence)"
   ]
  }
 ],
 "metadata": {
  "colab": {
   "name": "7.4Python - Escape Characters.ipynb",
   "provenance": []
  },
  "interpreter": {
   "hash": "00034aa5cd6c44013b830fd98c7a620a61a498e75425ca81fcc1166b84a69895"
  },
  "kernelspec": {
   "display_name": "Python 3.8.5 64-bit ('base': conda)",
   "name": "python3"
  },
  "language_info": {
   "codemirror_mode": {
    "name": "ipython",
    "version": 3
   },
   "file_extension": ".py",
   "mimetype": "text/x-python",
   "name": "python",
   "nbconvert_exporter": "python",
   "pygments_lexer": "ipython3",
   "version": "3.8.5"
  }
 },
 "nbformat": 4,
 "nbformat_minor": 2
}
