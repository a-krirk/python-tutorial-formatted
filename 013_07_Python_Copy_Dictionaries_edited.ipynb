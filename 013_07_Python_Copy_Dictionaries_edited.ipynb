{
 "cells": [
  {
   "cell_type": "markdown",
   "metadata": {
    "id": "89aFrrErWGHB"
   },
   "source": [
    "#### การคัดลอก Dictionary"
   ]
  },
  {
   "cell_type": "markdown",
   "metadata": {
    "id": "7_rDTdgEWGHG"
   },
   "source": [
    "เราไม่สามารถคัดลอก dictionary โดยการใช้เครื่องหมายเท่ากับ เช่น  dict2 = dict1\r\n",
    "\r\n",
    "เพราะ dict2 จะอ้างอิงกับ dict1 และการเปลี่ยนแปลงที่เกิดขึ้นใน dict1 จะลงผลกับ dict2 อัตโนมัติ"
   ]
  },
  {
   "cell_type": "markdown",
   "metadata": {
    "id": "2D4jhszJWGHH"
   },
   "source": [
    "###### ตัวอย่าง\r\n",
    "ใช้ method `copy()` คัดลอก dictionary"
   ]
  },
  {
   "cell_type": "code",
   "execution_count": 1,
   "metadata": {
    "id": "gCWqcLnEWGHH",
    "outputId": "ec89644a-2973-4fe8-a395-8e9943a08ad1"
   },
   "outputs": [
    {
     "name": "stdout",
     "output_type": "stream",
     "text": [
      "{'brand': 'Honda', 'model': 'City', 'year': 2020}\n"
     ]
    }
   ],
   "source": [
    "thisdict = {\r\n",
    "  \"brand\": \"Honda\",\r\n",
    "  \"model\": \"City\",\r\n",
    "  \"year\": 2020\r\n",
    "}\r\n",
    "mydict = thisdict.copy()\r\n",
    "print(mydict)"
   ]
  },
  {
   "cell_type": "markdown",
   "metadata": {
    "id": "GhKYj1uxWGHJ"
   },
   "source": [
    "ใช้ built-in function `dict()` คัดลอก dictionary ได้เช่นกัน"
   ]
  },
  {
   "cell_type": "markdown",
   "metadata": {
    "id": "mS2lKU7QWGHK"
   },
   "source": [
    "###### ตัวอย่าง\r\n",
    "ใช้ function `dict()` คัดลอก dictionary "
   ]
  },
  {
   "cell_type": "code",
   "execution_count": 2,
   "metadata": {
    "id": "vhTDbLO6WGHK",
    "outputId": "4b4a8b47-0ed6-4e95-d1cf-0540779fde17"
   },
   "outputs": [
    {
     "name": "stdout",
     "output_type": "stream",
     "text": [
      "{'brand': 'Honda', 'model': 'City', 'year': 2020}\n"
     ]
    }
   ],
   "source": [
    "thisdict = {\r\n",
    "  \"brand\": \"Honda\",\r\n",
    "  \"model\": \"City\",\r\n",
    "  \"year\": 2020\r\n",
    "}\r\n",
    "mydict = dict(thisdict)\r\n",
    "print(mydict)"
   ]
  }
 ],
 "metadata": {
  "colab": {
   "collapsed_sections": [],
   "name": "013_07_Python_Copy_Dictionaries.ipynb",
   "provenance": []
  },
  "interpreter": {
   "hash": "00034aa5cd6c44013b830fd98c7a620a61a498e75425ca81fcc1166b84a69895"
  },
  "kernelspec": {
   "display_name": "Python 3.8.5 64-bit ('base': conda)",
   "name": "python3"
  },
  "language_info": {
   "codemirror_mode": {
    "name": "ipython",
    "version": 3
   },
   "file_extension": ".py",
   "mimetype": "text/x-python",
   "name": "python",
   "nbconvert_exporter": "python",
   "pygments_lexer": "ipython3",
   "version": "3.8.5"
  }
 },
 "nbformat": 4,
 "nbformat_minor": 2
}
