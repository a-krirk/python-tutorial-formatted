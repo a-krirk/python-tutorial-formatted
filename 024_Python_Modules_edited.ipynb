{
 "cells": [
  {
   "cell_type": "markdown",
   "metadata": {
    "id": "2FkExhFIoNY8"
   },
   "source": [
    "#### Module"
   ]
  },
  {
   "cell_type": "markdown",
   "metadata": {
    "id": "_fzw-I-wVWyH"
   },
   "source": [
    "อาจมองว่า module เป็นเหมือนกับ library ตัวหนึ่ง คือ เป็นไฟล์ที่รวบรวมฟังก์ชั่นต่าง ๆ ที่เราต้องการใช้งานเอาไว้"
   ]
  },
  {
   "cell_type": "markdown",
   "metadata": {
    "id": "6XUZFN6tn75v"
   },
   "source": [
    "###### การสร้าง Module"
   ]
  },
  {
   "cell_type": "markdown",
   "metadata": {
    "id": "Pi4B7jk_nZkJ"
   },
   "source": [
    "สามารถสร้าง module เพื่อบันทึก code ที่เราต้องการไว้ในไฟล์ `.py`\r\n"
   ]
  },
  {
   "cell_type": "markdown",
   "metadata": {
    "id": "WXiPhzhRYj2_"
   },
   "source": [
    "###### ตัวอย่าง\r\n",
    "\r\n",
    "บันทึก code นี้เป็นไฟล์ mymodule.py\r\n"
   ]
  },
  {
   "cell_type": "code",
   "execution_count": null,
   "metadata": {
    "id": "LJBxqh5kodY2"
   },
   "outputs": [],
   "source": [
    "def Food(menu):\r\n",
    "  print(\"I'd like \" + menu)"
   ]
  },
  {
   "cell_type": "markdown",
   "metadata": {
    "id": "3WHFf7Pmone1"
   },
   "source": [
    "###### การเรียกใช้ Module"
   ]
  },
  {
   "cell_type": "markdown",
   "metadata": {
    "id": "6MGH3hPdt0nL"
   },
   "source": [
    "ตอนนี้เราสามารถเรียกใช้ module ที่สร้างไปข้างต้นโดยการใช้คำสั่ง import"
   ]
  },
  {
   "cell_type": "code",
   "execution_count": null,
   "metadata": {
    "id": "zclqdMSMVn60"
   },
   "outputs": [],
   "source": [
    "import mymodule\r\n",
    "\r\n",
    "mymodule.Food(\"Sushi\")"
   ]
  },
  {
   "cell_type": "markdown",
   "metadata": {
    "id": "4qYqdoSorl-l"
   },
   "source": [
    "###### ตัวแปรใน Module"
   ]
  },
  {
   "cell_type": "markdown",
   "metadata": {
    "id": "gRCHxfzIzkAB"
   },
   "source": [
    "นอกจากจะใช้ module ในการเก็บ functions ต่าง ๆ ตามตัวอย่างข้างต้นแล้ว ยังสามารถใช้ module ในการเก็บตัวแปรต่าง ๆ ได้ (ได้ทุกชนิดของข้อมูล)"
   ]
  },
  {
   "cell_type": "markdown",
   "metadata": {
    "id": "LU7dmDWfMULx"
   },
   "source": [
    "###### ตัวอย่าง\r\n",
    "\r\n",
    "บันทึก code เป็นไฟล์ชื่อ mymodule.py\r\n"
   ]
  },
  {
   "cell_type": "code",
   "execution_count": null,
   "metadata": {
    "id": "njorQVEKVxF8"
   },
   "outputs": [],
   "source": [
    "menu1 = {\r\n",
    "  \"menu\": \"Sushi\",\r\n",
    "  \"price\": 36,\r\n",
    "  \"nationality\": \"Japanese\"\r\n",
    "}"
   ]
  },
  {
   "cell_type": "markdown",
   "metadata": {
    "id": "KDLaZf0jMdD3"
   },
   "source": [
    "ใช้คำสั่ง import mymodule แล้วจะสามารถเข้าถึง dictionary menu1 ได้ :\r\n"
   ]
  },
  {
   "cell_type": "code",
   "execution_count": null,
   "metadata": {
    "id": "ufdRsE7AMfgO"
   },
   "outputs": [],
   "source": [
    "import mymodule\r\n",
    "\r\n",
    "a = mymodule.menu1[\"price\"]\r\n",
    "print(a)"
   ]
  },
  {
   "cell_type": "markdown",
   "metadata": {
    "id": "mNXrIn39zHA9"
   },
   "source": [
    "###### การตั้งชื่อ Module"
   ]
  },
  {
   "cell_type": "markdown",
   "metadata": {
    "id": "Wpcmkrow2SMl"
   },
   "source": [
    "เราสามารถตั้งชื่อ module ได้ตามที่ต้องการ แต่ไฟล์นั้นจำเป็นที่จะต้องมีนามสกุล `.py`"
   ]
  },
  {
   "cell_type": "markdown",
   "metadata": {
    "id": "vtUXPcWZzKuK"
   },
   "source": [
    "###### การเปลี่ยนชื่อ Module"
   ]
  },
  {
   "cell_type": "markdown",
   "metadata": {
    "id": "TUeOR-JC2sIW"
   },
   "source": [
    "เราสามารถสร้างนามแฝงให้ module ได้ตอนเรา import module โดยการใช้คำสั่ง as :\n"
   ]
  },
  {
   "cell_type": "markdown",
   "metadata": {
    "id": "n5x0vz-vNIFQ"
   },
   "source": [
    "###### ตัวอย่าง\r\n",
    "สร้างนามแฝงให้กับ mymodule โดยตั้งชื่อว่า mm :"
   ]
  },
  {
   "cell_type": "code",
   "execution_count": null,
   "metadata": {
    "id": "7ba04mJs27BJ"
   },
   "outputs": [],
   "source": [
    "import mymodule as mm\r\n",
    "\r\n",
    "a = mm.menu1[\"price\"]\r\n",
    "print(a)"
   ]
  },
  {
   "cell_type": "markdown",
   "metadata": {
    "id": "poBNSWCSM_9p"
   },
   "source": [
    "###### Built-in Modules"
   ]
  },
  {
   "cell_type": "markdown",
   "metadata": {
    "id": "P7oB4c7JNdlZ"
   },
   "source": [
    "มี built-in modules หลายตัวใน python ที่เราสามารถ import มาใช้งานได้ตามต้องการ\n",
    "\n"
   ]
  },
  {
   "cell_type": "markdown",
   "metadata": {
    "id": "HafZ8YhCNjCi"
   },
   "source": [
    "###### ตัวอย่าง\r\n",
    "\r\n",
    "import platform เข้ามาใช้งาน"
   ]
  },
  {
   "cell_type": "code",
   "execution_count": 1,
   "metadata": {
    "id": "maJ_JCq4NiKY"
   },
   "outputs": [
    {
     "name": "stdout",
     "output_type": "stream",
     "text": [
      "Windows\n"
     ]
    }
   ],
   "source": [
    "import platform\r\n",
    "\r\n",
    "A = platform.system()\r\n",
    "print(A)"
   ]
  },
  {
   "cell_type": "markdown",
   "metadata": {
    "id": "aZc2UPQiNwJy"
   },
   "source": [
    "###### การใช้ฟังก์ชั่น dir()"
   ]
  },
  {
   "cell_type": "markdown",
   "metadata": {
    "id": "Sk_cy6zfN2Ym"
   },
   "source": [
    "คำสั่ง dir() เป็นคำสั่งที่ใช้สำหรับแสดงรายการชื่อฟังก์ชั่นทั้งหมด (หรือชื่อตัวแปร) ในmodule\n"
   ]
  },
  {
   "cell_type": "markdown",
   "metadata": {
    "id": "Q-J3iE3GN4yB"
   },
   "source": [
    "###### ตัวอย่าง\r\n",
    "\r\n",
    "แสดงรายชื่อฟังก์ชั่นทั้งหมดของ platform module:\r\n"
   ]
  },
  {
   "cell_type": "code",
   "execution_count": 2,
   "metadata": {
    "id": "quaWmEOZN_Ak"
   },
   "outputs": [
    {
     "name": "stdout",
     "output_type": "stream",
     "text": [
      "['_WIN32_CLIENT_RELEASES', '_WIN32_SERVER_RELEASES', '__builtins__', '__cached__', '__copyright__', '__doc__', '__file__', '__loader__', '__name__', '__package__', '__spec__', '__version__', '_comparable_version', '_component_re', '_default_architecture', '_follow_symlinks', '_ironpython26_sys_version_parser', '_ironpython_sys_version_parser', '_java_getprop', '_libc_search', '_mac_ver_xml', '_node', '_norm_version', '_platform', '_platform_cache', '_pypy_sys_version_parser', '_sys_version', '_sys_version_cache', '_sys_version_parser', '_syscmd_file', '_syscmd_uname', '_syscmd_ver', '_uname_cache', '_ver_output', '_ver_stages', 'architecture', 'collections', 'java_ver', 'libc_ver', 'mac_ver', 'machine', 'node', 'os', 'platform', 'processor', 'python_branch', 'python_build', 'python_compiler', 'python_implementation', 'python_revision', 'python_version', 'python_version_tuple', 're', 'release', 'sys', 'system', 'system_alias', 'uname', 'uname_result', 'version', 'win32_edition', 'win32_is_iot', 'win32_ver']\n"
     ]
    }
   ],
   "source": [
    "import platform\r\n",
    "\r\n",
    "A = dir(platform)\r\n",
    "print(A)"
   ]
  },
  {
   "cell_type": "markdown",
   "metadata": {
    "id": "1qLL_l-IOGBI"
   },
   "source": [
    "###### import from Module"
   ]
  },
  {
   "cell_type": "markdown",
   "metadata": {
    "id": "ur0gHOFhOPHL"
   },
   "source": [
    "เราสามารถเลือกนำเข้าบางส่วนของ module โดยการใช้ keyword `from`"
   ]
  },
  {
   "cell_type": "markdown",
   "metadata": {
    "id": "GSKpGT9lORS1"
   },
   "source": [
    "###### ตัวอย่าง\r\n",
    "\r\n",
    "module mymodule ที่เราสร้างไว้ มี 1 ฟังก์ชั่น และ 1 dictionary:\r\n"
   ]
  },
  {
   "cell_type": "code",
   "execution_count": null,
   "metadata": {
    "id": "gTD64FvDOUk9"
   },
   "outputs": [],
   "source": [
    "def Food(menu):\r\n",
    "  print(\"I'd like \" + menu)\r\n",
    "\r\n",
    "menu1 = {\r\n",
    "  \"menu\": \"Sushi\",\r\n",
    "  \"price\": 36,\r\n",
    "  \"nationality\": \"Japanese\"\r\n",
    "}"
   ]
  },
  {
   "cell_type": "markdown",
   "metadata": {
    "id": "tTjge0XdOaIy"
   },
   "source": [
    "###### ตัวอย่าง\r\n",
    "\r\n",
    "สามารถเลือก import เฉพาะ dictionary ที่ชื่อ menu1 จาก module มาใช้งานได้\r\n"
   ]
  },
  {
   "cell_type": "code",
   "execution_count": null,
   "metadata": {
    "id": "89YXt3hTOb6O"
   },
   "outputs": [],
   "source": [
    "from mymodule import menu1\r\n",
    "\r\n",
    "print (menu1[\"price\"])"
   ]
  }
 ],
 "metadata": {
  "colab": {
   "collapsed_sections": [
    "2FkExhFIoNY8",
    "6XUZFN6tn75v",
    "3WHFf7Pmone1",
    "4qYqdoSorl-l",
    "mNXrIn39zHA9",
    "vtUXPcWZzKuK",
    "poBNSWCSM_9p",
    "aZc2UPQiNwJy",
    "1qLL_l-IOGBI"
   ],
   "name": "024_Python_Modules.ipynb",
   "provenance": [
    {
     "file_id": "1G-ipvCETvy7-qf8RmyZHhKlggDOTUjdF",
     "timestamp": 1630382288369
    },
    {
     "file_id": "1v3i8iLWGEzHHjhmBzekbKNw4jYC7jVdy",
     "timestamp": 1630381854148
    },
    {
     "file_id": "1zGEzryzY-8X3orGID4GQgh8_ngVGiVXQ",
     "timestamp": 1630381031721
    },
    {
     "file_id": "1-eAGg9tPyYdkRd6R0xhPBfdVtwyLMWIY",
     "timestamp": 1630380612810
    },
    {
     "file_id": "1sVn9bVEnWLbtTPu4idRaMz-ZBXY1fG62",
     "timestamp": 1630340809849
    },
    {
     "file_id": "1YtwUjCetdLnR50UNYGnR1IAtH0W9ooO1",
     "timestamp": 1630337697384
    },
    {
     "file_id": "17XEX7PlOXBuY9UKKtSy1bB2_DdHBOg1P",
     "timestamp": 1630337226185
    }
   ]
  },
  "interpreter": {
   "hash": "00034aa5cd6c44013b830fd98c7a620a61a498e75425ca81fcc1166b84a69895"
  },
  "kernelspec": {
   "display_name": "Python 3.8.5 64-bit ('base': conda)",
   "name": "python3"
  },
  "language_info": {
   "codemirror_mode": {
    "name": "ipython",
    "version": 3
   },
   "file_extension": ".py",
   "mimetype": "text/x-python",
   "name": "python",
   "nbconvert_exporter": "python",
   "pygments_lexer": "ipython3",
   "version": "3.8.5"
  }
 },
 "nbformat": 4,
 "nbformat_minor": 2
}
