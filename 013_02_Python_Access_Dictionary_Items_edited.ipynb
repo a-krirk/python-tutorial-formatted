{
 "cells": [
  {
   "cell_type": "markdown",
   "metadata": {
    "id": "uLe9Ge3BZZzo"
   },
   "source": [
    "#### การเข้าถึง  Items ใน Dictionary"
   ]
  },
  {
   "cell_type": "markdown",
   "metadata": {
    "id": "8agH31REZZz5"
   },
   "source": [
    "เข้าถึง item ต่าง ๆ ใน dictionary ได้ด้วยการใส่ชื่อ key ใน [] (square bracket)"
   ]
  },
  {
   "cell_type": "markdown",
   "metadata": {
    "id": "RQfZiYVQZZz7"
   },
   "source": [
    "###### ตัวอย่าง\r\n",
    "หา value ที่คู่กับ key คำว่า \"model\""
   ]
  },
  {
   "cell_type": "code",
   "execution_count": 17,
   "metadata": {
    "id": "kJthGoAhZZz9"
   },
   "outputs": [
    {
     "name": "stdout",
     "output_type": "stream",
     "text": [
      "City\n"
     ]
    }
   ],
   "source": [
    "thisdict = {\r\n",
    "  \"brand\": \"Honda\",\r\n",
    "  \"model\": \"City\",\r\n",
    "  \"year\": 2020\r\n",
    "}\r\n",
    "x = thisdict[\"model\"]\r\n",
    "print(x)"
   ]
  },
  {
   "cell_type": "markdown",
   "metadata": {
    "id": "FiXeuvU5ZZ0C"
   },
   "source": [
    "สามารถใช้ method `get()` ได้ซึ่งจะได้คำตอบเหมือนกัน"
   ]
  },
  {
   "cell_type": "markdown",
   "metadata": {
    "id": "IokdNi4LZZ0D"
   },
   "source": [
    "###### ตัวอย่าง"
   ]
  },
  {
   "cell_type": "code",
   "execution_count": 18,
   "metadata": {
    "id": "arLTQrPNZZ0F"
   },
   "outputs": [
    {
     "name": "stdout",
     "output_type": "stream",
     "text": [
      "City\n"
     ]
    }
   ],
   "source": [
    "x = thisdict.get(\"model\")\r\n",
    "print(x)"
   ]
  },
  {
   "cell_type": "markdown",
   "metadata": {
    "id": "90RwwifyZZ0H"
   },
   "source": [
    "###### การหา Keys\r\n",
    "ใช้ method `keys()` จะได้ผลลัพธ์เป็น list ของชื่อ key ทั้งหมดใน dictionary"
   ]
  },
  {
   "cell_type": "markdown",
   "metadata": {
    "id": "yCwquhYwZZ0J"
   },
   "source": [
    "###### ตัวอย่าง\r\n",
    "แสดง list ของ keys ทั้งหมดใน dictionary"
   ]
  },
  {
   "cell_type": "code",
   "execution_count": 19,
   "metadata": {
    "id": "8rFjb0UlZZ0L"
   },
   "outputs": [
    {
     "name": "stdout",
     "output_type": "stream",
     "text": [
      "dict_keys(['brand', 'model', 'year'])\n"
     ]
    }
   ],
   "source": [
    "x = thisdict.keys()\r\n",
    "print(x)"
   ]
  },
  {
   "cell_type": "markdown",
   "metadata": {
    "id": "xd8qz8YSZZ0M"
   },
   "source": [
    "การเพิ่ม item ใหม่ไปยัง dictionary จะส่งผลให้เกิดการเปลี่ยนแปลงใน list ของ keys"
   ]
  },
  {
   "cell_type": "markdown",
   "metadata": {
    "id": "8xpQm2JUZZ0N"
   },
   "source": [
    "###### ตัวอย่าง\r\n",
    "เพิ่ม item ใหม่ไปยัง dictionary เดิมเพื่อดูการเปลี่ยนแปลง list ของ keys"
   ]
  },
  {
   "cell_type": "code",
   "execution_count": 20,
   "metadata": {
    "id": "bLJ0oh1pZZ0P",
    "outputId": "aff0b7e8-3792-4460-e26f-c993c1beb4ab"
   },
   "outputs": [
    {
     "name": "stdout",
     "output_type": "stream",
     "text": [
      "dict_keys(['brand', 'model', 'year'])\n",
      "dict_keys(['brand', 'model', 'year', 'color'])\n"
     ]
    }
   ],
   "source": [
    "my_car = {\r\n",
    "  \"brand\": \"Honda\",\r\n",
    "  \"model\": \"City\",\r\n",
    "  \"year\": 2020\r\n",
    "}\r\n",
    "\r\n",
    "x = my_car.keys()\r\n",
    "\r\n",
    "print(x) #ก่อนเพิ่ม item\r\n",
    "\r\n",
    "my_car[\"color\"] = \"black\"\r\n",
    "\r\n",
    "print(x) #หลังเพิ่ม item"
   ]
  }
 ],
 "metadata": {
  "colab": {
   "collapsed_sections": [],
   "name": "013_02_Python_Access_Dictionary_Items.ipynb",
   "provenance": []
  },
  "interpreter": {
   "hash": "00034aa5cd6c44013b830fd98c7a620a61a498e75425ca81fcc1166b84a69895"
  },
  "kernelspec": {
   "display_name": "Python 3.8.5 64-bit ('base': conda)",
   "name": "python3"
  },
  "language_info": {
   "codemirror_mode": {
    "name": "ipython",
    "version": 3
   },
   "file_extension": ".py",
   "mimetype": "text/x-python",
   "name": "python",
   "nbconvert_exporter": "python",
   "pygments_lexer": "ipython3",
   "version": "3.8.5"
  }
 },
 "nbformat": 4,
 "nbformat_minor": 2
}
