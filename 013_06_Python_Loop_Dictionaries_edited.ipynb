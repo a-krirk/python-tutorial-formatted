{
 "cells": [
  {
   "cell_type": "markdown",
   "metadata": {
    "id": "nNCxFlwtM9rK"
   },
   "source": [
    "#### การใช้ Loop กับ Dictionary"
   ]
  },
  {
   "cell_type": "markdown",
   "metadata": {
    "id": "gN8cuF99M9rR"
   },
   "source": [
    "สามารถ loop หรือประมวลผลแบบวนซ้ำได้ด้วยการใช้ for loop โดยจะได้ค่ากลับมาเป็น key หรือ value ของ dictionary\r\n",
    "\r\n",
    "การทำ for loop สามารถทำได้หลายวิธี"
   ]
  },
  {
   "cell_type": "markdown",
   "metadata": {
    "id": "1lldDt1QM9rS"
   },
   "source": [
    "###### ตัวอย่าง\r\n",
    "ปริ้นชื่อ key ทั้งหมดใน dictionary ด้วย for loop"
   ]
  },
  {
   "cell_type": "code",
   "execution_count": 4,
   "metadata": {
    "id": "rofJg1pkM9rT"
   },
   "outputs": [
    {
     "name": "stdout",
     "output_type": "stream",
     "text": [
      "Jared\n",
      "Sian\n",
      "Hayley\n",
      "Christopher\n"
     ]
    }
   ],
   "source": [
    "thisdict = {'Jared':'Leadership','Sian':'Prosperity','Hayley':'Hope','Christopher':'Generosity'}\r\n",
    "\r\n",
    "for x in thisdict:\r\n",
    "  print(x)"
   ]
  },
  {
   "cell_type": "markdown",
   "metadata": {
    "id": "-10oPK4NM9rX"
   },
   "source": [
    "###### ตัวอย่าง\r\n",
    "ปริ้น value ทั้งหมดใน dictionary ด้วย for loop"
   ]
  },
  {
   "cell_type": "code",
   "execution_count": 5,
   "metadata": {
    "id": "5l8t0h2pM9rY",
    "outputId": "8e82061c-8ca7-417f-a644-9ca8db55500e"
   },
   "outputs": [
    {
     "name": "stdout",
     "output_type": "stream",
     "text": [
      "Leadership\n",
      "Prosperity\n",
      "Hope\n",
      "Generosity\n"
     ]
    }
   ],
   "source": [
    "for x in thisdict:\r\n",
    "  print(thisdict[x])"
   ]
  },
  {
   "cell_type": "markdown",
   "metadata": {
    "id": "iCbK-lmiM9rY"
   },
   "source": [
    "###### ตัวอย่าง\r\n",
    "ใช้ method `values()` เพื่อปริ้น value ทั้งหมดใน dictionary ด้วย for loop"
   ]
  },
  {
   "cell_type": "code",
   "execution_count": 6,
   "metadata": {
    "id": "maHDS5gTM9rZ",
    "outputId": "94eec305-6faa-492f-8af8-596d52ec3e62"
   },
   "outputs": [
    {
     "name": "stdout",
     "output_type": "stream",
     "text": [
      "Leadership\n",
      "Prosperity\n",
      "Hope\n",
      "Generosity\n"
     ]
    }
   ],
   "source": [
    "for x in thisdict.values():\r\n",
    "  print(x)"
   ]
  },
  {
   "cell_type": "markdown",
   "metadata": {
    "id": "QiqeYO1OM9ra"
   },
   "source": [
    "###### ตัวอย่าง\r\n",
    "ใช้ method `keys()` เพื่อปริ้น key ทั้งหมดใน dictionary ด้วย for loop"
   ]
  },
  {
   "cell_type": "code",
   "execution_count": 7,
   "metadata": {
    "id": "etQ90WfwM9rb",
    "outputId": "06bb24ca-592c-4704-adb3-e187e26ece15"
   },
   "outputs": [
    {
     "name": "stdout",
     "output_type": "stream",
     "text": [
      "Jared\n",
      "Sian\n",
      "Hayley\n",
      "Christopher\n"
     ]
    }
   ],
   "source": [
    "for x in thisdict.keys():\r\n",
    "  print(x)"
   ]
  },
  {
   "cell_type": "markdown",
   "metadata": {
    "id": "HBjOFTEmM9rc"
   },
   "source": [
    "###### ตัวอย่าง\r\n",
    "ใช้ method `items()` เพื่อปริ้น key และ value ทั้งหมดใน dictionary ด้วย for loop"
   ]
  },
  {
   "cell_type": "code",
   "execution_count": 8,
   "metadata": {
    "id": "xF0n16WdM9re",
    "outputId": "b9227104-a2aa-4095-d165-8e8b221c07c8"
   },
   "outputs": [
    {
     "name": "stdout",
     "output_type": "stream",
     "text": [
      "Jared Leadership\n",
      "Sian Prosperity\n",
      "Hayley Hope\n",
      "Christopher Generosity\n"
     ]
    }
   ],
   "source": [
    "for x, y in thisdict.items():\r\n",
    "  print(x, y)"
   ]
  }
 ],
 "metadata": {
  "colab": {
   "collapsed_sections": [],
   "name": "013_06_Python_Loop_Dictionaries.ipynb",
   "provenance": []
  },
  "interpreter": {
   "hash": "00034aa5cd6c44013b830fd98c7a620a61a498e75425ca81fcc1166b84a69895"
  },
  "kernelspec": {
   "display_name": "Python 3.8.5 64-bit ('base': conda)",
   "name": "python3"
  },
  "language_info": {
   "codemirror_mode": {
    "name": "ipython",
    "version": 3
   },
   "file_extension": ".py",
   "mimetype": "text/x-python",
   "name": "python",
   "nbconvert_exporter": "python",
   "pygments_lexer": "ipython3",
   "version": "3.8.5"
  }
 },
 "nbformat": 4,
 "nbformat_minor": 2
}
