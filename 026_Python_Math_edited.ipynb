{
 "cells": [
  {
   "cell_type": "markdown",
   "metadata": {
    "id": "2FkExhFIoNY8"
   },
   "source": [
    "#### Math"
   ]
  },
  {
   "cell_type": "markdown",
   "metadata": {
    "id": "_fzw-I-wVWyH"
   },
   "source": [
    "Python มี Bulit-in Math function ให้ใช้หลายตัว และมี Math Module ที่รวบรวมชุดคำสั่งเกี่ยวกับงานด้านคณิตศาสตร์ไว้ให้เลือกใช้ได้โดยสะดวก"
   ]
  },
  {
   "cell_type": "markdown",
   "metadata": {
    "id": "ivayp-vFcY1x"
   },
   "source": [
    "###### Built-in Math Functions"
   ]
  },
  {
   "cell_type": "markdown",
   "metadata": {
    "id": "D1qUO64dcgy2"
   },
   "source": [
    "สามารถใช้ฟังก์ชั่น min() และ max() functions เพื่อใช้หาค่าต่ำสุด หรือ ค่าสูงสุดใน iterable ต่าง ๆ "
   ]
  },
  {
   "cell_type": "code",
   "execution_count": 9,
   "metadata": {
    "colab": {
     "base_uri": "https://localhost:8080/"
    },
    "executionInfo": {
     "elapsed": 451,
     "status": "ok",
     "timestamp": 1630398324739,
     "user": {
      "displayName": "Wachirawit Viriyaphisathan",
      "photoUrl": "https://lh3.googleusercontent.com/a-/AOh14GhpFNFOo2HRjyI36_HMPGhSHMfGYozwoiGMZBoPbA=s64",
      "userId": "03875063837227722804"
     },
     "user_tz": -420
    },
    "id": "9mciK2Uxcjzs",
    "outputId": "89bca638-90a1-45ff-f7f7-eecbb2cb39ca"
   },
   "outputs": [
    {
     "name": "stdout",
     "output_type": "stream",
     "text": [
      "2\n",
      "52\n"
     ]
    }
   ],
   "source": [
    "x = min(2, 80, 21)\r\n",
    "y = max(52, 50, 51)\r\n",
    "\r\n",
    "print(x)\r\n",
    "print(y)"
   ]
  },
  {
   "cell_type": "markdown",
   "metadata": {
    "id": "-KySOu_xPceq"
   },
   "source": [
    "ฟังก์ชั่น abs() ใช้ในการหาค่าสัมบูรณ์ (absolute value) ของตัวเลข"
   ]
  },
  {
   "cell_type": "code",
   "execution_count": 10,
   "metadata": {
    "colab": {
     "base_uri": "https://localhost:8080/"
    },
    "executionInfo": {
     "elapsed": 9,
     "status": "ok",
     "timestamp": 1630398325576,
     "user": {
      "displayName": "Wachirawit Viriyaphisathan",
      "photoUrl": "https://lh3.googleusercontent.com/a-/AOh14GhpFNFOo2HRjyI36_HMPGhSHMfGYozwoiGMZBoPbA=s64",
      "userId": "03875063837227722804"
     },
     "user_tz": -420
    },
    "id": "PVxYFcQlPdVB",
    "outputId": "d9fff2dd-3320-4d98-9427-990843b3b790"
   },
   "outputs": [
    {
     "name": "stdout",
     "output_type": "stream",
     "text": [
      "3.14\n"
     ]
    }
   ],
   "source": [
    "x = abs(-3.14)\r\n",
    "\r\n",
    "print(x)"
   ]
  },
  {
   "cell_type": "markdown",
   "metadata": {
    "id": "i3AKc26-PjoD"
   },
   "source": [
    "ฟังก์ชั่น pow(x, y) ใช้ในการหาค่าของ x ยกกำลัง y (x^y)"
   ]
  },
  {
   "cell_type": "code",
   "execution_count": 11,
   "metadata": {
    "colab": {
     "base_uri": "https://localhost:8080/"
    },
    "executionInfo": {
     "elapsed": 8,
     "status": "ok",
     "timestamp": 1630398325577,
     "user": {
      "displayName": "Wachirawit Viriyaphisathan",
      "photoUrl": "https://lh3.googleusercontent.com/a-/AOh14GhpFNFOo2HRjyI36_HMPGhSHMfGYozwoiGMZBoPbA=s64",
      "userId": "03875063837227722804"
     },
     "user_tz": -420
    },
    "id": "joQoiB2iPkqo",
    "outputId": "4e5a9fbd-9e0b-4ecf-f529-eb283f107dd4"
   },
   "outputs": [
    {
     "name": "stdout",
     "output_type": "stream",
     "text": [
      "256\n"
     ]
    }
   ],
   "source": [
    "x = pow(16, 2)\r\n",
    "\r\n",
    "print(x)"
   ]
  },
  {
   "cell_type": "markdown",
   "metadata": {
    "id": "hL3CXZNMcnue"
   },
   "source": [
    "###### math module"
   ]
  },
  {
   "cell_type": "markdown",
   "metadata": {
    "id": "46_w8kYjcsE0"
   },
   "source": [
    "Python ยังมี built-in math module ให้เลือกใช้ โดยเป็นการรวบรวมชุดคำสั่งทานคณิตศาสตร์ต่าง ๆ ไว้มากมาย\r\n",
    "\r\n",
    "การจะใช้งาน math module ต้อง import module เข้ามาก่อน ตาม code ข้างล่าง"
   ]
  },
  {
   "cell_type": "code",
   "execution_count": 12,
   "metadata": {
    "id": "d1vaE2zXcuTp"
   },
   "outputs": [],
   "source": [
    "import math"
   ]
  },
  {
   "cell_type": "markdown",
   "metadata": {
    "id": "8GJ3c4DmcvDj"
   },
   "source": [
    "หลังจากที่ import math module เข้ามาแล้ว ก็สามารถเริ่มต้นใช้งาน method และค่าคงที่ทางคณิตศาสตร์ต่าง ๆ ที่กำหนดค่าไว้ใน module ได้เลย\r\n",
    "\r\n",
    "math.sqrt() เป็น method ที่ใช้ในการหาค่ารากที่สองของตัวเลข"
   ]
  },
  {
   "cell_type": "code",
   "execution_count": 13,
   "metadata": {
    "colab": {
     "base_uri": "https://localhost:8080/"
    },
    "executionInfo": {
     "elapsed": 14,
     "status": "ok",
     "timestamp": 1630398326327,
     "user": {
      "displayName": "Wachirawit Viriyaphisathan",
      "photoUrl": "https://lh3.googleusercontent.com/a-/AOh14GhpFNFOo2HRjyI36_HMPGhSHMfGYozwoiGMZBoPbA=s64",
      "userId": "03875063837227722804"
     },
     "user_tz": -420
    },
    "id": "HwU4RP3DS4Ro",
    "outputId": "512fecaf-e111-46dd-bebe-03b2973475b7"
   },
   "outputs": [
    {
     "name": "stdout",
     "output_type": "stream",
     "text": [
      "25.0\n"
     ]
    }
   ],
   "source": [
    "import math\r\n",
    "\r\n",
    "x = math.sqrt(625)\r\n",
    "\r\n",
    "print(x)"
   ]
  },
  {
   "cell_type": "markdown",
   "metadata": {
    "id": "flufVf1zS64C"
   },
   "source": [
    "math.ceil() เป็น method ที่ใช้ในการปัดเศษทศนิยมขึ้น ได้ผลลัพธ์เป็นจำนวนเต็ม \r\n",
    "\r\n",
    "math.floor() เป็น method ที่ใช้ในการปัดเศษทศนิยมลง ได้ผลลัพธ์เป็นจำนวนเต็ม"
   ]
  },
  {
   "cell_type": "code",
   "execution_count": 14,
   "metadata": {
    "colab": {
     "base_uri": "https://localhost:8080/"
    },
    "executionInfo": {
     "elapsed": 13,
     "status": "ok",
     "timestamp": 1630398326329,
     "user": {
      "displayName": "Wachirawit Viriyaphisathan",
      "photoUrl": "https://lh3.googleusercontent.com/a-/AOh14GhpFNFOo2HRjyI36_HMPGhSHMfGYozwoiGMZBoPbA=s64",
      "userId": "03875063837227722804"
     },
     "user_tz": -420
    },
    "id": "d7O-PP5vS9-S",
    "outputId": "5835f384-14e3-49dd-b4a3-2f8ae705156f"
   },
   "outputs": [
    {
     "name": "stdout",
     "output_type": "stream",
     "text": [
      "4\n",
      "7\n"
     ]
    }
   ],
   "source": [
    "import math\r\n",
    "\r\n",
    "x = math.ceil(3.14)\r\n",
    "y = math.floor(7.92)\r\n",
    "\r\n",
    "print(x) # returns 4\r\n",
    "print(y) # returns 7"
   ]
  },
  {
   "cell_type": "markdown",
   "metadata": {
    "id": "AJWEJEJKTA9P"
   },
   "source": [
    "math.pi เป็นค่าคงที่ทางคณิตศาสตร์ ได้ผลลัพธ์เป็นค่า Pi (3.14...)"
   ]
  },
  {
   "cell_type": "code",
   "execution_count": 15,
   "metadata": {
    "colab": {
     "base_uri": "https://localhost:8080/"
    },
    "executionInfo": {
     "elapsed": 11,
     "status": "ok",
     "timestamp": 1630398326330,
     "user": {
      "displayName": "Wachirawit Viriyaphisathan",
      "photoUrl": "https://lh3.googleusercontent.com/a-/AOh14GhpFNFOo2HRjyI36_HMPGhSHMfGYozwoiGMZBoPbA=s64",
      "userId": "03875063837227722804"
     },
     "user_tz": -420
    },
    "id": "NMbteXWpTDje",
    "outputId": "57ab17ca-4561-4c0b-8e04-335544f0029f"
   },
   "outputs": [
    {
     "name": "stdout",
     "output_type": "stream",
     "text": [
      "3.141592653589793\n"
     ]
    }
   ],
   "source": [
    "import math\r\n",
    "\r\n",
    "x = math.pi\r\n",
    "\r\n",
    "print(x)"
   ]
  }
 ],
 "metadata": {
  "colab": {
   "collapsed_sections": [
    "2FkExhFIoNY8",
    "ivayp-vFcY1x",
    "hL3CXZNMcnue"
   ],
   "name": "026_Python_Math.ipynb",
   "provenance": [
    {
     "file_id": "1G-ipvCETvy7-qf8RmyZHhKlggDOTUjdF",
     "timestamp": 1630382852722
    },
    {
     "file_id": "1v3i8iLWGEzHHjhmBzekbKNw4jYC7jVdy",
     "timestamp": 1630381854148
    },
    {
     "file_id": "1zGEzryzY-8X3orGID4GQgh8_ngVGiVXQ",
     "timestamp": 1630381031721
    },
    {
     "file_id": "1-eAGg9tPyYdkRd6R0xhPBfdVtwyLMWIY",
     "timestamp": 1630380612810
    },
    {
     "file_id": "1sVn9bVEnWLbtTPu4idRaMz-ZBXY1fG62",
     "timestamp": 1630340809849
    },
    {
     "file_id": "1YtwUjCetdLnR50UNYGnR1IAtH0W9ooO1",
     "timestamp": 1630337697384
    },
    {
     "file_id": "17XEX7PlOXBuY9UKKtSy1bB2_DdHBOg1P",
     "timestamp": 1630337226185
    }
   ],
   "toc_visible": true
  },
  "interpreter": {
   "hash": "00034aa5cd6c44013b830fd98c7a620a61a498e75425ca81fcc1166b84a69895"
  },
  "kernelspec": {
   "display_name": "Python 3.8.5 64-bit ('base': conda)",
   "name": "python3"
  },
  "language_info": {
   "codemirror_mode": {
    "name": "ipython",
    "version": 3
   },
   "file_extension": ".py",
   "mimetype": "text/x-python",
   "name": "python",
   "nbconvert_exporter": "python",
   "pygments_lexer": "ipython3",
   "version": "3.8.5"
  }
 },
 "nbformat": 4,
 "nbformat_minor": 2
}
