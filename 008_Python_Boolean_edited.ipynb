{
 "cells": [
  {
   "cell_type": "markdown",
   "metadata": {
    "id": "2FkExhFIoNY8"
   },
   "source": [
    "#### Booleans"
   ]
  },
  {
   "cell_type": "markdown",
   "metadata": {
    "id": "6XUZFN6tn75v"
   },
   "source": [
    "###### ค่าของ Boolean"
   ]
  },
  {
   "cell_type": "markdown",
   "metadata": {
    "id": "Pi4B7jk_nZkJ"
   },
   "source": [
    "ในการเขียนโปรแกรม ค่า Boolean ที่เราจำเป็นต้องรู้ คือ True และ False\r\n",
    "\r\n",
    "โดยที่ เราสามารถประเมินค่านิพจน์อะไรก็ได้ใน python และได้ค่า boolean ออกมาสองค่า คือ ไม่ True ก็ False\r\n",
    "\r\n",
    "เมื่อเราเปรียบเทียบค่าสองค่า นิพจน์จะถูกประเมินและ python จะคืนค่า boolean ออกมา"
   ]
  },
  {
   "cell_type": "code",
   "execution_count": 21,
   "metadata": {
    "colab": {
     "base_uri": "https://localhost:8080/"
    },
    "executionInfo": {
     "elapsed": 11,
     "status": "ok",
     "timestamp": 1630337248918,
     "user": {
      "displayName": "Wachirawit Viriyaphisathan",
      "photoUrl": "https://lh3.googleusercontent.com/a-/AOh14GhpFNFOo2HRjyI36_HMPGhSHMfGYozwoiGMZBoPbA=s64",
      "userId": "03875063837227722804"
     },
     "user_tz": -420
    },
    "id": "LJBxqh5kodY2",
    "outputId": "4ce4fa28-8180-4aec-ae67-1540347847de"
   },
   "outputs": [
    {
     "name": "stdout",
     "output_type": "stream",
     "text": [
      "True\n",
      "False\n",
      "False\n"
     ]
    }
   ],
   "source": [
    "print(10 > 1)\r\n",
    "print(10 == 1)\r\n",
    "print(10 < 1)"
   ]
  },
  {
   "cell_type": "markdown",
   "metadata": {
    "id": "39JL0O-Moh2R"
   },
   "source": [
    "เมื่อ python ประเมินค่าระหว่างตัวแปร a และ b แล้วจะคืนค่าออกมาเป็น boolean และ print ข้อความออกมาเมื่อเป็นไปตามเงื่อนไขที่กำหนด"
   ]
  },
  {
   "cell_type": "code",
   "execution_count": 22,
   "metadata": {
    "colab": {
     "base_uri": "https://localhost:8080/"
    },
    "executionInfo": {
     "elapsed": 9,
     "status": "ok",
     "timestamp": 1630337255427,
     "user": {
      "displayName": "Wachirawit Viriyaphisathan",
      "photoUrl": "https://lh3.googleusercontent.com/a-/AOh14GhpFNFOo2HRjyI36_HMPGhSHMfGYozwoiGMZBoPbA=s64",
      "userId": "03875063837227722804"
     },
     "user_tz": -420
    },
    "id": "wvEs1ZlPokNY",
    "outputId": "9a117c2f-be45-49f1-c91a-1bc25110c3ed"
   },
   "outputs": [
    {
     "name": "stdout",
     "output_type": "stream",
     "text": [
      "b is not greater than a\n"
     ]
    }
   ],
   "source": [
    "a = 100\r\n",
    "b = 21\r\n",
    "\r\n",
    "if b > a:\r\n",
    "  print(\"b is greater than a\")\r\n",
    "else:\r\n",
    "  print(\"b is not greater than a\")"
   ]
  },
  {
   "cell_type": "markdown",
   "metadata": {
    "id": "3WHFf7Pmone1"
   },
   "source": [
    "###### การประเมินค่าและตัวแปร"
   ]
  },
  {
   "cell_type": "markdown",
   "metadata": {
    "id": "N7v6KcXHo6JO"
   },
   "source": [
    "สามารถใช้ฟังก์ชัน bool() ประเมินค่า object อะไรก็ได้ ซึ่งจะได้ผลลัพธ์เป็นค่า True หรือ False "
   ]
  },
  {
   "cell_type": "code",
   "execution_count": 23,
   "metadata": {
    "colab": {
     "base_uri": "https://localhost:8080/"
    },
    "executionInfo": {
     "elapsed": 719,
     "status": "ok",
     "timestamp": 1630337263158,
     "user": {
      "displayName": "Wachirawit Viriyaphisathan",
      "photoUrl": "https://lh3.googleusercontent.com/a-/AOh14GhpFNFOo2HRjyI36_HMPGhSHMfGYozwoiGMZBoPbA=s64",
      "userId": "03875063837227722804"
     },
     "user_tz": -420
    },
    "id": "89awKq1Lo80B",
    "outputId": "2a9df9d5-38fa-4b17-b021-f45833fcaccc"
   },
   "outputs": [
    {
     "name": "stdout",
     "output_type": "stream",
     "text": [
      "True\n",
      "True\n"
     ]
    }
   ],
   "source": [
    "print(bool(\"Hello\"))\r\n",
    "print(bool(15))"
   ]
  },
  {
   "cell_type": "code",
   "execution_count": 24,
   "metadata": {
    "colab": {
     "base_uri": "https://localhost:8080/"
    },
    "executionInfo": {
     "elapsed": 13,
     "status": "ok",
     "timestamp": 1630337263160,
     "user": {
      "displayName": "Wachirawit Viriyaphisathan",
      "photoUrl": "https://lh3.googleusercontent.com/a-/AOh14GhpFNFOo2HRjyI36_HMPGhSHMfGYozwoiGMZBoPbA=s64",
      "userId": "03875063837227722804"
     },
     "user_tz": -420
    },
    "id": "JSA9b0sbpFff",
    "outputId": "a2c05134-923c-485f-e2de-6f9fb27010d2"
   },
   "outputs": [
    {
     "name": "stdout",
     "output_type": "stream",
     "text": [
      "True\n",
      "True\n"
     ]
    }
   ],
   "source": [
    "x = \"Hello\"\r\n",
    "y = 15\r\n",
    "\r\n",
    "print(bool(x))\r\n",
    "print(bool(y))"
   ]
  },
  {
   "cell_type": "markdown",
   "metadata": {
    "id": "N1tRjh23pj2-"
   },
   "source": [
    "###### กรณีใดบ้างที่ใช้ bool() แล้วได้ผลลัพธ์เป็น True"
   ]
  },
  {
   "cell_type": "markdown",
   "metadata": {
    "id": "RdjNCOS2puLA"
   },
   "source": [
    "ส่วนใหญ่แล้ว bool() จะให้ผลลัพธ์เป็น \"True\" ถ้า object นั้นมี content อยู่ข้างใน\r\n",
    "\r\n",
    "String ทุกตัวจะมีค่าเป็น True ยกเว้น empty string (string ที่ไม่ได้เขียนอะไร ปล่อยว่างไว้)\r\n",
    "\r\n",
    "ตัวเลขทุกตัวจะมีค่าเป็น True ยกเว้น 0\r\n",
    "\r\n",
    "List, Tuple, Set และ Dictionary จะมีค่าเป็น \"True\" เสมอ ถ้ามี content อยู่ภายใน"
   ]
  },
  {
   "cell_type": "markdown",
   "metadata": {},
   "source": [
    "###### ตัวอย่าง\r\n",
    "\r\n",
    "code ข้างล่างนี้จะได้ผลลัพธ์เป็น True"
   ]
  },
  {
   "cell_type": "code",
   "execution_count": 25,
   "metadata": {
    "colab": {
     "base_uri": "https://localhost:8080/"
    },
    "executionInfo": {
     "elapsed": 618,
     "status": "ok",
     "timestamp": 1630337266500,
     "user": {
      "displayName": "Wachirawit Viriyaphisathan",
      "photoUrl": "https://lh3.googleusercontent.com/a-/AOh14GhpFNFOo2HRjyI36_HMPGhSHMfGYozwoiGMZBoPbA=s64",
      "userId": "03875063837227722804"
     },
     "user_tz": -420
    },
    "id": "WGbNonDZpxs8",
    "outputId": "0d286854-cdbc-4e80-83ec-1e34582d0634"
   },
   "outputs": [
    {
     "name": "stdout",
     "output_type": "stream",
     "text": [
      "True\n",
      "True\n",
      "True\n"
     ]
    }
   ],
   "source": [
    "print(bool(\"abc\"))\r\n",
    "print(bool(123))\r\n",
    "print(bool([\"apple\", \"cherry\", \"banana\"]))"
   ]
  },
  {
   "cell_type": "markdown",
   "metadata": {
    "id": "_qphnxmurcRQ"
   },
   "source": [
    "###### กรณีใดบ้างที่ใช้ bool() แล้วได้ผลลัพธ์เป็น False"
   ]
  },
  {
   "cell_type": "markdown",
   "metadata": {
    "id": "_lXlgOqlrLXI"
   },
   "source": [
    "empty values เช่น (), [], {}, \"\" จะมีค่าเป็น False \r\n",
    "\r\n",
    "นอกจากนี้ ตัวเลข 0, None, False จะมีค่าเป็น False"
   ]
  },
  {
   "cell_type": "markdown",
   "metadata": {},
   "source": [
    "###### ตัวอย่าง\r\n",
    "\r\n",
    "code ข้างล่างนี้จะได้ผลลัพธ์เป็น False"
   ]
  },
  {
   "cell_type": "code",
   "execution_count": 26,
   "metadata": {
    "colab": {
     "base_uri": "https://localhost:8080/"
    },
    "executionInfo": {
     "elapsed": 537,
     "status": "ok",
     "timestamp": 1630337468799,
     "user": {
      "displayName": "Wachirawit Viriyaphisathan",
      "photoUrl": "https://lh3.googleusercontent.com/a-/AOh14GhpFNFOo2HRjyI36_HMPGhSHMfGYozwoiGMZBoPbA=s64",
      "userId": "03875063837227722804"
     },
     "user_tz": -420
    },
    "id": "tgpzXwIVrNmN",
    "outputId": "9855704e-9ab1-4ef3-ea49-eefb7792d8a4"
   },
   "outputs": [
    {
     "name": "stdout",
     "output_type": "stream",
     "text": [
      "False\n",
      "False\n",
      "False\n",
      "False\n",
      "False\n",
      "False\n",
      "False\n"
     ]
    }
   ],
   "source": [
    "print(bool(False))\r\n",
    "print(bool(None))\r\n",
    "print(bool(0))\r\n",
    "print(bool(\"\"))\r\n",
    "print(bool(()))\r\n",
    "print(bool([]))\r\n",
    "print(bool({}))"
   ]
  },
  {
   "cell_type": "markdown",
   "metadata": {
    "id": "zT6T89RfrRfA"
   },
   "source": [
    "มีอีกหนึ่งกรณีที่ object จะมีค่าเป็น False ได้ถ้าหากใน object นั้นมีการสร้าง function __len__  ที่ return ค่า 0 หรือ False"
   ]
  },
  {
   "cell_type": "markdown",
   "metadata": {},
   "source": [
    "###### ตัวอย่าง"
   ]
  },
  {
   "cell_type": "code",
   "execution_count": 27,
   "metadata": {
    "colab": {
     "base_uri": "https://localhost:8080/"
    },
    "executionInfo": {
     "elapsed": 419,
     "status": "ok",
     "timestamp": 1630337471141,
     "user": {
      "displayName": "Wachirawit Viriyaphisathan",
      "photoUrl": "https://lh3.googleusercontent.com/a-/AOh14GhpFNFOo2HRjyI36_HMPGhSHMfGYozwoiGMZBoPbA=s64",
      "userId": "03875063837227722804"
     },
     "user_tz": -420
    },
    "id": "Tb1U0usLrVnO",
    "outputId": "090d0db8-7200-4b92-d02d-57766405ab7d"
   },
   "outputs": [
    {
     "name": "stdout",
     "output_type": "stream",
     "text": [
      "False\n"
     ]
    }
   ],
   "source": [
    "class falseobject():\r\n",
    "  def __len__(self):\r\n",
    "    return 0\r\n",
    "\r\n",
    "myobj = falseobject()\r\n",
    "print(bool(myobj))"
   ]
  },
  {
   "cell_type": "markdown",
   "metadata": {
    "id": "4qYqdoSorl-l"
   },
   "source": [
    "###### ฟังก์ชันสามารถ return ค่าเป็น boolean ได้"
   ]
  },
  {
   "cell_type": "markdown",
   "metadata": {
    "id": "-oBnTGAtrnnE"
   },
   "source": [
    "เราสามารถสร้างฟังก์ชันให้สามารถ return ค่าเป็น boolean ออกมาได้"
   ]
  },
  {
   "cell_type": "code",
   "execution_count": 28,
   "metadata": {
    "colab": {
     "base_uri": "https://localhost:8080/"
    },
    "executionInfo": {
     "elapsed": 586,
     "status": "ok",
     "timestamp": 1630337473646,
     "user": {
      "displayName": "Wachirawit Viriyaphisathan",
      "photoUrl": "https://lh3.googleusercontent.com/a-/AOh14GhpFNFOo2HRjyI36_HMPGhSHMfGYozwoiGMZBoPbA=s64",
      "userId": "03875063837227722804"
     },
     "user_tz": -420
    },
    "id": "ATqQqxnlrpt8",
    "outputId": "a7a0a0be-95f5-4ff4-f5c4-3e4e19c41ea8"
   },
   "outputs": [
    {
     "name": "stdout",
     "output_type": "stream",
     "text": [
      "True\n"
     ]
    }
   ],
   "source": [
    "def BooleanFunction() :\r\n",
    "  return True\r\n",
    "\r\n",
    "print(BooleanFunction())"
   ]
  },
  {
   "cell_type": "markdown",
   "metadata": {
    "id": "STz5Pi0Ert89"
   },
   "source": [
    "เราสามารถนำค่า Boolean ที่ได้จากฟังก์ชันไปใช้กับ conditional statement ต่อได้"
   ]
  },
  {
   "cell_type": "code",
   "execution_count": 29,
   "metadata": {
    "colab": {
     "base_uri": "https://localhost:8080/"
    },
    "executionInfo": {
     "elapsed": 4,
     "status": "ok",
     "timestamp": 1630337475177,
     "user": {
      "displayName": "Wachirawit Viriyaphisathan",
      "photoUrl": "https://lh3.googleusercontent.com/a-/AOh14GhpFNFOo2HRjyI36_HMPGhSHMfGYozwoiGMZBoPbA=s64",
      "userId": "03875063837227722804"
     },
     "user_tz": -420
    },
    "id": "M7vIzr83rwW_",
    "outputId": "f615b2fe-e842-4b75-f302-57c7dea724fc"
   },
   "outputs": [
    {
     "name": "stdout",
     "output_type": "stream",
     "text": [
      "ถูกต้อง\n"
     ]
    }
   ],
   "source": [
    "def BooleanFunction() :\r\n",
    "  return True\r\n",
    "\r\n",
    "if BooleanFunction():\r\n",
    "  print(\"ถูกต้อง\")\r\n",
    "else:\r\n",
    "  print(\"ไม่ถูกต้อง\")"
   ]
  },
  {
   "cell_type": "markdown",
   "metadata": {
    "id": "hCisY3pyryxg"
   },
   "source": [
    "ไพธอนมีฟังก์ชันแบบ built-in ที่ return ค่าเป็น boolean หลายตัว เช่น isinstance() ที่จะใช้ตรวจสอบว่า object นั้นเป็น instance ของ class นั้นหรือไม่"
   ]
  },
  {
   "cell_type": "markdown",
   "metadata": {},
   "source": [
    "###### ตัวอย่าง\r\n",
    "code ข้างล่างจะเป็นการตรวจสอบว่า x เป็น instance ของ class int หรือไม่"
   ]
  },
  {
   "cell_type": "code",
   "execution_count": 30,
   "metadata": {
    "colab": {
     "base_uri": "https://localhost:8080/"
    },
    "executionInfo": {
     "elapsed": 555,
     "status": "ok",
     "timestamp": 1630337477816,
     "user": {
      "displayName": "Wachirawit Viriyaphisathan",
      "photoUrl": "https://lh3.googleusercontent.com/a-/AOh14GhpFNFOo2HRjyI36_HMPGhSHMfGYozwoiGMZBoPbA=s64",
      "userId": "03875063837227722804"
     },
     "user_tz": -420
    },
    "id": "sx5FZpftr1Po",
    "outputId": "7225a116-dd54-414a-8f7d-4eafa2b2ec9b"
   },
   "outputs": [
    {
     "name": "stdout",
     "output_type": "stream",
     "text": [
      "True\n"
     ]
    }
   ],
   "source": [
    "x = 12345\r\n",
    "print(isinstance(x, int))"
   ]
  }
 ],
 "metadata": {
  "colab": {
   "collapsed_sections": [
    "6XUZFN6tn75v"
   ],
   "name": "Python Boolean.ipynb",
   "provenance": [
    {
     "file_id": "17XEX7PlOXBuY9UKKtSy1bB2_DdHBOg1P",
     "timestamp": 1630337226185
    }
   ]
  },
  "interpreter": {
   "hash": "00034aa5cd6c44013b830fd98c7a620a61a498e75425ca81fcc1166b84a69895"
  },
  "kernelspec": {
   "display_name": "Python 3.8.5 64-bit ('base': conda)",
   "name": "python3"
  },
  "language_info": {
   "codemirror_mode": {
    "name": "ipython",
    "version": 3
   },
   "file_extension": ".py",
   "mimetype": "text/x-python",
   "name": "python",
   "nbconvert_exporter": "python",
   "pygments_lexer": "ipython3",
   "version": "3.8.5"
  }
 },
 "nbformat": 4,
 "nbformat_minor": 2
}
