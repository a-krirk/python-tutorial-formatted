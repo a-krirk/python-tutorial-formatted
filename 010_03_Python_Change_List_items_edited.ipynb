{
 "cells": [
  {
   "cell_type": "markdown",
   "metadata": {
    "id": "GVDfS-4RL-LN"
   },
   "source": [
    "#### การเปลี่ยนแปลงค่า Item ใน List"
   ]
  },
  {
   "cell_type": "markdown",
   "metadata": {
    "id": "ObHQJ9uiL-LW"
   },
   "source": [
    "สามารถเปลี่ยนค่าของ item ที่ต้องการได้ โดยใช้เลข index อ้างอิง"
   ]
  },
  {
   "cell_type": "markdown",
   "metadata": {
    "id": "w-61S7qUL-LX"
   },
   "source": [
    "###### ตัวอย่าง\r\n",
    "เปลี่ยนค่าของ item ที่ 2 (จาก \"papaya\" เป็น \"orange\")"
   ]
  },
  {
   "cell_type": "code",
   "execution_count": 1,
   "metadata": {
    "id": "Pq_O4fmNL-LX"
   },
   "outputs": [
    {
     "name": "stdout",
     "output_type": "stream",
     "text": [
      "['apple', 'orange', 'banana']\n"
     ]
    }
   ],
   "source": [
    "fruits_list = [\"apple\", \"papaya\", \"banana\"]\r\n",
    "fruits_list[1] = \"orange\"\r\n",
    "print(fruits_list)"
   ]
  },
  {
   "cell_type": "markdown",
   "metadata": {
    "id": "KaIlil7WL-LZ"
   },
   "source": [
    "###### เปลี่ยนค่า Items ใน Range \n",
    "เปลี่ยนค่าของ item ต่าง ๆ ใน range ได้โดยการสร้าง list ของ item ใหม่\n",
    "และอ้างอิง range เลข index ของ item ที่ต้องการเปลี่ยนค่าใหม่"
   ]
  },
  {
   "cell_type": "markdown",
   "metadata": {
    "id": "hByXvypuL-La"
   },
   "source": [
    "###### ตัวอย่าง\r\n",
    "เปลี่ยนค่าของ \"papaya\" และ \"banana\" เป็น \"cherry\" และ \"kiwi\""
   ]
  },
  {
   "cell_type": "code",
   "execution_count": 2,
   "metadata": {
    "id": "lKzEhAL0L-La",
    "outputId": "37899c34-a148-402d-9e8c-adae91bcd7c1"
   },
   "outputs": [
    {
     "name": "stdout",
     "output_type": "stream",
     "text": [
      "['apple', 'cherry', 'kiwi', 'orange', 'mango']\n"
     ]
    }
   ],
   "source": [
    "fruits_list = [\"apple\", \"papaya\", \"banana\", \"orange\", \"mango\"]\r\n",
    "fruits_list[1:3] = [\"cherry\", \"kiwi\"]\r\n",
    "print(fruits_list)"
   ]
  },
  {
   "cell_type": "markdown",
   "metadata": {
    "id": "rPOkwPmyL-Lb"
   },
   "source": [
    "ถ้าใส่ item ใหม่เกินจำนวนที่ item เก่ากำหนดไว้ (ด้วยเลข index)\r\n",
    "\r\n",
    "item ใหม่จะเข้าไปแทนในตำแหน่งที่ระบุไว้ แต่ item เดิมใน index นั้นจะโดนลบทิ้งแล้วแทนที่ด้วย item ใหม่"
   ]
  },
  {
   "cell_type": "markdown",
   "metadata": {
    "id": "tA9gNp7EL-Lb"
   },
   "source": [
    "####### ตัวอย่าง\r\n",
    "เปลี่ยนค่าของ item ที่แต่เดิมมี \"papaya\" ตัวเดียว โดยการแทนที่ item ใหม่ \"cherry\" และ \"kiwi\" ที่มี 2 ตัวลงไป\r\n",
    "\r\n",
    "Note: ความยาวของ list จะเปลี่ยนไป เมื่อจำนวนของ item ที่เพิ่มเข้ามาไม่เท่ากับจำนวน item ที่จะโดนแทนที่"
   ]
  },
  {
   "cell_type": "code",
   "execution_count": 3,
   "metadata": {
    "id": "txCqlSBdL-Lc"
   },
   "outputs": [
    {
     "name": "stdout",
     "output_type": "stream",
     "text": [
      "['apple', 'cherry', 'kiwi', 'banana']\n"
     ]
    }
   ],
   "source": [
    "fruits_list = [\"apple\", \"papaya\", \"banana\"]\r\n",
    "fruits_list[1:2] = [\"cherry\", \"kiwi\"]\r\n",
    "print(fruits_list)"
   ]
  },
  {
   "cell_type": "markdown",
   "metadata": {
    "id": "PR74D1XPL-Lc"
   },
   "source": [
    "ถ้าใส่จำนวน item ใหม่**น้อยกว่า**จำนวน item เก่าที่กำหนดไว้ (ด้วยเลข index)\r\n",
    "\r\n",
    "item ใหม่จะเข้าไปแทนที่ในตำแหน่งที่ระบุไว้ แต่ item ที่เหลือ (ตำแหน่งหลัง item ใหม่) ใน list จะโดนลบทิ้งไปทั้งหมด"
   ]
  },
  {
   "cell_type": "markdown",
   "metadata": {
    "id": "5ecf0HWdL-Ld"
   },
   "source": [
    "###### ตัวอย่าง\r\n",
    "\r\n",
    "เปลี่ยนค่าของ item ที่สอง \"papaya\" และสาม \"banana\" โดยแทนที่ด้วย item ใหม่เพียง 1 ตัว \"cherry\""
   ]
  },
  {
   "cell_type": "code",
   "execution_count": 5,
   "metadata": {
    "id": "ZqSe0txBL-Ld"
   },
   "outputs": [
    {
     "name": "stdout",
     "output_type": "stream",
     "text": [
      "['apple', 'cherry']\n"
     ]
    }
   ],
   "source": [
    "fruits_list = [\"apple\", \"papaya\", \"banana\"]\r\n",
    "fruits_list[1:3] = [\"cherry\"]\r\n",
    "print(fruits_list)"
   ]
  },
  {
   "cell_type": "markdown",
   "metadata": {
    "id": "wrUK6CE7L-Ld"
   },
   "source": [
    "###### Insert Items\r\n",
    "เพิ่ม item ใหม่ใน list โดยไม่ต้องแทนที่ item เดิมได้ (แทรกตำแหน่งแบบที่ข้อมูลเก่าไม่เสียหาย)\r\n",
    "โดยใช้ method ชื่อ **insert()**\r\n",
    "\r\n",
    "method นี้สามารถระบุตำแหน่งที่จะเพิ่ม item เข้าไปได้ด้วยการกำหนดเลข index"
   ]
  },
  {
   "cell_type": "markdown",
   "metadata": {
    "id": "fIBX2NBfL-Le"
   },
   "source": [
    "###### ตัวอย่าง\r\n",
    "เพิ่ม item \"cherry\" เข้าไปในตำแหน่งที่ 3 ของ list\r\n",
    "\r\n",
    "Note: ผลลัพธ์ของ list ใหม่จะมี item ทั้งหมด 4 ตัว   "
   ]
  },
  {
   "cell_type": "code",
   "execution_count": 7,
   "metadata": {
    "id": "YULkJkm8L-Le"
   },
   "outputs": [
    {
     "name": "stdout",
     "output_type": "stream",
     "text": [
      "['apple', 'papaya', 'cherry', 'banana']\n"
     ]
    }
   ],
   "source": [
    "fruits_list = [\"apple\", \"papaya\", \"banana\"]\r\n",
    "fruits_list.insert(2, \"cherry\")\r\n",
    "print(fruits_list)"
   ]
  }
 ],
 "metadata": {
  "colab": {
   "name": "010_03_Python_Change_List_items.ipynb",
   "provenance": []
  },
  "interpreter": {
   "hash": "8a42e8581704d812f174276cadf47b91a8b3cbce976324507688b69a62b18c0b"
  },
  "kernelspec": {
   "display_name": "Python 3.8.2 32-bit",
   "name": "python3"
  },
  "language_info": {
   "codemirror_mode": {
    "name": "ipython",
    "version": 3
   },
   "file_extension": ".py",
   "mimetype": "text/x-python",
   "name": "python",
   "nbconvert_exporter": "python",
   "pygments_lexer": "ipython3",
   "version": "3.8.2"
  }
 },
 "nbformat": 4,
 "nbformat_minor": 2
}
