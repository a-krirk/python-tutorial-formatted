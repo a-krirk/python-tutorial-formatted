{
 "cells": [
  {
   "cell_type": "markdown",
   "metadata": {
    "id": "i7fuVFYh0SUE"
   },
   "source": [
    "#### String Formatting"
   ]
  },
  {
   "cell_type": "markdown",
   "metadata": {
    "id": "R1_aO9fH0au0"
   },
   "source": [
    "เพื่อให้มั่นใจว่า string จะแสดงผลลัพธ์ตามที่ต้องการ เราสามารถจัดรูปแบบผลลัพธ์ได้ด้วย method `format()`"
   ]
  },
  {
   "cell_type": "markdown",
   "metadata": {
    "id": "L_qfqTmo0eUz"
   },
   "source": [
    "###### String format()"
   ]
  },
  {
   "cell_type": "markdown",
   "metadata": {
    "id": "oI8aY9YK1xj8"
   },
   "source": [
    "สามารถจัดรูปแบบส่วนต่าง ๆ ของ  string ได้ด้วย method `format()` \r\n",
    "\r\n",
    "บางครั้งมีบางส่วนของข้อความที่ไม่ต้องการ ซึ่งอาจจะมาจากใน database หรือ input ที่รับเข้ามา\r\n",
    "\r\n",
    "สามารถปรับรูปแบบของข้อความได้ด้วยการใส่ `curly brackets {}` ลงในไปข้อความนั้น และรันค่าผ่าน method `format()`"
   ]
  },
  {
   "cell_type": "markdown",
   "metadata": {
    "id": "7VhYqTVN1BNb"
   },
   "source": [
    "###### ตัวอย่าง\r\n",
    "ใส่ `{}` ลงในไปส่วนที่ต้องการแสดงค่า price"
   ]
  },
  {
   "cell_type": "code",
   "execution_count": 1,
   "metadata": {
    "colab": {
     "base_uri": "https://localhost:8080/"
    },
    "id": "xXYiUX3BwAxV",
    "outputId": "3220500b-bf05-4838-871d-7fffef2b72e6"
   },
   "outputs": [
    {
     "name": "stdout",
     "output_type": "stream",
     "text": [
      "ราคาเท่ากับ 199 บาท\n"
     ]
    }
   ],
   "source": [
    "price = 199\r\n",
    "txt = \"ราคาเท่ากับ {} บาท\"\r\n",
    "print(txt.format(price))"
   ]
  },
  {
   "cell_type": "markdown",
   "metadata": {
    "id": "rurBNfA92SJs"
   },
   "source": [
    "สามารถเพิ่ม parameter ภายใน `{}` เพื่อระบุการปรับเปลี่ยน format ของข้อมูล"
   ]
  },
  {
   "cell_type": "markdown",
   "metadata": {
    "id": "5HtoeMda2UMn"
   },
   "source": [
    "###### ตัวอย่าง\r\n",
    "จัดรูปแบบ price ให้แสดงผลเป็นทศนิยม 2 ตำแหน่ง"
   ]
  },
  {
   "cell_type": "code",
   "execution_count": null,
   "metadata": {
    "id": "IsBed1o82b63"
   },
   "outputs": [],
   "source": [
    "txt = \"The price is {:.2f} dollars\""
   ]
  },
  {
   "cell_type": "markdown",
   "metadata": {
    "id": "eSvp9fho2j8O"
   },
   "source": [
    "###### การ format ค่าหลาย ๆ ค่าพร้อมกัน"
   ]
  },
  {
   "cell_type": "markdown",
   "metadata": {
    "id": "g4hmPHIF2tts"
   },
   "source": [
    "ถ้าต้องการใช้ค่าหลาย ๆ ค่า ทำได้ด้วยการเพิ่มค่าเหล่านั้นไปใน method format()"
   ]
  },
  {
   "cell_type": "markdown",
   "metadata": {
    "id": "QekN7D_m2yat"
   },
   "source": [
    "###### ตัวอย่าง\r\n",
    "สามารถใส่จำนวน `{}` มากกว่าหนึ่งครั้ง (ใส่ตามจำนวนข้อมูลที่ต้องการเปลี่ยน format)"
   ]
  },
  {
   "cell_type": "code",
   "execution_count": 2,
   "metadata": {
    "colab": {
     "base_uri": "https://localhost:8080/"
    },
    "id": "m2uWLXum28cc",
    "outputId": "a7874f41-a3b6-4299-f6ff-2939ab19c5ae"
   },
   "outputs": [
    {
     "name": "stdout",
     "output_type": "stream",
     "text": [
      "ขอสั่งซื้อสินค้า 4 ชิ้น อ้างอิงถึง item number 123 ราคาชิ้นละ 90.00 บาท\n"
     ]
    }
   ],
   "source": [
    "quantity = 4\r\n",
    "itemno = 123\r\n",
    "price = 90\r\n",
    "myorder = \"ขอสั่งซื้อสินค้า {} ชิ้น อ้างอิงถึง item number {} ราคาชิ้นละ {:.2f} บาท\"\r\n",
    "print(myorder.format(quantity, itemno, price))"
   ]
  },
  {
   "cell_type": "markdown",
   "metadata": {
    "id": "Ujz0LRnN3Nes"
   },
   "source": [
    "###### เลข Index"
   ]
  },
  {
   "cell_type": "markdown",
   "metadata": {
    "id": "Vjwl2iCm3DYF"
   },
   "source": [
    "สามารถเพิ่มเลข `index` (ตัวเลขที่อยู่ใน curly brackets เช่น {0}) เพื่อมั่นใจได้ว่าข้อมูลจะถูกจัดวางไว้ในตำแหน่งที่ถูกต้อง"
   ]
  },
  {
   "cell_type": "code",
   "execution_count": 5,
   "metadata": {
    "colab": {
     "base_uri": "https://localhost:8080/"
    },
    "id": "W41I-R863Si8",
    "outputId": "a8a09e0a-44eb-46ec-a71b-cceab042399f"
   },
   "outputs": [
    {
     "name": "stdout",
     "output_type": "stream",
     "text": [
      "ขอสั่งซื้อสินค้า item number 123 จำนวน 4 ชิ้น ราคาชิ้นละ 90.00 บาท\n"
     ]
    }
   ],
   "source": [
    "quantity = 4\r\n",
    "itemno = 123\r\n",
    "price = 90\r\n",
    "myorder = \"ขอสั่งซื้อสินค้า item number {1} จำนวน {0} ชิ้น ราคาชิ้นละ {2:.2f} บาท\"\r\n",
    "print(myorder.format(quantity, itemno, price))"
   ]
  },
  {
   "cell_type": "markdown",
   "metadata": {
    "id": "fZbHSs_r3XiU"
   },
   "source": [
    "ใช้เลข `index` ซ้ำกันได้ ถ้าคุณต้องการอ้างถึงข้อมูลเดียวกันมากกว่า 1 ครั้ง"
   ]
  },
  {
   "cell_type": "code",
   "execution_count": 10,
   "metadata": {
    "id": "yhXyscde3cD0"
   },
   "outputs": [
    {
     "name": "stdout",
     "output_type": "stream",
     "text": [
      "เขาชื่อสมชายนะ สมชายมีอายุครบ 6 ปีแล้ว\n"
     ]
    }
   ],
   "source": [
    "age = 6\r\n",
    "name = \"สมชาย\"\r\n",
    "txt = \"เขาชื่อ{1}นะ {1}มีอายุครบ {0} ปีแล้ว\"\r\n",
    "print(txt.format(age, name))"
   ]
  },
  {
   "cell_type": "markdown",
   "metadata": {
    "id": "wM9EU-vS3iKt"
   },
   "source": [
    "###### ชื่อ Index"
   ]
  },
  {
   "cell_type": "markdown",
   "metadata": {
    "id": "tz_N8YnV3uEt"
   },
   "source": [
    "สามารถใช้ `ชื่อ index` ได้โดยการใส่ชื่อเข้าไปใน `{}` เช่น {carname} \r\n",
    "\r\n",
    "จากนั้นจะต้องระบุชื่อ index ใน parameter ที่ป้อนเข้าไปใน function fortmat() เช่น txt.format(carname = \"Ford\")"
   ]
  },
  {
   "cell_type": "code",
   "execution_count": 11,
   "metadata": {
    "colab": {
     "base_uri": "https://localhost:8080/"
    },
    "id": "6c6R0FyV3vIs",
    "outputId": "53951b55-6239-4248-b544-997eca84c0d6"
   },
   "outputs": [
    {
     "name": "stdout",
     "output_type": "stream",
     "text": [
      "ฉันมีรถยนต์ยี่ห้อ Toyota รุ่น Vios\n"
     ]
    }
   ],
   "source": [
    "myorder = \"ฉันมีรถยนต์ยี่ห้อ {carname} รุ่น {model}\"\r\n",
    "print(myorder.format(carname = \"Toyota\", model = \"Vios\"))"
   ]
  }
 ],
 "metadata": {
  "colab": {
   "collapsed_sections": [],
   "name": "032_Python_stringformatting.ipynb",
   "provenance": []
  },
  "interpreter": {
   "hash": "00034aa5cd6c44013b830fd98c7a620a61a498e75425ca81fcc1166b84a69895"
  },
  "kernelspec": {
   "display_name": "Python 3.8.5 64-bit ('base': conda)",
   "name": "python3"
  },
  "language_info": {
   "codemirror_mode": {
    "name": "ipython",
    "version": 3
   },
   "file_extension": ".py",
   "mimetype": "text/x-python",
   "name": "python",
   "nbconvert_exporter": "python",
   "pygments_lexer": "ipython3",
   "version": "3.8.5"
  }
 },
 "nbformat": 4,
 "nbformat_minor": 2
}
