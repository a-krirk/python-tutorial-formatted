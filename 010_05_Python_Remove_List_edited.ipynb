{
 "cells": [
  {
   "cell_type": "markdown",
   "metadata": {
    "id": "XE7JlHAuN56_"
   },
   "source": [
    "#### การลบ Item ออกจาก List"
   ]
  },
  {
   "cell_type": "markdown",
   "metadata": {
    "id": "wbRMxsvPN57F"
   },
   "source": [
    "###### ลบ item โดยระบุค่า\n",
    "ใช้ method remove() เพื่อลบ item ที่ต้องการได้ด้วยการระบุค่านั้น ๆ"
   ]
  },
  {
   "cell_type": "markdown",
   "metadata": {
    "id": "1AGs-c5MN57G"
   },
   "source": [
    "###### ตัวอย่าง\r\n",
    "ลบ item \"blue\" ออกจาก list"
   ]
  },
  {
   "cell_type": "code",
   "execution_count": null,
   "metadata": {
    "id": "xiJfys41N57G"
   },
   "outputs": [],
   "source": [
    "my_list = [\"red\", \"blue\", \"green\"]\r\n",
    "my_list.remove(\"blue\")\r\n",
    "print(my_list)"
   ]
  },
  {
   "cell_type": "markdown",
   "metadata": {
    "id": "qxILuVTeN57I"
   },
   "source": [
    "###### ลบ item โดยระบุตำแหน่ง (ด้วยเลข index)\n",
    "ใช้ method pop() เพื่อลบ item ที่ต้องการได้ด้วยการระบุตำแหน่ง"
   ]
  },
  {
   "cell_type": "markdown",
   "metadata": {
    "id": "HXxo0jvmN57I"
   },
   "source": [
    "###### ตัวอย่าง\r\n",
    "ลบ item ตำแหน่งที่สองของ list"
   ]
  },
  {
   "cell_type": "code",
   "execution_count": null,
   "metadata": {
    "id": "l5SHK69iN57J"
   },
   "outputs": [],
   "source": [
    "my_list = [\"red\", \"blue\", \"green\"]\r\n",
    "my_list.pop(1)\r\n",
    "print(my_list)"
   ]
  },
  {
   "cell_type": "markdown",
   "metadata": {
    "id": "RHCh_IEdN57J"
   },
   "source": [
    "หากใช้ method pop() โดยไม่ระบุตำแหน่ง mothod นี้จะลบ item สุดท้ายอัตโนมัติ"
   ]
  },
  {
   "cell_type": "markdown",
   "metadata": {
    "id": "WFUGMfDdN57K"
   },
   "source": [
    "###### ตัวอย่าง\r\n",
    "ลบ item สุดท้ายของ list"
   ]
  },
  {
   "cell_type": "code",
   "execution_count": null,
   "metadata": {
    "id": "Vb69vVdxN57K",
    "outputId": "306f031d-a7fd-4166-ced8-7ba6410a1bd1"
   },
   "outputs": [
    {
     "name": "stdout",
     "output_type": "stream",
     "text": [
      "['apple', 'banana']\n"
     ]
    }
   ],
   "source": [
    "my_list = [\"red\", \"blue\", \"green\"]\r\n",
    "my_list.pop()\r\n",
    "print(my_list)"
   ]
  },
  {
   "cell_type": "markdown",
   "metadata": {
    "id": "wX1GQ2PYN57L"
   },
   "source": [
    "คำสั่ง del ใช้ลบข้อมูลโดยการระบุตำแหน่งด้วยเลข index เช่นเดียวกันกับ pop()"
   ]
  },
  {
   "cell_type": "markdown",
   "metadata": {
    "id": "P6RDVx9zN57L"
   },
   "source": [
    "###### ตัวอย่าง\r\n",
    "ลบ item แรกของ list"
   ]
  },
  {
   "cell_type": "code",
   "execution_count": null,
   "metadata": {
    "id": "aYOGXuQ8N57L"
   },
   "outputs": [],
   "source": [
    "my_list = [\"red\", \"blue\", \"green\"]\r\n",
    "del my_list[0]\r\n",
    "print(my_list)"
   ]
  },
  {
   "cell_type": "markdown",
   "metadata": {
    "id": "EwFqxuYlN57L"
   },
   "source": [
    "คำสั่ง del สามารถใช้ลบ list ที่ประกอบด้วย item(s) มากมายได้"
   ]
  },
  {
   "cell_type": "markdown",
   "metadata": {
    "id": "Jp4izO6LN57M"
   },
   "source": [
    "###### ตัวอย่าง\r\n",
    "ลบ list"
   ]
  },
  {
   "cell_type": "code",
   "execution_count": null,
   "metadata": {
    "id": "Ly3Eb33LN57M"
   },
   "outputs": [],
   "source": [
    "my_list = [\"red\", \"blue\", \"green\"]\r\n",
    "del my_list"
   ]
  },
  {
   "cell_type": "markdown",
   "metadata": {
    "id": "7Mp3yMVUN57M"
   },
   "source": [
    "###### ลบ item ทั้งหมด\n",
    "ใช้ method clear() เพื่อลบ item ทั้งหมดใน list เหลือเป็น list ว่าง\n",
    "\n",
    "โดยเหลือเพียงแค่ list เท่านั้น ไม่มี item เหลืออยู่"
   ]
  },
  {
   "cell_type": "markdown",
   "metadata": {
    "id": "-Z55d9GNN57N"
   },
   "source": [
    "###### ตัวอย่าง\r\n",
    "clear item ทั้งหมดใน list"
   ]
  },
  {
   "cell_type": "code",
   "execution_count": null,
   "metadata": {
    "id": "Ollppe8PN57N",
    "outputId": "cf8cebab-383b-486c-b4af-7afa3eca9f34"
   },
   "outputs": [
    {
     "name": "stdout",
     "output_type": "stream",
     "text": [
      "[]\n"
     ]
    }
   ],
   "source": [
    "my_list = [\"red\", \"blue\", \"green\"]\r\n",
    "my_list.clear()\r\n",
    "print(my_list)"
   ]
  }
 ],
 "metadata": {
  "colab": {
   "collapsed_sections": [],
   "name": "010_05_Python_Remove_List.ipynb",
   "provenance": [],
   "toc_visible": true
  },
  "interpreter": {
   "hash": "00034aa5cd6c44013b830fd98c7a620a61a498e75425ca81fcc1166b84a69895"
  },
  "kernelspec": {
   "display_name": "Python 3.8.5 64-bit ('base': conda)",
   "name": "python3"
  },
  "language_info": {
   "codemirror_mode": {
    "name": "ipython",
    "version": 3
   },
   "file_extension": ".py",
   "mimetype": "text/x-python",
   "name": "python",
   "nbconvert_exporter": "python",
   "pygments_lexer": "ipython3",
   "version": "3.8.5"
  }
 },
 "nbformat": 4,
 "nbformat_minor": 2
}
