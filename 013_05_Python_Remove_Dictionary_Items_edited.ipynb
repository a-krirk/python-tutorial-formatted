{
 "cells": [
  {
   "cell_type": "markdown",
   "metadata": {
    "id": "mtfbYp1UKXEM"
   },
   "source": [
    "#### Python - การลบ Items ใน Dictionary "
   ]
  },
  {
   "cell_type": "markdown",
   "metadata": {
    "id": "NqpAXB7RKXEZ"
   },
   "source": [
    "###### การลบ Items \n",
    "มีหลายวิธีที่สามารถลบ item ใน dictionary ได้"
   ]
  },
  {
   "cell_type": "markdown",
   "metadata": {
    "id": "ZPW8n1y2KXEc"
   },
   "source": [
    "###### ตัวอย่าง\r\n",
    "ใช้ method `pop()` ลบ item ด้วยการระบุชื่อ key"
   ]
  },
  {
   "cell_type": "code",
   "execution_count": 1,
   "metadata": {
    "id": "rPbviimCKXEf",
    "outputId": "d572eed5-0dd0-41b7-9eb4-3c2b2f79058a"
   },
   "outputs": [
    {
     "name": "stdout",
     "output_type": "stream",
     "text": [
      "{'brand': 'Honda', 'year': 2020}\n"
     ]
    }
   ],
   "source": [
    "thisdict = {\r\n",
    "  \"brand\": \"Honda\",\r\n",
    "  \"model\": \"City\",\r\n",
    "  \"year\": 2020\r\n",
    "}\r\n",
    "thisdict.pop(\"model\")\r\n",
    "print(thisdict)"
   ]
  },
  {
   "cell_type": "markdown",
   "metadata": {
    "id": "hHyecbaBKXEk"
   },
   "source": [
    "###### ตัวอย่าง\r\n",
    "ใช้ method `popitem()` ลบ item สุดท้ายที่เพิ่มเข้าไปใน dictionary"
   ]
  },
  {
   "cell_type": "code",
   "execution_count": 2,
   "metadata": {
    "id": "aawf3YdMKXEl",
    "outputId": "a5aa7840-e8ab-4a02-a64d-3c127a801fab"
   },
   "outputs": [
    {
     "name": "stdout",
     "output_type": "stream",
     "text": [
      "{'brand': 'Honda', 'model': 'City'}\n"
     ]
    }
   ],
   "source": [
    "thisdict = {\r\n",
    "  \"brand\": \"Honda\",\r\n",
    "  \"model\": \"City\",\r\n",
    "  \"year\": 2020\r\n",
    "}\r\n",
    "thisdict.popitem()\r\n",
    "print(thisdict)"
   ]
  },
  {
   "cell_type": "markdown",
   "metadata": {
    "id": "ykyWMJz7KXEm"
   },
   "source": [
    "###### ตัวอย่าง\r\n",
    "ใช้ keyword  `del` ลบ item ด้วยการระบุชื่อ key"
   ]
  },
  {
   "cell_type": "code",
   "execution_count": 3,
   "metadata": {
    "id": "VPL1atxKKXEn",
    "outputId": "7b87ff27-150d-4b95-f16c-b93b463247ce"
   },
   "outputs": [
    {
     "name": "stdout",
     "output_type": "stream",
     "text": [
      "{'brand': 'Honda', 'year': 2020}\n"
     ]
    }
   ],
   "source": [
    "thisdict = {\r\n",
    "  \"brand\": \"Honda\",\r\n",
    "  \"model\": \"City\",\r\n",
    "  \"year\": 2020\r\n",
    "}\r\n",
    "del thisdict[\"model\"]\r\n",
    "print(thisdict)"
   ]
  },
  {
   "cell_type": "markdown",
   "metadata": {
    "id": "nSYxpuRlKXEo"
   },
   "source": [
    "###### ตัวอย่าง\r\n",
    "ใช้ keyword  `del` ลบ dictionary"
   ]
  },
  {
   "cell_type": "code",
   "execution_count": 4,
   "metadata": {
    "id": "U09ZKQFUKXEp",
    "outputId": "0ab7875a-e46b-44d4-be23-2bb9809d862d"
   },
   "outputs": [
    {
     "ename": "NameError",
     "evalue": "name 'thisdict' is not defined",
     "output_type": "error",
     "traceback": [
      "\u001b[1;31m---------------------------------------------------------------------------\u001b[0m",
      "\u001b[1;31mNameError\u001b[0m                                 Traceback (most recent call last)",
      "\u001b[1;32m~\\AppData\\Local\\Temp/ipykernel_14956/684466402.py\u001b[0m in \u001b[0;36m<module>\u001b[1;34m\u001b[0m\n\u001b[0;32m      5\u001b[0m }\n\u001b[0;32m      6\u001b[0m \u001b[1;32mdel\u001b[0m \u001b[0mthisdict\u001b[0m\u001b[1;33m\u001b[0m\u001b[1;33m\u001b[0m\u001b[0m\n\u001b[1;32m----> 7\u001b[1;33m \u001b[0mprint\u001b[0m\u001b[1;33m(\u001b[0m\u001b[0mthisdict\u001b[0m\u001b[1;33m)\u001b[0m \u001b[1;31m#this will cause an error because \"thisdict\" no longer exists.\u001b[0m\u001b[1;33m\u001b[0m\u001b[1;33m\u001b[0m\u001b[0m\n\u001b[0m",
      "\u001b[1;31mNameError\u001b[0m: name 'thisdict' is not defined"
     ]
    }
   ],
   "source": [
    "thisdict = {\r\n",
    "  \"brand\": \"Honda\",\r\n",
    "  \"model\": \"City\",\r\n",
    "  \"year\": 2020\r\n",
    "}\r\n",
    "del thisdict\r\n",
    "print(thisdict) #this will cause an error because \"thisdict\" no longer exists."
   ]
  },
  {
   "cell_type": "markdown",
   "metadata": {
    "id": "nCMuWTZhKXEq"
   },
   "source": [
    "###### ตัวอย่าง\r\n",
    "ใช้ method `clear()` เพื่อลบ item ทั้งหมดใน dictionary"
   ]
  },
  {
   "cell_type": "code",
   "execution_count": null,
   "metadata": {
    "id": "Vt1zwXsnKXEr"
   },
   "outputs": [],
   "source": [
    "thisdict = {\r\n",
    "  \"brand\": \"Honda\",\r\n",
    "  \"model\": \"City\",\r\n",
    "  \"year\": 2020\r\n",
    "}\r\n",
    "thisdict.clear()\r\n",
    "print(thisdict)"
   ]
  }
 ],
 "metadata": {
  "colab": {
   "collapsed_sections": [],
   "name": "013_05_Python_Remove_Dictionary_Items.ipynb",
   "provenance": []
  },
  "interpreter": {
   "hash": "00034aa5cd6c44013b830fd98c7a620a61a498e75425ca81fcc1166b84a69895"
  },
  "kernelspec": {
   "display_name": "Python 3.8.5 64-bit ('base': conda)",
   "name": "python3"
  },
  "language_info": {
   "codemirror_mode": {
    "name": "ipython",
    "version": 3
   },
   "file_extension": ".py",
   "mimetype": "text/x-python",
   "name": "python",
   "nbconvert_exporter": "python",
   "pygments_lexer": "ipython3",
   "version": "3.8.5"
  }
 },
 "nbformat": 4,
 "nbformat_minor": 2
}
