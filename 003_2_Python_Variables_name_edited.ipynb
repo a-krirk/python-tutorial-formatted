{
 "cells": [
  {
   "cell_type": "markdown",
   "metadata": {
    "id": "qkYGxktCuYPU"
   },
   "source": [
    "#### ชื่อของตัวแปรในภาษา Python"
   ]
  },
  {
   "cell_type": "markdown",
   "metadata": {
    "id": "PX8M40eCuZjJ"
   },
   "source": [
    "###### ชื่อตัวแปร (Variable Name)\r\n",
    "\r\n",
    "สามารถกำหนดชื่อตัวแปรเป็นตัวอักษรสั้นๆได้ เช่น  ( x and y ) หรือ จะตั้งเป็นชื่อที่มีความหมาย เช่น (age, carname, total_volume).\r\n",
    "\r\n",
    "กฏการตั้งชื่อตัวแปรของภาษา Python มีดังนี้\r\n",
    "\r\n",
    "*  ชื่อตัวแปรต้องขึ้นต้นด้วยตัวอักษรหรือ underscores ( _ )\r\n",
    "*  ชื่อตัวแปรไม่สามารถขึ้นต้นด้วยตัวเลขได้\r\n",
    "*  ชื่อตัวแปรสามารถใช้ได้แค่ ตัวอักษร ตัวเลข และ underscores (A-z, 0-9, and _ )\r\n",
    "*  ตัวแปรที่ตั้งชื่อด้วยตัวพิมพ์เล็กจะแตกต่างจากตัวแปรที่ตั้งชื่อด้วยตัวพิมพ์ใหญ่ ยกตัวอย่างเช่น age, Age and AGE แม้จะใช้ตัวอักษร a-g-e เหมือนกัน แต่จัดว่าเป็นตัวแปรที่แตกต่างกัน 3 ตัว"
   ]
  },
  {
   "cell_type": "markdown",
   "metadata": {
    "id": "RAZ-fxu3vDmR"
   },
   "source": [
    "###### ตัวอย่าง\r\n",
    "การตั้งชื่อตัวแปรที่ถูกต้องตามกฎการตั้งชื่อ"
   ]
  },
  {
   "cell_type": "code",
   "execution_count": null,
   "metadata": {
    "id": "NtE4YKwsvHSi"
   },
   "outputs": [],
   "source": [
    "myvar = \"ดำ\"\r\n",
    "my_var = \"ดำ\"\r\n",
    "_my_var = \"ดำ\"\r\n",
    "myVar = \"ดำ\"\r\n",
    "MYVAR = \"ดำ\"\r\n",
    "myvar2 = \"ดำ\""
   ]
  },
  {
   "cell_type": "markdown",
   "metadata": {
    "id": "J9UH1xnZv1v1"
   },
   "source": [
    "###### ตัวอย่าง\r\n",
    "การตั้งชื่อตัวแปรที่ไม่ถูกต้อง"
   ]
  },
  {
   "cell_type": "code",
   "execution_count": 1,
   "metadata": {
    "colab": {
     "base_uri": "https://localhost:8080/",
     "height": 130
    },
    "executionInfo": {
     "elapsed": 344,
     "status": "error",
     "timestamp": 1630401019432,
     "user": {
      "displayName": "Tonmint",
      "photoUrl": "https://lh3.googleusercontent.com/a-/AOh14Gjr3k68CaqFA0BaizQnV_n9o-gWTpCJ-wfQEBHUiw=s64",
      "userId": "08467319039626675515"
     },
     "user_tz": -420
    },
    "id": "J0Pe2cVxv3QY",
    "outputId": "5246f853-1ccb-4803-fb6e-d27965e2b212"
   },
   "outputs": [
    {
     "ename": "SyntaxError",
     "evalue": "invalid syntax (<ipython-input-1-d02392b53f2b>, line 1)",
     "output_type": "error",
     "traceback": [
      "\u001b[1;36m  File \u001b[1;32m\"<ipython-input-1-d02392b53f2b>\"\u001b[1;36m, line \u001b[1;32m1\u001b[0m\n\u001b[1;33m    2myvar = \"ดำ\"\u001b[0m\n\u001b[1;37m     ^\u001b[0m\n\u001b[1;31mSyntaxError\u001b[0m\u001b[1;31m:\u001b[0m invalid syntax\n"
     ]
    }
   ],
   "source": [
    "2myvar = \"ดำ\"\r\n",
    "my-var = \"ดำ\"\r\n",
    "my var = \"ดำ\""
   ]
  },
  {
   "cell_type": "markdown",
   "metadata": {
    "id": "fvQsF4LQ6iCD"
   },
   "source": [
    "###### การตั้งชื่อตัวแปรด้วยคำหลายคำ \r\n",
    "\r\n",
    "การตั้งชื่อตัวแปรโดยใช้คำมากกว่า 1 คำ จะทำให้อ่านยาก\r\n",
    "\r\n",
    "มีเทคนิคหลายอย่างที่ช่วยให้อ่านง่ายขึ้น"
   ]
  },
  {
   "cell_type": "markdown",
   "metadata": {
    "id": "hVcuK2Mj6sNg"
   },
   "source": [
    "###### Camel Case\r\n",
    "ตั้งชื่อตัวแปรโดยให้ใช้ตัวอักษรขึ้นต้นคำแต่ละคำขึ้นต้นเป็นตัวพิมพ์ใหญ่ ยกเว้นคำแรกให้ใช้ตัวพิมพ์เล็ก"
   ]
  },
  {
   "cell_type": "code",
   "execution_count": null,
   "metadata": {
    "id": "-s_QI7M666Mx"
   },
   "outputs": [],
   "source": [
    "myVariableName = \"ดำ\""
   ]
  },
  {
   "cell_type": "markdown",
   "metadata": {
    "id": "wgZS6lpa7Nvy"
   },
   "source": [
    "###### Pascal Case\r\n",
    "ตั้งชื่อตัวแปรโดยให้ใช้ตัวอักษรขึ้นต้นคำแต่ละคำขึ้นต้นด้วยตัวพิมพ์ใหญ่ทุกคำ"
   ]
  },
  {
   "cell_type": "code",
   "execution_count": null,
   "metadata": {
    "id": "JNyf3L7e7SlW"
   },
   "outputs": [],
   "source": [
    "MyVariableName = \"ดำ\""
   ]
  },
  {
   "cell_type": "markdown",
   "metadata": {
    "id": "0NNDiWrw7aew"
   },
   "source": [
    "###### Snake Case\r\n",
    "\r\n",
    "ตั้งชื่อตัวแปรโดยใช้ underscore เป็นตัวแยกคำแต่ละคำแยกออกจากกัน"
   ]
  },
  {
   "cell_type": "code",
   "execution_count": null,
   "metadata": {
    "id": "MwHk-iZE7dAx"
   },
   "outputs": [],
   "source": [
    "my_variable_name = \"ดำ\""
   ]
  }
 ],
 "metadata": {
  "colab": {
   "name": "Copy of Python variables names.ipynb",
   "provenance": [
    {
     "file_id": "1ln162efVBPb3mDoBdIkhC4FkKTXhDPIQ",
     "timestamp": 1631175366110
    }
   ]
  },
  "interpreter": {
   "hash": "8a42e8581704d812f174276cadf47b91a8b3cbce976324507688b69a62b18c0b"
  },
  "kernelspec": {
   "display_name": "Python 3.8.2 32-bit",
   "name": "python3"
  },
  "language_info": {
   "codemirror_mode": {
    "name": "ipython",
    "version": 3
   },
   "file_extension": ".py",
   "mimetype": "text/x-python",
   "name": "python",
   "nbconvert_exporter": "python",
   "pygments_lexer": "ipython3",
   "version": "3.8.2"
  }
 },
 "nbformat": 4,
 "nbformat_minor": 2
}
