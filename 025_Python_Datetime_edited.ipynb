{
 "cells": [
  {
   "cell_type": "markdown",
   "metadata": {
    "id": "2FkExhFIoNY8"
   },
   "source": [
    "#### Datetime"
   ]
  },
  {
   "cell_type": "markdown",
   "metadata": {
    "id": "_fzw-I-wVWyH"
   },
   "source": [
    "วันที่ใน Python ไม่มีประเภทของข้อมูลเป็นของตัวเอง แต่เราสามารถ import module ชื่อ `datetime` เพื่อมาทำงานร่วมกับ object ที่มีข้อมูลวัน-เวลา"
   ]
  },
  {
   "cell_type": "code",
   "execution_count": 7,
   "metadata": {
    "colab": {
     "base_uri": "https://localhost:8080/"
    },
    "executionInfo": {
     "elapsed": 7,
     "status": "ok",
     "timestamp": 1630398986141,
     "user": {
      "displayName": "Wachirawit Viriyaphisathan",
      "photoUrl": "https://lh3.googleusercontent.com/a-/AOh14GhpFNFOo2HRjyI36_HMPGhSHMfGYozwoiGMZBoPbA=s64",
      "userId": "03875063837227722804"
     },
     "user_tz": -420
    },
    "id": "k3N3_XaDVqd4",
    "outputId": "d973babf-6a26-428f-92ab-1063d054f93f"
   },
   "outputs": [
    {
     "name": "stdout",
     "output_type": "stream",
     "text": [
      "2021-10-07 16:19:39.424338\n"
     ]
    }
   ],
   "source": [
    "import datetime\r\n",
    "\r\n",
    "x = datetime.datetime.now()\r\n",
    "print(x)"
   ]
  },
  {
   "cell_type": "markdown",
   "metadata": {
    "id": "ivayp-vFcY1x"
   },
   "source": [
    "###### การแสดงผลลัพธ์ของ Date"
   ]
  },
  {
   "cell_type": "markdown",
   "metadata": {
    "id": "D1qUO64dcgy2"
   },
   "source": [
    "เมื่อเรารันโค้ดจากตัวอย่างด้านบน จะได้ผลลัพธ์ในรูปแบบนี้ 2021-10-07 15:35:45.658810\r\n",
    "\r\n",
    "จะเห็นว่าผลลัพธ์ที่ได้จะประกอบไปด้วยปี เดือน วัน ชั่วโมง นาที วินาที และมิลลิวินาที\r\n",
    "\r\n",
    "ใน module `datetime` มีหลายวิธีที่จะ return ค่าเกี่ยวกับวัน-เวลาออกมา"
   ]
  },
  {
   "cell_type": "markdown",
   "metadata": {},
   "source": [
    "###### ตัวอย่าง\r\n",
    "สามารถใช้ `.year` และ `.strftime(\"%A\")` เพื่อดึงข้อมูล ปี และ ชื่อของวัน ออกมาได้"
   ]
  },
  {
   "cell_type": "code",
   "execution_count": 8,
   "metadata": {
    "colab": {
     "base_uri": "https://localhost:8080/"
    },
    "executionInfo": {
     "elapsed": 548,
     "status": "ok",
     "timestamp": 1630398982459,
     "user": {
      "displayName": "Wachirawit Viriyaphisathan",
      "photoUrl": "https://lh3.googleusercontent.com/a-/AOh14GhpFNFOo2HRjyI36_HMPGhSHMfGYozwoiGMZBoPbA=s64",
      "userId": "03875063837227722804"
     },
     "user_tz": -420
    },
    "id": "9mciK2Uxcjzs",
    "outputId": "8fb1493c-e13f-4ec0-98e3-35ffeb331bf8"
   },
   "outputs": [
    {
     "name": "stdout",
     "output_type": "stream",
     "text": [
      "2021\n",
      "Thursday\n"
     ]
    }
   ],
   "source": [
    "import datetime\r\n",
    "\r\n",
    "x = datetime.datetime.now()\r\n",
    "\r\n",
    "print(x.year)\r\n",
    "print(x.strftime(\"%A\"))"
   ]
  },
  {
   "cell_type": "markdown",
   "metadata": {
    "id": "hL3CXZNMcnue"
   },
   "source": [
    "###### การสร้าง Date Objects"
   ]
  },
  {
   "cell_type": "markdown",
   "metadata": {
    "id": "46_w8kYjcsE0"
   },
   "source": [
    "ใช้ class `datetime()` ใน module `datetime` ในการสร้างวัน-เวลา \r\n",
    "\r\n",
    "class `datetime()` ต้องการ parameter อย่างน้อย 3 ตัว คือ ปี, เดือน, วัน ตามลำดับ"
   ]
  },
  {
   "cell_type": "code",
   "execution_count": 9,
   "metadata": {
    "colab": {
     "base_uri": "https://localhost:8080/"
    },
    "executionInfo": {
     "elapsed": 5,
     "status": "ok",
     "timestamp": 1630398982977,
     "user": {
      "displayName": "Wachirawit Viriyaphisathan",
      "photoUrl": "https://lh3.googleusercontent.com/a-/AOh14GhpFNFOo2HRjyI36_HMPGhSHMfGYozwoiGMZBoPbA=s64",
      "userId": "03875063837227722804"
     },
     "user_tz": -420
    },
    "id": "d1vaE2zXcuTp",
    "outputId": "2c2e9365-43d3-4419-f886-ca244f46ccd0"
   },
   "outputs": [
    {
     "name": "stdout",
     "output_type": "stream",
     "text": [
      "2020-05-17 00:00:00\n"
     ]
    }
   ],
   "source": [
    "import datetime\r\n",
    "\r\n",
    "x = datetime.datetime(2020, 5, 17)\r\n",
    "\r\n",
    "print(x)"
   ]
  },
  {
   "cell_type": "markdown",
   "metadata": {
    "id": "8GJ3c4DmcvDj"
   },
   "source": [
    "class `datetime()` ยังสามารถใส่ parameter สำหรับ time และ timezone เพิ่มได้ (hour, minute, second, microsecond, tzone) โดยมีค่า default เป็น 0 (ส่วน tzone มีค่า default เป็น None)"
   ]
  },
  {
   "cell_type": "markdown",
   "metadata": {
    "id": "Jt9K9hliV8ki"
   },
   "source": [
    "###### Method strftime()"
   ]
  },
  {
   "cell_type": "markdown",
   "metadata": {
    "id": "XNueowkDWJii"
   },
   "source": [
    "object `datetime` มี method `strftime()` สำหรับปรับเปลี่ยนวันที่ให้เป็น string ในรูปแบบที่อ่านง่าย\r\n",
    "\r\n",
    "method `strftime()` โดยจะรับค่ามา 1 parameter : format เพื่อกำหนด format ของ string ที่จะ return ค่าออกมา"
   ]
  },
  {
   "cell_type": "markdown",
   "metadata": {},
   "source": [
    "###### ตัวอย่าง\r\n",
    "ใช้ `strftime(\"%B\")` แสดงชื่อเดือน"
   ]
  },
  {
   "cell_type": "code",
   "execution_count": 10,
   "metadata": {
    "colab": {
     "base_uri": "https://localhost:8080/"
    },
    "executionInfo": {
     "elapsed": 326,
     "status": "ok",
     "timestamp": 1630399357440,
     "user": {
      "displayName": "Wachirawit Viriyaphisathan",
      "photoUrl": "https://lh3.googleusercontent.com/a-/AOh14GhpFNFOo2HRjyI36_HMPGhSHMfGYozwoiGMZBoPbA=s64",
      "userId": "03875063837227722804"
     },
     "user_tz": -420
    },
    "id": "tp-Qwp10WNxT",
    "outputId": "8322b286-d356-4d5f-9e60-6ff70e78aa2a"
   },
   "outputs": [
    {
     "name": "stdout",
     "output_type": "stream",
     "text": [
      "October\n"
     ]
    }
   ],
   "source": [
    "import datetime\r\n",
    "\r\n",
    "x = datetime.datetime(2021, 10, 7)\r\n",
    "\r\n",
    "print(x.strftime(\"%B\"))"
   ]
  },
  {
   "cell_type": "markdown",
   "metadata": {
    "id": "iz3AJ1GiWmlc"
   },
   "source": [
    "ความหมายของ format code แบบต่าง ๆ\r\n",
    "\r\n",
    "* `%a` = ชื่อของวันในสัปดาห์ (แบบย่อ) เช่น Sun - Sat\r\n",
    "* `%A` = ชื่อของวันในสัปดาห์ (แบบเต็ม) เช่น Sunday - Saturday\r\n",
    "* `%w` = หมายเลขของวันในสัปดาห์ ตั้งแต่ 0 - 6 เช่น 0 คือวันอาทิตย์, 6 คือวันเสาร์\r\n",
    "* `%d` = วันของเดือน โดยมี 0 นำหน้า (01-31)\r\n",
    "* `%b` = ชื่อของเดือน (แบบย่อ) เช่น Jan - Dec\r\n",
    "* `%B` = ชื่อของเดือน  (แบบเต็ม) เช่น January - December\r\n",
    "* `%m` = หมายเลขเดือนของปี  โดยมี 0 นำหน้า (01-12) เช่น 01 คือวันที่ 1\r\n",
    "* `%y` = ปีแบบย่อ มีตัวเลขสองตัว (00 - 99) \r\n",
    "* `%Y` = ปีแบบเต็ม มีตัวเลขสี่ตัว (0000 - 9999)\r\n",
    "* `%H` = ชั่วโมงในรูปแบบ 24 ชั่วโมง (00-23)\r\n",
    "* `%I` = ชั่วโมงในรูปแบบ 12 ชั่วโมง (00-12)\r\n",
    "* `%p` = ตัวบอกเวลาก่อนและหลังเที่ยง (AM/PM)\r\n",
    "* `%M` = นาทีในรูปแบบสองตัวเลข (00-59)\r\n",
    "* `%S` = วินาทีในรูปแบบสองตัวเลข (00-59)\r\n",
    "* `%f` = ไมโครวินาทีในรูปแบบตัวเลขหกตัว (000000-999999)\r\n",
    "* `%z` = เขตเวลา UTC ในรูปแบบ +HHMM เช่น +0000, +0730, -1200\r\n",
    "* `%Z` = ชื่อเขตเวลา เช่น UTC, GMT\r\n",
    "* `%j` = วันของปีมี 0/00 นำหน้า (001-366)\r\n",
    "* `%U` = สัปดาห์ของปีมี 0 นำหน้า โดยมีวันอาทิตย์เป็นวันแรกของสัปดาห์ (00 - 53)\r\n",
    "* `%W` = สัปดาห์ของปีมี 0 นำหน้า โดยมีวันจันทร์เป็นวันแรกของสัปดาห์ (00 - 53)\r\n",
    "* `%c` = วันที่และเวลาในท้องถิ่นปัจจุบัน\r\n",
    "* `%C` = ศตวรรษ เช่น 21\r\n",
    "* `%x` = วันที่ในท้องถิ่นปัจจุบัน เช่น 09/27/2021\r\n",
    "* `%X` = เวลาในท้องถิ่นปัจจุบัน เช่น 15:30:00\r\n",
    "* `%%` = ใช้สำหรับแสดงตัวอักษร %\r\n",
    "* `%G` = ปีตามมาตรฐาน ISO 8601 เช่น 2021\r\n",
    "* `%u` = วันในสัปดาห์ตามมาตรฐาน ISO 8601 (1-7) เช่น 1\r\n",
    "* `%V` = สัปดาห์ในปีตามมาตรฐาน ISO 8601 (01-53) เช่น 01"
   ]
  },
  {
   "cell_type": "markdown",
   "metadata": {},
   "source": []
  }
 ],
 "metadata": {
  "colab": {
   "collapsed_sections": [],
   "name": "025_Python_Datetime.ipynb",
   "provenance": [
    {
     "file_id": "1GYWqwTjyvoCIVHKuHjJVrPNZES1x2701",
     "timestamp": 1630398666821
    },
    {
     "file_id": "1G-ipvCETvy7-qf8RmyZHhKlggDOTUjdF",
     "timestamp": 1630382852722
    },
    {
     "file_id": "1v3i8iLWGEzHHjhmBzekbKNw4jYC7jVdy",
     "timestamp": 1630381854148
    },
    {
     "file_id": "1zGEzryzY-8X3orGID4GQgh8_ngVGiVXQ",
     "timestamp": 1630381031721
    },
    {
     "file_id": "1-eAGg9tPyYdkRd6R0xhPBfdVtwyLMWIY",
     "timestamp": 1630380612810
    },
    {
     "file_id": "1sVn9bVEnWLbtTPu4idRaMz-ZBXY1fG62",
     "timestamp": 1630340809849
    },
    {
     "file_id": "1YtwUjCetdLnR50UNYGnR1IAtH0W9ooO1",
     "timestamp": 1630337697384
    },
    {
     "file_id": "17XEX7PlOXBuY9UKKtSy1bB2_DdHBOg1P",
     "timestamp": 1630337226185
    }
   ]
  },
  "interpreter": {
   "hash": "00034aa5cd6c44013b830fd98c7a620a61a498e75425ca81fcc1166b84a69895"
  },
  "kernelspec": {
   "display_name": "Python 3.8.5 64-bit ('base': conda)",
   "name": "python3"
  },
  "language_info": {
   "codemirror_mode": {
    "name": "ipython",
    "version": 3
   },
   "file_extension": ".py",
   "mimetype": "text/x-python",
   "name": "python",
   "nbconvert_exporter": "python",
   "pygments_lexer": "ipython3",
   "version": "3.8.5"
  }
 },
 "nbformat": 4,
 "nbformat_minor": 2
}
