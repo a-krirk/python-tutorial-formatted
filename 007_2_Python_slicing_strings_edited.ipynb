{
 "cells": [
  {
   "cell_type": "markdown",
   "metadata": {},
   "source": [
    "#### การ Slice Strings"
   ]
  },
  {
   "cell_type": "markdown",
   "metadata": {},
   "source": [
    "###### Slicing\r\n",
    "\r\n",
    "สามารถกำหนดขอบเขตของตัวอักษรที่ต้องการดึงมาจาก string ได้ โดยการระบุ [index เริ่มต้น : index สิ้นสุด]"
   ]
  },
  {
   "cell_type": "markdown",
   "metadata": {},
   "source": [
    "###### ตัวอย่าง\r\n",
    "\r\n",
    "ดึงตัวอักษรตั้งแต่ตัวอักษรตำแหน่งที่ 4 ถึงตัวอักษรตำแหน่งที่ 7 (จะไม่รวมตัวอักษรตำแหน่งที่ 7)"
   ]
  },
  {
   "cell_type": "code",
   "execution_count": 5,
   "metadata": {},
   "outputs": [
    {
     "name": "stdout",
     "output_type": "stream",
     "text": [
      "เทพ\n"
     ]
    }
   ],
   "source": [
    "a = \"กรุงเทพมหานคร\"\r\n",
    "print(a[4:7])"
   ]
  },
  {
   "cell_type": "markdown",
   "metadata": {},
   "source": [
    "###### Slice ตั้งแต่เริ่ม\r\n",
    "สามารถ slice ตั้งแต่เริ่มได้ โดยการไม่ระบุ index เริ่มต้น เช่น [:5] จะเป็นการเลือกตัวอักษรตั้งแต่ตัวอักษรตัวแรกถึงตัวอักษรตำแหน่งที่ 5 (ไม่รวมตัวอักษรตำแหน่งที่ 5)"
   ]
  },
  {
   "cell_type": "markdown",
   "metadata": {},
   "source": [
    "###### ตัวอย่าง\r\n",
    "\r\n",
    "ดึงตัวอักษรตั้งแต่ตัวแรกถึงตัวอักษรตำแหน่งที่ 6 (ไม่รวมตัวอักษรตำแหน่งที่ 6)"
   ]
  },
  {
   "cell_type": "code",
   "execution_count": 10,
   "metadata": {},
   "outputs": [
    {
     "name": "stdout",
     "output_type": "stream",
     "text": [
      "คนอะไร\n"
     ]
    }
   ],
   "source": [
    "b = \"คนอะไรทำไมน่ารักจัง\"\r\n",
    "print(b[:6])"
   ]
  },
  {
   "cell_type": "markdown",
   "metadata": {},
   "source": [
    "###### Slice ไปถึงจุดสิ้นสุด\r\n",
    "\r\n",
    "สามารถ slice ไปถึงจุดสิ้นสุดได้ โดยการไม่ระบุ index สิ้นสุด เช่น [4:] จะเป็นการเลือกตัวอักษรตั้งแต่ตัวอักษรตำแหน่งที่ 4 ไปจนถึงจุดสิ้นสุด"
   ]
  },
  {
   "cell_type": "markdown",
   "metadata": {},
   "source": [
    "###### ตัวอย่าง\r\n",
    "\r\n",
    "ดึงตัวอักษรตั้งแต่ตัวอักษรตำแหน่งที่ 6 ไปจนถึงจุดสิ้นสุด"
   ]
  },
  {
   "cell_type": "code",
   "execution_count": 11,
   "metadata": {},
   "outputs": [
    {
     "name": "stdout",
     "output_type": "stream",
     "text": [
      "ปัญหาเริ่มด้วยปัญญา\n"
     ]
    }
   ],
   "source": [
    "c = \"การแก้ปัญหาเริ่มด้วยปัญญา\"\r\n",
    "print(c[6:])"
   ]
  },
  {
   "cell_type": "markdown",
   "metadata": {},
   "source": [
    "###### การใช้ Negative index\r\n",
    "\r\n",
    "ใช้ Negative index เพื่อระบุว่าจะเริ่ม slice จากจุดสิ้นสุดของ string\r\n",
    "\r\n",
    "เช่น [-1:] เป็นการเลือกตัวอักษรตัวสุดท้ายใน string "
   ]
  },
  {
   "cell_type": "markdown",
   "metadata": {},
   "source": [
    "###### ตัวอย่าง"
   ]
  },
  {
   "cell_type": "code",
   "execution_count": 12,
   "metadata": {},
   "outputs": [
    {
     "name": "stdout",
     "output_type": "stream",
     "text": [
      "?\n"
     ]
    }
   ],
   "source": [
    "d = \"กินข้าวหรือยัง?\"\r\n",
    "print(d[-1:])"
   ]
  },
  {
   "cell_type": "markdown",
   "metadata": {},
   "source": []
  }
 ],
 "metadata": {
  "interpreter": {
   "hash": "00034aa5cd6c44013b830fd98c7a620a61a498e75425ca81fcc1166b84a69895"
  },
  "kernelspec": {
   "display_name": "Python 3.8.5 64-bit ('base': conda)",
   "name": "python3"
  },
  "language_info": {
   "codemirror_mode": {
    "name": "ipython",
    "version": 3
   },
   "file_extension": ".py",
   "mimetype": "text/x-python",
   "name": "python",
   "nbconvert_exporter": "python",
   "pygments_lexer": "ipython3",
   "version": "3.8.5"
  }
 },
 "nbformat": 4,
 "nbformat_minor": 2
}
