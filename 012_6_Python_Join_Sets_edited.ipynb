{
 "cells": [
  {
   "cell_type": "markdown",
   "metadata": {
    "id": "EsyivW-yDrOO"
   },
   "source": [
    "#### การ Join Sets"
   ]
  },
  {
   "cell_type": "markdown",
   "metadata": {
    "id": "DTmzsuHFDrOT"
   },
   "source": [
    "###### เชื่อม set 2 Set\r\n",
    "มีหลากหลายวิธีในการเชื่อม set เข้าด้วยกันใน Python\r\n",
    "\r\n",
    "เราสามารถใช้คำสั่ง union() โดยค่าที่ได้กลับมาจะเป็น set ใหม่ที่มีข้อมูลจากทั้ง 2 set หรือใช้คำสั่ง update() ในการเพิ่มข้อมูลจาก set นึง ไปยังอีก set นึง"
   ]
  },
  {
   "cell_type": "markdown",
   "metadata": {
    "id": "xMNFgQ11DrOU"
   },
   "source": [
    "###### ตัวอย่าง\r\n",
    "คำสั่ง union() จะส่งคืน set ใหม่ ที่มีข้อมูลจากทั้ง 2 set"
   ]
  },
  {
   "cell_type": "code",
   "execution_count": 1,
   "metadata": {
    "id": "TShMAeGLDrOV",
    "outputId": "9a1770c1-52ad-47b0-a966-c0022a20ddde"
   },
   "outputs": [
    {
     "name": "stdout",
     "output_type": "stream",
     "text": [
      "{7, 5, 'Salad', 'Sushi', 6, 'Burger'}\n"
     ]
    }
   ],
   "source": [
    "set1 = {\"Sushi\", \"Burger\", \"Salad\"}\r\n",
    "set2 = {5, 6, 7}\r\n",
    "set3 = set1.union(set2)\r\n",
    "print(set3)"
   ]
  },
  {
   "cell_type": "markdown",
   "metadata": {
    "id": "47b3giTmDrOX"
   },
   "source": [
    "###### ตัวอย่าง\r\n",
    "คำสั่ง update() จะเป็นการเพิ่มข้อมูลจาก set2 ไปยัง set1\r\n",
    "\r\n",
    "Note : ทั้ง 2 คำสั่ง union() และ update() จะไม่รวมข้อมูลที่ซ้ำกัน\r\n"
   ]
  },
  {
   "cell_type": "code",
   "execution_count": 3,
   "metadata": {
    "id": "MHh6313gDrOX",
    "outputId": "8b3aa11c-9866-4f82-8093-36c4f3648c58"
   },
   "outputs": [
    {
     "name": "stdout",
     "output_type": "stream",
     "text": [
      "{7, 5, 'Salad', 'Sushi', 6, 'Burger'}\n"
     ]
    }
   ],
   "source": [
    "set1 = {\"Sushi\", \"Burger\", \"Salad\",5}\r\n",
    "set2 = {5, 6, 7}\r\n",
    "set1.update(set2)\r\n",
    "print(set1)"
   ]
  },
  {
   "cell_type": "markdown",
   "metadata": {
    "id": "T8cO8wqYDrOY"
   },
   "source": [
    "###### เก็บเฉพาะรายการที่ซ้ำ\n",
    "ถ้าหากเราต้องการที่จะเก็บเฉพาะรายการที่ซ้ำกันในทั้ง 2 set จะใช้คำสั่ง intersection_update()\n"
   ]
  },
  {
   "cell_type": "markdown",
   "metadata": {
    "id": "hHF6usZjDrOY"
   },
   "source": [
    "###### ตัวอย่าง\r\n",
    "เก็บค่าที่ซ้ำกันใน set x และset y"
   ]
  },
  {
   "cell_type": "code",
   "execution_count": 4,
   "metadata": {
    "id": "MokBRu3SDrOZ",
    "outputId": "e560e204-25bb-437a-d85d-73ec88ffa655"
   },
   "outputs": [
    {
     "name": "stdout",
     "output_type": "stream",
     "text": [
      "{'Salad'}\n"
     ]
    }
   ],
   "source": [
    "x = {\"Sushi\", \"Burger\", \"Salad\"}\r\n",
    "y = {\"Salad\", \"Pizza\", \"Noodle\"}\r\n",
    "x.intersection_update(y)\r\n",
    "print(x)"
   ]
  },
  {
   "cell_type": "markdown",
   "metadata": {
    "id": "z818ysoODrOa"
   },
   "source": [
    "คำสั่ง intersection() จะส่งค่ากลับมาเป็น set ใหม่ที่มีข้อมูลที่ซ้ำกันจากทั้ง 2 set"
   ]
  },
  {
   "cell_type": "markdown",
   "metadata": {
    "id": "beR_ToMeDrOa"
   },
   "source": [
    "###### ตัวอย่าง\r\n",
    "ส่งคืนค่าที่ซ้ำกันจาก set x และ set y"
   ]
  },
  {
   "cell_type": "code",
   "execution_count": 5,
   "metadata": {
    "id": "pcba98QzDrOb",
    "outputId": "e3a08f2d-855f-48c0-d3d4-6bc4189d4c6e"
   },
   "outputs": [
    {
     "name": "stdout",
     "output_type": "stream",
     "text": [
      "{'Salad'}\n"
     ]
    }
   ],
   "source": [
    "x = {\"Sushi\", \"Burger\", \"Salad\"}\r\n",
    "y = {\"Salad\", \"Pizza\", \"Noodle\"}\r\n",
    "z = x.intersection(y)\r\n",
    "print(z)"
   ]
  },
  {
   "cell_type": "markdown",
   "metadata": {
    "id": "kwElMXAPDrOb"
   },
   "source": [
    "###### เก็บทุกค่า แต่ไม่เอาค่าซ้ำ\n",
    "คำสั่ง symmetric_difference_update() จะเก็บค่าทุกค่าแต่ไม่เอาค่าซ้ำจากทั้ง 2 set"
   ]
  },
  {
   "cell_type": "markdown",
   "metadata": {
    "id": "tkyhMrAADrOc"
   },
   "source": [
    "###### ตัวอย่าง\r\n",
    "เก็บเฉพาะค่าที่ไม่ซ้ำจากทั้ง 2 set"
   ]
  },
  {
   "cell_type": "code",
   "execution_count": 6,
   "metadata": {
    "id": "bNmGtSOPDrOc",
    "outputId": "642b761b-e6df-4920-cdbc-2533521f2d4c"
   },
   "outputs": [
    {
     "name": "stdout",
     "output_type": "stream",
     "text": [
      "{'Sushi', 'Pizza', 'Noodle', 'Burger'}\n"
     ]
    }
   ],
   "source": [
    "x = {\"Sushi\", \"Burger\", \"Salad\"}\r\n",
    "y = {\"Salad\", \"Pizza\", \"Noodle\"}\r\n",
    "x.symmetric_difference_update(y)\r\n",
    "print(x)"
   ]
  },
  {
   "cell_type": "markdown",
   "metadata": {
    "id": "Z4rpBisJDrOc"
   },
   "source": [
    "คำสั่ง symmetric_difference() จะเก็บเฉพาะค่าที่ไม่ซ้ำกันจากในทั้ง 2 set"
   ]
  },
  {
   "cell_type": "markdown",
   "metadata": {
    "id": "SkcCE-8tDrOd"
   },
   "source": [
    "###### ตัวอย่าง\r\n",
    "ส่งคืนค่าทุกค่าจากทั้ง 2 set เฉพาะค่าที่ไม่ซ้ำกันจากในทั้ง 2 set"
   ]
  },
  {
   "cell_type": "code",
   "execution_count": 7,
   "metadata": {
    "id": "2i0JZmzpDrOd",
    "outputId": "5c3050fd-ab3d-4456-856e-47fedfd87133"
   },
   "outputs": [
    {
     "name": "stdout",
     "output_type": "stream",
     "text": [
      "{'Sushi', 'Pizza', 'Noodle', 'Burger'}\n"
     ]
    }
   ],
   "source": [
    "x = {\"Sushi\", \"Burger\", \"Salad\"}\r\n",
    "y = {\"Salad\", \"Pizza\", \"Noodle\"}\r\n",
    "z = x.symmetric_difference(y)\r\n",
    "print(z)"
   ]
  }
 ],
 "metadata": {
  "colab": {
   "name": "012_6_Python_Join_Sets.ipynb",
   "provenance": []
  },
  "interpreter": {
   "hash": "8a42e8581704d812f174276cadf47b91a8b3cbce976324507688b69a62b18c0b"
  },
  "kernelspec": {
   "display_name": "Python 3.8.2 32-bit",
   "name": "python3"
  },
  "language_info": {
   "codemirror_mode": {
    "name": "ipython",
    "version": 3
   },
   "file_extension": ".py",
   "mimetype": "text/x-python",
   "name": "python",
   "nbconvert_exporter": "python",
   "pygments_lexer": "ipython3",
   "version": "3.8.2"
  }
 },
 "nbformat": 4,
 "nbformat_minor": 2
}
