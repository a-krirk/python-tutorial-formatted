{
 "cells": [
  {
   "cell_type": "markdown",
   "metadata": {
    "id": "3sxgo9fvrO7G"
   },
   "source": [
    "#### แบบฝึกหัด Tuple"
   ]
  },
  {
   "cell_type": "markdown",
   "metadata": {
    "id": "JGbpX9JWrO7L"
   },
   "source": [
    "###### ทดสอบตัวเอง\r\n",
    "ตอนนี้เราได้เรียนเรื่องเกี่ยวกับ tuple และวิธีใช้งานใน python กันพอสมควรแล้ว\r\n",
    "\r\n",
    "พร้อมสำหรับแบบทดสอบกันรึยัง?\r\n",
    "\r\n",
    "ลองเติมส่วนที่ขาดหายไปเพื่อให้ code สามารถทำงานได้ \r\n"
   ]
  },
  {
   "cell_type": "markdown",
   "metadata": {
    "id": "vgIdIsP9rO7N"
   },
   "source": [
    "###### แบบฝึกหัด \r\n",
    "จงแสดงค่าแรกของ food tuple\r\n"
   ]
  },
  {
   "cell_type": "code",
   "execution_count": null,
   "metadata": {
    "id": "UFyVhFQQrO7N"
   },
   "outputs": [],
   "source": [
    "foodtuple = (\"Sushi\", \"Burger\", \"Salad\")\r\n",
    "# แทนที่ __ ในบรรทัดต่อไปด้วยโค้ดของคุณ\r\n",
    "print(__)"
   ]
  }
 ],
 "metadata": {
  "colab": {
   "name": "011_8_Python_Tuple_Exercises.ipynb",
   "provenance": []
  },
  "interpreter": {
   "hash": "00034aa5cd6c44013b830fd98c7a620a61a498e75425ca81fcc1166b84a69895"
  },
  "kernelspec": {
   "display_name": "Python 3.8.5 64-bit ('base': conda)",
   "name": "python3"
  },
  "language_info": {
   "name": "python",
   "version": "3.8.5"
  }
 },
 "nbformat": 4,
 "nbformat_minor": 2
}
