{
 "cells": [
  {
   "cell_type": "markdown",
   "metadata": {
    "id": "EQe5bgQcpcQO"
   },
   "source": [
    "#### List Comprehension"
   ]
  },
  {
   "cell_type": "markdown",
   "metadata": {
    "id": "pFqVHVGTpcQa"
   },
   "source": [
    "คือการสร้าง list ใหม่ โดยใช้ข้อมูล (item) จาก list เดิม ตัวอย่างเช่น\r\n",
    "\r\n",
    "ต้องการสร้าง list ใหม่ ที่ดึง item จาก list \"colors\" โดยต้องการเฉพาะ item ที่มีอักษร \"b\"  \r\n",
    "\r\n",
    "เพื่อเช็คว่า item ไหนบ้างที่มีอักษร \"b\" จะต้องเข้าถึง item แต่ละตัวด้วยการใช้ loop"
   ]
  },
  {
   "cell_type": "markdown",
   "metadata": {
    "id": "jDd4hUTapcQh"
   },
   "source": [
    "###### ตัวอย่าง"
   ]
  },
  {
   "cell_type": "code",
   "execution_count": 1,
   "metadata": {
    "id": "CFQvkb3fpcQp"
   },
   "outputs": [
    {
     "name": "stdout",
     "output_type": "stream",
     "text": [
      "['blue', 'black']\n"
     ]
    }
   ],
   "source": [
    "colors = [\"red\", \"blue\", \"green\", \"black\"]\r\n",
    "new_colors = []\r\n",
    "\r\n",
    "for x in colors:\r\n",
    "  if \"b\" in x:\r\n",
    "    new_colors.append(x)\r\n",
    "\r\n",
    "print(new_colors)"
   ]
  },
  {
   "cell_type": "markdown",
   "metadata": {
    "id": "8ZryTBkypcQz"
   },
   "source": [
    "คำสั่ง loop ที่เขียนต่อกันหลายบรรทัด สามารถยุบเหลือเพียง 1 บรรทัดได้"
   ]
  },
  {
   "cell_type": "markdown",
   "metadata": {
    "id": "Bho2fHt-pcQ3"
   },
   "source": [
    "###### ตัวอย่าง"
   ]
  },
  {
   "cell_type": "code",
   "execution_count": 3,
   "metadata": {
    "id": "_RccxXNnpcQ5"
   },
   "outputs": [
    {
     "name": "stdout",
     "output_type": "stream",
     "text": [
      "['blue', 'black']\n"
     ]
    }
   ],
   "source": [
    "colors = [\"red\", \"blue\", \"green\", \"black\"]\r\n",
    "new_colors = [x for x in colors if \"b\" in x]\r\n",
    "print(new_colors)"
   ]
  },
  {
   "cell_type": "markdown",
   "metadata": {
    "id": "qI_Vo-vxpcQ-"
   },
   "source": [
    "###### Syntax\r\n",
    "\r\n",
    "`newlist = [expression for item in iterable if condition == True]`"
   ]
  },
  {
   "cell_type": "markdown",
   "metadata": {
    "id": "mSxFj6GTpcRC"
   },
   "source": [
    "###### Condition\n",
    "คือการกำหนดค่าเพื่อให้ loop ทำงาน ถ้าค่าที่รับมาตรงตามค่าที่ตั้งไว้หมายถึง เงื่อนไขเป็นจริง (True)"
   ]
  },
  {
   "cell_type": "markdown",
   "metadata": {
    "id": "4HJ4poplpcRG"
   },
   "source": [
    "###### ตัวอย่าง\r\n",
    "loop จะทำงานถ้า items นั้นไม่ใช่ \"black\"\r\n",
    "\r\n",
    "condition คือ if x != \"black\" โปรแกรมจะวน loop ปกติ \r\n",
    "ดังนั้น list ใหม่จากคำสั่งนี้ จะไม่มี item \"black\""
   ]
  },
  {
   "cell_type": "code",
   "execution_count": 32,
   "metadata": {
    "id": "-hppBzy7pcRI"
   },
   "outputs": [
    {
     "data": {
      "text/plain": [
       "['red', 'blue', 'green']"
      ]
     },
     "execution_count": 32,
     "metadata": {},
     "output_type": "execute_result"
    }
   ],
   "source": [
    "colors = [\"red\", \"blue\", \"green\", \"black\"]\r\n",
    "newlist = [x for x in colors if x != \"black\"]\r\n",
    "newlist"
   ]
  },
  {
   "cell_type": "markdown",
   "metadata": {
    "id": "DTXMHY-SpcRT"
   },
   "source": [
    "###### Iterable\n",
    "คือ object ใดๆ ที่เราสามารถทำการวนซ้ำกับมันได้ เช่น list, tuple, set"
   ]
  },
  {
   "cell_type": "markdown",
   "metadata": {
    "id": "YeTaRCHcpcRU"
   },
   "source": [
    "###### ตัวอย่าง\r\n",
    "ใช้ function **range()** เพื่อสร้าง iterable"
   ]
  },
  {
   "cell_type": "code",
   "execution_count": 24,
   "metadata": {
    "id": "vR1F3gHtpcRV"
   },
   "outputs": [
    {
     "data": {
      "text/plain": [
       "[0, 1, 2, 3, 4, 5, 6, 7, 8, 9]"
      ]
     },
     "execution_count": 24,
     "metadata": {},
     "output_type": "execute_result"
    }
   ],
   "source": [
    "newlist = [x for x in range(10)]\r\n",
    "newlist"
   ]
  },
  {
   "cell_type": "markdown",
   "metadata": {
    "id": "fzHBke7npcRY"
   },
   "source": [
    "###### ตัวอย่าง\r\n",
    "นำโค้ดด้านบนมาเพิ่ม condition นั่นคือ loop จะทำงานถ้าตัวเลขมีค่าน้อยกว่า 5"
   ]
  },
  {
   "cell_type": "code",
   "execution_count": 30,
   "metadata": {
    "id": "9fw26N3qpcRa"
   },
   "outputs": [
    {
     "name": "stdout",
     "output_type": "stream",
     "text": [
      "เมื่อไม่ใส่ condition   [0, 1, 2, 3, 4, 5, 6, 7, 8, 9]\n",
      "ใส่ condition x < 5  [0, 1, 2, 3, 4]\n"
     ]
    }
   ],
   "source": [
    "newlist = [x for x in range(10)]\r\n",
    "newlist_condition = [x for x in range(10) if x < 5]\r\n",
    "print(\"เมื่อไม่ใส่ condition  \",newlist)\r\n",
    "print(\"ใส่ condition x < 5 \",newlist_condition)"
   ]
  },
  {
   "cell_type": "markdown",
   "metadata": {
    "id": "uVxZqfLbpcRe"
   },
   "source": [
    "###### Expression\n",
    "คือการทำงานร่วมกันระหว่างตัวแปร (หรือค่าคงที่) และตัวดำเนินการ\n",
    "โดยสามารถกำหนดรูปแบบผลลัพธ์ที่ต้องการก่อนสร้างเป็น list ใหม่ได้"
   ]
  },
  {
   "cell_type": "markdown",
   "metadata": {
    "id": "avyh6oiDpcRh"
   },
   "source": [
    "###### ตัวอย่าง\r\n",
    "เปลี่ยน item ใน list ใหม่ให้เป็นตัวพิมพ์ใหญ่ทั้งหมด (เดิมเป็นตัวพิมพ์เล็ก)"
   ]
  },
  {
   "cell_type": "code",
   "execution_count": 31,
   "metadata": {
    "id": "b_hmxfDtpcRj"
   },
   "outputs": [
    {
     "data": {
      "text/plain": [
       "['RED', 'BLUE', 'GREEN', 'BLACK']"
      ]
     },
     "execution_count": 31,
     "metadata": {},
     "output_type": "execute_result"
    }
   ],
   "source": [
    "colors = [\"red\", \"blue\", \"green\", \"black\"]\r\n",
    "newlist = [x.upper() for x in colors]\r\n",
    "newlist"
   ]
  },
  {
   "cell_type": "markdown",
   "metadata": {
    "id": "xK7kcKeApcRl"
   },
   "source": [
    "###### ตัวอย่าง\r\n",
    "เปลี่ยน item ใน list ใหม่ให้เป็นคำว่า 'hello' (เดิมเป็นชื่อสี)"
   ]
  },
  {
   "cell_type": "code",
   "execution_count": 33,
   "metadata": {
    "id": "jYGbLcJ9pcRn"
   },
   "outputs": [
    {
     "data": {
      "text/plain": [
       "['hello', 'hello', 'hello', 'hello']"
      ]
     },
     "execution_count": 33,
     "metadata": {},
     "output_type": "execute_result"
    }
   ],
   "source": [
    "colors = [\"red\", \"blue\", \"green\", \"black\"]\r\n",
    "newlist = ['hello' for x in colors]\r\n",
    "newlist"
   ]
  },
  {
   "cell_type": "markdown",
   "metadata": {
    "id": "E6KYRYHbpcRr"
   },
   "source": [
    "###### ตัวอย่าง\r\n",
    "Return \"purple\" แทนที่ of \"red\""
   ]
  },
  {
   "cell_type": "code",
   "execution_count": 35,
   "metadata": {
    "id": "bjlcR5PzpcRt"
   },
   "outputs": [
    {
     "data": {
      "text/plain": [
       "['purple', 'blue', 'green', 'black']"
      ]
     },
     "execution_count": 35,
     "metadata": {},
     "output_type": "execute_result"
    }
   ],
   "source": [
    "colors = [\"red\", \"blue\", \"green\", \"black\"]\r\n",
    "newlist = [x if x != \"red\" else \"purple\" for x in colors]\r\n",
    "newlist"
   ]
  }
 ],
 "metadata": {
  "colab": {
   "collapsed_sections": [],
   "name": "010_07_Python_List_Comprehension.ipynb",
   "provenance": [],
   "toc_visible": true
  },
  "interpreter": {
   "hash": "8a42e8581704d812f174276cadf47b91a8b3cbce976324507688b69a62b18c0b"
  },
  "kernelspec": {
   "display_name": "Python 3.8.2 32-bit",
   "name": "python3"
  },
  "language_info": {
   "codemirror_mode": {
    "name": "ipython",
    "version": 3
   },
   "file_extension": ".py",
   "mimetype": "text/x-python",
   "name": "python",
   "nbconvert_exporter": "python",
   "pygments_lexer": "ipython3",
   "version": "3.8.2"
  }
 },
 "nbformat": 4,
 "nbformat_minor": 2
}
