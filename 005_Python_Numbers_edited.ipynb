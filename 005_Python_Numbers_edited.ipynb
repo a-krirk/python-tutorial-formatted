{
 "cells": [
  {
   "cell_type": "markdown",
   "metadata": {
    "id": "ofi3OIeWPmAK"
   },
   "source": [
    "#### ข้อมูลตัวเลขในภาษา Python"
   ]
  },
  {
   "cell_type": "markdown",
   "metadata": {
    "id": "6EsN6CE-RHBc"
   },
   "source": [
    "ภาษา Python มีข้อมูลตัวเลข 3 ชนิด\r\n",
    "*   int\r\n",
    "*   float\r\n",
    "*   complex\r\n",
    "\r\n",
    "จะมีการกำหนดชนิดของข้อมูลให้อัตโนมัติเมื่อมีการกำหนดค่าให้ตัวแปร\r\n"
   ]
  },
  {
   "cell_type": "markdown",
   "metadata": {
    "id": "5rxRFHnTRW2v"
   },
   "source": [
    "###### ตัวอย่าง"
   ]
  },
  {
   "cell_type": "code",
   "execution_count": 1,
   "metadata": {
    "id": "lNoBeZ2ZRZVb"
   },
   "outputs": [
    {
     "name": "stdout",
     "output_type": "stream",
     "text": [
      "x เป็น <class 'int'>\n",
      "y เป็น <class 'float'>\n",
      "z เป็น <class 'complex'>\n"
     ]
    }
   ],
   "source": [
    "x = 10   # int\r\n",
    "y = 9.9  # float\r\n",
    "z = 4j   # complex\r\n",
    "\r\n",
    "print(\"x เป็น\", type(x))\r\n",
    "print(\"y เป็น\", type(y))\r\n",
    "print(\"z เป็น\", type(z))"
   ]
  },
  {
   "cell_type": "markdown",
   "metadata": {
    "id": "H0YAPcEbRjX4"
   },
   "source": [
    "###### Integer\r\n",
    "Int หรือ integer หมายถึงข้อมูลตัวเลขที่เป็นจำนวนเต็ม มีค่าได้ทั้งเป็นค่าเป็นบวกและค่าติดลบ"
   ]
  },
  {
   "cell_type": "markdown",
   "metadata": {
    "id": "qo-04O1URmSH"
   },
   "source": [
    "###### ตัวอย่าง"
   ]
  },
  {
   "cell_type": "code",
   "execution_count": 2,
   "metadata": {
    "colab": {
     "base_uri": "https://localhost:8080/"
    },
    "id": "4-Lt3_YORnYr",
    "outputId": "5d0b640a-0c13-4d6b-c5a4-9ae907335a2a"
   },
   "outputs": [
    {
     "name": "stdout",
     "output_type": "stream",
     "text": [
      "x เป็น <class 'int'>\n",
      "y เป็น <class 'int'>\n",
      "z เป็น <class 'int'>\n"
     ]
    }
   ],
   "source": [
    "x = 8\r\n",
    "y = 123456789\r\n",
    "z = -9898989\r\n",
    "\r\n",
    "print(\"x เป็น\", type(x))\r\n",
    "print(\"y เป็น\", type(y))\r\n",
    "print(\"z เป็น\", type(z))"
   ]
  },
  {
   "cell_type": "markdown",
   "metadata": {
    "id": "MUTUch_uRx6G"
   },
   "source": [
    "###### Float\r\n",
    "Float หรือ floating point number หมายถึงข้อมูลตัวเลขที่มีจุดทศนิยมอย่างน้อย 1 จุด มีค่าเป็นบวกหรือลบก็ได้"
   ]
  },
  {
   "cell_type": "markdown",
   "metadata": {
    "id": "zAsbOPSeR0ko"
   },
   "source": [
    "###### ตัวอย่าง"
   ]
  },
  {
   "cell_type": "code",
   "execution_count": 3,
   "metadata": {
    "colab": {
     "base_uri": "https://localhost:8080/"
    },
    "id": "9LC6nLG8R2iw",
    "outputId": "6e8fa2af-a879-4a42-c767-cf387f882cb5"
   },
   "outputs": [
    {
     "name": "stdout",
     "output_type": "stream",
     "text": [
      "x เป็น <class 'float'>\n",
      "y เป็น <class 'float'>\n",
      "z เป็น <class 'float'>\n"
     ]
    }
   ],
   "source": [
    "x = 11.11\r\n",
    "y = 15.6\r\n",
    "z = -12.12\r\n",
    "\r\n",
    "print(\"x เป็น\", type(x))\r\n",
    "print(\"y เป็น\", type(y))\r\n",
    "print(\"z เป็น\", type(z))"
   ]
  },
  {
   "cell_type": "markdown",
   "metadata": {
    "id": "XnQaR5zZR5Om"
   },
   "source": [
    "Float ใช้เก็บค่าตัวเลขทางวิทยาศาสตร์ได้ โดย e เป็นการบอกว่าตัวเลขยกกำลัง ฐาน 10"
   ]
  },
  {
   "cell_type": "code",
   "execution_count": 4,
   "metadata": {},
   "outputs": [
    {
     "name": "stdout",
     "output_type": "stream",
     "text": [
      "x มีค่าเท่ากับ  1400.0\n",
      "y มีค่าเท่ากับ  250000.0\n",
      "z มีค่าเท่ากับ  -123000000000.0\n",
      "<class 'float'>\n",
      "<class 'float'>\n",
      "<class 'float'>\n"
     ]
    }
   ],
   "source": [
    "x = 14e2\r\n",
    "y = 25E4\r\n",
    "z = -12.3e10\r\n",
    "\r\n",
    "print(\"x มีค่าเท่ากับ \", x)\r\n",
    "print(\"y มีค่าเท่ากับ \", y)\r\n",
    "print(\"z มีค่าเท่ากับ \", z)\r\n",
    "\r\n",
    "print(type(x))\r\n",
    "print(type(y))\r\n",
    "print(type(z))"
   ]
  },
  {
   "cell_type": "markdown",
   "metadata": {
    "id": "XMh36ziiR7l5"
   },
   "source": [
    "###### Complex numbers\r\n",
    "เราสร้างตัวแปรชนิด Complex numbers โดยใส่ \"j\" ในส่วนจินตภาพ (imaginary part)"
   ]
  },
  {
   "cell_type": "markdown",
   "metadata": {
    "id": "RJSzlljUR-Cr"
   },
   "source": [
    "###### ตัวอย่าง"
   ]
  },
  {
   "cell_type": "code",
   "execution_count": 13,
   "metadata": {
    "colab": {
     "base_uri": "https://localhost:8080/"
    },
    "id": "VTcjQ-NmSAsc",
    "outputId": "c1c83e52-a152-4740-c517-5ef7c297debc"
   },
   "outputs": [
    {
     "name": "stdout",
     "output_type": "stream",
     "text": [
      "x เป็น <class 'complex'>\n",
      "y เป็น <class 'complex'>\n",
      "z เป็น <class 'complex'>\n"
     ]
    }
   ],
   "source": [
    "x = 3+5j\r\n",
    "y = 5j\r\n",
    "z = -5j\r\n",
    "\r\n",
    "print(\"x เป็น\", type(x))\r\n",
    "print(\"y เป็น\", type(y))\r\n",
    "print(\"z เป็น\", type(z))"
   ]
  },
  {
   "cell_type": "markdown",
   "metadata": {
    "id": "IKIVYH77SCw_"
   },
   "source": [
    "###### การเปลี่ยนชนิดของข้อมูลตัวเลข\r\n",
    "เราสามารถเปลี่ยนชนิดของข้อมูลตัวเลขได้โดยใข้ methods : int(), float() และ complex()"
   ]
  },
  {
   "cell_type": "markdown",
   "metadata": {
    "id": "uQ0nrGS6SG26"
   },
   "source": [
    "###### ตัวอย่าง"
   ]
  },
  {
   "cell_type": "code",
   "execution_count": 6,
   "metadata": {
    "colab": {
     "base_uri": "https://localhost:8080/"
    },
    "id": "FUuqkmZQSJaC",
    "outputId": "7ae538a7-e893-4252-8c43-95646f73b202"
   },
   "outputs": [
    {
     "name": "stdout",
     "output_type": "stream",
     "text": [
      "5.0\n",
      "4\n",
      "(5+0j)\n",
      "<class 'float'>\n",
      "<class 'int'>\n",
      "<class 'complex'>\n"
     ]
    }
   ],
   "source": [
    "x = 5    # int\r\n",
    "y = 4.8  # float\r\n",
    "z = 5j   # complex\r\n",
    "\r\n",
    "#เปลี่ยนชนิดข้อมูลจาก int เป็น float:\r\n",
    "a = float(x)\r\n",
    "\r\n",
    "#เปลี่ยนชนิดข้อมูลจาก float เป็น int:\r\n",
    "b = int(y)\r\n",
    "\r\n",
    "#เปลี่ยนชนิดข้อมูลจาก int เป็น complex:\r\n",
    "c = complex(x)\r\n",
    "\r\n",
    "print(a)\r\n",
    "print(b)\r\n",
    "print(c)\r\n",
    "\r\n",
    "print(type(a))\r\n",
    "print(type(b))\r\n",
    "print(type(c))"
   ]
  },
  {
   "cell_type": "markdown",
   "metadata": {
    "id": "k0fAHL5SSMpr"
   },
   "source": [
    "###### ตัวเลขแบบสุ่ม (Random Number)\r\n",
    "Python ไม่มี random() function สำหรับสร้าง random number แต่มี built-in module ชื่อ random ที่สามารถใช้ในการสร้างตัวเลขแบบสุ่ม (random number)"
   ]
  },
  {
   "cell_type": "markdown",
   "metadata": {
    "id": "eHfYhdoOSRMl"
   },
   "source": [
    "###### ตัวอย่าง\r\n",
    "Import random module แล้ว random ตัวเลขค่าระหว่าง 1 ถึง 99"
   ]
  },
  {
   "cell_type": "code",
   "execution_count": 7,
   "metadata": {
    "colab": {
     "base_uri": "https://localhost:8080/"
    },
    "id": "ghnn4n7zSTYt",
    "outputId": "b9c6678e-6404-4de9-a171-ec09e11378f9"
   },
   "outputs": [
    {
     "name": "stdout",
     "output_type": "stream",
     "text": [
      "46\n"
     ]
    }
   ],
   "source": [
    "import random\r\n",
    "\r\n",
    "print(random.randrange(1, 100))"
   ]
  }
 ],
 "metadata": {
  "colab": {
   "name": "Python Numbers.ipynb",
   "provenance": []
  },
  "interpreter": {
   "hash": "8a42e8581704d812f174276cadf47b91a8b3cbce976324507688b69a62b18c0b"
  },
  "kernelspec": {
   "display_name": "Python 3.8.2 32-bit",
   "name": "python3"
  },
  "language_info": {
   "codemirror_mode": {
    "name": "ipython",
    "version": 3
   },
   "file_extension": ".py",
   "mimetype": "text/x-python",
   "name": "python",
   "nbconvert_exporter": "python",
   "pygments_lexer": "ipython3",
   "version": "3.8.2"
  }
 },
 "nbformat": 4,
 "nbformat_minor": 2
}
