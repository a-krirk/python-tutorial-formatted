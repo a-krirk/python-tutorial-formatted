{
 "cells": [
  {
   "cell_type": "markdown",
   "metadata": {
    "id": "4Ccn5BwRI7wS"
   },
   "source": [
    "#### ชนิดของข้อมูลในภาษา Python"
   ]
  },
  {
   "cell_type": "markdown",
   "metadata": {
    "id": "oCFQ3ZgDJCjY"
   },
   "source": [
    "###### ชนิดของข้อมูลที่มีการสร้างไว้แล้ว (Built-in Data Types)\r\n",
    "ชนิดของข้อมูลหรือ data type เป็น concept ที่สำคัญมากในการเขียนโปรแกรม\r\n",
    "\r\n",
    "ตัวแปรต่าง ๆ สามารถเก็บค่าของข้อมูลได้หลายชนิด และชนิดของข้อมูลแต่ละชนิดก็เหมาะกับการทำงานที่แตกต่างกันไป\r\n",
    "\r\n",
    "Python ได้สร้างชนิดของข้อมูลบางชนิดไว้แล้ว (Built-in Data Types) ดังนี้"
   ]
  },
  {
   "cell_type": "markdown",
   "metadata": {
    "id": "mommuUoJJGcD"
   },
   "source": [
    "*   Text Type:\tstr\r\n",
    "*   Numeric Types:\tint, float, complex\r\n",
    "*   Sequence Types:\tlist, tuple, range\r\n",
    "*   Mapping Type:\tdict\r\n",
    "*   Set Types:\tset, frozenset\r\n",
    "*   Boolean Type:\tbool\r\n",
    "*   Binary Types:\tbytes, bytearray, memoryview"
   ]
  },
  {
   "cell_type": "markdown",
   "metadata": {
    "id": "zq6x34MKJLyY"
   },
   "source": [
    "###### การเรียกดูชนิดของข้อมูล\r\n",
    "เราเรียกดูชนิดของข้อมูลได้โดยใช้ function `type()`"
   ]
  },
  {
   "cell_type": "markdown",
   "metadata": {
    "id": "estc6MJiJvsi"
   },
   "source": [
    "###### ตัวอย่าง\r\n",
    "Print ชนิดของข้อมูลของตัวแปร x"
   ]
  },
  {
   "cell_type": "code",
   "execution_count": 1,
   "metadata": {
    "colab": {
     "base_uri": "https://localhost:8080/"
    },
    "id": "QHMksUOGJy90",
    "outputId": "ec8f0502-0722-47be-ec43-270c38a9f186"
   },
   "outputs": [
    {
     "name": "stdout",
     "output_type": "stream",
     "text": [
      "<class 'int'>\n"
     ]
    }
   ],
   "source": [
    "x = 5\r\n",
    "print(type(x))"
   ]
  },
  {
   "cell_type": "markdown",
   "metadata": {
    "id": "gzliXSd3J2GI"
   },
   "source": [
    "###### การกำหนดชนิดของข้อมูลให้กับตัวแปร\r\n",
    "ในภาษา Python จะมีการกำหนดชนิดของตัวแปร ตามชนิดของข้อมูลที่ถูกเก็บไว้ตัวแปร"
   ]
  },
  {
   "cell_type": "code",
   "execution_count": 2,
   "metadata": {},
   "outputs": [
    {
     "name": "stdout",
     "output_type": "stream",
     "text": [
      "x มีค่าเท่ากับ สวัสดีทุกคน\n",
      "x เป็น  <class 'str'>\n",
      "y มีค่าเท่ากับ 20.4\n",
      "y เป็น  <class 'float'>\n"
     ]
    }
   ],
   "source": [
    "x = \"สวัสดีทุกคน\"\r\n",
    "print(\"x มีค่าเท่ากับ\", x)\r\n",
    "print(\"x เป็น \", type(x)) # x เป็น string\r\n",
    "\r\n",
    "y = 20.4\r\n",
    "print(\"y มีค่าเท่ากับ\", y)\r\n",
    "print(\"y เป็น \", type(y)) # y เป็น float"
   ]
  },
  {
   "cell_type": "markdown",
   "metadata": {},
   "source": [
    "###### การกำหนดชนิดของข้อมูลแบบจำเพาะเจาะจงให้กับตัวแปร\r\n",
    "ถ้าต้องการกำหนดชนิดของข้อมูลแบบจำเพราะเจาะจง สามารถเรียกใช้ constructor functions ได้ ยกตัวอย่างเช่น"
   ]
  },
  {
   "cell_type": "code",
   "execution_count": 12,
   "metadata": {},
   "outputs": [
    {
     "name": "stdout",
     "output_type": "stream",
     "text": [
      "x มีค่าเท่ากับ 20.4\n",
      "x เป็น  <class 'str'>\n",
      "y มีค่าเท่ากับ 20.0\n",
      "y เป็น  <class 'float'>\n"
     ]
    }
   ],
   "source": [
    "x = str(20.4)\r\n",
    "print(\"x มีค่าเท่ากับ\", x)\r\n",
    "print(\"x เป็น \", type(x)) # x เป็น string\r\n",
    "\r\n",
    "y = float(20)\r\n",
    "print(\"y มีค่าเท่ากับ\", y)\r\n",
    "print(\"y เป็น \", type(y)) # y เป็น float"
   ]
  },
  {
   "cell_type": "markdown",
   "metadata": {},
   "source": []
  }
 ],
 "metadata": {
  "colab": {
   "name": "4.Python Data Types.ipynb",
   "provenance": []
  },
  "interpreter": {
   "hash": "8a42e8581704d812f174276cadf47b91a8b3cbce976324507688b69a62b18c0b"
  },
  "kernelspec": {
   "display_name": "Python 3.8.2 32-bit",
   "name": "python3"
  },
  "language_info": {
   "codemirror_mode": {
    "name": "ipython",
    "version": 3
   },
   "file_extension": ".py",
   "mimetype": "text/x-python",
   "name": "python",
   "nbconvert_exporter": "python",
   "pygments_lexer": "ipython3",
   "version": "3.8.2"
  }
 },
 "nbformat": 4,
 "nbformat_minor": 2
}
