{
 "cells": [
  {
   "cell_type": "markdown",
   "metadata": {
    "id": "RPVc2TllOFWS"
   },
   "source": [
    "#### การเข้าถึง Items ใน list"
   ]
  },
  {
   "cell_type": "markdown",
   "metadata": {
    "id": "J0mHCYclOFWW"
   },
   "source": [
    "เข้าถึง item ต่าง ๆ ของ list ได้ด้วยการใช้เลข `index` ซึ่งมีค่าเริ่มต้นจาก 0"
   ]
  },
  {
   "cell_type": "markdown",
   "metadata": {
    "id": "X3rs2D-OOFWX"
   },
   "source": [
    "###### ตัวอย่าง\r\n",
    "print item ตัวที่ 2 ของ list\r\n",
    "\r\n",
    "Note: item แรก เป็น idex 0"
   ]
  },
  {
   "cell_type": "code",
   "execution_count": 1,
   "metadata": {
    "id": "314ZUTesOFWX"
   },
   "outputs": [
    {
     "name": "stdout",
     "output_type": "stream",
     "text": [
      "blue\n"
     ]
    }
   ],
   "source": [
    "my_list = [\"red\", \"blue\", \"green\"]\r\n",
    "print(my_list[1])"
   ]
  },
  {
   "cell_type": "markdown",
   "metadata": {
    "id": "ZYET7o7xOFWZ"
   },
   "source": [
    "###### Negative Indexing\n",
    "Negative Indexing คือ การเริ่มนับ index จากตำแหน่งหลังสุด เช่น\n",
    "\n",
    "-1 คือ item หลังสุดหรือตัวสุดท้าย\n",
    "\n",
    "-2 คือ item ที่ 2 นับจากหลังสุด"
   ]
  },
  {
   "cell_type": "markdown",
   "metadata": {
    "id": "BWhVHg7xOFWZ"
   },
   "source": [
    "###### ตัวอย่าง\r\n",
    "print item สุดท้ายของ list"
   ]
  },
  {
   "cell_type": "code",
   "execution_count": 2,
   "metadata": {
    "id": "PcMlK2pzOFWa",
    "outputId": "39d445eb-3184-4af7-b78f-34b938c9b155"
   },
   "outputs": [
    {
     "name": "stdout",
     "output_type": "stream",
     "text": [
      "green\n"
     ]
    }
   ],
   "source": [
    "my_list = [\"red\", \"blue\", \"green\"]\r\n",
    "print(my_list[-1])"
   ]
  },
  {
   "cell_type": "markdown",
   "metadata": {
    "id": "XpgQj2CbOFWa"
   },
   "source": [
    "###### Range of Indexes\n",
    "สามารถกำหนดช่วง (range) ของ index ได้ ด้วยการใส่เลข index เริ่มต้นและสิ้นสุด\n",
    "\n",
    "เมื่อกำหนด range แล้ว ค่าที่ return ออกมาจะเป็น list ใหม่ที่ประกอบด้วย item ต่าง ๆ ตามช่วงของ index ที่กำหนดไว้"
   ]
  },
  {
   "cell_type": "markdown",
   "metadata": {
    "id": "8Z8C6_yvOFWb"
   },
   "source": [
    "###### ตัวอย่าง\r\n",
    "return item ตัวที่ 3, 4 และ 5\r\n",
    "\r\n",
    "Note: การค้นหาจะเริ่มที่ index 2 (เอา index ตำแหน่งนี้) และจบที่ index 5 (ไม่เอา index ตำแหน่งนี้)"
   ]
  },
  {
   "cell_type": "code",
   "execution_count": 3,
   "metadata": {
    "id": "NX1Cj7afOFWb"
   },
   "outputs": [
    {
     "name": "stdout",
     "output_type": "stream",
     "text": [
      "['green', 'blue', 'black']\n"
     ]
    }
   ],
   "source": [
    "my_list = [\"red\", \"yellow\", \"green\", \"blue\", \"black\", \"white\"]\r\n",
    "print(my_list[2:5])"
   ]
  },
  {
   "cell_type": "markdown",
   "metadata": {
    "id": "zNPqmO7YOFWc"
   },
   "source": [
    "หากไม่ระบุ index เริ่มต้น --> range จะเริ่มต้นจาก item แรกของ list"
   ]
  },
  {
   "cell_type": "markdown",
   "metadata": {
    "id": "XnHhxLdYOFWc"
   },
   "source": [
    "###### ตัวอย่าง\r\n",
    "ตัวอย่างต่อไปนี้จะ return ผลลัพธ์เป็น item ต่าง ๆ ของ list ออกมา\r\n",
    "\r\n",
    "โดยเริ่มจาก item แรกไปจนถึง item \"black\" (แต่จะไม่แสดงค่า \"black\" ออกมา)"
   ]
  },
  {
   "cell_type": "code",
   "execution_count": 4,
   "metadata": {
    "id": "aEUT9N6LOFWc"
   },
   "outputs": [
    {
     "name": "stdout",
     "output_type": "stream",
     "text": [
      "['red', 'yellow', 'green', 'blue']\n"
     ]
    }
   ],
   "source": [
    "my_list = [\"red\", \"yellow\", \"green\", \"blue\", \"black\", \"white\"]\r\n",
    "print(my_list[:4])"
   ]
  },
  {
   "cell_type": "markdown",
   "metadata": {
    "id": "LTn_D-T_OFWd"
   },
   "source": [
    "หากไม่ระบุ index สุดท้าย --> range จะรันไปจนถึง item สุดท้ายของ list"
   ]
  },
  {
   "cell_type": "markdown",
   "metadata": {
    "id": "2GP_52VdOFWd"
   },
   "source": [
    "###### ตัวอย่าง\r\n",
    "ตัวอย่างต่อไปนี้จะ return ผลลัพธ์เป็น item ต่าง ๆ ของ list ออกมา\r\n",
    "\r\n",
    "โดยเริ่มจาก item \"green\" ไปจนถึง item สุดท้าย"
   ]
  },
  {
   "cell_type": "code",
   "execution_count": 5,
   "metadata": {
    "id": "bLI3pEfxOFWd"
   },
   "outputs": [
    {
     "name": "stdout",
     "output_type": "stream",
     "text": [
      "['green', 'blue', 'black', 'white']\n"
     ]
    }
   ],
   "source": [
    "my_list = [\"red\", \"yellow\", \"green\", \"blue\", \"black\", \"white\"]\r\n",
    "print(my_list[2:])"
   ]
  },
  {
   "cell_type": "markdown",
   "metadata": {
    "id": "-X0uCQzuOFWd"
   },
   "source": [
    "###### Range of Negative Indexes\n",
    "กำหนด index ใน range เป็น**ค่าลบ** หากต้องการเข้าถึง item ที่เริ่มนับจาก item **ตำแหน่งสุดท้ายของ list**"
   ]
  },
  {
   "cell_type": "markdown",
   "metadata": {
    "id": "lZF1KUYoOFWe"
   },
   "source": [
    "####### ตัวอย่าง\n",
    "return item ทั้งหมดตั้งแต่ item \"green\" (-4) ไปจนถึง \"white\" (-1) โดยไม่แสดงผล \"white\""
   ]
  },
  {
   "cell_type": "code",
   "execution_count": 6,
   "metadata": {
    "id": "qUYchFYQOFWe"
   },
   "outputs": [
    {
     "name": "stdout",
     "output_type": "stream",
     "text": [
      "['green', 'blue', 'black']\n"
     ]
    }
   ],
   "source": [
    "my_list = [\"red\", \"yellow\", \"green\", \"blue\", \"black\", \"white\"]\r\n",
    "print(my_list[-4:-1])"
   ]
  },
  {
   "cell_type": "markdown",
   "metadata": {
    "id": "MQeNBg63OFWe"
   },
   "source": [
    "###### Check if Item Exists\n",
    "ใช้คำสั่ง if ค้นหา item ใน list ด้วย keyword\n",
    "\n",
    "เพื่อเช็คว่า item ดังกล่าวอยู่ใน list ไหม"
   ]
  },
  {
   "cell_type": "markdown",
   "metadata": {
    "id": "OwDkKDWsOFWe"
   },
   "source": [
    "###### ตัวอย่าง\r\n",
    "เช็คว่า item \"blue\" อยู่ใน list หรือไม่"
   ]
  },
  {
   "cell_type": "code",
   "execution_count": 9,
   "metadata": {
    "id": "tIXT7DvwOFWf"
   },
   "outputs": [
    {
     "name": "stdout",
     "output_type": "stream",
     "text": [
      "Yes, 'blue' is in the fruits list\n"
     ]
    }
   ],
   "source": [
    "my_list = [\"red\", \"yellow\", \"green\", \"blue\", \"black\", \"white\"]\r\n",
    "if \"blue\" in my_list:\r\n",
    "  print(\"Yes, 'blue' is in the fruits list\")"
   ]
  }
 ],
 "metadata": {
  "colab": {
   "collapsed_sections": [],
   "name": "010_02_Python_Access_List_items.ipynb",
   "provenance": [],
   "toc_visible": true
  },
  "interpreter": {
   "hash": "8a42e8581704d812f174276cadf47b91a8b3cbce976324507688b69a62b18c0b"
  },
  "kernelspec": {
   "display_name": "Python 3.8.2 32-bit",
   "name": "python3"
  },
  "language_info": {
   "codemirror_mode": {
    "name": "ipython",
    "version": 3
   },
   "file_extension": ".py",
   "mimetype": "text/x-python",
   "name": "python",
   "nbconvert_exporter": "python",
   "pygments_lexer": "ipython3",
   "version": "3.8.2"
  }
 },
 "nbformat": 4,
 "nbformat_minor": 2
}
