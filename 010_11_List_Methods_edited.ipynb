{
 "cells": [
  {
   "cell_type": "markdown",
   "metadata": {
    "id": "yCEF1VHQG0MJ"
   },
   "source": [
    "#### Method ที่ใช้จัดการกับ List"
   ]
  },
  {
   "cell_type": "markdown",
   "metadata": {
    "id": "iWJPKtlqG0MS"
   },
   "source": [
    "Python มี  built-in method จำนวนมากที่ใช้จัดการกับ list"
   ]
  },
  {
   "cell_type": "markdown",
   "metadata": {
    "id": "DO-Jy4TvG0MX"
   },
   "source": [
    "คำอธิบายการใช้งาน list methods\r\n",
    "\r\n",
    "- `append()`\tเพิ่ม item ต่อท้าย item หลังสุดใน list\r\n",
    "\r\n",
    "- `clear()`\tลบ item ทั้งหมดออกจาก list\r\n",
    "\r\n",
    "- `copy()`\tคัดลอก list\r\n",
    "\r\n",
    "- `count()`\tนับจำนวน items ตามค่าที่ต้องการ\r\n",
    "\r\n",
    "- `extend()`\tเพิ่ม item โดยนำมาต่อท้ายใน list หรือ iterble อื่น ๆ\r\n",
    "\r\n",
    "- `index()`\tหา index ตามค่าที่ต้องการค้นหา\r\n",
    "\r\n",
    "- `insert()`\tเพิ่ม item ไปโดยระบุตำแหน่งที่ต้องการ\r\n",
    "\r\n",
    "- `pop()`\tลบ item โดยระบุตำแหน่งที่ต้องการ\r\n",
    "\r\n",
    "- `remove()`\tลบ item โดยระบุค่าที่ต้องการ\r\n",
    "\r\n",
    "- `reverse()`\tเรียงลำดับ item แบบย้อนกลับ\r\n",
    "\r\n",
    "- `sort()`\tเรียงลำดับ item แบบปกติ"
   ]
  },
  {
   "cell_type": "markdown",
   "metadata": {},
   "source": []
  }
 ],
 "metadata": {
  "colab": {
   "collapsed_sections": [],
   "name": "010_11_List_Methods.ipynb",
   "provenance": []
  },
  "interpreter": {
   "hash": "00034aa5cd6c44013b830fd98c7a620a61a498e75425ca81fcc1166b84a69895"
  },
  "kernelspec": {
   "display_name": "Python 3.8.5 64-bit ('base': conda)",
   "name": "python3"
  },
  "language_info": {
   "name": "python",
   "version": "3.8.5"
  }
 },
 "nbformat": 4,
 "nbformat_minor": 2
}
