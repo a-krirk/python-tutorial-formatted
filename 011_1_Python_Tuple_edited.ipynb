{
 "cells": [
  {
   "cell_type": "markdown",
   "metadata": {
    "id": "2FkExhFIoNY8"
   },
   "source": [
    "#### Tuple"
   ]
  },
  {
   "cell_type": "markdown",
   "metadata": {
    "id": "Pi4B7jk_nZkJ"
   },
   "source": [
    "Tuples ใช้เพื่อเก็บข้อมูลหลายรายการในตัวแปรเดียว\r\n",
    "\r\n",
    "Tuples คือคอลเลกชั่นที่มีการกำหนดลำดับไว้และไม่สามารถเปลี่ยนแปลงค่าได้\r\n",
    "\r\n",
    "Tuples เขียนด้วย `()`"
   ]
  },
  {
   "cell_type": "code",
   "execution_count": 1,
   "metadata": {
    "colab": {
     "base_uri": "https://localhost:8080/"
    },
    "executionInfo": {
     "elapsed": 338,
     "status": "ok",
     "timestamp": 1630381005057,
     "user": {
      "displayName": "Wachirawit Viriyaphisathan",
      "photoUrl": "https://lh3.googleusercontent.com/a-/AOh14GhpFNFOo2HRjyI36_HMPGhSHMfGYozwoiGMZBoPbA=s64",
      "userId": "03875063837227722804"
     },
     "user_tz": -420
    },
    "id": "LJBxqh5kodY2",
    "outputId": "0bd62611-6771-472c-cbb6-8c83892102ef"
   },
   "outputs": [
    {
     "name": "stdout",
     "output_type": "stream",
     "text": [
      "('mango', 'pineapple', 'orange')\n"
     ]
    }
   ],
   "source": [
    "thistuple = (\"mango\", \"pineapple\", \"orange\")\r\n",
    "print(thistuple)"
   ]
  },
  {
   "cell_type": "markdown",
   "metadata": {
    "id": "3WHFf7Pmone1"
   },
   "source": [
    "###### Tuple Items"
   ]
  },
  {
   "cell_type": "markdown",
   "metadata": {
    "id": "TUeOR-JC2sIW"
   },
   "source": [
    "มีการกำหนดลำดับ (ordered) : item ใน tuple จะมีการกำหนดลำดับ และสามารถอ้างอิงด้วย index ได้ เช่น รายการแรกมี index [0] รายการที่สองมี index [1] เป็นต้น\r\n",
    "\r\n",
    "ไม่สามารถเปลี่ยนแปลงได้ (unchangeable) : item ใน tuple ไม่สามารถเปลี่ยนแปลงค่าภายหลังจากที่สร้าง tuple แล้ว\r\n",
    "\r\n",
    "สามารถมีค่าที่ซ้ำกันได้ (allow duplicate values) : item ใน tuple สามารถมีค่าที่ซ้ำกันได้"
   ]
  },
  {
   "cell_type": "code",
   "execution_count": 2,
   "metadata": {
    "colab": {
     "base_uri": "https://localhost:8080/"
    },
    "executionInfo": {
     "elapsed": 423,
     "status": "ok",
     "timestamp": 1630380998705,
     "user": {
      "displayName": "Wachirawit Viriyaphisathan",
      "photoUrl": "https://lh3.googleusercontent.com/a-/AOh14GhpFNFOo2HRjyI36_HMPGhSHMfGYozwoiGMZBoPbA=s64",
      "userId": "03875063837227722804"
     },
     "user_tz": -420
    },
    "id": "7ba04mJs27BJ",
    "outputId": "add177d6-0a1c-4ee8-b661-df58b7084bea"
   },
   "outputs": [
    {
     "name": "stdout",
     "output_type": "stream",
     "text": [
      "('mango', 'banana', 'coconut', 'mango', 'mango')\n"
     ]
    }
   ],
   "source": [
    "thistuple = (\"mango\", \"banana\", \"coconut\", \"mango\", \"mango\")\r\n",
    "print(thistuple)"
   ]
  },
  {
   "cell_type": "markdown",
   "metadata": {
    "id": "19FMz2VSzLrC"
   },
   "source": [
    "###### การหาความยาวของ tuple"
   ]
  },
  {
   "cell_type": "markdown",
   "metadata": {
    "id": "iVZ3OrlM3GPd"
   },
   "source": [
    "เพื่อพิจารณาว่า tuple มีกี่ item ให้ใช้ฟังก์ชัน len()"
   ]
  },
  {
   "cell_type": "code",
   "execution_count": 3,
   "metadata": {
    "colab": {
     "base_uri": "https://localhost:8080/"
    },
    "executionInfo": {
     "elapsed": 6,
     "status": "ok",
     "timestamp": 1630380996710,
     "user": {
      "displayName": "Wachirawit Viriyaphisathan",
      "photoUrl": "https://lh3.googleusercontent.com/a-/AOh14GhpFNFOo2HRjyI36_HMPGhSHMfGYozwoiGMZBoPbA=s64",
      "userId": "03875063837227722804"
     },
     "user_tz": -420
    },
    "id": "c14ANZqU6aly",
    "outputId": "fe88ef6d-2fd9-48ea-ff0a-ef086206bb05"
   },
   "outputs": [
    {
     "name": "stdout",
     "output_type": "stream",
     "text": [
      "3\n"
     ]
    }
   ],
   "source": [
    "thistuple = (\"apple\", \"banana\", \"mango\")\r\n",
    "print(len(thistuple))"
   ]
  },
  {
   "cell_type": "markdown",
   "metadata": {
    "id": "1oLlMoD0RT4r"
   },
   "source": [
    "###### การสร้าง tuple ด้วย item เพียงตัวเดียว"
   ]
  },
  {
   "cell_type": "markdown",
   "metadata": {
    "id": "iCcrBG--RbG-"
   },
   "source": [
    "ถ้าต้องการสร้าง tuple ที่มี item เพียงตัวเดียว จะต้องใส่เครื่องหมาย `,` ด้วย"
   ]
  },
  {
   "cell_type": "code",
   "execution_count": 4,
   "metadata": {
    "colab": {
     "base_uri": "https://localhost:8080/"
    },
    "executionInfo": {
     "elapsed": 5,
     "status": "ok",
     "timestamp": 1630380994250,
     "user": {
      "displayName": "Wachirawit Viriyaphisathan",
      "photoUrl": "https://lh3.googleusercontent.com/a-/AOh14GhpFNFOo2HRjyI36_HMPGhSHMfGYozwoiGMZBoPbA=s64",
      "userId": "03875063837227722804"
     },
     "user_tz": -420
    },
    "id": "dnqPJXp8RdbQ",
    "outputId": "de6e1bba-cfa9-41f0-91f6-08163fbe62e8"
   },
   "outputs": [
    {
     "name": "stdout",
     "output_type": "stream",
     "text": [
      "<class 'tuple'>\n",
      "<class 'str'>\n"
     ]
    }
   ],
   "source": [
    "thistuple = (\"apple\",)\r\n",
    "print(type(thistuple))\r\n",
    "\r\n",
    "#NOT a tuple\r\n",
    "thistuple = (\"apple\")\r\n",
    "print(type(thistuple))"
   ]
  },
  {
   "cell_type": "markdown",
   "metadata": {
    "id": "DK12bVb46kE5"
   },
   "source": [
    "###### ชนิดของข้อมูลของ tuple"
   ]
  },
  {
   "cell_type": "markdown",
   "metadata": {
    "id": "k-BZk8r1PB8r"
   },
   "source": [
    "รายการทูเพิลสามารถเป็นข้อมูลชนิดใดก็ได้"
   ]
  },
  {
   "cell_type": "code",
   "execution_count": 5,
   "metadata": {
    "id": "NVct2r_OPEAF"
   },
   "outputs": [],
   "source": [
    "tuple1 = (\"apple\", \"mango\", \"coconut\")\r\n",
    "tuple2 = (1, 5, 7, 9, 3)\r\n",
    "tuple3 = (True, False, False)"
   ]
  },
  {
   "cell_type": "markdown",
   "metadata": {
    "id": "k7S8KETrPHwx"
   },
   "source": [
    "tuple สามารถประกอบด้วยชนิดข้อมูลที่แตกต่างกันได้"
   ]
  },
  {
   "cell_type": "code",
   "execution_count": 6,
   "metadata": {
    "id": "C82A5ftzPIqu"
   },
   "outputs": [],
   "source": [
    "tuple1 = (\"สวัสดีวันจันทร์\", 60, True, 80, \"gretting\")"
   ]
  },
  {
   "cell_type": "markdown",
   "metadata": {
    "id": "NIhZZyjB6uYk"
   },
   "source": [
    "###### type()"
   ]
  },
  {
   "cell_type": "markdown",
   "metadata": {
    "id": "0ZNDuxQnPfGJ"
   },
   "source": [
    "tuples มีชนิดของข้อมูลเป็น 'tuple'"
   ]
  },
  {
   "cell_type": "code",
   "execution_count": 7,
   "metadata": {
    "colab": {
     "base_uri": "https://localhost:8080/"
    },
    "executionInfo": {
     "elapsed": 360,
     "status": "ok",
     "timestamp": 1630380991626,
     "user": {
      "displayName": "Wachirawit Viriyaphisathan",
      "photoUrl": "https://lh3.googleusercontent.com/a-/AOh14GhpFNFOo2HRjyI36_HMPGhSHMfGYozwoiGMZBoPbA=s64",
      "userId": "03875063837227722804"
     },
     "user_tz": -420
    },
    "id": "TkBly3e4Phks",
    "outputId": "7a3e10ea-566e-49b9-9a37-1ea26c8c7e70"
   },
   "outputs": [
    {
     "name": "stdout",
     "output_type": "stream",
     "text": [
      "<class 'tuple'>\n"
     ]
    }
   ],
   "source": [
    "mytuple = (\"mango\", \"banana\", \"coconut\")\r\n",
    "print(type(mytuple))"
   ]
  },
  {
   "cell_type": "markdown",
   "metadata": {
    "id": "gR06Hw4i6vPU"
   },
   "source": [
    "###### tuple() Constructor"
   ]
  },
  {
   "cell_type": "markdown",
   "metadata": {
    "id": "jLYnCPbfPmdY"
   },
   "source": [
    "สามารถใช้ tuple() เพื่อสร้าง tuple"
   ]
  },
  {
   "cell_type": "code",
   "execution_count": 8,
   "metadata": {
    "colab": {
     "base_uri": "https://localhost:8080/"
    },
    "executionInfo": {
     "elapsed": 500,
     "status": "ok",
     "timestamp": 1630380988031,
     "user": {
      "displayName": "Wachirawit Viriyaphisathan",
      "photoUrl": "https://lh3.googleusercontent.com/a-/AOh14GhpFNFOo2HRjyI36_HMPGhSHMfGYozwoiGMZBoPbA=s64",
      "userId": "03875063837227722804"
     },
     "user_tz": -420
    },
    "id": "IB9LuXGTPp9r",
    "outputId": "93c3ba11-a2ca-43c4-a34f-828d07aa57d2"
   },
   "outputs": [
    {
     "name": "stdout",
     "output_type": "stream",
     "text": [
      "('apple', 'coconut', 'mango')\n"
     ]
    }
   ],
   "source": [
    "thistuple = tuple((\"apple\", \"coconut\", \"mango\")) # สังเกตุวงเล็บ\r\n",
    "print(thistuple)"
   ]
  },
  {
   "cell_type": "markdown",
   "metadata": {
    "id": "CevM3m-36wRe"
   },
   "source": [
    "###### Python Collections"
   ]
  },
  {
   "cell_type": "markdown",
   "metadata": {
    "id": "FCffry63PtzY"
   },
   "source": [
    "ใน Python มี Collections ของข้อมูล 4 ประเภท\r\n",
    "\r\n",
    "* `List` เป็น collection ที่มีการกำหนดลำดับของข้อมูลไว้ เปลี่ยนแปลงค่าได้ และสามารถมีสมาชิกที่ซ้ำกันได้\r\n",
    "* `Tuple` เป็น collection ที่ไม่มีการกำหนดลำดับของข้อมูลไว้ เปลี่ยนแปลงค่าไม่ได้ และสามารถมีสมาชิกที่ซ้ำกันได้\r\n",
    "* `set` เป็น collection ที่ไม่มีการกำหนดลำดับของข้อมูลไว้ ไม่มีการกำหนด index และไม่สามารถมีสมาชิกที่ซ้ำกันได้\r\n",
    "* `dictionary` เป็น collection ที่มีการกำหนดลำดับของข้อมูลไว้ เปลี่ยนแปลงค่าได้ และไม่สามารถมีสมาชิกที่ซ้ำกันได้\r\n",
    "\r\n",
    "ควรเลือกชนิดของ collection ให้เหมาะสมกับงานและการนำไปใช้ เพื่อความปลอดภัยของข้อมูลและประสิทธิภาพของ application \r\n"
   ]
  }
 ],
 "metadata": {
  "colab": {
   "collapsed_sections": [
    "6XUZFN6tn75v",
    "3WHFf7Pmone1",
    "4qYqdoSorl-l",
    "mNXrIn39zHA9",
    "vtUXPcWZzKuK",
    "19FMz2VSzLrC",
    "1oLlMoD0RT4r",
    "DK12bVb46kE5",
    "NIhZZyjB6uYk",
    "gR06Hw4i6vPU",
    "CevM3m-36wRe"
   ],
   "name": "011_Python_Tuple.ipynb",
   "provenance": [
    {
     "file_id": "1-eAGg9tPyYdkRd6R0xhPBfdVtwyLMWIY",
     "timestamp": 1630380612810
    },
    {
     "file_id": "1sVn9bVEnWLbtTPu4idRaMz-ZBXY1fG62",
     "timestamp": 1630340809849
    },
    {
     "file_id": "1YtwUjCetdLnR50UNYGnR1IAtH0W9ooO1",
     "timestamp": 1630337697384
    },
    {
     "file_id": "17XEX7PlOXBuY9UKKtSy1bB2_DdHBOg1P",
     "timestamp": 1630337226185
    }
   ]
  },
  "interpreter": {
   "hash": "00034aa5cd6c44013b830fd98c7a620a61a498e75425ca81fcc1166b84a69895"
  },
  "kernelspec": {
   "display_name": "Python 3.8.5 64-bit ('base': conda)",
   "name": "python3"
  },
  "language_info": {
   "codemirror_mode": {
    "name": "ipython",
    "version": 3
   },
   "file_extension": ".py",
   "mimetype": "text/x-python",
   "name": "python",
   "nbconvert_exporter": "python",
   "pygments_lexer": "ipython3",
   "version": "3.8.5"
  }
 },
 "nbformat": 4,
 "nbformat_minor": 2
}
