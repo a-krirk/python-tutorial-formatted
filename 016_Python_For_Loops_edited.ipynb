{
 "cells": [
  {
   "cell_type": "markdown",
   "source": [
    "#### For Loops"
   ],
   "metadata": {
    "id": "z8dwKvEp2gQ_"
   }
  },
  {
   "cell_type": "markdown",
   "source": [
    "ใช้สำหรับการรันชุดคำสั่งเดิมซ้ำ ๆ จนกว่าจะตรงตามเงื่อนไขหรือจำนวนรอบที่กำหนด"
   ],
   "metadata": {
    "id": "zDJe1hHF0gRJ"
   }
  },
  {
   "cell_type": "markdown",
   "source": [
    "###### ตัวอย่าง\r\n",
    "ปริ้นชื่อสีทั้งหมดที่อยู่ใน list ชื่อ colors\r\n",
    "\r\n"
   ],
   "metadata": {
    "id": "Cto87U7S0h-z"
   }
  },
  {
   "cell_type": "code",
   "execution_count": 2,
   "source": [
    "colors = [\"red\", \"blue\", \"green\"]\r\n",
    "for x in colors:\r\n",
    "  print(x)"
   ],
   "outputs": [
    {
     "output_type": "stream",
     "name": "stdout",
     "text": [
      "red\n",
      "blue\n",
      "green\n"
     ]
    }
   ],
   "metadata": {
    "colab": {
     "base_uri": "https://localhost:8080/"
    },
    "id": "hsscrkTH0S1O",
    "outputId": "ce966ddc-2fee-4bc3-8a2c-6d255bb22097"
   }
  },
  {
   "cell_type": "markdown",
   "source": [
    "`for` loop ไม่จำเป็นต้องกำหนด indexing variable ก่อนการวน loop\r\n",
    "\r\n"
   ],
   "metadata": {
    "id": "lPoxoXzn1XHv"
   }
  },
  {
   "cell_type": "markdown",
   "source": [
    "###### การวน Loop ผ่านตัวแปร String (str)\r\n",
    "\r\n",
    "สามารถวน loop ผ่าน string ได้ เนื่องจาก string เป็น object แบบ iterable \r\n",
    "\r\n"
   ],
   "metadata": {
    "id": "DwRDFJ8H0jdU"
   }
  },
  {
   "cell_type": "markdown",
   "source": [
    "###### ตัวอย่าง\r\n",
    "การวน loop ผ่านตัวอักษรในคำว่า \"green\":\r\n",
    "\r\n"
   ],
   "metadata": {
    "id": "0zbQfvGx0lE2"
   }
  },
  {
   "cell_type": "code",
   "execution_count": 3,
   "source": [
    "for x in \"green\":\r\n",
    "  print(x)\r\n"
   ],
   "outputs": [
    {
     "output_type": "stream",
     "name": "stdout",
     "text": [
      "g\n",
      "r\n",
      "e\n",
      "e\n",
      "n\n"
     ]
    }
   ],
   "metadata": {
    "colab": {
     "base_uri": "https://localhost:8080/"
    },
    "id": "FgLnmDJs1hA1",
    "outputId": "d3344a1d-2f55-403f-a888-4fbc12f72478"
   }
  },
  {
   "cell_type": "markdown",
   "source": [
    "######  การใช้ break\r\n",
    "ใช้คำสั่ง `break` เพื่อหยุดการวน loop หรือออกจาก loop ได้ทันที\r\n",
    "\r\n"
   ],
   "metadata": {
    "id": "4PYlnmHt0mcn"
   }
  },
  {
   "cell_type": "markdown",
   "source": [
    "###### ตัวอย่าง\r\n",
    "ออกจาก loop ทันที ถ้า **x** คือ \"green\"\r\n",
    "\r\n"
   ],
   "metadata": {
    "id": "pvMoeXAI0oXM"
   }
  },
  {
   "cell_type": "code",
   "execution_count": 4,
   "source": [
    "colors = [\"red\", \"blue\", \"green\"]\r\n",
    "for x in colors:\r\n",
    "  print(x)\r\n",
    "  if x == \"green\":\r\n",
    "    break"
   ],
   "outputs": [
    {
     "output_type": "stream",
     "name": "stdout",
     "text": [
      "red\n",
      "blue\n",
      "green\n"
     ]
    }
   ],
   "metadata": {
    "colab": {
     "base_uri": "https://localhost:8080/"
    },
    "id": "QLanR_m80nNk",
    "outputId": "072ff9e9-0a2b-4f5c-c927-b63ddf3e0b4f"
   }
  },
  {
   "cell_type": "markdown",
   "source": [
    "###### ตัวอย่าง\r\n",
    "ในโค้ดชุดนี้มีคำสั่ง **break** คือ ออกจาก loop ทันที ถ้า x คือ \"green\" โดยในโค้ดคำสั่ง **break** มาก่อนคำสั่ง print()\r\n",
    "\r\n"
   ],
   "metadata": {
    "id": "5nQ3q48G0p7Q"
   }
  },
  {
   "cell_type": "code",
   "execution_count": 5,
   "source": [
    "colors = [\"red\", \"blue\", \"green\"]\r\n",
    "for x in colors:\r\n",
    "  if x == \"green\":\r\n",
    "    break\r\n",
    "  print(x)"
   ],
   "outputs": [
    {
     "output_type": "stream",
     "name": "stdout",
     "text": [
      "red\n",
      "blue\n"
     ]
    }
   ],
   "metadata": {
    "colab": {
     "base_uri": "https://localhost:8080/"
    },
    "id": "qDkIOCTn0qqC",
    "outputId": "9d558b6f-9b79-497e-8118-f1012401bb0b"
   }
  },
  {
   "cell_type": "markdown",
   "source": [
    "###### การใช้คำสั่ง continue\n",
    "ใช้คำสั่ง **continue** เพื่อหยุดการประมวลผลรอบนี้ และไปวน loop รอบใหม่เพื่อประมวลผลค่าต่อไป\n",
    "\n"
   ],
   "metadata": {
    "id": "ZESDqMou2Fmu"
   }
  },
  {
   "cell_type": "markdown",
   "source": [
    "###### ตัวอย่าง\r\n",
    "ไม่ประมวลผลคำสั่ง print(x) ถ้าการวน loop รอบนั้น x คือ \"green\"\r\n"
   ],
   "metadata": {
    "id": "VTCRoRA00r4u"
   }
  },
  {
   "cell_type": "code",
   "execution_count": 6,
   "source": [
    "colors = [\"red\", \"blue\", \"green\"]\r\n",
    "for x in colors:\r\n",
    "  if x == \"green\":\r\n",
    "    continue\r\n",
    "  print(x)"
   ],
   "outputs": [
    {
     "output_type": "stream",
     "name": "stdout",
     "text": [
      "red\n",
      "blue\n"
     ]
    }
   ],
   "metadata": {
    "colab": {
     "base_uri": "https://localhost:8080/"
    },
    "id": "U6k5nCxf0smb",
    "outputId": "8595ba0b-e70c-49a6-fade-60a9196364c4"
   }
  },
  {
   "cell_type": "markdown",
   "source": [
    "###### ฟังก์ชัน range()\r\n",
    "\r\n",
    "ฟังก์ชัน `range()` ใช้สำหรับการลำดับจำนวนตัวเลข โดยมีค่าเริ่มต้นเท่ากับ 0 (default) ค่าในการวนรอบต่อไปจะเพิ่มขึ้นทีละ 1 (default) และจบการวน loop ด้วยตัวเลขหนึ่งซึ่งเราสามารถกำหนดเองได้\r\n",
    "\r\n"
   ],
   "metadata": {
    "id": "nwk3jMh20wo2"
   }
  },
  {
   "cell_type": "markdown",
   "source": [
    "###### ตัวอย่าง\r\n",
    "การใช้งานฟังก์ชัน `range()`\r\n",
    "\r\n"
   ],
   "metadata": {
    "id": "qcafn8oC0xVa"
   }
  },
  {
   "cell_type": "code",
   "execution_count": 7,
   "source": [
    "for x in range(5):\r\n",
    "  print(x)"
   ],
   "outputs": [
    {
     "output_type": "stream",
     "name": "stdout",
     "text": [
      "0\n",
      "1\n",
      "2\n",
      "3\n",
      "4\n"
     ]
    }
   ],
   "metadata": {
    "colab": {
     "base_uri": "https://localhost:8080/"
    },
    "id": "b1q1bTJw0x6s",
    "outputId": "8b6ea7be-303a-44d8-ec32-4112c3191f41"
   }
  },
  {
   "cell_type": "markdown",
   "source": [
    "ฟังก์ชัน `range()` มีค่าเริ่มต้นเท่ากับ 0 (default) แต่เราสามารถระบุเลขที่เราต้องการได้\r\n",
    "\r\n",
    "เช่น range(3, 6) หมายถึง เริ่มต้นที่ 3 จบที่เลข 6 (ไม่รวม 6)"
   ],
   "metadata": {
    "id": "EuD0-RoC2fA5"
   }
  },
  {
   "cell_type": "markdown",
   "source": [
    "###### ตัวอย่าง\r\n",
    "\r\n",
    "การระบุเลขเริ่มต้นของการวน loop\r\n",
    "\r\n"
   ],
   "metadata": {
    "id": "U0PPbJ5o0zFp"
   }
  },
  {
   "cell_type": "code",
   "execution_count": 8,
   "source": [
    "for x in range(3, 6):\r\n",
    "  print(x)"
   ],
   "outputs": [
    {
     "output_type": "stream",
     "name": "stdout",
     "text": [
      "3\n",
      "4\n",
      "5\n"
     ]
    }
   ],
   "metadata": {
    "colab": {
     "base_uri": "https://localhost:8080/"
    },
    "id": "qPNADRLX2pAt",
    "outputId": "c94739ef-95f8-48b2-a1d8-c31486363fc9"
   }
  },
  {
   "cell_type": "markdown",
   "source": [
    "ฟังก์ชัน `range()`  การเพิ่มขึ้นของตัวเลข จะมีค่าเพิ่มขึ้นทีละ 1 (ตามค่า default)\r\n",
    "\r\n",
    "แต่เราสามารถเปลี่ยนแปลงค่าที่เพิ่มขึ้นได้ โดยการใส่เลขที่ต้องการลงไปเป็น parameter ตัวที่สามของฟังก์ชัน เช่น range(10, 40, 5) --> เริ่มต้นที่ 10 ไปจนถึง 40 โดยเพิ่มขึ้นทีละ 5"
   ],
   "metadata": {
    "id": "tkArq2Ph2rDw"
   }
  },
  {
   "cell_type": "markdown",
   "source": [
    "###### ตัวอย่าง\r\n",
    "ให้ตัวเลขมีค่าเพิ่มขึ้นทีละ 5 (ปกติ default เพิ่มขึ้นทีละ 1)"
   ],
   "metadata": {
    "id": "Wz-qKigJ0ze1"
   }
  },
  {
   "cell_type": "code",
   "execution_count": 9,
   "source": [
    "for x in range(10, 40, 5) :\r\n",
    "  print(x)"
   ],
   "outputs": [
    {
     "output_type": "stream",
     "name": "stdout",
     "text": [
      "10\n",
      "15\n",
      "20\n",
      "25\n",
      "30\n",
      "35\n"
     ]
    }
   ],
   "metadata": {
    "colab": {
     "base_uri": "https://localhost:8080/"
    },
    "id": "KfLpypw400Cs",
    "outputId": "d6745350-2503-45a7-a039-e9525207bb4a"
   }
  },
  {
   "cell_type": "markdown",
   "source": [
    "###### Else ใน For Loop\r\n",
    "keyword `else` ใน `for` loop เป็นการระบุ block ของโค้ดที่จะประมวลผลเมื่อการวน loop เสร็จสิ้น\r\n"
   ],
   "metadata": {
    "id": "mzyABqyb01Wv"
   }
  },
  {
   "cell_type": "markdown",
   "source": [
    "###### ตัวอย่าง\r\n",
    "ปริ้นตัวเลขตั้งแต่ 0 ถึง 5 และปริ้นข้อความเมื่อการวน loop เสร็จสิ้น"
   ],
   "metadata": {
    "id": "NIO_WZSt02qZ"
   }
  },
  {
   "cell_type": "code",
   "execution_count": 14,
   "source": [
    "for x in range(6):\r\n",
    "  print(x)\r\n",
    "else:\r\n",
    "  print(\"วน loop เสร็จแล้ว\")"
   ],
   "outputs": [
    {
     "output_type": "stream",
     "name": "stdout",
     "text": [
      "0\n",
      "1\n",
      "2\n",
      "3\n",
      "4\n",
      "5\n",
      "วน loop เสร็จแล้ว\n"
     ]
    }
   ],
   "metadata": {
    "colab": {
     "base_uri": "https://localhost:8080/"
    },
    "id": "qGYMBU5H03iK",
    "outputId": "1950cd31-603d-4561-bc7f-15a6e4fa7db1"
   }
  },
  {
   "cell_type": "markdown",
   "source": [
    "###### ตัวอย่าง\r\n",
    "ออกจาก loop เมื่อ `x` มีค่าเท่ากับ 3 และสังเกตสิ่งที่เกิดขึ้นตามมาในโค้ด block ที่มี keyword `else`"
   ],
   "metadata": {
    "id": "gYLShmJW05vj"
   }
  },
  {
   "cell_type": "code",
   "execution_count": 15,
   "source": [
    "for x in range(6):\r\n",
    "  if x == 3: break\r\n",
    "  print(x)\r\n",
    "else:\r\n",
    "  print(\"วน loop เสร็จแล้ว\")"
   ],
   "outputs": [
    {
     "output_type": "stream",
     "name": "stdout",
     "text": [
      "0\n",
      "1\n",
      "2\n"
     ]
    }
   ],
   "metadata": {
    "colab": {
     "base_uri": "https://localhost:8080/"
    },
    "id": "xMvTjV0A3Nhy",
    "outputId": "54736bdb-b19e-496d-fa9a-3a93a0acbad6"
   }
  },
  {
   "cell_type": "markdown",
   "source": [
    "###### Nested Loops\n",
    "คือมี loop ซ้อน loop\n",
    "\n",
    "loop ที่อยู่ด้านในจะทำงานซ้ำจนครบก่อน จึงจะออกมาทำ loop ด้านนอกต่อ"
   ],
   "metadata": {
    "id": "mBi-zdrh06cZ"
   }
  },
  {
   "cell_type": "markdown",
   "source": [
    "###### ตัวอย่าง\r\n",
    "ปริ้น adj ของ fruits ทุกชนิด\r\n",
    "\r\n"
   ],
   "metadata": {
    "id": "l1E39D8j3h9F"
   }
  },
  {
   "cell_type": "code",
   "execution_count": 16,
   "source": [
    "adj = [\"good\", \"nice\", \"small\"]\r\n",
    "fruits = [\"car\", \"boat\", \"house\"]\r\n",
    "\r\n",
    "for x in adj:\r\n",
    "  for y in fruits:\r\n",
    "    print(x, y)"
   ],
   "outputs": [
    {
     "output_type": "stream",
     "name": "stdout",
     "text": [
      "good car\n",
      "good boat\n",
      "good house\n",
      "nice car\n",
      "nice boat\n",
      "nice house\n",
      "small car\n",
      "small boat\n",
      "small house\n"
     ]
    }
   ],
   "metadata": {
    "colab": {
     "base_uri": "https://localhost:8080/"
    },
    "id": "dsH4o-AT07aC",
    "outputId": "b45f60b4-184c-4c2e-c371-b91054caf336"
   }
  },
  {
   "cell_type": "markdown",
   "source": [
    "###### การใช้คำสั่ง pass\r\n",
    "\r\n",
    "ปกติแล้วภายใน `for` loops ไม่สามารถเป็นค่าว่างได้ เพราะจะทำให้โค้ด error\r\n",
    "\r\n",
    "ถ้าอยากเขียน loop ไว้ก่อนแต่ไม่ต้องการให้โค้ด error สามารถใช้คำสั่ง `pass` มาช่วยแก้ปัญหานี้ได้\r\n",
    "\r\n"
   ],
   "metadata": {
    "id": "0uwzW3sO3pHJ"
   }
  },
  {
   "cell_type": "markdown",
   "source": [
    "###### ตัวอย่าง\r\n"
   ],
   "metadata": {
    "id": "6Px2UFNv3rEU"
   }
  },
  {
   "cell_type": "code",
   "execution_count": 13,
   "source": [
    "for x in [0, 1, 2]:\r\n",
    "  pass"
   ],
   "outputs": [],
   "metadata": {
    "id": "t74GeVwi32-Q"
   }
  }
 ],
 "metadata": {
  "colab": {
   "name": "สำเนาของ 016_Python_For_Loops.ipynb",
   "provenance": [],
   "toc_visible": true
  },
  "interpreter": {
   "hash": "00034aa5cd6c44013b830fd98c7a620a61a498e75425ca81fcc1166b84a69895"
  },
  "kernelspec": {
   "display_name": "Python 3.8.5 64-bit ('base': conda)",
   "name": "python3"
  },
  "language_info": {
   "codemirror_mode": {
    "name": "ipython",
    "version": 3
   },
   "file_extension": ".py",
   "mimetype": "text/x-python",
   "name": "python",
   "nbconvert_exporter": "python",
   "pygments_lexer": "ipython3",
   "version": "3.8.5"
  }
 },
 "nbformat": 4,
 "nbformat_minor": 2
}