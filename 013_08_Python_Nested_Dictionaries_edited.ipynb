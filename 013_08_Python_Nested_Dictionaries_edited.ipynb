{
 "cells": [
  {
   "cell_type": "markdown",
   "metadata": {
    "id": "Qiaapgrwff2i"
   },
   "source": [
    "#### Nested Dictionary"
   ]
  },
  {
   "cell_type": "markdown",
   "metadata": {
    "id": "Ch1TWTzFff2m"
   },
   "source": [
    "dictionary ที่มี dictionary อื่นซ้อนอยู่ด้านใน เรียกว่า nested dictionaries"
   ]
  },
  {
   "cell_type": "markdown",
   "metadata": {
    "id": "SYiRr5lDff2n"
   },
   "source": [
    "###### ตัวอย่าง\r\n",
    "สร้าง dictionary ซ้อน dictionary"
   ]
  },
  {
   "cell_type": "code",
   "execution_count": 3,
   "metadata": {
    "id": "P19SRkFjff2o"
   },
   "outputs": [],
   "source": [
    "myfamily = {\r\n",
    "  \"child1\" : {\r\n",
    "    \"name\" : \"สมชาย\",\r\n",
    "    \"year\" : 1999\r\n",
    "  },\r\n",
    "  \"child2\" : {\r\n",
    "    \"name\" : \"สมหญิง\",\r\n",
    "    \"year\" : 2000\r\n",
    "  },\r\n",
    "  \"child3\" : {\r\n",
    "    \"name\" : \"สมพร\",\r\n",
    "    \"year\" : 2001\r\n",
    "  }\r\n",
    "}"
   ]
  },
  {
   "cell_type": "markdown",
   "metadata": {
    "id": "hne0BXHiff2q"
   },
   "source": [
    "###### ตัวอย่าง\r\n",
    "สร้าง dictionary 1 อัน ที่มี dictionary 3 อันย่อยซ้อนอยู่ด้านใน"
   ]
  },
  {
   "cell_type": "code",
   "execution_count": 4,
   "metadata": {
    "id": "WqabT-4_ff2q"
   },
   "outputs": [],
   "source": [
    "child1 = {\r\n",
    "  \"name\" : \"สมชาย\",\r\n",
    "  \"year\" : 1999\r\n",
    "}\r\n",
    "child2 = {\r\n",
    "  \"name\" : \"สมหญิง\",\r\n",
    "  \"year\" : 2000\r\n",
    "}\r\n",
    "child3 = {\r\n",
    "  \"name\" : \"สมพร\",\r\n",
    "  \"year\" : 2001\r\n",
    "}\r\n",
    "\r\n",
    "myfamily = {\r\n",
    "  \"child1\" : child1,\r\n",
    "  \"child2\" : child2,\r\n",
    "  \"child3\" : child3\r\n",
    "}"
   ]
  }
 ],
 "metadata": {
  "colab": {
   "collapsed_sections": [],
   "name": "013_08_Python_Nested_Dictionaries.ipynb",
   "provenance": []
  },
  "interpreter": {
   "hash": "00034aa5cd6c44013b830fd98c7a620a61a498e75425ca81fcc1166b84a69895"
  },
  "kernelspec": {
   "display_name": "Python 3.8.5 64-bit ('base': conda)",
   "name": "python3"
  },
  "language_info": {
   "codemirror_mode": {
    "name": "ipython",
    "version": 3
   },
   "file_extension": ".py",
   "mimetype": "text/x-python",
   "name": "python",
   "nbconvert_exporter": "python",
   "pygments_lexer": "ipython3",
   "version": "3.8.5"
  }
 },
 "nbformat": 4,
 "nbformat_minor": 2
}
