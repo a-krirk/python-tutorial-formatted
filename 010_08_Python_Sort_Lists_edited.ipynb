{
 "cells": [
  {
   "cell_type": "markdown",
   "metadata": {
    "id": "oLmaXlM_0HK8"
   },
   "source": [
    "#### Sort Lists"
   ]
  },
  {
   "cell_type": "markdown",
   "metadata": {
    "id": "VSEW1NeN0HLf"
   },
   "source": [
    "สามารถใช้ method sort()  เพื่อเรียงลำดับ item ใน list"
   ]
  },
  {
   "cell_type": "markdown",
   "metadata": {
    "id": "A8G6ky5m0HLl"
   },
   "source": [
    "###### ตัวอย่าง\r\n",
    "เรียงลำดับ item ใน list ตามตัวอักษร"
   ]
  },
  {
   "cell_type": "code",
   "execution_count": 8,
   "metadata": {
    "id": "2xfpWewF0HLn"
   },
   "outputs": [
    {
     "name": "stdout",
     "output_type": "stream",
     "text": [
      "['apple', 'banana', 'mango', 'orange', 'papaya']\n"
     ]
    }
   ],
   "source": [
    "fruits_list = [\"apple\", \"papaya\", \"banana\", \"orange\", \"mango\"]\r\n",
    "fruits_list.sort()\r\n",
    "print(fruits_list)"
   ]
  },
  {
   "cell_type": "markdown",
   "metadata": {
    "id": "Zo49nq_Q0HLz"
   },
   "source": [
    "###### ตัวอย่าง\r\n",
    "เรียงลำดับ item ใน list จากน้อยไปมาก (ascending)"
   ]
  },
  {
   "cell_type": "code",
   "execution_count": 9,
   "metadata": {
    "id": "rIRNgHL90HL3",
    "outputId": "c98f636e-d844-4e65-ddda-0a78e2d52cc3"
   },
   "outputs": [
    {
     "name": "stdout",
     "output_type": "stream",
     "text": [
      "[23, 50, 65, 82, 100]\n"
     ]
    }
   ],
   "source": [
    "num_list = [100, 50, 65, 82, 23]\r\n",
    "num_list.sort()\r\n",
    "print(num_list)"
   ]
  },
  {
   "cell_type": "markdown",
   "metadata": {
    "id": "Dw7qp7_-0HL7"
   },
   "source": [
    "###### เรียงลำดับแบบถอยหลัง\n",
    "เรียงลำดับ item ใน list แบบถอยหลัง (descending)\n",
    "ด้วย keyword **reverse = True**"
   ]
  },
  {
   "cell_type": "markdown",
   "metadata": {
    "id": "EzWpafGh0HMA"
   },
   "source": [
    "###### ตัวอย่าง\r\n",
    "เรียงลำดับ item ใน list แบบถอยหลัง (descending)"
   ]
  },
  {
   "cell_type": "code",
   "execution_count": 3,
   "metadata": {
    "id": "tSKNoegE0HMC"
   },
   "outputs": [
    {
     "name": "stdout",
     "output_type": "stream",
     "text": [
      "['papaya', 'orange', 'mango', 'banana', 'apple']\n"
     ]
    }
   ],
   "source": [
    "fruits_list = [\"apple\", \"papaya\", \"banana\", \"orange\", \"mango\"]\r\n",
    "fruits_list.sort(reverse = True)\r\n",
    "print(fruits_list)"
   ]
  },
  {
   "cell_type": "markdown",
   "metadata": {
    "id": "QVQjwV1l0HMF"
   },
   "source": [
    "###### ตัวอย่าง\r\n",
    "เรียงลำดับ item ใน list แบบถอยหลัง (descending)"
   ]
  },
  {
   "cell_type": "code",
   "execution_count": 4,
   "metadata": {
    "id": "ZLGmt7WO0HMI",
    "outputId": "b839fbf0-dcb1-40b9-d5df-290fd6198a6d"
   },
   "outputs": [
    {
     "name": "stdout",
     "output_type": "stream",
     "text": [
      "[100, 82, 65, 50, 23]\n"
     ]
    }
   ],
   "source": [
    "num_list = [100, 50, 65, 82, 23]\r\n",
    "num_list.sort(reverse = True)\r\n",
    "print(num_list)"
   ]
  },
  {
   "cell_type": "markdown",
   "metadata": {
    "id": "XZYicm4O0HMN"
   },
   "source": [
    "###### การปรับแต่งการเรียงลำดับตามต้องการ\r\n",
    "สร้าง function ปรับแต่งการเรียงลำดับได้ โดยใช้ควบคู่กับ keyword **key = ชื่อ function**\r\n",
    "\r\n",
    "sort() เรียงน้อยไปมากเสมอ และในกรณีที่ใช้ function ร่วมด้วยจะเรียงน้อยไปมากตามค่า return ของ item "
   ]
  },
  {
   "cell_type": "markdown",
   "metadata": {
    "id": "dn5Lws650HMR"
   },
   "source": [
    "###### ตัวอย่าง\r\n",
    "เรียงลำดับ item ใน list ที่มีค่าใกล้เคียงกับ 50 มากที่สุด"
   ]
  },
  {
   "cell_type": "code",
   "execution_count": 5,
   "metadata": {
    "id": "yjmhRPMm0HMS",
    "outputId": "94555a94-5bde-4c55-87fb-c056423c0dd4"
   },
   "outputs": [
    {
     "name": "stdout",
     "output_type": "stream",
     "text": [
      "[50, 65, 23, 82, 100]\n"
     ]
    }
   ],
   "source": [
    "def myfunc(n):\r\n",
    "  return abs(n - 50)\r\n",
    "\r\n",
    "num_list = [100, 50, 65, 82, 23]\r\n",
    "num_list.sort(key = myfunc)\r\n",
    "print(num_list)"
   ]
  },
  {
   "cell_type": "markdown",
   "metadata": {
    "id": "_OqnD1PX0HMV"
   },
   "source": [
    "###### การเรียงลำดับอักษรพิมพ์เล็ก-พิมพ์ใหญ่\n",
    "อักษรพิมพ์เล็ก-พิมพ์ใหญ่ มีผลในคำสั่ง sort()\n",
    "ปกติจะเรียง item จากอักษรพิมพ์ใหญ่ทั้งหมดก่อน (default)"
   ]
  },
  {
   "cell_type": "markdown",
   "metadata": {
    "id": "WVRzkXPf0HMW"
   },
   "source": [
    "###### ตัวอย่าง\r\n",
    "ผลลัพธ์ที่ได้จะเห็นว่าคำที่ขึ้นต้นด้วยตัวอักษรพิมพ์ใหญ่จะถูกเรียงไว้ก่อน"
   ]
  },
  {
   "cell_type": "code",
   "execution_count": 6,
   "metadata": {
    "id": "oPJA-Uxv0HMY",
    "outputId": "0539cf76-c8f0-4d0b-c01c-85e322897017"
   },
   "outputs": [
    {
     "name": "stdout",
     "output_type": "stream",
     "text": [
      "['Banana', 'apple', 'orange', 'papaya']\n"
     ]
    }
   ],
   "source": [
    "fruits_list = [\"apple\", \"papaya\", \"Banana\", \"orange\"]\r\n",
    "fruits_list.sort()\r\n",
    "print(fruits_list)"
   ]
  },
  {
   "cell_type": "markdown",
   "metadata": {
    "id": "Az9PPaNd0HMc"
   },
   "source": [
    "อย่างไรก็ตาม สามารถปรับเปลี่ยนให้เรียงลำดับ item จากตัวพิมพ์เล็กก่อนได้ ด้วย key function **str.lower**"
   ]
  },
  {
   "cell_type": "markdown",
   "metadata": {
    "id": "pMPZf1Oh0HMf"
   },
   "source": [
    "###### ตัวอย่าง\r\n",
    "เรียงลำดับ item โดยให้คำที่ขึ้นต้นด้วยอักษรพิมพ์เล็กถูกเรียงไว้ก่อน"
   ]
  },
  {
   "cell_type": "code",
   "execution_count": 12,
   "metadata": {
    "id": "QDTrIyP30HMg"
   },
   "outputs": [
    {
     "name": "stdout",
     "output_type": "stream",
     "text": [
      "['apple', 'Banana', 'orange', 'Papaya']\n"
     ]
    }
   ],
   "source": [
    "fruits_list = [\"apple\", \"Papaya\", \"Banana\", \"orange\"]\r\n",
    "fruits_list.sort(key = str.lower)\r\n",
    "print(fruits_list)"
   ]
  },
  {
   "cell_type": "markdown",
   "metadata": {
    "id": "b7-0VqkY0HMi"
   },
   "source": [
    "###### การเรียงลำดับแบบย้อนกลับ\n",
    "ใช้ method **reverse()** เพื่อเรียงลำดับ item โดยไม่สนใจอักษรพิมพ์เล็ก-พิมพ์ใหญ่"
   ]
  },
  {
   "cell_type": "markdown",
   "metadata": {
    "id": "fNDv1TKv0HMj"
   },
   "source": [
    "###### ตัวอย่าง\r\n",
    "เรียงลำดับ item โดยไม่สนใจอักษรพิมพ์เล็ก-พิมพ์ใหญ่"
   ]
  },
  {
   "cell_type": "code",
   "execution_count": 13,
   "metadata": {
    "id": "_x8lOXBJ0HMk"
   },
   "outputs": [
    {
     "name": "stdout",
     "output_type": "stream",
     "text": [
      "['orange', 'Banana', 'Papaya', 'apple']\n"
     ]
    }
   ],
   "source": [
    "fruits_list = [\"apple\", \"Papaya\", \"Banana\", \"orange\"]\r\n",
    "fruits_list.reverse()\r\n",
    "print(fruits_list)"
   ]
  }
 ],
 "metadata": {
  "colab": {
   "collapsed_sections": [],
   "name": "010_08_Python_Sort_Lists.ipynb",
   "provenance": [],
   "toc_visible": true
  },
  "interpreter": {
   "hash": "8a42e8581704d812f174276cadf47b91a8b3cbce976324507688b69a62b18c0b"
  },
  "kernelspec": {
   "display_name": "Python 3.8.2 32-bit",
   "name": "python3"
  },
  "language_info": {
   "codemirror_mode": {
    "name": "ipython",
    "version": 3
   },
   "file_extension": ".py",
   "mimetype": "text/x-python",
   "name": "python",
   "nbconvert_exporter": "python",
   "pygments_lexer": "ipython3",
   "version": "3.8.2"
  }
 },
 "nbformat": 4,
 "nbformat_minor": 2
}
