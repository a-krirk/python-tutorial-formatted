{
 "cells": [
  {
   "cell_type": "markdown",
   "metadata": {
    "id": "htoxgcGmoohV"
   },
   "source": [
    "#### Update Tuples"
   ]
  },
  {
   "cell_type": "markdown",
   "metadata": {
    "id": "0b-EyNIPoohZ"
   },
   "source": [
    "เมื่อมีการสร้าง Tuple แล้ว เราจะไม่สามารถแก้ไข เพิ่ม หรือลบรายการใน tuple ได้\n",
    "แต่เราสามารถทำบางอย่างได้"
   ]
  },
  {
   "cell_type": "markdown",
   "metadata": {
    "id": "U_BMHxONooha"
   },
   "source": [
    "###### การเปลี่ยนค่า Tuple \n",
    "จากที่ได้กล่าวไป เมื่อมีการสร้าง tuple แล้ว เราจะไม่สามารถแก้ไขค่าต่างๆในตัว tuple ได้\n",
    "\n",
    "แต่เราสามารถที่จะเปลี่ยนให้ tuple เป็น list เพื่อแก้ไขค่า ก่อนที่จะเปลี่ยนกลับให้ list กลับกลายเป็น tuple เช่นเดิม\n"
   ]
  },
  {
   "cell_type": "markdown",
   "metadata": {
    "id": "M-sS7eKtooha"
   },
   "source": [
    "###### ตัวอย่าง\r\n",
    "แปลง tuple ให้เป็น list เพื่อให้สามารถแก้ไขค่าได้ "
   ]
  },
  {
   "cell_type": "code",
   "execution_count": 1,
   "metadata": {
    "id": "5kSNjfAjoohb",
    "outputId": "888e193d-fce6-409d-ad14-e190621b217a"
   },
   "outputs": [
    {
     "name": "stdout",
     "output_type": "stream",
     "text": [
      "('Sushi', 'Pizza', 'Salad')\n"
     ]
    }
   ],
   "source": [
    "x = (\"Sushi\", \"Burger\", \"Salad\")\r\n",
    "y = list(x)\r\n",
    "y[1] = \"Pizza\"\r\n",
    "x = tuple(y)\r\n",
    "print(x)"
   ]
  },
  {
   "cell_type": "markdown",
   "metadata": {
    "id": "EjXOYTj6oohc"
   },
   "source": [
    "###### การเพิ่มรายการ\r\n",
    "เนื่องจาก tuple ไม่สามารถใช้คำสั่ง append() ในการเพิ่มรายการได้ แต่ยังมีวิธีที่จะทำให้เราสารถเพิ่มรายการใน tuple ได้\r\n",
    "\r\n",
    "1. เปลี่ยน tuple เป็น list วิธีการนี้จะคล้ายๆกับการเปลี่ยนค่าใน tuple คือ เราจะเริ่มจากการเปลี่ยน tuple เป็น list ทำการเพิ่มค่าที่ต้องการเข้า list จากนั้นจึงเปลี่ยน list กลับเป็น tuple\r\n"
   ]
  },
  {
   "cell_type": "markdown",
   "metadata": {
    "id": "eeiZahTXoohd"
   },
   "source": [
    "###### ตัวอย่าง\r\n",
    "แปลง tuple เป็น list ทำการเพิ่มค่า \"Noodle\" จากนั้นจึงทำการแปลง list กลับเป็น tuple\r\n"
   ]
  },
  {
   "cell_type": "code",
   "execution_count": 3,
   "metadata": {
    "id": "80oAF7HNoohe"
   },
   "outputs": [
    {
     "name": "stdout",
     "output_type": "stream",
     "text": [
      "('Sushi', 'Burger', 'Salad', 'Noodle')\n"
     ]
    }
   ],
   "source": [
    "foodtuple = (\"Sushi\", \"Burger\", \"Salad\")\r\n",
    "y = list(foodtuple)\r\n",
    "y.append(\"Noodle\")\r\n",
    "foodtuple = tuple(y)\r\n",
    "print(foodtuple)"
   ]
  },
  {
   "cell_type": "markdown",
   "metadata": {
    "id": "8SHFjN2soohe"
   },
   "source": [
    "2. เพิ่ม tuple ในอีก tuple นึง ถ้าเราต้องการที่จะเพิ่มรายการ 1 รายการ หรือหลายๆรายการเข้า tuple เราสามารถนำรายการทั้งหมดสร้างเป็น tuple นึง ก่อนจะทำการเพิ่ม tuple นั้นเข้าสู่ tuple เดิมที่มี \r\n"
   ]
  },
  {
   "cell_type": "markdown",
   "metadata": {
    "id": "dP3y_MI2oohf"
   },
   "source": [
    "###### ตัวอย่าง\r\n",
    "สร้าง tuple ขึ้นมาใหม่ โดยเพิ่มค่า \"์Noodle\" เข้าใน tuple นั้น \r\n",
    "\r\n",
    "Note : เมื่อเราสร้าง tuple ที่มีเพียงค่าเดียว เราจำเป็นต้องใส่ ท้ายค่านั้นๆ มิฉะนั้นค่าที่เราสร้างจะไม่เป็น tuple \r\n"
   ]
  },
  {
   "cell_type": "code",
   "execution_count": 5,
   "metadata": {
    "id": "Qh86bsVGoohf",
    "outputId": "2b8665a1-03c4-4822-c8e6-0aff7bb6a2ff"
   },
   "outputs": [
    {
     "name": "stdout",
     "output_type": "stream",
     "text": [
      "('Sushi', 'Burger', 'Salad', 'Pizza')\n"
     ]
    }
   ],
   "source": [
    "foodtuple = (\"Sushi\", \"Burger\", \"Salad\")\r\n",
    "y = (\"Pizza\",)\r\n",
    "foodtuple += y\r\n",
    "print(foodtuple)"
   ]
  },
  {
   "cell_type": "markdown",
   "metadata": {
    "id": "Anc2NoGIoohg"
   },
   "source": [
    "###### การลบรายการ\r\n",
    "เนื่องจาก tuple ไม่สามารถลบค่าได้ แต่เราสามารถใช้วิธีเดียวกับ กับแก้ไขค่าและการเพิ่มค่าได้"
   ]
  },
  {
   "cell_type": "markdown",
   "metadata": {
    "id": "R2Rqm8Osoohg"
   },
   "source": [
    "###### ตัวอย่าง\r\n",
    "ทำการแปลง tuple เป็น list และลบค่า \"Sushi\" ก่อนจะทำการแปลง list ให้กลับเป็น tuple\r\n"
   ]
  },
  {
   "cell_type": "code",
   "execution_count": 7,
   "metadata": {
    "id": "-cwBpUJVoohg"
   },
   "outputs": [
    {
     "name": "stdout",
     "output_type": "stream",
     "text": [
      "('Burger', 'Salad')\n"
     ]
    }
   ],
   "source": [
    "foodtuple = (\"Sushi\", \"Burger\", \"Salad\")\r\n",
    "y = list(foodtuple)\r\n",
    "y.remove(\"Sushi\")\r\n",
    "foodtuple = tuple(y)\r\n",
    "print(foodtuple)"
   ]
  },
  {
   "cell_type": "markdown",
   "metadata": {
    "id": "CfgwFmOKoohh"
   },
   "source": [
    "หรือเราสามารถลบ tuple ทั้งหมด\r\n"
   ]
  },
  {
   "cell_type": "markdown",
   "metadata": {
    "id": "1X4teG3Loohh"
   },
   "source": [
    "###### ตัวอย่าง\r\n",
    "เราสามารถใช้คำสั่ง del ในการลบ tuple ทั้งหมด"
   ]
  },
  {
   "cell_type": "code",
   "execution_count": 9,
   "metadata": {
    "id": "9QuQD2Lgoohh",
    "outputId": "6f857825-eceb-45c6-c7df-90b56d0dfe96"
   },
   "outputs": [
    {
     "ename": "NameError",
     "evalue": "name 'foodtuple' is not defined",
     "output_type": "error",
     "traceback": [
      "\u001b[1;31m---------------------------------------------------------------------------\u001b[0m",
      "\u001b[1;31mNameError\u001b[0m                                 Traceback (most recent call last)",
      "\u001b[1;32m~\\AppData\\Local\\Temp/ipykernel_5808/102772675.py\u001b[0m in \u001b[0;36m<module>\u001b[1;34m\u001b[0m\n\u001b[0;32m      1\u001b[0m \u001b[0mfoodtuple\u001b[0m \u001b[1;33m=\u001b[0m \u001b[1;33m(\u001b[0m\u001b[1;34m\"Sushi\"\u001b[0m\u001b[1;33m,\u001b[0m \u001b[1;34m\"Burger\"\u001b[0m\u001b[1;33m,\u001b[0m \u001b[1;34m\"Salad\"\u001b[0m\u001b[1;33m)\u001b[0m\u001b[1;33m\u001b[0m\u001b[1;33m\u001b[0m\u001b[0m\n\u001b[0;32m      2\u001b[0m \u001b[1;32mdel\u001b[0m \u001b[0mfoodtuple\u001b[0m\u001b[1;33m\u001b[0m\u001b[1;33m\u001b[0m\u001b[0m\n\u001b[1;32m----> 3\u001b[1;33m \u001b[0mprint\u001b[0m\u001b[1;33m(\u001b[0m\u001b[0mfoodtuple\u001b[0m\u001b[1;33m)\u001b[0m \u001b[1;31m#จะขึ้น error เพราะในตอนนี้ไม่มี tuple นั้นแล้ว\u001b[0m\u001b[1;33m\u001b[0m\u001b[1;33m\u001b[0m\u001b[0m\n\u001b[0m",
      "\u001b[1;31mNameError\u001b[0m: name 'foodtuple' is not defined"
     ]
    }
   ],
   "source": [
    "foodtuple = (\"Sushi\", \"Burger\", \"Salad\")\r\n",
    "del foodtuple\r\n",
    "print(foodtuple) #จะขึ้น error เพราะในตอนนี้ไม่มี tuple นั้นแล้ว"
   ]
  }
 ],
 "metadata": {
  "colab": {
   "name": "011_3_Python_Update_Tuples.ipynb",
   "provenance": []
  },
  "interpreter": {
   "hash": "8a42e8581704d812f174276cadf47b91a8b3cbce976324507688b69a62b18c0b"
  },
  "kernelspec": {
   "display_name": "Python 3.8.2 32-bit",
   "name": "python3"
  },
  "language_info": {
   "codemirror_mode": {
    "name": "ipython",
    "version": 3
   },
   "file_extension": ".py",
   "mimetype": "text/x-python",
   "name": "python",
   "nbconvert_exporter": "python",
   "pygments_lexer": "ipython3",
   "version": "3.8.2"
  }
 },
 "nbformat": 4,
 "nbformat_minor": 2
}
