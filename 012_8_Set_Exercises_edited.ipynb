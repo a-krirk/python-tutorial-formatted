{
 "cells": [
  {
   "cell_type": "markdown",
   "metadata": {
    "id": "GCoNadty7-29"
   },
   "source": [
    "#### แบบฝึกหัดเรื่อง Set "
   ]
  },
  {
   "cell_type": "markdown",
   "metadata": {
    "id": "VgBv3mcz7-3E"
   },
   "source": [
    "###### ทดสอบตัวเองด้วยแบบทดสอบ\n",
    "ตอนนี้เราได้เรียนรู้มากมายเกี่ยวกับเรื่อง set และวิธีการใช้งานใน Python\n",
    "\n",
    "พร้อมสำหรับแบบทดสอบหรือยัง?\n",
    "\n",
    "จงเติม code ส่วนที่ขาด เพื่อให้ code สามารถทำงานได้สมบูรณ์:"
   ]
  },
  {
   "cell_type": "markdown",
   "metadata": {
    "id": "gvUl1bld7-3F"
   },
   "source": [
    "###### แบบฝึกหัด:\n",
    "ตรวจสอบว่า \"Sushi\" อยู่ใน set food หรือไม่"
   ]
  },
  {
   "cell_type": "code",
   "execution_count": null,
   "metadata": {
    "id": "TsrZAMs97-3G"
   },
   "outputs": [],
   "source": [
    "food = {\"Sushi\", \"Burger\", \"Salad\"}\r\n",
    "# แทนที่ __ ในบรรทัดต่อไปด้วยโค้ดของคุณ\r\n",
    "if \"Sushi\" __ food:\r\n",
    "  print(\"Yes, sushi is a food!\")"
   ]
  }
 ],
 "metadata": {
  "colab": {
   "name": "012_8_Set_Exercises.ipynb",
   "provenance": []
  },
  "interpreter": {
   "hash": "00034aa5cd6c44013b830fd98c7a620a61a498e75425ca81fcc1166b84a69895"
  },
  "kernelspec": {
   "display_name": "Python 3.8.5 64-bit ('base': conda)",
   "name": "python3"
  },
  "language_info": {
   "codemirror_mode": {
    "name": "ipython",
    "version": 3
   },
   "file_extension": ".py",
   "mimetype": "text/x-python",
   "name": "python",
   "nbconvert_exporter": "python",
   "pygments_lexer": "ipython3",
   "version": "3.8.5"
  }
 },
 "nbformat": 4,
 "nbformat_minor": 2
}
