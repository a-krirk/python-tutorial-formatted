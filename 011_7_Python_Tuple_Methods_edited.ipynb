{
 "cells": [
  {
   "cell_type": "markdown",
   "metadata": {
    "id": "Nh2ZlN2oPLGq"
   },
   "source": [
    "#### Tuple Methods"
   ]
  },
  {
   "cell_type": "markdown",
   "metadata": {
    "id": "K2wIZq0YPLGw"
   },
   "source": [
    "###### Tuple Methods\r\n",
    "Python มี 2 methods ที่สามารถใช้กับ tuple ได้"
   ]
  },
  {
   "cell_type": "markdown",
   "metadata": {
    "id": "-Ebe9vv3PLGx"
   },
   "source": [
    "คำอธิบาย Method\r\n",
    "\r\n",
    "`count()` แสดงจำนวนของค่าที่ค้นหาที่มีใน tuple\r\n",
    "\r\n",
    "`index()` ส่งคืนค่า index ใน tuple ของค่าที่ค้นหา\r\n"
   ]
  }
 ],
 "metadata": {
  "colab": {
   "name": "011_7_Python_Tuple_Methods.ipynb",
   "provenance": []
  },
  "interpreter": {
   "hash": "00034aa5cd6c44013b830fd98c7a620a61a498e75425ca81fcc1166b84a69895"
  },
  "kernelspec": {
   "display_name": "Python 3.8.5 64-bit ('base': conda)",
   "name": "python3"
  },
  "language_info": {
   "name": "python",
   "version": "3.8.5"
  }
 },
 "nbformat": 4,
 "nbformat_minor": 2
}
