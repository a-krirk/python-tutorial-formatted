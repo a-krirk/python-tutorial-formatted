{
 "cells": [
  {
   "cell_type": "markdown",
   "metadata": {
    "id": "R7b8gsqHH58_"
   },
   "source": [
    "#### การเพิ่ม Items ใน Dictionary "
   ]
  },
  {
   "cell_type": "markdown",
   "metadata": {
    "id": "5e0Itu4lH59G"
   },
   "source": [
    "ทำได้ด้วยการใส่ key และ value ใหม่ไปใน dictionary"
   ]
  },
  {
   "cell_type": "markdown",
   "metadata": {
    "id": "dCYkCBI7H59M"
   },
   "source": [
    "###### ตัวอย่าง"
   ]
  },
  {
   "cell_type": "code",
   "execution_count": 1,
   "metadata": {
    "id": "Dh21pRzAH59R",
    "outputId": "0a4f5715-e7ad-4821-ebce-eb8313179238"
   },
   "outputs": [
    {
     "name": "stdout",
     "output_type": "stream",
     "text": [
      "{'brand': 'Honda', 'model': 'City', 'year': 2020, 'color': 'red'}\n"
     ]
    }
   ],
   "source": [
    "thisdict = {\r\n",
    "  \"brand\": \"Honda\",\r\n",
    "  \"model\": \"City\",\r\n",
    "  \"year\": 2020\r\n",
    "}\r\n",
    "thisdict[\"color\"] = \"red\"\r\n",
    "print(thisdict)"
   ]
  },
  {
   "cell_type": "markdown",
   "metadata": {
    "id": "w4bbultAH59X"
   },
   "source": [
    "###### การ update ค่าใน Dictionary\r\n",
    "ใช้ method `update()` เพื่อเพื่ออัพเดทค่า ใน dictionary\r\n",
    "โดยค่า (argument) ที่เป็นข้อมูลประเภท dictionary {key:value} ไปในวงเล็บ\r\n",
    "หาก key ที่ใส่ไปใหม่ไม่ซ้ำกับของเดิม ข้อมูลจะอัพเดทไปใน dictionary"
   ]
  },
  {
   "cell_type": "markdown",
   "metadata": {
    "id": "cgKE4p03H59b"
   },
   "source": [
    "###### ตัวอย่าง\r\n",
    "เพิ่ม key ชื่อ \"color\" ด้วย method `update()`"
   ]
  },
  {
   "cell_type": "code",
   "execution_count": 2,
   "metadata": {
    "id": "7KtiCurhH59d"
   },
   "outputs": [],
   "source": [
    "thisdict = {\r\n",
    "  \"brand\": \"Honda\",\r\n",
    "  \"model\": \"City\",\r\n",
    "  \"year\": 2020\r\n",
    "}\r\n",
    "thisdict.update({\"color\": \"red\"})"
   ]
  }
 ],
 "metadata": {
  "colab": {
   "collapsed_sections": [],
   "name": "013_04_Python_Add_Dictionary_Items.ipynb",
   "provenance": []
  },
  "interpreter": {
   "hash": "00034aa5cd6c44013b830fd98c7a620a61a498e75425ca81fcc1166b84a69895"
  },
  "kernelspec": {
   "display_name": "Python 3.8.5 64-bit ('base': conda)",
   "name": "python3"
  },
  "language_info": {
   "codemirror_mode": {
    "name": "ipython",
    "version": 3
   },
   "file_extension": ".py",
   "mimetype": "text/x-python",
   "name": "python",
   "nbconvert_exporter": "python",
   "pygments_lexer": "ipython3",
   "version": "3.8.5"
  }
 },
 "nbformat": 4,
 "nbformat_minor": 2
}
