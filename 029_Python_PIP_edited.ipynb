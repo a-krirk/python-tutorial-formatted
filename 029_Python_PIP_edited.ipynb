{
 "cells": [
  {
   "cell_type": "markdown",
   "metadata": {
    "id": "qAGoGOV_quVc"
   },
   "source": [
    "#### PIP"
   ]
  },
  {
   "cell_type": "markdown",
   "metadata": {
    "id": "G2lyoi-xquVj"
   },
   "source": [
    "###### PIP คืออะไร?\n",
    "PIP คือคำสั่งที่ใช้จัดการ package หรือ module ต่าง ๆ ใน Python\n",
    "\n",
    "Note: หากใช้ Python เวอร์ชั่น 3.4 เป็นต้นไป คำสั่ง PIP ได้ถูกติดตั้งมาให้พร้อมใช้งานได้เลย"
   ]
  },
  {
   "cell_type": "markdown",
   "metadata": {
    "id": "ZnK6gGDmquVm"
   },
   "source": [
    "###### Package คืออะไร?\n",
    "package ประกอบด้วยไฟล์มากมายสำหรับ module\n",
    "\n",
    "module คือ โค้ด Python ใน library ต่าง ๆ"
   ]
  },
  {
   "cell_type": "markdown",
   "metadata": {
    "id": "hgU55KErquVo"
   },
   "source": [
    "###### ตรวจสอบการติดตั้ง PIP\n",
    "ใช้ command line เพื่อค้นหา version ของ pip"
   ]
  },
  {
   "cell_type": "markdown",
   "metadata": {
    "id": "t6Sa53QaquVq"
   },
   "source": [
    "###### ตัวอย่าง\r\n",
    "ตรวจสอบ version ของ pip"
   ]
  },
  {
   "cell_type": "code",
   "execution_count": null,
   "metadata": {
    "id": "m_zJAhc0quVs"
   },
   "outputs": [],
   "source": [
    "!pip --version"
   ]
  },
  {
   "cell_type": "markdown",
   "metadata": {
    "id": "xe0LocAjquVw"
   },
   "source": [
    "###### ติดตั้ง PIP\n",
    "ถ้ายังไม่มี **pip install** สามารถ download และ install ได้จาก page: https://pypi.org/project/pip/"
   ]
  },
  {
   "cell_type": "markdown",
   "metadata": {
    "id": "MdPh_TkzquVz"
   },
   "source": [
    "###### Download a Package\n",
    "ขั้นตอนการ download package สามารถทำได้ไม่ยาก\n",
    "\n",
    "เปิดหน้าต่าง command line และใช้คำสั่ง pip เพื่อ download package ที่ต้องการ\n",
    "\n",
    "navigate ให้ command line อยู่ในเส้นทางที่เป็นที่อยู่ของโค้ด Python และพิมพ์คำสั่งตามได้เลย"
   ]
  },
  {
   "cell_type": "markdown",
   "metadata": {
    "id": "HUOGIJ33quV2"
   },
   "source": [
    "###### ตัวอย่าง\r\n",
    "Download package ชื่อ \"camelcase\":"
   ]
  },
  {
   "cell_type": "code",
   "execution_count": null,
   "metadata": {
    "id": "s2jIagZDquV5"
   },
   "outputs": [],
   "source": [
    "!pip install camelcase"
   ]
  },
  {
   "cell_type": "markdown",
   "metadata": {
    "id": "GFOB1glhquV7"
   },
   "source": [
    "ตอนนี้คุณได้ download และ install package แรกของคุณเสร็จเรียบร้อย"
   ]
  }
 ],
 "metadata": {
  "colab": {
   "collapsed_sections": [],
   "name": "029_Python_PIP.ipynb",
   "provenance": []
  },
  "interpreter": {
   "hash": "00034aa5cd6c44013b830fd98c7a620a61a498e75425ca81fcc1166b84a69895"
  },
  "kernelspec": {
   "display_name": "Python 3.8.5 64-bit ('base': conda)",
   "name": "python3"
  },
  "language_info": {
   "codemirror_mode": {
    "name": "ipython",
    "version": 3
   },
   "file_extension": ".py",
   "mimetype": "text/x-python",
   "name": "python",
   "nbconvert_exporter": "python",
   "pygments_lexer": "ipython3",
   "version": "3.8.5"
  }
 },
 "nbformat": 4,
 "nbformat_minor": 2
}
