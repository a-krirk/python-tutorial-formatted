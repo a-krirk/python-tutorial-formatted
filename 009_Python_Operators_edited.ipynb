{
 "cells": [
  {
   "cell_type": "markdown",
   "metadata": {
    "id": "2FkExhFIoNY8"
   },
   "source": [
    "#### Operators ในภาษา Python"
   ]
  },
  {
   "cell_type": "markdown",
   "metadata": {
    "id": "Pi4B7jk_nZkJ"
   },
   "source": [
    "เราสามารถใช้ operator เพื่อทำ operation หรือกระบวนการต่าง ๆ ระหว่างตัวแปรให้ได้ผลลัพธ์ตามต้องการ"
   ]
  },
  {
   "cell_type": "markdown",
   "metadata": {},
   "source": [
    "###### ตัวอย่าง\r\n",
    "\r\n",
    "ใช้ operator + เพื่อบวกค่าตัวเลขสองตัวค่าด้วยกัน แบบเดียวกับการบวกทางคณิตศาสตร์"
   ]
  },
  {
   "cell_type": "code",
   "execution_count": 26,
   "metadata": {
    "colab": {
     "base_uri": "https://localhost:8080/"
    },
    "executionInfo": {
     "elapsed": 15,
     "status": "ok",
     "timestamp": 1630340639304,
     "user": {
      "displayName": "Wachirawit Viriyaphisathan",
      "photoUrl": "https://lh3.googleusercontent.com/a-/AOh14GhpFNFOo2HRjyI36_HMPGhSHMfGYozwoiGMZBoPbA=s64",
      "userId": "03875063837227722804"
     },
     "user_tz": -420
    },
    "id": "LJBxqh5kodY2",
    "outputId": "8aa20426-0ba4-49ed-bad9-5d66c88729e7"
   },
   "outputs": [
    {
     "name": "stdout",
     "output_type": "stream",
     "text": [
      "21\n"
     ]
    }
   ],
   "source": [
    "print(17 + 4)"
   ]
  },
  {
   "cell_type": "markdown",
   "metadata": {
    "id": "3WHFf7Pmone1"
   },
   "source": [
    "###### Arithmetic Operators"
   ]
  },
  {
   "cell_type": "markdown",
   "metadata": {
    "id": "6MGH3hPdt0nL"
   },
   "source": [
    "สามารถใช้ Arithmetic operators กับข้อมูลตัวเลข เพื่อทำ operation ทางคณิตศาสตร์ต่าง ๆ ได้"
   ]
  },
  {
   "cell_type": "markdown",
   "metadata": {
    "id": "KcShmshNuL1q"
   },
   "source": [
    "###### ตัวอย่าง\r\n",
    "\r\n",
    "การบวก ลบ คุณ หาร ` +, -, *, / `"
   ]
  },
  {
   "cell_type": "code",
   "execution_count": 1,
   "metadata": {
    "colab": {
     "base_uri": "https://localhost:8080/"
    },
    "executionInfo": {
     "elapsed": 41,
     "status": "ok",
     "timestamp": 1630340637833,
     "user": {
      "displayName": "Wachirawit Viriyaphisathan",
      "photoUrl": "https://lh3.googleusercontent.com/a-/AOh14GhpFNFOo2HRjyI36_HMPGhSHMfGYozwoiGMZBoPbA=s64",
      "userId": "03875063837227722804"
     },
     "user_tz": -420
    },
    "id": "MIHRHfokuRCm",
    "outputId": "deb830ab-3308-4005-c7a9-aa851a067de5"
   },
   "outputs": [
    {
     "name": "stdout",
     "output_type": "stream",
     "text": [
      "10\n",
      "6\n",
      "16\n",
      "4.0\n"
     ]
    }
   ],
   "source": [
    "x = 8\r\n",
    "y = 2\r\n",
    "\r\n",
    "print(x + y)\r\n",
    "print(x - y)\r\n",
    "print(x * y)\r\n",
    "print(x / y)"
   ]
  },
  {
   "cell_type": "markdown",
   "metadata": {
    "id": "_2Rp8s-Ku5GA"
   },
   "source": [
    "Modulus `%` : การหาเศษจากการหาร"
   ]
  },
  {
   "cell_type": "code",
   "execution_count": 2,
   "metadata": {
    "colab": {
     "base_uri": "https://localhost:8080/"
    },
    "executionInfo": {
     "elapsed": 35,
     "status": "ok",
     "timestamp": 1630340637836,
     "user": {
      "displayName": "Wachirawit Viriyaphisathan",
      "photoUrl": "https://lh3.googleusercontent.com/a-/AOh14GhpFNFOo2HRjyI36_HMPGhSHMfGYozwoiGMZBoPbA=s64",
      "userId": "03875063837227722804"
     },
     "user_tz": -420
    },
    "id": "Nifl0gOwu8T2",
    "outputId": "a26b083e-a949-4134-a982-fb2fc0ba8868"
   },
   "outputs": [
    {
     "name": "stdout",
     "output_type": "stream",
     "text": [
      "1\n"
     ]
    }
   ],
   "source": [
    "x = 7\r\n",
    "y = 3\r\n",
    "\r\n",
    "print(x % y)"
   ]
  },
  {
   "cell_type": "markdown",
   "metadata": {
    "id": "Hnv6NXDCvCMg"
   },
   "source": [
    "Exponentiation `**` : การหาค่าตัวเลขยกกำลัง"
   ]
  },
  {
   "cell_type": "code",
   "execution_count": 3,
   "metadata": {
    "colab": {
     "base_uri": "https://localhost:8080/"
    },
    "executionInfo": {
     "elapsed": 34,
     "status": "ok",
     "timestamp": 1630340637837,
     "user": {
      "displayName": "Wachirawit Viriyaphisathan",
      "photoUrl": "https://lh3.googleusercontent.com/a-/AOh14GhpFNFOo2HRjyI36_HMPGhSHMfGYozwoiGMZBoPbA=s64",
      "userId": "03875063837227722804"
     },
     "user_tz": -420
    },
    "id": "M6T17xlTvEud",
    "outputId": "705caaae-2571-4af3-8c8e-10bb987e669c"
   },
   "outputs": [
    {
     "name": "stdout",
     "output_type": "stream",
     "text": [
      "256\n"
     ]
    }
   ],
   "source": [
    "x = 2\r\n",
    "y = 8\r\n",
    "\r\n",
    "print(x ** y)"
   ]
  },
  {
   "cell_type": "markdown",
   "metadata": {
    "id": "tL1yRPofvIS_"
   },
   "source": [
    "Floor division `//` : การหารแล้วปัดเศษลง"
   ]
  },
  {
   "cell_type": "code",
   "execution_count": 4,
   "metadata": {
    "colab": {
     "base_uri": "https://localhost:8080/"
    },
    "executionInfo": {
     "elapsed": 33,
     "status": "ok",
     "timestamp": 1630340637838,
     "user": {
      "displayName": "Wachirawit Viriyaphisathan",
      "photoUrl": "https://lh3.googleusercontent.com/a-/AOh14GhpFNFOo2HRjyI36_HMPGhSHMfGYozwoiGMZBoPbA=s64",
      "userId": "03875063837227722804"
     },
     "user_tz": -420
    },
    "id": "NSnCEmubvJ7o",
    "outputId": "1188529d-8ed4-4cc1-c57a-1480c812e3c3"
   },
   "outputs": [
    {
     "name": "stdout",
     "output_type": "stream",
     "text": [
      "2\n"
     ]
    }
   ],
   "source": [
    "x = 7\r\n",
    "y = 3\r\n",
    "\r\n",
    "print(x // y)"
   ]
  },
  {
   "cell_type": "markdown",
   "metadata": {
    "id": "N1tRjh23pj2-"
   },
   "source": [
    "###### Assignment Operators"
   ]
  },
  {
   "cell_type": "markdown",
   "metadata": {
    "id": "TG-2EXHlvbew"
   },
   "source": [
    "ใช้เครื่องหมาย Assignment operators ในการกำหนดค่าให้กับตัวแปร"
   ]
  },
  {
   "cell_type": "markdown",
   "metadata": {},
   "source": [
    "###### ตัวอย่าง"
   ]
  },
  {
   "cell_type": "code",
   "execution_count": 5,
   "metadata": {
    "colab": {
     "base_uri": "https://localhost:8080/"
    },
    "executionInfo": {
     "elapsed": 28,
     "status": "ok",
     "timestamp": 1630340637238,
     "user": {
      "displayName": "Wachirawit Viriyaphisathan",
      "photoUrl": "https://lh3.googleusercontent.com/a-/AOh14GhpFNFOo2HRjyI36_HMPGhSHMfGYozwoiGMZBoPbA=s64",
      "userId": "03875063837227722804"
     },
     "user_tz": -420
    },
    "id": "YgXAVKOmvo9O",
    "outputId": "bd7d9fc0-1020-4080-f77d-e6236f19ef5b"
   },
   "outputs": [
    {
     "name": "stdout",
     "output_type": "stream",
     "text": [
      "9\n"
     ]
    }
   ],
   "source": [
    "x = 9\r\n",
    "\r\n",
    "print(x)"
   ]
  },
  {
   "cell_type": "markdown",
   "metadata": {
    "id": "uvAXcnl8vwfA"
   },
   "source": [
    "###### การใช้ Arithmetic opeartor คู่กับ Assignment operator \r\n",
    "\r\n",
    "\r\n",
    "สามารถใช้ Arithmetic operator คู่กับ เครื่องหมาย `=` เพื่อกำหนดค่าให้ตัวแปรพร้อมกับทำ Arithmetic operation ไปพร้อมกันได้\r\n",
    "\r\n",
    "เช่น ` +=, -=, *=, %= ` เป็นต้น"
   ]
  },
  {
   "cell_type": "markdown",
   "metadata": {},
   "source": [
    "###### ตัวอย่าง"
   ]
  },
  {
   "cell_type": "code",
   "execution_count": 6,
   "metadata": {
    "colab": {
     "base_uri": "https://localhost:8080/"
    },
    "executionInfo": {
     "elapsed": 26,
     "status": "ok",
     "timestamp": 1630340637240,
     "user": {
      "displayName": "Wachirawit Viriyaphisathan",
      "photoUrl": "https://lh3.googleusercontent.com/a-/AOh14GhpFNFOo2HRjyI36_HMPGhSHMfGYozwoiGMZBoPbA=s64",
      "userId": "03875063837227722804"
     },
     "user_tz": -420
    },
    "id": "FtsmgD43v47J",
    "outputId": "a32a7cf6-8087-44ad-b5e5-9ea95fca6ac0"
   },
   "outputs": [
    {
     "name": "stdout",
     "output_type": "stream",
     "text": [
      "9\n",
      "10\n",
      "5\n",
      "20\n",
      "2\n"
     ]
    }
   ],
   "source": [
    "x = 9\r\n",
    "print(x)\r\n",
    "x += 1\r\n",
    "print(x)\r\n",
    "x -= 5\r\n",
    "print(x)\r\n",
    "x *= 4\r\n",
    "print(x)\r\n",
    "x %= 3\r\n",
    "print(x)"
   ]
  },
  {
   "cell_type": "markdown",
   "metadata": {
    "id": "_qphnxmurcRQ"
   },
   "source": [
    "###### Comparison Operators"
   ]
  },
  {
   "cell_type": "markdown",
   "metadata": {
    "id": "Q6PYjj-4xXmQ"
   },
   "source": [
    "สามารถใช้ Comparison operators เพื่อเปรียบเทียบค่าระหว่าง 2 ตัวแปร จะได้ผลลัพธ์เป็น boolean ว่าเป็น True/False"
   ]
  },
  {
   "cell_type": "markdown",
   "metadata": {
    "id": "eFUdo8ZcxmAz"
   },
   "source": [
    "###### ตัวอย่าง\r\n",
    "\r\n",
    "สามารถใช้เครื่องหมาย Equal `==` เพื่อดูว่าตัวแปรสองตัวนี้มีค่าเท่ากันหรือไม่ ถ้าเท่ากัน จะได้ผลลัพธ์ที่แสดงค่า boolean เป็น True ถ้าไม่เท่ากัน จะได้ผลลัพธ์เป็น False"
   ]
  },
  {
   "cell_type": "code",
   "execution_count": 7,
   "metadata": {
    "colab": {
     "base_uri": "https://localhost:8080/"
    },
    "executionInfo": {
     "elapsed": 31,
     "status": "ok",
     "timestamp": 1630340635766,
     "user": {
      "displayName": "Wachirawit Viriyaphisathan",
      "photoUrl": "https://lh3.googleusercontent.com/a-/AOh14GhpFNFOo2HRjyI36_HMPGhSHMfGYozwoiGMZBoPbA=s64",
      "userId": "03875063837227722804"
     },
     "user_tz": -420
    },
    "id": "iCemhvyexqch",
    "outputId": "3a448499-7d78-4ca0-8a4d-b7ce54ab3ede"
   },
   "outputs": [
    {
     "name": "stdout",
     "output_type": "stream",
     "text": [
      "False\n"
     ]
    }
   ],
   "source": [
    "x = 11\r\n",
    "y = 17\r\n",
    "\r\n",
    "print(x == y)"
   ]
  },
  {
   "cell_type": "markdown",
   "metadata": {
    "id": "ymBpE7osxzgW"
   },
   "source": [
    "นอกจากนี้ก็สามารถใช้เครื่องหมาย Not equal `!=` เพื่อเปรียบเทียบค่าของตัวแปรสองตัว ถ้าไม่เท่ากัน จะได้ผลลัพธ์ที่แสดงค่า boolean เป็น True ถ้าเท่ากันจะได้ผลลัพธ์เป็น False"
   ]
  },
  {
   "cell_type": "code",
   "execution_count": 8,
   "metadata": {
    "colab": {
     "base_uri": "https://localhost:8080/"
    },
    "executionInfo": {
     "elapsed": 25,
     "status": "ok",
     "timestamp": 1630340635767,
     "user": {
      "displayName": "Wachirawit Viriyaphisathan",
      "photoUrl": "https://lh3.googleusercontent.com/a-/AOh14GhpFNFOo2HRjyI36_HMPGhSHMfGYozwoiGMZBoPbA=s64",
      "userId": "03875063837227722804"
     },
     "user_tz": -420
    },
    "id": "A7h6a-nNx3e-",
    "outputId": "bdc0e5af-ae8a-436d-fe6b-b237c7e13d22"
   },
   "outputs": [
    {
     "name": "stdout",
     "output_type": "stream",
     "text": [
      "True\n"
     ]
    }
   ],
   "source": [
    "x = 11\r\n",
    "y = 17\r\n",
    "\r\n",
    "print(x != y)"
   ]
  },
  {
   "cell_type": "markdown",
   "metadata": {
    "id": "A0lDi9UryLIT"
   },
   "source": [
    "ในทำนองเดียวกัน ก็สามารถใช้เครื่องหมาย มากกว่า `>` , น้อยกว่า `<` , มากกว่าหรือเท่ากับ `>=` , น้อยกว่าหรือเท่ากับ `<=`  เพื่อเปรียบเทียบค่าของตัวแปรสองตัวได้"
   ]
  },
  {
   "cell_type": "code",
   "execution_count": 9,
   "metadata": {
    "colab": {
     "base_uri": "https://localhost:8080/"
    },
    "executionInfo": {
     "elapsed": 23,
     "status": "ok",
     "timestamp": 1630340635770,
     "user": {
      "displayName": "Wachirawit Viriyaphisathan",
      "photoUrl": "https://lh3.googleusercontent.com/a-/AOh14GhpFNFOo2HRjyI36_HMPGhSHMfGYozwoiGMZBoPbA=s64",
      "userId": "03875063837227722804"
     },
     "user_tz": -420
    },
    "id": "mpM-l1zeyUhi",
    "outputId": "f903d783-c7e8-4a63-fe31-63bae2a1f3ce"
   },
   "outputs": [
    {
     "name": "stdout",
     "output_type": "stream",
     "text": [
      "False\n",
      "True\n",
      "False\n",
      "True\n"
     ]
    }
   ],
   "source": [
    "x = 7\r\n",
    "y = 7\r\n",
    "\r\n",
    "print(x > y)\r\n",
    "print(x >= y)\r\n",
    "print(x < y)\r\n",
    "print(x <= y)"
   ]
  },
  {
   "cell_type": "markdown",
   "metadata": {
    "id": "4qYqdoSorl-l"
   },
   "source": [
    "###### Logical Operators"
   ]
  },
  {
   "cell_type": "markdown",
   "metadata": {
    "id": "gRCHxfzIzkAB"
   },
   "source": [
    "สามารถใช้ Logical operators เพื่อผสม conditional statements เข้าด้วยกัน"
   ]
  },
  {
   "cell_type": "markdown",
   "metadata": {
    "id": "yH2QoYddzrmy"
   },
   "source": [
    "`and` จะให้ผลลัพธ์ค่า boolean เป็น True ก็ต่อเมื่อประโยคทั้งสองเป็น True"
   ]
  },
  {
   "cell_type": "code",
   "execution_count": 10,
   "metadata": {
    "colab": {
     "base_uri": "https://localhost:8080/"
    },
    "executionInfo": {
     "elapsed": 14,
     "status": "ok",
     "timestamp": 1630340634362,
     "user": {
      "displayName": "Wachirawit Viriyaphisathan",
      "photoUrl": "https://lh3.googleusercontent.com/a-/AOh14GhpFNFOo2HRjyI36_HMPGhSHMfGYozwoiGMZBoPbA=s64",
      "userId": "03875063837227722804"
     },
     "user_tz": -420
    },
    "id": "U5mtlpXkzx6c",
    "outputId": "9289c64f-40f4-4956-9f62-1af955288889"
   },
   "outputs": [
    {
     "name": "stdout",
     "output_type": "stream",
     "text": [
      "True\n"
     ]
    }
   ],
   "source": [
    "x = 7\r\n",
    "\r\n",
    "print(x > 1 and x < 9)"
   ]
  },
  {
   "cell_type": "markdown",
   "metadata": {
    "id": "3r-vWIp6z8MO"
   },
   "source": [
    "`or` จะให้ผลลัพธ์เป็น True ก็ต่อเมื่อมีอย่างน้อยหนึ่งประโยคที่เป็น True"
   ]
  },
  {
   "cell_type": "code",
   "execution_count": 37,
   "metadata": {
    "colab": {
     "base_uri": "https://localhost:8080/"
    },
    "executionInfo": {
     "elapsed": 9,
     "status": "ok",
     "timestamp": 1630340634364,
     "user": {
      "displayName": "Wachirawit Viriyaphisathan",
      "photoUrl": "https://lh3.googleusercontent.com/a-/AOh14GhpFNFOo2HRjyI36_HMPGhSHMfGYozwoiGMZBoPbA=s64",
      "userId": "03875063837227722804"
     },
     "user_tz": -420
    },
    "id": "vY17qEko0Drj",
    "outputId": "5387d25b-7a5f-4df6-c506-b28dd631d431"
   },
   "outputs": [
    {
     "name": "stdout",
     "output_type": "stream",
     "text": [
      "True\n"
     ]
    }
   ],
   "source": [
    "x = 7\r\n",
    "\r\n",
    "print(x > 1 or x < 4)"
   ]
  },
  {
   "cell_type": "markdown",
   "metadata": {
    "id": "69TOILLo0G32"
   },
   "source": [
    "`not` จะเป็นการเปลี่ยนผลลัพธ์ของ conditional statement ให้เป็นตรงกันข้าม เช่น เปลี่ยนประโยคที่เป็น True ให้กลายเป็น False"
   ]
  },
  {
   "cell_type": "code",
   "execution_count": 11,
   "metadata": {
    "colab": {
     "base_uri": "https://localhost:8080/"
    },
    "executionInfo": {
     "elapsed": 8,
     "status": "ok",
     "timestamp": 1630340634365,
     "user": {
      "displayName": "Wachirawit Viriyaphisathan",
      "photoUrl": "https://lh3.googleusercontent.com/a-/AOh14GhpFNFOo2HRjyI36_HMPGhSHMfGYozwoiGMZBoPbA=s64",
      "userId": "03875063837227722804"
     },
     "user_tz": -420
    },
    "id": "GmP0lmTY0LqG",
    "outputId": "5563cbbf-d8de-4825-dd7e-807f13b4c697"
   },
   "outputs": [
    {
     "name": "stdout",
     "output_type": "stream",
     "text": [
      "False\n"
     ]
    }
   ],
   "source": [
    "x = 7\r\n",
    "\r\n",
    "print(not(x > 1 or x < 4))"
   ]
  },
  {
   "cell_type": "markdown",
   "metadata": {
    "id": "mNXrIn39zHA9"
   },
   "source": [
    "###### Identity Operators"
   ]
  },
  {
   "cell_type": "markdown",
   "metadata": {
    "id": "Wpcmkrow2SMl"
   },
   "source": [
    "สามารถใช้ Identity operators เพื่อตรวจสอบว่า object 2 ตัวนี้เป็น object ตัวเดียวกันหรือไม่ (อ้างอิงถึง memory location ตำแหน่งเดียวกัน) ไม่ได้ตรวจสอบว่า object 2 ตัวนี้มีค่าเท่ากันหรือไม่"
   ]
  },
  {
   "cell_type": "markdown",
   "metadata": {
    "id": "kuekbHiv2TRK"
   },
   "source": [
    "`is` จะให้ผลลัพธ์เป็น True ถ้าตัวแปรสองตัวนั้นเป็น object ตัวเดียวกัน"
   ]
  },
  {
   "cell_type": "code",
   "execution_count": 14,
   "metadata": {
    "colab": {
     "base_uri": "https://localhost:8080/"
    },
    "executionInfo": {
     "elapsed": 13,
     "status": "ok",
     "timestamp": 1630340633473,
     "user": {
      "displayName": "Wachirawit Viriyaphisathan",
      "photoUrl": "https://lh3.googleusercontent.com/a-/AOh14GhpFNFOo2HRjyI36_HMPGhSHMfGYozwoiGMZBoPbA=s64",
      "userId": "03875063837227722804"
     },
     "user_tz": -420
    },
    "id": "-Hkuw0xn2d-U",
    "outputId": "aa71ff78-1e70-4f99-8687-e6c25a76750a"
   },
   "outputs": [
    {
     "name": "stdout",
     "output_type": "stream",
     "text": [
      "x กับ z มีการอ้างถึง memory location ตำแหน่งเดียวกัน x is z จึงได้ผลลัพธ์เป็น True\n",
      "True\n",
      "x กับ y เป็น object คนละตัวกัน x is y จึงได้ผลลัพธ์เป็น False\n",
      "False\n",
      "x มีค่าเท่ากับ y x ==y จึงได้ผลลัพธ์เป็น True\n",
      "True\n"
     ]
    }
   ],
   "source": [
    "x = [\"น้ำเงิน\", \"น้ำตาล\"]\r\n",
    "y = [\"น้ำเงิน\", \"น้ำตาล\"]\r\n",
    "z = x\r\n",
    "\r\n",
    "print('x กับ z มีการอ้างถึง memory location ตำแหน่งเดียวกัน x is z จึงได้ผลลัพธ์เป็น True')\r\n",
    "print(x is z)\r\n",
    "\r\n",
    "print('x กับ y เป็น object คนละตัวกัน x is y จึงได้ผลลัพธ์เป็น False')\r\n",
    "print(x is y)\r\n",
    "\r\n",
    "print('x มีค่าเท่ากับ y x ==y จึงได้ผลลัพธ์เป็น True')\r\n",
    "print(x == y)"
   ]
  },
  {
   "cell_type": "markdown",
   "metadata": {
    "id": "P5HNLaBi2YT2"
   },
   "source": [
    "ในทำนองเดียวกัน สามารถใช้ `is not` เพื่อตรวจสอบว่า object 2 ตัวนี้ไม่ใช่ object ตัวเดียวกันใช่หรือไม่"
   ]
  },
  {
   "cell_type": "code",
   "execution_count": 15,
   "metadata": {
    "colab": {
     "base_uri": "https://localhost:8080/"
    },
    "executionInfo": {
     "elapsed": 8,
     "status": "ok",
     "timestamp": 1630340633474,
     "user": {
      "displayName": "Wachirawit Viriyaphisathan",
      "photoUrl": "https://lh3.googleusercontent.com/a-/AOh14GhpFNFOo2HRjyI36_HMPGhSHMfGYozwoiGMZBoPbA=s64",
      "userId": "03875063837227722804"
     },
     "user_tz": -420
    },
    "id": "MWUKyUNg2keT",
    "outputId": "a849d3d0-ef1d-4b2e-e9c7-b409cb68a59c"
   },
   "outputs": [
    {
     "name": "stdout",
     "output_type": "stream",
     "text": [
      "x กับ z มีการอ้างถึง memory location ตำแหน่งเดียวกัน x is not z จึงได้ผลลัพธ์เป็น False\n",
      "False\n",
      "x กับ y เป็น object คนละตัวกัน x is not y จึงได้ผลลัพธ์เป็น True\n",
      "True\n",
      "x มีค่าเท่ากับ y x !=y จึงได้ผลลัพธ์เป็น True\n",
      "False\n"
     ]
    }
   ],
   "source": [
    "x = [\"น้ำเงิน\", \"น้ำตาล\"]\r\n",
    "y = [\"น้ำเงิน\", \"น้ำตาล\"]\r\n",
    "z = x\r\n",
    "\r\n",
    "print('x กับ z มีการอ้างถึง memory location ตำแหน่งเดียวกัน x is not z จึงได้ผลลัพธ์เป็น False')\r\n",
    "print(x is not z)\r\n",
    "\r\n",
    "print('x กับ y เป็น object คนละตัวกัน x is not y จึงได้ผลลัพธ์เป็น True')\r\n",
    "print(x is not y)\r\n",
    "\r\n",
    "print('x มีค่าเท่ากับ y x !=y จึงได้ผลลัพธ์เป็น True')\r\n",
    "print(x != y)\r\n",
    "\r\n"
   ]
  },
  {
   "cell_type": "markdown",
   "metadata": {
    "id": "vtUXPcWZzKuK"
   },
   "source": [
    "###### Membership Operators"
   ]
  },
  {
   "cell_type": "markdown",
   "metadata": {
    "id": "TUeOR-JC2sIW"
   },
   "source": [
    "สามารถใช้ Membership operators เพื่อทดสอบว่ามี sequence ที่ระบุอยู่ใน object ที่ต้องการตรวจสอบหรือไม่"
   ]
  },
  {
   "cell_type": "markdown",
   "metadata": {
    "id": "-0Qcjvlk2tQ0"
   },
   "source": [
    "`in` จะได้ผลลัพธ์เป็น True ถ้าใน object นั้นมี sequence ที่ระบุ"
   ]
  },
  {
   "cell_type": "code",
   "execution_count": 16,
   "metadata": {
    "colab": {
     "base_uri": "https://localhost:8080/"
    },
    "executionInfo": {
     "elapsed": 485,
     "status": "ok",
     "timestamp": 1630340632938,
     "user": {
      "displayName": "Wachirawit Viriyaphisathan",
      "photoUrl": "https://lh3.googleusercontent.com/a-/AOh14GhpFNFOo2HRjyI36_HMPGhSHMfGYozwoiGMZBoPbA=s64",
      "userId": "03875063837227722804"
     },
     "user_tz": -420
    },
    "id": "7ba04mJs27BJ",
    "outputId": "b494faf3-64ad-4a1d-abb4-f18ea155c9c9"
   },
   "outputs": [
    {
     "name": "stdout",
     "output_type": "stream",
     "text": [
      "True\n"
     ]
    }
   ],
   "source": [
    "x = [\"น้ำเงิน\", \"น้ำตาล\"]\r\n",
    "\r\n",
    "print(\"น้ำตาล\" in x)"
   ]
  },
  {
   "cell_type": "markdown",
   "metadata": {
    "id": "CfToouD52x6U"
   },
   "source": [
    "`not in` จะได้ผลลัพธ์เป็น True ถ้าใน object นั้นไม่มี sequence ที่ระบุ"
   ]
  },
  {
   "cell_type": "code",
   "execution_count": 17,
   "metadata": {
    "colab": {
     "base_uri": "https://localhost:8080/"
    },
    "executionInfo": {
     "elapsed": 9,
     "status": "ok",
     "timestamp": 1630340632940,
     "user": {
      "displayName": "Wachirawit Viriyaphisathan",
      "photoUrl": "https://lh3.googleusercontent.com/a-/AOh14GhpFNFOo2HRjyI36_HMPGhSHMfGYozwoiGMZBoPbA=s64",
      "userId": "03875063837227722804"
     },
     "user_tz": -420
    },
    "id": "0dcEKewp3A17",
    "outputId": "ba39d4d3-7e01-411e-f1b0-280a2273312e"
   },
   "outputs": [
    {
     "name": "stdout",
     "output_type": "stream",
     "text": [
      "True\n"
     ]
    }
   ],
   "source": [
    "x = [\"น้ำเงิน\", \"น้ำตาล\"]\r\n",
    "\r\n",
    "print(\"น้ำตาลทราย\" not in x)"
   ]
  }
 ],
 "metadata": {
  "colab": {
   "collapsed_sections": [
    "2FkExhFIoNY8",
    "6XUZFN6tn75v",
    "3WHFf7Pmone1",
    "N1tRjh23pj2-",
    "_qphnxmurcRQ",
    "4qYqdoSorl-l",
    "mNXrIn39zHA9",
    "vtUXPcWZzKuK",
    "19FMz2VSzLrC"
   ],
   "name": "Python Operators.ipynb",
   "provenance": [
    {
     "file_id": "1YtwUjCetdLnR50UNYGnR1IAtH0W9ooO1",
     "timestamp": 1630337697384
    },
    {
     "file_id": "17XEX7PlOXBuY9UKKtSy1bB2_DdHBOg1P",
     "timestamp": 1630337226185
    }
   ]
  },
  "interpreter": {
   "hash": "8a42e8581704d812f174276cadf47b91a8b3cbce976324507688b69a62b18c0b"
  },
  "kernelspec": {
   "display_name": "Python 3.8.2 32-bit",
   "name": "python3"
  },
  "language_info": {
   "codemirror_mode": {
    "name": "ipython",
    "version": 3
   },
   "file_extension": ".py",
   "mimetype": "text/x-python",
   "name": "python",
   "nbconvert_exporter": "python",
   "pygments_lexer": "ipython3",
   "version": "3.8.2"
  }
 },
 "nbformat": 4,
 "nbformat_minor": 2
}
