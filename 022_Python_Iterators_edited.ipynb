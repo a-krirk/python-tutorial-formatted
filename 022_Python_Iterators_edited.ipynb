{
 "cells": [
  {
   "cell_type": "markdown",
   "metadata": {
    "id": "hgZTtZH-M9Wq"
   },
   "source": [
    "#### Iterators\r\n"
   ]
  },
  {
   "cell_type": "markdown",
   "metadata": {
    "id": "PYrAiNdNM9A6"
   },
   "source": [
    "iterator คือ Object ที่ประกอบด้วยตัวแปรที่นับได้\r\n",
    "\r\n",
    "iterator คือ Object ที่สามารถวนซ้ำได้ หมายความว่าเราสามารถที่จะวนเข้าถึงทุก ๆ ค่าได้\r\n",
    "\r\n",
    "อาจกล่าวเชิงเทคนิคว่า python iterator เป็น object ที่มีการกำหนดค่าตาม iterator protocol ซึ่งต้องประกอบด้วย method __iter__() และ __next__()\r\n",
    "\r\n"
   ]
  },
  {
   "cell_type": "markdown",
   "metadata": {
    "id": "8B-3mREpNArP"
   },
   "source": [
    "###### Iterator เทียบกับ Iterable\r\n",
    "\r\n",
    "Lists, tuples, dictionaries, และ sets ทั้งหมดเป็น iterable objects และเป็น iterable container ที่มาจาก iterator\r\n",
    "\r\n",
    "ทั้งหมดเป็น Object ที่ได้มาจากการวนซ้ำโดยใช้ iter():"
   ]
  },
  {
   "cell_type": "markdown",
   "metadata": {
    "id": "E2GdI5HpNBdT"
   },
   "source": [
    "###### ตัวอย่าง\r\n",
    "\r\n",
    "ส่งคืนค่า iterator ที่ได้จาก tuple และแสดงค่าแต่ละตัว:\r\n"
   ]
  },
  {
   "cell_type": "code",
   "execution_count": 1,
   "metadata": {
    "colab": {
     "base_uri": "https://localhost:8080/"
    },
    "id": "pkQmhb_mM7Yz",
    "outputId": "1578dc10-88f5-40f3-87ba-60b6b8e1d4e4"
   },
   "outputs": [
    {
     "name": "stdout",
     "output_type": "stream",
     "text": [
      "Burger\n",
      "Sushi\n",
      "Salad\n"
     ]
    }
   ],
   "source": [
    "mytuple = (\"Burger\", \"Sushi\", \"Salad\")\r\n",
    "myfood = iter(mytuple)\r\n",
    "\r\n",
    "print(next(myfood))\r\n",
    "print(next(myfood))\r\n",
    "print(next(myfood))"
   ]
  },
  {
   "cell_type": "markdown",
   "metadata": {
    "id": "WDa50SJbOF4Z"
   },
   "source": [
    "string ก็เป็น iterable object จึงสามารถ return ค่า iterator ออกมาได้ :"
   ]
  },
  {
   "cell_type": "markdown",
   "metadata": {
    "id": "L4Fn9MutNKgu"
   },
   "source": [
    "###### ตัวอย่าง"
   ]
  },
  {
   "cell_type": "code",
   "execution_count": 2,
   "metadata": {
    "colab": {
     "base_uri": "https://localhost:8080/"
    },
    "id": "-BJE5BTfOKIY",
    "outputId": "69d84e8f-f162-443c-8c55-d88be2371649"
   },
   "outputs": [
    {
     "name": "stdout",
     "output_type": "stream",
     "text": [
      "b\n",
      "o\n",
      "t\n",
      "n\n",
      "o\n",
      "i\n"
     ]
    }
   ],
   "source": [
    "mystr = \"botnoi\"\r\n",
    "mychar = iter(mystr)\r\n",
    "\r\n",
    "print(next(mychar))\r\n",
    "print(next(mychar))\r\n",
    "print(next(mychar))\r\n",
    "print(next(mychar))\r\n",
    "print(next(mychar))\r\n",
    "print(next(mychar))"
   ]
  },
  {
   "cell_type": "markdown",
   "metadata": {
    "id": "nCoNr_4hNLJQ"
   },
   "source": [
    "###### การ loop ผ่าน Iterator\r\n",
    "\r\n",
    "เราสามารถใช้ for loop ผ่าน iterable object ได้ :\r\n"
   ]
  },
  {
   "cell_type": "markdown",
   "metadata": {
    "id": "Zj0mmOFHNLu1"
   },
   "source": [
    "###### ตัวอย่าง\r\n",
    "\r\n",
    "วนซ้ำค่าของ tuple :\r\n"
   ]
  },
  {
   "cell_type": "code",
   "execution_count": 3,
   "metadata": {
    "colab": {
     "base_uri": "https://localhost:8080/"
    },
    "id": "Fqkg4PxzOR0h",
    "outputId": "12a91eb0-dd8f-4033-927c-d95c9f7df835"
   },
   "outputs": [
    {
     "name": "stdout",
     "output_type": "stream",
     "text": [
      "Burger\n",
      "Sushi\n",
      "Salad\n"
     ]
    }
   ],
   "source": [
    "mytuple = (\"Burger\", \"Sushi\", \"Salad\")\r\n",
    "\r\n",
    "for x in mytuple:\r\n",
    "  print(x)"
   ]
  },
  {
   "cell_type": "markdown",
   "metadata": {
    "id": "EXv5HPixNMPN"
   },
   "source": [
    "###### ตัวอย่าง\r\n",
    "\r\n",
    "วนซ้ำตัวอักษรของ string :\r\n"
   ]
  },
  {
   "cell_type": "code",
   "execution_count": 4,
   "metadata": {
    "colab": {
     "base_uri": "https://localhost:8080/"
    },
    "id": "StrwwPkSOdgS",
    "outputId": "8bc63f58-4d53-43fa-b333-67f5e7babb02"
   },
   "outputs": [
    {
     "name": "stdout",
     "output_type": "stream",
     "text": [
      "b\n",
      "o\n",
      "t\n",
      "n\n",
      "o\n",
      "i\n"
     ]
    }
   ],
   "source": [
    "mystr = \"botnoi\"\r\n",
    "\r\n",
    "for x in mystr:\r\n",
    "  print(x)"
   ]
  },
  {
   "cell_type": "markdown",
   "metadata": {
    "id": "hFo_WPO9NNBZ"
   },
   "source": [
    "###### การสร้าง Iterator\r\n",
    "\r\n",
    "การสร้าง object / class เพื่อทำเป็น iterator เราต้องกำหนด method __iter__() และ __next__() ให้กับ object\r\n",
    "\r\n",
    "จากเนื้อหาในเรื่อง classes / Objects class ทุกๆ class มีฟังก์ชั่นที่เรียกว่า __init__() ที่จะใช้เริ่มเมื่อมีการสร้าง class\r\n",
    "\r\n",
    "method __iter__() ก็จะมีการใช้งานเมื่อสร้าง object โดยเราสามารถทำ operation ต่าง ๆ ได้ แต่ต้อง return ตัว iterator object (ตัวเอง) ออกมา\r\n",
    "\r\n",
    "__next__() เป็น method ที่จะ return ค่าของ item ในลำดับถัดไป\r\n",
    "\r\n"
   ]
  },
  {
   "cell_type": "markdown",
   "metadata": {
    "id": "w7ULsIJlNNgy"
   },
   "source": [
    "###### ตัวอย่าง\r\n",
    "\r\n",
    "สร้าง iterator และ return ค่าตัวเลข โดยเริ่มจาก 1 และเพิ่มขึ้นทีละ 1 ( เช่น ส่งคืนค่า 1 ,2 ,3 ,4 ,5 ):\r\n",
    "\r\n"
   ]
  },
  {
   "cell_type": "code",
   "execution_count": 5,
   "metadata": {
    "colab": {
     "base_uri": "https://localhost:8080/"
    },
    "id": "N2pF0arUOngk",
    "outputId": "6f9e9885-1253-4a5c-e7d9-2bec9e9cb6d0"
   },
   "outputs": [
    {
     "name": "stdout",
     "output_type": "stream",
     "text": [
      "1\n",
      "2\n",
      "3\n",
      "4\n",
      "5\n",
      "6\n"
     ]
    }
   ],
   "source": [
    "class MyNumbers:\r\n",
    "  def __iter__(self):\r\n",
    "    self.a = 1\r\n",
    "    return self\r\n",
    "\r\n",
    "  def __next__(self):\r\n",
    "    x = self.a\r\n",
    "    self.a += 1\r\n",
    "    return x\r\n",
    "\r\n",
    "myclass = MyNumbers()\r\n",
    "mynum = iter(myclass)\r\n",
    "\r\n",
    "print(next(mynum))\r\n",
    "print(next(mynum))\r\n",
    "print(next(mynum))\r\n",
    "print(next(mynum))\r\n",
    "print(next(mynum))\r\n",
    "print(next(mynum))"
   ]
  },
  {
   "cell_type": "markdown",
   "metadata": {
    "id": "gY7Tt12FNOGG"
   },
   "source": [
    "###### StopIteration\r\n",
    "\r\n",
    "จากตัวอย่างข้างต้นจะเป็นการวนซ้ำไปเรื่อยๆ โดยการใส่ next() ไปเรื่อยๆหรือใช้ for loop\r\n",
    "\r\n",
    "วิธีการป้องกันการวนซ้ำไม่มีสิ้นสุดคือ เราสามารถใช้ StopIteration\r\n",
    "\r\n",
    "เราสามารถป้องกันการ error ของ method __next__() ได้โดยการเพิ่มเงื่อนไขให้สิ้นสุดการวนซ้ำเมื่อครบจำนวนการวนซ้ำที่ต้องการ:"
   ]
  },
  {
   "cell_type": "markdown",
   "metadata": {
    "id": "c1G_w3n8NOoL"
   },
   "source": [
    "###### ตัวอย่าง\r\n",
    "\r\n",
    "หยุดการวนซ้ำเมื่อครบ 15 ครั้ง :\r\n",
    "\r\n"
   ]
  },
  {
   "cell_type": "code",
   "execution_count": 6,
   "metadata": {
    "colab": {
     "base_uri": "https://localhost:8080/"
    },
    "id": "Hq61Q5AkO1aV",
    "outputId": "41e783e1-d844-4a79-b0af-a5177abd92bd"
   },
   "outputs": [
    {
     "name": "stdout",
     "output_type": "stream",
     "text": [
      "1\n",
      "2\n",
      "3\n",
      "4\n",
      "5\n",
      "6\n",
      "7\n",
      "8\n",
      "9\n",
      "10\n",
      "11\n",
      "12\n",
      "13\n",
      "14\n",
      "15\n"
     ]
    }
   ],
   "source": [
    "class MyNumbers:\r\n",
    "  def __iter__(self):\r\n",
    "    self.a = 1\r\n",
    "    return self\r\n",
    "\r\n",
    "  def __next__(self):\r\n",
    "    if self.a <= 15:\r\n",
    "      x = self.a\r\n",
    "      self.a += 1\r\n",
    "      return x\r\n",
    "    else:\r\n",
    "      raise StopIteration\r\n",
    "\r\n",
    "myclass = MyNumbers()\r\n",
    "myiter = iter(myclass)\r\n",
    "\r\n",
    "for x in myiter:\r\n",
    "  print(x)"
   ]
  }
 ],
 "metadata": {
  "colab": {
   "name": "022_Python_Iterators.ipynb",
   "provenance": []
  },
  "interpreter": {
   "hash": "00034aa5cd6c44013b830fd98c7a620a61a498e75425ca81fcc1166b84a69895"
  },
  "kernelspec": {
   "display_name": "Python 3.8.5 64-bit ('base': conda)",
   "name": "python3"
  },
  "language_info": {
   "codemirror_mode": {
    "name": "ipython",
    "version": 3
   },
   "file_extension": ".py",
   "mimetype": "text/x-python",
   "name": "python",
   "nbconvert_exporter": "python",
   "pygments_lexer": "ipython3",
   "version": "3.8.5"
  }
 },
 "nbformat": 4,
 "nbformat_minor": 2
}
