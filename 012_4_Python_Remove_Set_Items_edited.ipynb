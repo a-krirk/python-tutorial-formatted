{
 "cells": [
  {
   "cell_type": "markdown",
   "metadata": {
    "id": "fEr9_ehSQOwi"
   },
   "source": [
    "#### การลบข้อมูลใน Set"
   ]
  },
  {
   "cell_type": "markdown",
   "metadata": {
    "id": "hCS45haQQOwo"
   },
   "source": [
    "การลบข้อมูลใน set สามารถใช้คำสั่ง remove() หรือ discard()"
   ]
  },
  {
   "cell_type": "markdown",
   "metadata": {
    "id": "kw6U1ePSQOwp"
   },
   "source": [
    "###### ตัวอย่าง\r\n",
    "ลบ \"Burger\" โดยใช้คำสั่ง remove() \r\n",
    "\r\n",
    "Note : ถ้าหากข้อมูลที่ต้องการลบไม่มีอยู่ใน set คำสั่ง remove() จะเกิด error "
   ]
  },
  {
   "cell_type": "code",
   "execution_count": 1,
   "metadata": {
    "id": "Ei7K-MAfQOwp",
    "outputId": "68eeae40-8001-4113-a333-e2bc8d8ed19f"
   },
   "outputs": [
    {
     "name": "stdout",
     "output_type": "stream",
     "text": [
      "{'Salad', 'Sushi'}\n"
     ]
    }
   ],
   "source": [
    "foodset = {\"Sushi\", \"Burger\", \"Salad\"}\r\n",
    "foodset.remove(\"Burger\")\r\n",
    "print(foodset)"
   ]
  },
  {
   "cell_type": "markdown",
   "metadata": {
    "id": "fcD_d21PQOwr"
   },
   "source": [
    "###### ตัวอย่าง\r\n",
    "ลบ \"Burger\" โดยใช้คำสั่ง discard()\r\n",
    "\r\n",
    "Note : ถ้าหากข้อมูลที่ต้องการลบไม่มีใน set คำสั่ง discard() จะไม่เกิด error"
   ]
  },
  {
   "cell_type": "code",
   "execution_count": 2,
   "metadata": {
    "id": "QVp9yUsoQOws",
    "outputId": "ca5ce323-8041-4220-8660-aebc40999a58"
   },
   "outputs": [
    {
     "name": "stdout",
     "output_type": "stream",
     "text": [
      "{'Salad', 'Sushi'}\n"
     ]
    }
   ],
   "source": [
    "foodset = {\"Sushi\", \"Burger\", \"Salad\"}\r\n",
    "foodset.discard(\"Burger\")\r\n",
    "print(foodset)"
   ]
  },
  {
   "cell_type": "markdown",
   "metadata": {
    "id": "r2_ECO5wQOwt"
   },
   "source": [
    "###### ตัวอย่าง\r\n",
    "ลบข้อมูลล่าสุดโดยใช้คำสั่ง pop()\r\n",
    "\r\n",
    "Note : set เป็นข้อมูลที่ไม่มีลำดับ ดังนั้น เมื่อเราใช้คำสั่ง pop() เราจะไม่รู้ว่าข้อมูลใดถูกลบ\r\n"
   ]
  },
  {
   "cell_type": "code",
   "execution_count": 3,
   "metadata": {
    "id": "LIbrEBv4QOwu",
    "outputId": "03572ddb-1a03-4561-c772-b9718286cbe0"
   },
   "outputs": [
    {
     "name": "stdout",
     "output_type": "stream",
     "text": [
      "Salad\n",
      "{'Sushi', 'Burger'}\n"
     ]
    }
   ],
   "source": [
    "foodset = {\"Sushi\", \"Burger\", \"Salad\"}\r\n",
    "x = foodset.pop()\r\n",
    "print(x)\r\n",
    "print(foodset)"
   ]
  },
  {
   "cell_type": "markdown",
   "metadata": {
    "id": "fRDFODAtQOwv"
   },
   "source": [
    "###### ตัวอย่าง\r\n",
    "ใช้คำสั่ง clear() เพื่อลบข้อมูลทั้งหมดใน set"
   ]
  },
  {
   "cell_type": "code",
   "execution_count": 4,
   "metadata": {
    "id": "Cqmj3KpQQOwv",
    "outputId": "ec5cd6d3-d319-4931-bdec-15de327bb112"
   },
   "outputs": [
    {
     "name": "stdout",
     "output_type": "stream",
     "text": [
      "set()\n"
     ]
    }
   ],
   "source": [
    "foodset = {\"Sushi\", \"Burger\", \"Salad\"}\r\n",
    "foodset.clear()\r\n",
    "print(foodset)"
   ]
  },
  {
   "cell_type": "markdown",
   "metadata": {
    "id": "ipK49AfzQOww"
   },
   "source": [
    "###### ตัวอย่าง\r\n",
    "ใช้คำสั่ง del เพื่อลบ set"
   ]
  },
  {
   "cell_type": "code",
   "execution_count": 6,
   "metadata": {
    "id": "V-d3XCLIQOww",
    "outputId": "e04dd56b-533c-42f2-a021-9854565a7844"
   },
   "outputs": [
    {
     "ename": "NameError",
     "evalue": "name 'foodset' is not defined",
     "output_type": "error",
     "traceback": [
      "\u001b[1;31m---------------------------------------------------------------------------\u001b[0m",
      "\u001b[1;31mNameError\u001b[0m                                 Traceback (most recent call last)",
      "\u001b[1;32m~\\AppData\\Local\\Temp/ipykernel_11036/276858955.py\u001b[0m in \u001b[0;36m<module>\u001b[1;34m\u001b[0m\n\u001b[0;32m      1\u001b[0m \u001b[0mfoodset\u001b[0m \u001b[1;33m=\u001b[0m \u001b[1;33m{\u001b[0m\u001b[1;34m\"Sushi\"\u001b[0m\u001b[1;33m,\u001b[0m \u001b[1;34m\"Burger\"\u001b[0m\u001b[1;33m,\u001b[0m \u001b[1;34m\"Salad\"\u001b[0m\u001b[1;33m}\u001b[0m\u001b[1;33m\u001b[0m\u001b[1;33m\u001b[0m\u001b[0m\n\u001b[0;32m      2\u001b[0m \u001b[1;32mdel\u001b[0m \u001b[0mfoodset\u001b[0m\u001b[1;33m\u001b[0m\u001b[1;33m\u001b[0m\u001b[0m\n\u001b[1;32m----> 3\u001b[1;33m \u001b[0mprint\u001b[0m\u001b[1;33m(\u001b[0m\u001b[0mfoodset\u001b[0m\u001b[1;33m)\u001b[0m \u001b[1;31m#จะขึ้น error เพราะไม่มี set ที่ชื่อว่า foodset อยู่แล้ว\u001b[0m\u001b[1;33m\u001b[0m\u001b[1;33m\u001b[0m\u001b[0m\n\u001b[0m",
      "\u001b[1;31mNameError\u001b[0m: name 'foodset' is not defined"
     ]
    }
   ],
   "source": [
    "foodset = {\"Sushi\", \"Burger\", \"Salad\"}\r\n",
    "del foodset\r\n",
    "print(foodset) #จะขึ้น error เพราะไม่มี set ที่ชื่อว่า foodset อยู่แล้ว"
   ]
  }
 ],
 "metadata": {
  "colab": {
   "name": "012_4_Python_Remove_Set_Items.ipynb",
   "provenance": []
  },
  "interpreter": {
   "hash": "8a42e8581704d812f174276cadf47b91a8b3cbce976324507688b69a62b18c0b"
  },
  "kernelspec": {
   "display_name": "Python 3.8.2 32-bit",
   "name": "python3"
  },
  "language_info": {
   "codemirror_mode": {
    "name": "ipython",
    "version": 3
   },
   "file_extension": ".py",
   "mimetype": "text/x-python",
   "name": "python",
   "nbconvert_exporter": "python",
   "pygments_lexer": "ipython3",
   "version": "3.8.2"
  }
 },
 "nbformat": 4,
 "nbformat_minor": 2
}
