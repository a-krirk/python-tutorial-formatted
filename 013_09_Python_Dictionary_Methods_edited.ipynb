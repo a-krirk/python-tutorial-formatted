{
 "cells": [
  {
   "cell_type": "markdown",
   "metadata": {
    "id": "3Q_V-r5iNACC"
   },
   "source": [
    "#### Dictionary Methods"
   ]
  },
  {
   "cell_type": "markdown",
   "metadata": {
    "id": "9ODLkUStNACG"
   },
   "source": [
    "มี built-in methods หลายตัวที่ใช้จัดการกับ dictionary"
   ]
  },
  {
   "cell_type": "markdown",
   "metadata": {
    "id": "w2KjMreCNACI"
   },
   "source": [
    "- `clear()`\tลบข้อมูลทั้งหมดใน dictionary\r\n",
    "\r\n",
    "- `copy()`\tคัดลอก dictionary อันเดิมไปอันใหม่\r\n",
    "\r\n",
    "- `fromkeys()`\tส่งค่ากลับมาเป็น dictionary ด้วยการระบุ keys และ value\r\n",
    "\r\n",
    "- `get()`\tส่งค่ากลับมาด้วยการระบุ key\r\n",
    "\r\n",
    "- `items()`\tส่งค่ากลับมาเป็น list ที่ประกอบด้วย tuple ของคู่ key-value\r\n",
    "\r\n",
    "- `keys()`\tส่งค่ากลับเป็น list ของ key ทั้งหมดใน dictionary\r\n",
    "\r\n",
    "- `pop()`\tลบข้อมูลด้วยการระบุ key\r\n",
    "\r\n",
    "- `popitem()`\tลบข้อมูลคู่ key-value สุดท้ายที่เพิ่มเข้าไปใน dictionary\r\n",
    "\r\n",
    "- `setdefault()`\tส่ง value ของ key ที่ระบุไปกลับมา\r\n",
    "\r\n",
    "- `exist` เพิ่ม key ด้วยการระบุ value\r\n",
    "\r\n",
    "- `update()`\tอัพเดท dictionary ด้วยการระบุคู่ key-value\r\n",
    "\r\n",
    "- `values()`\tส่งค่ากลับเป็น list ของ value ทั้งหมดใน dictionary"
   ]
  }
 ],
 "metadata": {
  "colab": {
   "collapsed_sections": [],
   "name": "013_09_Python_Dictionary_Methods.ipynb",
   "provenance": []
  },
  "interpreter": {
   "hash": "00034aa5cd6c44013b830fd98c7a620a61a498e75425ca81fcc1166b84a69895"
  },
  "kernelspec": {
   "display_name": "Python 3.8.5 64-bit",
   "name": "python3"
  },
  "language_info": {
   "name": "python",
   "version": "3.8.5"
  }
 },
 "nbformat": 4,
 "nbformat_minor": 2
}
