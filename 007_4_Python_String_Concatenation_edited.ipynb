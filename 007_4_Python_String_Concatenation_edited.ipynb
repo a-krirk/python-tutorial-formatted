{
 "cells": [
  {
   "cell_type": "markdown",
   "metadata": {
    "id": "LBhvieXuhM--"
   },
   "source": [
    "#### การทำ String Concatenation"
   ]
  },
  {
   "cell_type": "markdown",
   "metadata": {
    "id": "ilYq-LUBhOGh"
   },
   "source": [
    "###### String Concatenation\r\n",
    "\r\n",
    "สามารถใช้เครื่องหมาย + เพื่อต่อ string สองตัวเข้าด้วยกัน"
   ]
  },
  {
   "cell_type": "markdown",
   "metadata": {
    "id": "WQ5CMtSlhQjP"
   },
   "source": [
    "###### ตัวอย่าง\r\n",
    "ต่อ string a กับ b เข้าด้วยกันเป็น string c"
   ]
  },
  {
   "cell_type": "code",
   "execution_count": 2,
   "metadata": {
    "colab": {
     "base_uri": "https://localhost:8080/"
    },
    "id": "PSoaCXJ1hTln",
    "outputId": "4188c140-5ad0-43f7-8b5d-50adceff88a7"
   },
   "outputs": [
    {
     "name": "stdout",
     "output_type": "stream",
     "text": [
      "เหตุผลที่ไม่ควรมีเหตุผล\n"
     ]
    }
   ],
   "source": [
    "a = \"เหตุผลที่ไม่ควร\"\r\n",
    "b = \"มีเหตุผล\"\r\n",
    "c = a + b\r\n",
    "print(c)"
   ]
  }
 ],
 "metadata": {
  "colab": {
   "name": "7.2Python - String Concatenation.ipynb",
   "provenance": []
  },
  "interpreter": {
   "hash": "00034aa5cd6c44013b830fd98c7a620a61a498e75425ca81fcc1166b84a69895"
  },
  "kernelspec": {
   "display_name": "Python 3.8.5 64-bit ('base': conda)",
   "name": "python3"
  },
  "language_info": {
   "codemirror_mode": {
    "name": "ipython",
    "version": 3
   },
   "file_extension": ".py",
   "mimetype": "text/x-python",
   "name": "python",
   "nbconvert_exporter": "python",
   "pygments_lexer": "ipython3",
   "version": "3.8.5"
  }
 },
 "nbformat": 4,
 "nbformat_minor": 2
}
