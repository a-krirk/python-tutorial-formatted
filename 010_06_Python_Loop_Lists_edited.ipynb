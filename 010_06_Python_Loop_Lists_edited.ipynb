{
 "cells": [
  {
   "cell_type": "markdown",
   "metadata": {
    "id": "Lf15ezccTzWt"
   },
   "source": [
    "#### การใช้ Loop คู่กับ List"
   ]
  },
  {
   "cell_type": "markdown",
   "metadata": {
    "id": "vkSijZvjTzWz"
   },
   "source": [
    "สามารถ loop ผ่าน item ต่าง ๆ ของ list ได้โดยใช้ for loop"
   ]
  },
  {
   "cell_type": "markdown",
   "metadata": {
    "id": "xmYZ22BITzW0"
   },
   "source": [
    "###### ตัวอย่าง\r\n",
    "print item ทั้งหมดใน list ออกมาทีละตัว"
   ]
  },
  {
   "cell_type": "code",
   "execution_count": 3,
   "metadata": {
    "id": "1F4zXqEOTzW0"
   },
   "outputs": [
    {
     "name": "stdout",
     "output_type": "stream",
     "text": [
      "red\n",
      "blue\n",
      "green\n"
     ]
    }
   ],
   "source": [
    "my_list = [\"red\", \"blue\", \"green\"]\r\n",
    "for item in my_list:\r\n",
    "    print(item)"
   ]
  },
  {
   "cell_type": "markdown",
   "metadata": {
    "id": "6Zj5qB-hTzW2"
   },
   "source": [
    "###### การใช้ For Loop กับ List\n",
    "สามารถ loop ผ่าน items ของ list โดยการระบุเลข index\n",
    "เลือกใช้ functions range() หรือ len() เพื่อกำหนดจำนวน loop"
   ]
  },
  {
   "cell_type": "markdown",
   "metadata": {
    "id": "DF6MkaiVTzW2"
   },
   "source": [
    "###### ตัวอย่าง\r\n",
    "print item ทั้งหมดใน list โดยการระบุตำแหน่งด้วยเลข index"
   ]
  },
  {
   "cell_type": "code",
   "execution_count": 11,
   "metadata": {
    "id": "C4WwAFcVTzW2"
   },
   "outputs": [
    {
     "name": "stdout",
     "output_type": "stream",
     "text": [
      "red\n",
      "blue\n",
      "green\n"
     ]
    }
   ],
   "source": [
    "my_list = [\"red\", \"blue\", \"green\"]\r\n",
    "for index in range(len(my_list)):\r\n",
    "  print(my_list[index])"
   ]
  },
  {
   "cell_type": "markdown",
   "metadata": {
    "id": "-jFD3IlsTzW3"
   },
   "source": [
    "###### การใช้ While Loop กับ List\n",
    "สามารถ loop ผ่าน item ต่าง ๆ ใน list ได้ด้วย while loop\n",
    "\n",
    "ใช้ function len() เพื่อหาความยาวของ list จากนั้นเริ่มวนลูปผ่าน item ต่าง ๆ ใน list ได้ด้วยเลข index\n",
    "\n",
    "Note: การวนแต่ละรอบเลข index จะเพิ่มขึ้นทีละ 1 หลังจากวน loop ทุกรอบ"
   ]
  },
  {
   "cell_type": "markdown",
   "metadata": {
    "id": "VVEwQ_MGTzW4"
   },
   "source": [
    "###### ตัวอย่าง\r\n",
    "print item ทั้งหมดใน list โดยใช้ while loop"
   ]
  },
  {
   "cell_type": "code",
   "execution_count": 10,
   "metadata": {
    "id": "g-ilFy3MTzW4"
   },
   "outputs": [
    {
     "name": "stdout",
     "output_type": "stream",
     "text": [
      "red\n",
      "blue\n",
      "green\n"
     ]
    }
   ],
   "source": [
    "my_list = [\"red\", \"blue\", \"green\"]\r\n",
    "i = 0\r\n",
    "while i < len(my_list):\r\n",
    "  print(my_list[i])\r\n",
    "  i = i + 1"
   ]
  },
  {
   "cell_type": "markdown",
   "metadata": {
    "id": "N_kBP23zTzW4"
   },
   "source": [
    "###### การเขียนคำสั่ง Loop โดยใช้ syntax ที่สั้นลง\r\n",
    "ปกติคำสั่ง loop มักเขียนต่อกันหลายบรรทัด แต่มีวิธีการเขียนให้สั้นลงได้"
   ]
  },
  {
   "cell_type": "markdown",
   "metadata": {
    "id": "gjUzCf7lTzW5"
   },
   "source": [
    "###### ตัวอย่าง\r\n",
    "syntax ที่สั้นลงของคำสั่งวน loop"
   ]
  },
  {
   "cell_type": "code",
   "execution_count": 23,
   "metadata": {
    "id": "xcaRsEBlTzW5"
   },
   "outputs": [
    {
     "data": {
      "text/plain": [
       "['red', 'blue', 'green']"
      ]
     },
     "execution_count": 23,
     "metadata": {},
     "output_type": "execute_result"
    }
   ],
   "source": [
    "my_list = [\"red\", \"blue\", \"green\"]\r\n",
    "[x for x in my_list]"
   ]
  }
 ],
 "metadata": {
  "colab": {
   "collapsed_sections": [],
   "name": "010_06_Python_Loop_Lists.ipynb",
   "provenance": []
  },
  "interpreter": {
   "hash": "8a42e8581704d812f174276cadf47b91a8b3cbce976324507688b69a62b18c0b"
  },
  "kernelspec": {
   "display_name": "Python 3.8.2 32-bit",
   "name": "python3"
  },
  "language_info": {
   "codemirror_mode": {
    "name": "ipython",
    "version": 3
   },
   "file_extension": ".py",
   "mimetype": "text/x-python",
   "name": "python",
   "nbconvert_exporter": "python",
   "pygments_lexer": "ipython3",
   "version": "3.8.2"
  }
 },
 "nbformat": 4,
 "nbformat_minor": 2
}
