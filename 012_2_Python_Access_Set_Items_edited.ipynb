{
 "cells": [
  {
   "cell_type": "markdown",
   "metadata": {
    "id": "O8x2me9AKhS5"
   },
   "source": [
    "#### การเข้าถึง Set item \r\n"
   ]
  },
  {
   "cell_type": "markdown",
   "metadata": {
    "id": "2IN4cmQgKhS-"
   },
   "source": [
    "เราไม่สามารถเข้าถึงข้อมูลใน set โดยการใช้เลข index หรือ key ได้\r\n",
    "\r\n",
    "แต่เราสามารถใช้ for loop เพื่อเข้าถึงข้อมูลใน set หรือใช้คำสั่ง in ในการระบุข้อมูลที่ต้องการหาใน set\r\n"
   ]
  },
  {
   "cell_type": "markdown",
   "metadata": {
    "id": "zq7FHKsmKhS_"
   },
   "source": [
    "###### ตัวอย่าง\r\n",
    "ใช้ loop เพื่อเข้าถึงข้อมูลใน set พร้อมแสดงค่า"
   ]
  },
  {
   "cell_type": "code",
   "execution_count": 1,
   "metadata": {
    "id": "puv2mrPAKhS_",
    "outputId": "f43b2489-a10d-4cbe-844c-7d9767988ec0"
   },
   "outputs": [
    {
     "name": "stdout",
     "output_type": "stream",
     "text": [
      "Sushi\n",
      "Burger\n",
      "Salad\n"
     ]
    }
   ],
   "source": [
    "foodset = {\"Sushi\", \"Burger\", \"Salad\"}\r\n",
    "\r\n",
    "for x in foodset:\r\n",
    "  print(x)"
   ]
  },
  {
   "cell_type": "markdown",
   "metadata": {
    "id": "hP1BVovvKhTB"
   },
   "source": [
    "###### ตัวอย่าง\r\n",
    "จงหาว่า \"Sushi\" อยู่ใน set นี้หรือไม่"
   ]
  },
  {
   "cell_type": "code",
   "execution_count": 3,
   "metadata": {
    "id": "djS-vSH0KhTB",
    "outputId": "496bb350-616f-4b5f-a2b8-8d0b1090db17"
   },
   "outputs": [
    {
     "name": "stdout",
     "output_type": "stream",
     "text": [
      "True\n"
     ]
    }
   ],
   "source": [
    "foodset = {\"Sushi\", \"Burger\", \"Salad\"}\r\n",
    "print(\"Sushi\" in foodset)"
   ]
  },
  {
   "cell_type": "markdown",
   "metadata": {
    "id": "VdnGc4RtKhTC"
   },
   "source": [
    "###### การเปลี่ยนแปลงข้อมูลใน set\n",
    "เมื่อเราสร้าง set ขึ้นมาแล้ว เราจะไม่สามารถ แก้ไขข้อมูลได้ แต่สามารถเพิ่มข้อมูลได้"
   ]
  }
 ],
 "metadata": {
  "colab": {
   "name": "012_2_Python_Access_Set_Items.ipynb",
   "provenance": []
  },
  "interpreter": {
   "hash": "8a42e8581704d812f174276cadf47b91a8b3cbce976324507688b69a62b18c0b"
  },
  "kernelspec": {
   "display_name": "Python 3.8.2 32-bit",
   "name": "python3"
  },
  "language_info": {
   "codemirror_mode": {
    "name": "ipython",
    "version": 3
   },
   "file_extension": ".py",
   "mimetype": "text/x-python",
   "name": "python",
   "nbconvert_exporter": "python",
   "pygments_lexer": "ipython3",
   "version": "3.8.2"
  }
 },
 "nbformat": 4,
 "nbformat_minor": 2
}
