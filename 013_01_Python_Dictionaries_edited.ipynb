{
 "cells": [
  {
   "cell_type": "markdown",
   "metadata": {
    "id": "t16bGmNbRUAH"
   },
   "source": [
    "#### Dictionary"
   ]
  },
  {
   "cell_type": "markdown",
   "metadata": {
    "id": "j63BgUu4SHOg"
   },
   "source": [
    "Dictionary ใช้เพื่อจัดเก็บค่าข้อมูลในรูปของ key:value ในลักษณะที่เป็นคู่กัน\r\n",
    "\r\n",
    "สามารถประกาศตัวแปร Dictionary โดยใช้วงเล็บปีกกา {} และใส่ค่า keys กับ values เข้าไป"
   ]
  },
  {
   "cell_type": "markdown",
   "metadata": {
    "id": "9bGDZcCFTH2A"
   },
   "source": [
    "###### ตัวอย่าง\r\n",
    "\r\n",
    "การสร้าง dictionary"
   ]
  },
  {
   "cell_type": "code",
   "execution_count": 5,
   "metadata": {
    "colab": {
     "base_uri": "https://localhost:8080/"
    },
    "id": "vJJpuo63TVor",
    "outputId": "50bea438-9740-4a89-9c18-c33bce1143dd"
   },
   "outputs": [
    {
     "name": "stdout",
     "output_type": "stream",
     "text": [
      "{'brand': 'Toyota', 'model': 'Vios', 'year': 2017}\n"
     ]
    }
   ],
   "source": [
    "thisdict = {\r\n",
    "  \"brand\": \"Toyota\",\r\n",
    "  \"model\": \"Vios\",\r\n",
    "  \"year\": 2017\r\n",
    "}\r\n",
    "print(thisdict)"
   ]
  },
  {
   "cell_type": "markdown",
   "metadata": {
    "id": "vpdTCP0CTgsW"
   },
   "source": [
    "###### Dictionary Items\r\n",
    "\r\n",
    "Dictionary items จะมีการกำหนดลำดับของข้อมูล(ordered), เปลี่ยนแปลงค่าภายหลังได้(changeable) และไม่อนุญาตให้มีค่าซ้ำ(Duplicate not allow)\r\n",
    "\r\n",
    "Dictionary items จะมีการแสดงเป็น key:value pair ซึ่งสามารถอ้างถึง value ได้โดยการป้อน key"
   ]
  },
  {
   "cell_type": "markdown",
   "metadata": {
    "id": "D1yc6Om0Tsm6"
   },
   "source": [
    "###### ตัวย่าง\r\n",
    "การอ้างถึง value โดยใช้ key คำว่า \"brand\""
   ]
  },
  {
   "cell_type": "code",
   "execution_count": 6,
   "metadata": {
    "colab": {
     "base_uri": "https://localhost:8080/"
    },
    "id": "w5fqj_y-Ubz2",
    "outputId": "feddcdf8-f50e-4d77-deed-91d6841f4d3d"
   },
   "outputs": [
    {
     "name": "stdout",
     "output_type": "stream",
     "text": [
      "Toyota\n"
     ]
    }
   ],
   "source": [
    "thisdict = {\r\n",
    "  \"brand\": \"Toyota\",\r\n",
    "  \"model\": \"Vios\",\r\n",
    "  \"year\": 2017}\r\n",
    "print(thisdict[\"brand\"])"
   ]
  },
  {
   "cell_type": "markdown",
   "metadata": {
    "id": "pe0T5oKeU0ph"
   },
   "source": [
    "dictionary จะไม่สามารถมีค่า key ซ้ำกันได้"
   ]
  },
  {
   "cell_type": "markdown",
   "metadata": {
    "id": "I4rI8hEXU7vN"
   },
   "source": [
    "###### ตัวอย่าง\r\n",
    "หากมีการป้อนข้อมูล key ซ้ำกัน key ตัวก่อนหน้าจะถูกเขียนทับ\r\n",
    "\r\n",
    "\r\n"
   ]
  },
  {
   "cell_type": "code",
   "execution_count": 7,
   "metadata": {
    "colab": {
     "base_uri": "https://localhost:8080/"
    },
    "id": "WKQIiNmxU92o",
    "outputId": "60f8f6a0-a44c-4ce9-8360-4d3749768414"
   },
   "outputs": [
    {
     "name": "stdout",
     "output_type": "stream",
     "text": [
      "{'brand': 'Toyota', 'model': 'Vios', 'year': 2020}\n"
     ]
    }
   ],
   "source": [
    "thisdict = {\r\n",
    "  \"brand\": \"Toyota\",\r\n",
    "  \"model\": \"Vios\",\r\n",
    "  \"year\": 2010,\r\n",
    "  \"year\": 2020\r\n",
    "}\r\n",
    "print(thisdict)"
   ]
  },
  {
   "cell_type": "markdown",
   "metadata": {
    "id": "ZFOHU3aFVbTu"
   },
   "source": [
    "###### ควมยาวของ Dictionary\r\n",
    "\r\n",
    "สามารถใช้ฟังก์ชัน len() หาความยาวของ dictionary ได้"
   ]
  },
  {
   "cell_type": "markdown",
   "metadata": {
    "id": "_5cvaNKFVg_0"
   },
   "source": [
    "###### ตัวอย่าง"
   ]
  },
  {
   "cell_type": "code",
   "execution_count": 8,
   "metadata": {
    "colab": {
     "base_uri": "https://localhost:8080/"
    },
    "id": "1LYmKuc3VkAG",
    "outputId": "cd1b90c9-8433-434d-8b09-e3cc75602b11"
   },
   "outputs": [
    {
     "name": "stdout",
     "output_type": "stream",
     "text": [
      "3\n"
     ]
    }
   ],
   "source": [
    "thisdict = {\r\n",
    "  \"brand\": \"Toyota\",\r\n",
    "  \"model\": \"Vios\",\r\n",
    "  \"year\": 2010,\r\n",
    "  \"year\": 2020\r\n",
    "}\r\n",
    "print(len(thisdict))"
   ]
  },
  {
   "cell_type": "markdown",
   "metadata": {
    "id": "aRQdk8FqVp3O"
   },
   "source": [
    "###### ชนิดของข้อมูลของ Dictionary items \r\n",
    "\r\n",
    "Dictionary items สามารถเป็นข้อมูลชนิดใดก็ได้"
   ]
  },
  {
   "cell_type": "markdown",
   "metadata": {
    "id": "q-7y_D6IV2wP"
   },
   "source": [
    "###### ตัวอย่าง\r\n",
    "Dictionary items ที่เป็นข้อมูลชนิด String, int, boolean และ list \r\n",
    "\r\n"
   ]
  },
  {
   "cell_type": "code",
   "execution_count": 9,
   "metadata": {
    "id": "N9Th-4PQV43d"
   },
   "outputs": [],
   "source": [
    "thisdict = {\r\n",
    "  \"brand\": \"Toyota\",\r\n",
    "  \"electric\": False,\r\n",
    "  \"year\": 2010,\r\n",
    "  \"colors\": [\"green\", \"yellow\", \"blue\"]\r\n",
    "}"
   ]
  },
  {
   "cell_type": "markdown",
   "metadata": {
    "id": "JjRR8X4KWAhd"
   },
   "source": [
    "###### ชนิดของข้อมูลของ dictionary\r\n",
    "\r\n",
    "dictionary เป็นข้อมูลชนิด dict\r\n",
    "\r\n",
    "<class 'dict'>\r\n"
   ]
  },
  {
   "cell_type": "markdown",
   "metadata": {
    "id": "Hznzvgv_WY3b"
   },
   "source": [
    "###### ตัวอย่าง"
   ]
  },
  {
   "cell_type": "code",
   "execution_count": 10,
   "metadata": {
    "colab": {
     "base_uri": "https://localhost:8080/"
    },
    "id": "oLp52i91WcQt",
    "outputId": "988535ad-9626-4cd1-ecdf-b20a67a17b92"
   },
   "outputs": [
    {
     "name": "stdout",
     "output_type": "stream",
     "text": [
      "<class 'dict'>\n"
     ]
    }
   ],
   "source": [
    "thisdict = {\r\n",
    "  \"brand\": \"Toyota\",\r\n",
    "  \"model\": \"Vios\",\r\n",
    "  \"year\": 2021\r\n",
    "}\r\n",
    "print(type(thisdict))"
   ]
  },
  {
   "cell_type": "markdown",
   "metadata": {
    "id": "oVDo82cnWduJ"
   },
   "source": [
    "###### Python Collections\r\n",
    "\r\n",
    "ใน Python มี Collections ของข้อมูล 4 ประเภท\r\n",
    "\r\n",
    "* `List` เป็น collection ที่มีการกำหนดลำดับของข้อมูลไว้ เปลี่ยนแปลงค่าได้ และสามารถมีสมาชิกที่ซ้ำกันได้\r\n",
    "* `Tuple` เป็น collection ที่ไม่มีการกำหนดลำดับของข้อมูลไว้ เปลี่ยนแปลงค่าไม่ได้ และสามารถมีสมาชิกที่ซ้ำกันได้\r\n",
    "* `set` เป็น collection ที่ไม่มีการกำหนดลำดับของข้อมูลไว้ ไม่มีการกำหนด index และไม่สามารถมีสมาชิกที่ซ้ำกันได้\r\n",
    "* `dictionary` เป็น collection ที่มีการกำหนดลำดับของข้อมูลไว้ เปลี่ยนแปลงค่าได้ และไม่สามารถมีสมาชิกที่ซ้ำกันได้\r\n",
    "\r\n",
    "ควรเลือกชนิดของ collection ให้เหมาะสมกับงานและการนำไปใช้ เพื่อความปลอดภัยของข้อมูลและประสิทธิภาพของ application "
   ]
  },
  {
   "cell_type": "markdown",
   "metadata": {},
   "source": []
  }
 ],
 "metadata": {
  "colab": {
   "collapsed_sections": [
    "aRQdk8FqVp3O",
    "JjRR8X4KWAhd",
    "oVDo82cnWduJ",
    "XSHmVyh8W-kL",
    "KOrlVM-VXFqH",
    "OUJkkW7dYFhQ",
    "-34U-VibZ4ty",
    "1PAwbcTad1tx",
    "hUPMAlsaes8H",
    "r5sHl1vjgPUA",
    "77866PgkhUgs",
    "WHVVoGOMhX_3",
    "-S6cLuU2hr5N",
    "MBwuYWdwiAmr",
    "OvC9oALqiEAW",
    "pvyYGqzXkuSo",
    "0J1asEKWkwJj",
    "11FegzPqmtC3",
    "aJ4o4fjmmwYa",
    "ITnA67NAn0e3"
   ],
   "name": "013_Python_Dictionaries.ipynb",
   "provenance": []
  },
  "interpreter": {
   "hash": "00034aa5cd6c44013b830fd98c7a620a61a498e75425ca81fcc1166b84a69895"
  },
  "kernelspec": {
   "display_name": "Python 3.8.5 64-bit ('base': conda)",
   "name": "python3"
  },
  "language_info": {
   "codemirror_mode": {
    "name": "ipython",
    "version": 3
   },
   "file_extension": ".py",
   "mimetype": "text/x-python",
   "name": "python",
   "nbconvert_exporter": "python",
   "pygments_lexer": "ipython3",
   "version": "3.8.5"
  }
 },
 "nbformat": 4,
 "nbformat_minor": 2
}
