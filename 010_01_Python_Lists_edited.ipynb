{
 "cells": [
  {
   "cell_type": "markdown",
   "metadata": {
    "id": "2FkExhFIoNY8"
   },
   "source": [
    "#### List"
   ]
  },
  {
   "cell_type": "markdown",
   "metadata": {
    "id": "Pi4B7jk_nZkJ"
   },
   "source": [
    "List ถูกใช้เพื่อเก็บหลายๆค่าในตัวแปรเดียว List เป็น 1 ใน 4 data type แบบ biult-in ใน ไพธอน ที่ใช้ในการเก็บค่า หลายๆค่าในตัวแปรเดียว โดยอีก 3 แบบ คือ Tuple Set และ Dictionary\r\n",
    "\r\n",
    "เราสามารถสร้าง List ด้วย \"วงเล็บสี่เหลี่ยม [ ]\""
   ]
  },
  {
   "cell_type": "code",
   "execution_count": 1,
   "metadata": {
    "colab": {
     "base_uri": "https://localhost:8080/"
    },
    "executionInfo": {
     "elapsed": 347,
     "status": "ok",
     "timestamp": 1630380471218,
     "user": {
      "displayName": "Wachirawit Viriyaphisathan",
      "photoUrl": "https://lh3.googleusercontent.com/a-/AOh14GhpFNFOo2HRjyI36_HMPGhSHMfGYozwoiGMZBoPbA=s64",
      "userId": "03875063837227722804"
     },
     "user_tz": -420
    },
    "id": "LJBxqh5kodY2",
    "outputId": "9f66f948-f31f-4ec4-db7c-10f309759ec0"
   },
   "outputs": [
    {
     "name": "stdout",
     "output_type": "stream",
     "text": [
      "['apple', 'banana', 'cherry']\n"
     ]
    }
   ],
   "source": [
    "thislist = [\"apple\", \"banana\", \"cherry\"]\r\n",
    "print(thislist)"
   ]
  },
  {
   "cell_type": "markdown",
   "metadata": {
    "id": "3WHFf7Pmone1"
   },
   "source": [
    "###### ค่าใน List"
   ]
  },
  {
   "cell_type": "markdown",
   "metadata": {
    "id": "6MGH3hPdt0nL"
   },
   "source": [
    "ค่าใน list นั้น \"มีการกำหนดลำดับไว้\" \"เปลี่ยนแปลงได้\" และ \"สามารถใช้ค่าซ้ำได้\"\r\n",
    "\r\n",
    "ทุกๆค่าของ list มีการการกำหนดลำดับไว้ โดยสามารถระบุเลขตำแหน่งได้ผ่าน index โดยค่าแรกใน list คือ index [0] และเรียงต่อๆไปเรื่อยๆ จนครบทุกค่าใน List\r\n",
    "\r\n",
    "1.   \"มีการกำหนดลำดับไว้\" \r\n",
    "การที่ list มีการกำหนดลำดับไว้ หมายความว่าค่าใน list มีการระบุลำดับ และไม่มีการเปลี่ยนอันดับเลย เมื่อเราเพิ่มค่าใหม่ เข้าไปใน list ค่านั้นจะไปต่อท้ายสุดของ list เสมอ\r\n",
    "\r\n",
    "2.   \"เปลี่ยนแปลงได้\" \r\n",
    "การที่ list เปลี่ยนแปลงได้ หมายความว่าเราสามารถเพิ่ม เปลี่ยน หรือโละค่าใน list ออก หลังจากที่ถูกสร้างขึ้นมาเรียบร้อยแล้วได้\r\n",
    "\r\n",
    "3.   \"สามารถใช้ค่าซ้ำได้\" \r\n",
    "เนื่องจาก list มีการระบุเลขตำแหน่งชัดเจน จึงสามารถมีค่าที่ซ้ำ หรือมีค่าที่เหมือนกันได้\r\n"
   ]
  },
  {
   "cell_type": "code",
   "execution_count": 2,
   "metadata": {
    "id": "FOThjzqkr_aM"
   },
   "outputs": [
    {
     "name": "stdout",
     "output_type": "stream",
     "text": [
      "['apple', 'banana', 'cherry', 'apple', 'cherry']\n"
     ]
    }
   ],
   "source": [
    "thislist = [\"apple\", \"banana\", \"cherry\", \"apple\", \"cherry\"]\r\n",
    "print(thislist)"
   ]
  },
  {
   "cell_type": "markdown",
   "metadata": {
    "id": "19FMz2VSzLrC"
   },
   "source": [
    "###### การหาความยาวของ list"
   ]
  },
  {
   "cell_type": "markdown",
   "metadata": {
    "id": "iVZ3OrlM3GPd"
   },
   "source": [
    "เราสามารถหาได้ว่า มีค่าอยู่ใน List อยู่เท่าไร โดยใช้ ฟังก์ชัน len()"
   ]
  },
  {
   "cell_type": "code",
   "execution_count": 3,
   "metadata": {
    "colab": {
     "base_uri": "https://localhost:8080/"
    },
    "executionInfo": {
     "elapsed": 361,
     "status": "ok",
     "timestamp": 1630380484554,
     "user": {
      "displayName": "Wachirawit Viriyaphisathan",
      "photoUrl": "https://lh3.googleusercontent.com/a-/AOh14GhpFNFOo2HRjyI36_HMPGhSHMfGYozwoiGMZBoPbA=s64",
      "userId": "03875063837227722804"
     },
     "user_tz": -420
    },
    "id": "c14ANZqU6aly",
    "outputId": "fbcb9542-9032-4f84-e487-06e0b4856165"
   },
   "outputs": [
    {
     "name": "stdout",
     "output_type": "stream",
     "text": [
      "3\n"
     ]
    }
   ],
   "source": [
    "thislist = [\"apple\", \"banana\", \"cherry\"]\r\n",
    "print(len(thislist))"
   ]
  },
  {
   "cell_type": "markdown",
   "metadata": {
    "id": "DK12bVb46kE5"
   },
   "source": [
    "###### List Data Types"
   ]
  },
  {
   "cell_type": "markdown",
   "metadata": {
    "id": "k-BZk8r1PB8r"
   },
   "source": [
    "ค่าใน List เป็น data type อะไรก็ได้"
   ]
  },
  {
   "cell_type": "code",
   "execution_count": 4,
   "metadata": {
    "id": "NVct2r_OPEAF"
   },
   "outputs": [],
   "source": [
    "list1 = [\"apple\", \"banana\", \"cherry\"]\r\n",
    "list2 = [1, 5, 7, 9, 3]\r\n",
    "list3 = [True, False, False]"
   ]
  },
  {
   "cell_type": "markdown",
   "metadata": {
    "id": "k7S8KETrPHwx"
   },
   "source": [
    "List สามารถเก็บ data type ที่ต่างกันใน List ได้"
   ]
  },
  {
   "cell_type": "code",
   "execution_count": 5,
   "metadata": {
    "id": "C82A5ftzPIqu"
   },
   "outputs": [],
   "source": [
    "list1 = [\"abc\", 34, True, 40, \"male\"]"
   ]
  },
  {
   "cell_type": "markdown",
   "metadata": {
    "id": "NIhZZyjB6uYk"
   },
   "source": [
    "###### type()"
   ]
  },
  {
   "cell_type": "markdown",
   "metadata": {
    "id": "0ZNDuxQnPfGJ"
   },
   "source": [
    "list มี data type เป็น 'list'"
   ]
  },
  {
   "cell_type": "code",
   "execution_count": 6,
   "metadata": {
    "colab": {
     "base_uri": "https://localhost:8080/"
    },
    "executionInfo": {
     "elapsed": 4,
     "status": "ok",
     "timestamp": 1630380486997,
     "user": {
      "displayName": "Wachirawit Viriyaphisathan",
      "photoUrl": "https://lh3.googleusercontent.com/a-/AOh14GhpFNFOo2HRjyI36_HMPGhSHMfGYozwoiGMZBoPbA=s64",
      "userId": "03875063837227722804"
     },
     "user_tz": -420
    },
    "id": "TkBly3e4Phks",
    "outputId": "bf64585e-88d4-4914-f0a7-f1d92f6c52bb"
   },
   "outputs": [
    {
     "name": "stdout",
     "output_type": "stream",
     "text": [
      "<class 'list'>\n"
     ]
    }
   ],
   "source": [
    "mylist = [\"apple\", \"banana\", \"cherry\"]\r\n",
    "print(type(mylist))"
   ]
  },
  {
   "cell_type": "markdown",
   "metadata": {
    "id": "gR06Hw4i6vPU"
   },
   "source": [
    "###### list Constructor"
   ]
  },
  {
   "cell_type": "markdown",
   "metadata": {
    "id": "jLYnCPbfPmdY"
   },
   "source": [
    "เราสามารถใช้ list Constructor : list() เพื่อสร้าง list object จาก tuple ได้"
   ]
  },
  {
   "cell_type": "code",
   "execution_count": 7,
   "metadata": {
    "colab": {
     "base_uri": "https://localhost:8080/"
    },
    "executionInfo": {
     "elapsed": 373,
     "status": "ok",
     "timestamp": 1630380468007,
     "user": {
      "displayName": "Wachirawit Viriyaphisathan",
      "photoUrl": "https://lh3.googleusercontent.com/a-/AOh14GhpFNFOo2HRjyI36_HMPGhSHMfGYozwoiGMZBoPbA=s64",
      "userId": "03875063837227722804"
     },
     "user_tz": -420
    },
    "id": "IB9LuXGTPp9r",
    "outputId": "a818d207-b0c1-4a88-9bf7-88d335693dc6"
   },
   "outputs": [
    {
     "name": "stdout",
     "output_type": "stream",
     "text": [
      "['apple', 'banana', 'cherry']\n"
     ]
    }
   ],
   "source": [
    "thislist = list((\"apple\", \"banana\", \"cherry\")) # สังเกตวงเล็บคู่\r\n",
    "print(thislist)"
   ]
  },
  {
   "cell_type": "markdown",
   "metadata": {
    "id": "CevM3m-36wRe"
   },
   "source": [
    "###### Python Collections"
   ]
  },
  {
   "cell_type": "markdown",
   "metadata": {
    "id": "FCffry63PtzY"
   },
   "source": [
    "ใน Python มี Collections ของข้อมูล 4 ประเภท\r\n",
    "\r\n",
    "* `List` เป็น collection ที่มีการกำหนดลำดับของข้อมูลไว้ เปลี่ยนแปลงค่าได้ และสามารถมีสมาชิกที่ซ้ำกันได้\r\n",
    "* `Tuple` เป็น collection ที่ไม่มีการกำหนดลำดับของข้อมูลไว้ เปลี่ยนแปลงค่าไม่ได้ และสามารถมีสมาชิกที่ซ้ำกันได้\r\n",
    "* `set` เป็น collection ที่ไม่มีการกำหนดลำดับของข้อมูลไว้ ไม่มีการกำหนด index และไม่สามารถมีสมาชิกที่ซ้ำกันได้\r\n",
    "* `dictionary` เป็น collection ที่มีการกำหนดลำดับของข้อมูลไว้ เปลี่ยนแปลงค่าได้ และไม่สามารถมีสมาชิกที่ซ้ำกันได้\r\n",
    "\r\n",
    "ควรเลือกชนิดของ collection ให้เหมาะสมกับงานและการนำไปใช้ เพื่อความปลอดภัยของข้อมูลและประสิทธิภาพของ application "
   ]
  }
 ],
 "metadata": {
  "colab": {
   "collapsed_sections": [],
   "name": "010_Python_Lists.ipynb",
   "provenance": [
    {
     "file_id": "1sVn9bVEnWLbtTPu4idRaMz-ZBXY1fG62",
     "timestamp": 1630340809849
    },
    {
     "file_id": "1YtwUjCetdLnR50UNYGnR1IAtH0W9ooO1",
     "timestamp": 1630337697384
    },
    {
     "file_id": "17XEX7PlOXBuY9UKKtSy1bB2_DdHBOg1P",
     "timestamp": 1630337226185
    }
   ]
  },
  "interpreter": {
   "hash": "00034aa5cd6c44013b830fd98c7a620a61a498e75425ca81fcc1166b84a69895"
  },
  "kernelspec": {
   "display_name": "Python 3.8.5 64-bit ('base': conda)",
   "name": "python3"
  },
  "language_info": {
   "codemirror_mode": {
    "name": "ipython",
    "version": 3
   },
   "file_extension": ".py",
   "mimetype": "text/x-python",
   "name": "python",
   "nbconvert_exporter": "python",
   "pygments_lexer": "ipython3",
   "version": "3.8.5"
  }
 },
 "nbformat": 4,
 "nbformat_minor": 2
}
