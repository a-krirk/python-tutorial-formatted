{
 "cells": [
  {
   "cell_type": "markdown",
   "metadata": {
    "id": "hJrXHyVfE8r3"
   },
   "source": [
    "#### Inheritance"
   ]
  },
  {
   "cell_type": "markdown",
   "metadata": {
    "id": "ctHIEPNKGsqa"
   },
   "source": [
    "Inheritance คือการอนุญาตให้ส่งต่อ property และ method ทั้งหมดของ class หนึ่งให้กับ class อื่น ๆ\r\n",
    "\r\n",
    "Parent class คือ class ที่ทำหน้าที่ส่งต่อ property เรียกว่า base class\r\n",
    "\r\n",
    "Child class คือ class ที่รับ property จาก class อื่นๆ เรียกว่า derived class\r\n"
   ]
  },
  {
   "cell_type": "markdown",
   "metadata": {
    "id": "8CBqF9_EGtwA"
   },
   "source": [
    "###### การสร้าง Parent Class\r\n",
    "\r\n",
    "class ใด ๆ ก็สามารถที่จะเป็น parent class ได้ ไวยากรณ์ที่ใช้ในการสร้างจึงเหมือนกับการสร้าง class ทั่วๆไป\r\n"
   ]
  },
  {
   "cell_type": "markdown",
   "metadata": {
    "id": "yWvyfwTtHBDw"
   },
   "source": [
    "###### ตัวอย่าง\r\n",
    "\r\n",
    "สร้าง class ชื่อว่า Food ซึ่งประกอบด้วยตัวแปร menu, price และ ฟังก์ชั่น printfood"
   ]
  },
  {
   "cell_type": "code",
   "execution_count": 3,
   "metadata": {
    "colab": {
     "base_uri": "https://localhost:8080/"
    },
    "id": "AJwYIvKvE6mk",
    "outputId": "6f10055c-5f5e-4d20-c856-5dfa86ca3799"
   },
   "outputs": [
    {
     "name": "stdout",
     "output_type": "stream",
     "text": [
      "Sushi is Japanese food\n"
     ]
    }
   ],
   "source": [
    "class Food:\r\n",
    "  def __init__(self, menu, nationality):\r\n",
    "    self.menufood = menu\r\n",
    "    self.nationalityfood = nationality\r\n",
    "\r\n",
    "  def printfood(self):\r\n",
    "    print(self.menufood, 'is', self.nationalityfood, 'food')\r\n",
    "\r\n",
    "x = Food(\"Sushi\", \"Japanese\")\r\n",
    "x.printfood()"
   ]
  },
  {
   "cell_type": "markdown",
   "metadata": {
    "id": "kf-M-QekHEFX"
   },
   "source": [
    "###### การสร้าง Child Class\r\n",
    "\r\n",
    "การสร้าง class เพื่อรับคุณสมบัติจาก class อื่นๆ เราจะกำหนด parameter ของ child class เป็นค่าจาก parent class:\r\n",
    "\r\n"
   ]
  },
  {
   "cell_type": "markdown",
   "metadata": {
    "id": "vN4hX7l8HFmO"
   },
   "source": [
    "###### ตัวอย่าง\r\n",
    "\r\n",
    "สร้าง class ชื่อว่า Meal และรับคุณสมบัติกับวิธีการจาก class Food:\r\n",
    "\r\n"
   ]
  },
  {
   "cell_type": "code",
   "execution_count": 4,
   "metadata": {
    "id": "HFlJW54iHmrZ"
   },
   "outputs": [],
   "source": [
    "class Meal(Food):\r\n",
    "  pass"
   ]
  },
  {
   "cell_type": "markdown",
   "metadata": {
    "id": "kTOtY_urHqIC"
   },
   "source": [
    "ตอนนี้ class Meal มีคุณสมบัติและวิธีเหมือนกับ class Food \n",
    "\n",
    "\n"
   ]
  },
  {
   "cell_type": "markdown",
   "metadata": {
    "id": "77BrTdB6HGfi"
   },
   "source": [
    "###### ตัวอย่าง\r\n",
    "\r\n",
    "ใช้ class Meal ในการสร้าง Object จากนั้นเรียกใช้ method printfood :"
   ]
  },
  {
   "cell_type": "code",
   "execution_count": 5,
   "metadata": {
    "colab": {
     "base_uri": "https://localhost:8080/"
    },
    "id": "EbX2gwQxHx7L",
    "outputId": "4c86cddc-c443-4acf-9fdc-e69d7aae973a"
   },
   "outputs": [
    {
     "name": "stdout",
     "output_type": "stream",
     "text": [
      "Sushi is Japanese food\n"
     ]
    }
   ],
   "source": [
    "x = Meal(\"Sushi\", \"Japanese\")\r\n",
    "x.printfood()"
   ]
  },
  {
   "cell_type": "markdown",
   "metadata": {
    "id": "dkfRO4XfHHUC"
   },
   "source": [
    "###### เพิ่มฟังก์ชั่น __init__()\r\n",
    "\r\n",
    "ตอนนี้เราได้สร้าง child class เพื่อถ่ายทอดคุณสมบัติและวิธีการจาก parent class\r\n",
    "\r\n",
    "เราสามารถเพิ่มฟังก์ชั่น __init__() ให้กับ child class (แทนที่ keyword pass) เพื่อเพิ่ม property ให้กับ child class ได้\r\n"
   ]
  },
  {
   "cell_type": "markdown",
   "metadata": {
    "id": "KqcJ9e6KHIKf"
   },
   "source": [
    "###### ตัวอย่าง\r\n",
    "\r\n",
    "เพิ่มฟังก์ชั่น __init__() ใน Meal class :\r\n"
   ]
  },
  {
   "cell_type": "code",
   "execution_count": 9,
   "metadata": {
    "colab": {
     "base_uri": "https://localhost:8080/",
     "height": 130
    },
    "id": "P7AF6oWnH9BI",
    "outputId": "f1b5e29a-68d0-4697-cc7e-acad24078478"
   },
   "outputs": [],
   "source": [
    "class Meal(Food):\r\n",
    "  def __init__(self, menu, nationality):\r\n",
    "    # เพิ่ม property เฉพาะตัวของ child class ได้ที่นี่\r\n",
    "    pass"
   ]
  },
  {
   "cell_type": "markdown",
   "metadata": {
    "id": "DygqgSsCICZw"
   },
   "source": [
    "เมื่อเราเพิ่มฟังก์ชั่น __init__() ให้ child class แล้ว ตัว child class จะไม่รับ property ต่าง ๆ จากฟังชั่น __init__() ของ parent class มาใช้อีก"
   ]
  },
  {
   "cell_type": "markdown",
   "metadata": {
    "id": "IyRwi6uOIEk3"
   },
   "source": [
    "ถ้ายังอยากให้ child class รับ property จากฟังก์ชั่น __init__() ใน parent class ก็สามารถทำได้โดยการเรียกฟังก์ชั่น __init__() ผ่าน parent class\r\n",
    "\r\n",
    "\r\n",
    "\r\n"
   ]
  },
  {
   "cell_type": "markdown",
   "metadata": {
    "id": "_TEoGxbPHI_w"
   },
   "source": [
    "###### ตัวอย่าง\r\n"
   ]
  },
  {
   "cell_type": "code",
   "execution_count": 10,
   "metadata": {
    "id": "rQ5RKqq0IHbq"
   },
   "outputs": [],
   "source": [
    "class Meal(Food):\r\n",
    "  def __init__(self, menu, nationality):\r\n",
    "    Food.__init__(self, menu, nationality)"
   ]
  },
  {
   "cell_type": "markdown",
   "metadata": {
    "id": "uXzRmAy9IJCu"
   },
   "source": [
    "การทำ child class ในลักษณะนี้จะทำให้ child class ของเราได้รับ property จาก parent class และยังสามารถเพิ่ม functionality ใหม่ ๆ ในฟังก์ชั่น __init__ ได้\r\n",
    "\r\n",
    "\r\n"
   ]
  },
  {
   "cell_type": "markdown",
   "metadata": {
    "id": "PzHOG6voHJqx"
   },
   "source": [
    "###### การใช้ฟังก์ชั่น super()\r\n",
    "\r\n",
    "Python ยังมีฟังก์ชั่น super() ที่จะส่งต่อคุณสมบัติและวิธีการทั้งหมดของ class parent ไปยัง class child :\r\n",
    "\r\n",
    "\r\n"
   ]
  },
  {
   "cell_type": "code",
   "execution_count": null,
   "metadata": {
    "id": "WN6J6jvTIQnP"
   },
   "outputs": [],
   "source": [
    "class Meal(Food):\r\n",
    "  def __init__(self, menu, nationality):\r\n",
    "    super().__init__(menu, nationality)"
   ]
  },
  {
   "cell_type": "markdown",
   "metadata": {
    "id": "IlEejXZyIbgW"
   },
   "source": [
    "การใช้ฟังก์ชั่น super() ช่วยเราไม่จำเป็นที่จะต้องใช้ชื่อของ parent element เนื่องจาก มันจะส่งต่อ property และ method จาก parent class มาโดยอัตโนมัติ\r\n",
    "\r\n",
    "\r\n"
   ]
  },
  {
   "cell_type": "markdown",
   "metadata": {
    "id": "KtlzSOQTHKQZ"
   },
   "source": [
    "###### การเพิ่ม property\r\n",
    "\r\n",
    "การเพิ่ม property ชื่อ price ให้กับ Meal class"
   ]
  },
  {
   "cell_type": "code",
   "execution_count": null,
   "metadata": {
    "id": "M_BS1fizIrui"
   },
   "outputs": [],
   "source": [
    "class Meal(Person):\r\n",
    "  def __init__(self, menu, nationality):\r\n",
    "    super().__init__(menu, nationality)\r\n",
    "    self.price = 200"
   ]
  },
  {
   "cell_type": "markdown",
   "metadata": {
    "id": "YMy7qGD8ItZ1"
   },
   "source": [
    "เราสามารถเขียน Meal class ในอีกลักษณะหนึ่งได้ โดยสามารถเปลี่ยนให้ pricemenu เป็น varible ที่ส่งเข้าไปใน Meal class แล้วกำหนด property price ให้รับค่าจาก pricemenu\r\n"
   ]
  },
  {
   "cell_type": "markdown",
   "metadata": {
    "id": "tvtkddMqIUiH"
   },
   "source": [
    "###### ตัวอย่าง\r\n",
    "\r\n",
    "เพิ่ม parameter pricemenu และกำหนดค่า price ตาม pricemenu เมื่อมีการสร้าง object\r\n"
   ]
  },
  {
   "cell_type": "code",
   "execution_count": 11,
   "metadata": {
    "id": "0SobmUAEI2OL"
   },
   "outputs": [],
   "source": [
    "class Meal(Food):\r\n",
    "  def __init__(self, menu, nationality, pricemenu):\r\n",
    "    super().__init__(menu, nationality)\r\n",
    "    self.price = pricemenu\r\n",
    "\r\n",
    "x = Meal(\"Sushi\", \"Japanese\", 200)"
   ]
  },
  {
   "cell_type": "markdown",
   "metadata": {
    "id": "3kJKie0iIVz0"
   },
   "source": [
    "###### การเพิ่ม Methods\r\n"
   ]
  },
  {
   "cell_type": "markdown",
   "metadata": {
    "id": "UEIrJoMlIWfh"
   },
   "source": [
    "###### ตัวอย่าง\r\n",
    "\r\n",
    "เพิ่ม method ชื่อว่า restaurant ใน Meal class :"
   ]
  },
  {
   "cell_type": "code",
   "execution_count": 16,
   "metadata": {
    "id": "xknK-DQwI-Jj"
   },
   "outputs": [
    {
     "name": "stdout",
     "output_type": "stream",
     "text": [
      "เมนู Sushi จากหมวดอาหาร Japanese 1 จาน ราคา 200 บาท\n"
     ]
    }
   ],
   "source": [
    "class Meal(Food):\r\n",
    "  def __init__(self, menu, nationality, pricemenu):\r\n",
    "    super().__init__(menu, nationality)\r\n",
    "    self.price = pricemenu\r\n",
    "\r\n",
    "  def menu_detail(self):\r\n",
    "    print(\"เมนู\", self.menufood, 'จากหมวดอาหาร', self.nationalityfood, \"1 จาน ราคา\", self.price, 'บาท')\r\n",
    "\r\n",
    "x = Meal(\"Sushi\", \"Japanese\", 200)\r\n",
    "x.menu_detail()"
   ]
  },
  {
   "cell_type": "code",
   "execution_count": null,
   "metadata": {},
   "outputs": [],
   "source": []
  }
 ],
 "metadata": {
  "colab": {
   "name": "021_Python_Inheritance.ipynb",
   "provenance": []
  },
  "interpreter": {
   "hash": "00034aa5cd6c44013b830fd98c7a620a61a498e75425ca81fcc1166b84a69895"
  },
  "kernelspec": {
   "display_name": "Python 3.8.5 64-bit ('base': conda)",
   "name": "python3"
  },
  "language_info": {
   "codemirror_mode": {
    "name": "ipython",
    "version": 3
   },
   "file_extension": ".py",
   "mimetype": "text/x-python",
   "name": "python",
   "nbconvert_exporter": "python",
   "pygments_lexer": "ipython3",
   "version": "3.8.5"
  }
 },
 "nbformat": 4,
 "nbformat_minor": 2
}
