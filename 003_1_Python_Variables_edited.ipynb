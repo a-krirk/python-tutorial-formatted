{
 "cells": [
  {
   "cell_type": "markdown",
   "metadata": {
    "id": "vXWSiLoDnSE2"
   },
   "source": [
    "#### ตัวแปรในภาษา Python"
   ]
  },
  {
   "cell_type": "markdown",
   "metadata": {
    "id": "vf0sUu4TnbNB"
   },
   "source": [
    "###### ตัวแปร (Variables)\r\n",
    "\r\n",
    "ตัวแปรมีไว้สำหรับจัดเก็บข้อมูลหรือพักข้อมูลเอาไว้ชั่วคราวในหน่วยความจำ\r\n",
    "\r\n",
    "เราจะต้องตั้งชื่อให้ตัวแปร เพื่อใช้ชื่อตัวแปรอ้างอิงไปยังตำแหน่งข้อมูลในหน่วยความจำนั้น ๆ"
   ]
  },
  {
   "cell_type": "markdown",
   "metadata": {
    "id": "pJWUYBFpngIj"
   },
   "source": [
    "###### การสร้างตัวแปร\r\n",
    "ในภาษา Python ไม่มีคำสั่งประกาศตัวแปร โดยตัวแปรของภาษา Python จะถูกสร้างขึ้นขณะที่มีการกำหนดค่าให้ตัวแปรเลย\r\n"
   ]
  },
  {
   "cell_type": "markdown",
   "metadata": {
    "id": "ns-QiJdUntru"
   },
   "source": [
    "###### ตัวอย่าง"
   ]
  },
  {
   "cell_type": "code",
   "execution_count": 1,
   "metadata": {
    "colab": {
     "base_uri": "https://localhost:8080/"
    },
    "executionInfo": {
     "elapsed": 9,
     "status": "ok",
     "timestamp": 1630395930763,
     "user": {
      "displayName": "Tonmint",
      "photoUrl": "https://lh3.googleusercontent.com/a-/AOh14Gjr3k68CaqFA0BaizQnV_n9o-gWTpCJ-wfQEBHUiw=s64",
      "userId": "08467319039626675515"
     },
     "user_tz": -420
    },
    "id": "nVl1cnWpnzKo",
    "outputId": "2551eac6-59bb-40e1-fe17-a56a17062c01"
   },
   "outputs": [
    {
     "name": "stdout",
     "output_type": "stream",
     "text": [
      "4\n",
      "ดำ\n"
     ]
    }
   ],
   "source": [
    "x = 4\r\n",
    "y = \"ดำ\"\r\n",
    "print(x)\r\n",
    "print(y)"
   ]
  },
  {
   "cell_type": "markdown",
   "metadata": {
    "id": "kgBM44eOn2yk"
   },
   "source": [
    "ตอนกำหนดค่าให้ตัวแปรนั้นก็ไม่จำเป็นต้องระบุชนิด (type) ของตัวแปร และเรายังสามารถเปลี่ยนชนิดของตัวแปรในภายหลังได้อีกด้วย"
   ]
  },
  {
   "cell_type": "code",
   "execution_count": 2,
   "metadata": {
    "colab": {
     "base_uri": "https://localhost:8080/"
    },
    "executionInfo": {
     "elapsed": 490,
     "status": "ok",
     "timestamp": 1630396813721,
     "user": {
      "displayName": "Tonmint",
      "photoUrl": "https://lh3.googleusercontent.com/a-/AOh14Gjr3k68CaqFA0BaizQnV_n9o-gWTpCJ-wfQEBHUiw=s64",
      "userId": "08467319039626675515"
     },
     "user_tz": -420
    },
    "id": "UNm8WkmaoBcW",
    "outputId": "a98f867d-dc79-4288-ac64-20b1ea542081"
   },
   "outputs": [
    {
     "name": "stdout",
     "output_type": "stream",
     "text": [
      "แดง\n"
     ]
    }
   ],
   "source": [
    "x = 4       # ตอนนี้ตัวแปร x มีชนิดของตัวแปรเป็น int\r\n",
    "x = \"แดง\"   # พอกำหนดค่าใหม่ให้ x ตอนนี้ x จะเปลี่ยนชนิดตัวแปรเป็น str ไปโดยอัตโนมัติ\r\n",
    "print(x)"
   ]
  },
  {
   "cell_type": "markdown",
   "metadata": {
    "id": "W55wtU35oL1y"
   },
   "source": [
    "###### การเปลี่ยนชนิดของตัวแปร (Casting)\r\n",
    "ถ้าต้องการเปลี่ยนชนิดของตัวแปรให้เป็นชนิดที่ต้องการ สามารถทำได้โดยการ casting โดยใช้ built-in function ของ Python ได้เลย"
   ]
  },
  {
   "cell_type": "markdown",
   "metadata": {
    "id": "sVvHhJaSoVgC"
   },
   "source": [
    "###### ตัวอย่าง"
   ]
  },
  {
   "cell_type": "code",
   "execution_count": 3,
   "metadata": {
    "id": "yHXszvRmojJJ"
   },
   "outputs": [],
   "source": [
    "x = str(4)    # x จะกลายเป็น str โดยมีค่าเท่ากับ '4'\r\n",
    "y = int(4)    # y จะกลายเป็น int โดยมีค่าเท่ากับ 4\r\n",
    "z = float(4)  # z จะกลายเป็น float โดยมีค่า 4.0\r\n"
   ]
  },
  {
   "cell_type": "markdown",
   "metadata": {},
   "source": [
    "###### ชนิดของตัวแปร\r\n",
    "\r\n",
    "สามารถรู้ว่าตัวแปรของเราเป็นตัวแปรชนิดใดได้โดยใช้ฟังก์ชัน `type()`"
   ]
  },
  {
   "cell_type": "markdown",
   "metadata": {
    "id": "b7EmLoTiou6O"
   },
   "source": [
    "###### ตัวอย่าง"
   ]
  },
  {
   "cell_type": "code",
   "execution_count": 4,
   "metadata": {
    "colab": {
     "base_uri": "https://localhost:8080/"
    },
    "executionInfo": {
     "elapsed": 485,
     "status": "ok",
     "timestamp": 1630399632485,
     "user": {
      "displayName": "Tonmint",
      "photoUrl": "https://lh3.googleusercontent.com/a-/AOh14Gjr3k68CaqFA0BaizQnV_n9o-gWTpCJ-wfQEBHUiw=s64",
      "userId": "08467319039626675515"
     },
     "user_tz": -420
    },
    "id": "pmm3DyVhoykQ",
    "outputId": "9e309e6e-2c65-4459-af9b-d5e81f6d3b1e"
   },
   "outputs": [
    {
     "name": "stdout",
     "output_type": "stream",
     "text": [
      "<class 'int'>\n",
      "<class 'str'>\n"
     ]
    }
   ],
   "source": [
    "x = 4\r\n",
    "y = \"แดง\"\r\n",
    "print(type(x))\r\n",
    "print(type(y))"
   ]
  },
  {
   "cell_type": "markdown",
   "metadata": {
    "id": "FH7mvorbqcNq"
   },
   "source": [
    "###### Single or Double Quotes?\r\n",
    "\r\n",
    "การประกาศตัวแปร str สามารถใช้ได้ทั้ง single quotes  ( ' ) หรือ double quotes  ( \" )"
   ]
  },
  {
   "cell_type": "markdown",
   "metadata": {
    "id": "5Yn6xMqIqnyG"
   },
   "source": [
    "###### ตัวอย่าง"
   ]
  },
  {
   "cell_type": "code",
   "execution_count": 5,
   "metadata": {
    "id": "_K9zFhOHqvmv"
   },
   "outputs": [],
   "source": [
    "x = \"แดง\"\r\n",
    "# โค้ดบรรทัดบนจะให้ผลลัพธ์แบบเดียวกับโค้ดบรรทัดล่างนี้\r\n",
    "x = 'แดง'"
   ]
  },
  {
   "cell_type": "markdown",
   "metadata": {
    "id": "S-rbU3V1rUNx"
   },
   "source": [
    "###### ตัวพิมพ์ใหญ่-พิมพ์เล็ก มีผลต่อชื่อของตัวแปร (Case-Sensitive)\r\n",
    "\r\n",
    "ตัวแปรที่เขียนด้วยตัวพิมพ์ใหญ่ จะเป็นตัวแปรคนละตัวกับตัวแปรที่เขียนด้วยตัวพิมพ์เล็ก แม้จะใช้ตัวอักษรเดียวกัน เช่น a กับ A ถือเป็นตัวแปรคนละตัวกัน"
   ]
  },
  {
   "cell_type": "markdown",
   "metadata": {
    "id": "j7JrwrSwrw22"
   },
   "source": [
    "###### ตัวอย่าง\r\n",
    "ตัวแปร 2 ตัวในตัวอย่างนี้ตั้งชื่อด้วยตัวอักษร a เหมือนกัน แต่พิมพ์ด้วยตัวพิมพ์ใหญ่ A กับตัวพิมพ์เล็ก a \r\n",
    "\r\n",
    "ภาษา Python จะจัดว่าตัวแปรสองตัวนี้เป็นตัวแปรคนละตัวกัน"
   ]
  },
  {
   "cell_type": "code",
   "execution_count": 6,
   "metadata": {
    "id": "DI354NbVrxwQ"
   },
   "outputs": [],
   "source": [
    "a = 4\r\n",
    "A = \"ดำ\"\r\n",
    "# การประกาศตัวแปร A จะไม่เป็นการ overwrite ตัวแปร a เพราะภาษาไพทอนจะถือว่าเป็นตัวแปรคนละตัวกัน\r\n"
   ]
  }
 ],
 "metadata": {
  "colab": {
   "collapsed_sections": [],
   "name": "Copy of Python Variables.ipynb",
   "provenance": [
    {
     "file_id": "166nCD5iTBB5ppBD0rD5bWYSjF7F6JgMt",
     "timestamp": 1631175391464
    }
   ]
  },
  "interpreter": {
   "hash": "8a42e8581704d812f174276cadf47b91a8b3cbce976324507688b69a62b18c0b"
  },
  "kernelspec": {
   "display_name": "Python 3.8.2 32-bit",
   "name": "python3"
  },
  "language_info": {
   "codemirror_mode": {
    "name": "ipython",
    "version": 3
   },
   "file_extension": ".py",
   "mimetype": "text/x-python",
   "name": "python",
   "nbconvert_exporter": "python",
   "pygments_lexer": "ipython3",
   "version": "3.8.2"
  }
 },
 "nbformat": 4,
 "nbformat_minor": 2
}
