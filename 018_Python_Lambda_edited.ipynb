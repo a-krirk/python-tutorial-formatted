{
 "cells": [
  {
   "cell_type": "markdown",
   "metadata": {
    "id": "XS325Ele94Tb"
   },
   "source": [
    "#### Lambda function"
   ]
  },
  {
   "cell_type": "markdown",
   "metadata": {
    "id": "HoMm7T97-XP8"
   },
   "source": [
    "`lambda` function เป็น anonymous function คือ function ที่ไม่ต้องมีชื่อกำกับ"
   ]
  },
  {
   "cell_type": "markdown",
   "metadata": {
    "id": "DACKb5gK9-t7"
   },
   "source": [
    "###### โครงสร้าง (syntax) ของ lambda function\r\n",
    "คือ `lambda arguments : expression`\r\n",
    "\r\n",
    "โดย lambda function จะทำงานและจะ return ผลลัพธ์จาก `expression` กลับมาเสมอ "
   ]
  },
  {
   "cell_type": "markdown",
   "metadata": {
    "id": "HmrzbnHC-AXj"
   },
   "source": [
    "###### ตัวอย่าง\r\n",
    "เพิ่มเลข 20 ไปใน argument `a` และแสดงผลลัพธ์"
   ]
  },
  {
   "cell_type": "code",
   "execution_count": null,
   "metadata": {
    "colab": {
     "base_uri": "https://localhost:8080/"
    },
    "id": "VFU1Cv1J-ifb",
    "outputId": "65d0daf1-2a7e-4777-affa-6e965219aed8"
   },
   "outputs": [
    {
     "name": "stdout",
     "output_type": "stream",
     "text": [
      "25\n"
     ]
    }
   ],
   "source": [
    "x = lambda a : a + 20\r\n",
    "print(x(5))"
   ]
  },
  {
   "cell_type": "markdown",
   "metadata": {
    "id": "v3uOxSSx-n9h"
   },
   "source": [
    "Lambda function จะมีจำนวน argument(s) กี่ตัวก็ได้ ขึ้นอยู่ที่เรากำหนด"
   ]
  },
  {
   "cell_type": "markdown",
   "metadata": {
    "id": "TE0smLH_-Ayw"
   },
   "source": [
    "###### ตัวอย่าง\r\n",
    "แสดงผลคูณของ argument `a` และ argument `b` "
   ]
  },
  {
   "cell_type": "code",
   "execution_count": null,
   "metadata": {
    "colab": {
     "base_uri": "https://localhost:8080/"
    },
    "id": "fmIU9cfa9w0b",
    "outputId": "1bd98cd7-4962-43f6-a7ad-44fb76b9bc10"
   },
   "outputs": [
    {
     "name": "stdout",
     "output_type": "stream",
     "text": [
      "30\n"
     ]
    }
   ],
   "source": [
    "x = lambda a, b : a * b\r\n",
    "print(x(5, 6))"
   ]
  },
  {
   "cell_type": "markdown",
   "metadata": {
    "id": "SbICFX7Q-Dpv"
   },
   "source": [
    "###### ตัวอย่าง\r\n",
    "แสดงผลรวมของ argument `a`, `b`, และ `c`"
   ]
  },
  {
   "cell_type": "code",
   "execution_count": null,
   "metadata": {
    "colab": {
     "base_uri": "https://localhost:8080/"
    },
    "id": "0f-2YasV-FWL",
    "outputId": "a677cc15-2005-43da-a7d0-7ee86ee8799f"
   },
   "outputs": [
    {
     "name": "stdout",
     "output_type": "stream",
     "text": [
      "13\n"
     ]
    }
   ],
   "source": [
    "x = lambda a, b, c : a + b + c\r\n",
    "print(x(5, 6, 2))"
   ]
  },
  {
   "cell_type": "markdown",
   "metadata": {
    "id": "cafFZnbM-F0o"
   },
   "source": [
    "###### ทำไมควรใช้ Lambda Functions?\r\n",
    "\r\n",
    "เมื่อเราใช้ Lambda function ภายใน function อีกตัวหนึ่ง จะสามารถประยุกต์ใช้ทำ function ได้หลากหลาย"
   ]
  },
  {
   "cell_type": "markdown",
   "metadata": {},
   "source": [
    "###### ตัวอย่าง\r\n",
    "\r\n",
    "ถ้าต้องการทำ function ที่สามารถคุณ argument เข้ากับตัวเลขที่ยังไม่ระบุ\r\n",
    "\r\n",
    "เราอาจประกาศ function myfunc(n) ดังโค้ดข้างล่าง"
   ]
  },
  {
   "cell_type": "code",
   "execution_count": null,
   "metadata": {
    "id": "K43-6c7F_A-R"
   },
   "outputs": [],
   "source": [
    "def myfunc(n):\r\n",
    "  return lambda a : a * n"
   ]
  },
  {
   "cell_type": "markdown",
   "metadata": {
    "id": "nO9lF76U_GT4"
   },
   "source": [
    "เราสามารถใช้ myfunc เพื่อหาผลลัพธ์ของการคูณ a กับเลข 2 โดยสร้าง object mydoubler = myfunc(2)\r\n",
    "\r\n",
    "แล้วหาค่าของ 5*2 ได้โดยใช้ mydoubler(5)"
   ]
  },
  {
   "cell_type": "code",
   "execution_count": null,
   "metadata": {
    "colab": {
     "base_uri": "https://localhost:8080/"
    },
    "id": "xT6fqnnS_I8L",
    "outputId": "a0f83c18-1e12-44ae-b88c-47c0a2e663e3"
   },
   "outputs": [
    {
     "name": "stdout",
     "output_type": "stream",
     "text": [
      "10\n"
     ]
    }
   ],
   "source": [
    "def myfunc(n):\r\n",
    "  return lambda a : a * n\r\n",
    "\r\n",
    "mydoubler = myfunc(2)\r\n",
    "\r\n",
    "print(mydoubler(5))"
   ]
  },
  {
   "cell_type": "markdown",
   "metadata": {
    "id": "Myt1k4HU_Lnq"
   },
   "source": [
    "หรือพลิกแพลงให้หาค่าของ 5*3 ได้โดยสร้าง object mytripler = myfunc(3)\r\n",
    "\r\n",
    "แล้วหาค่าของ 5*3 โดยใช้ mytripler(5)\r\n",
    "\r\n"
   ]
  },
  {
   "cell_type": "code",
   "execution_count": null,
   "metadata": {
    "colab": {
     "base_uri": "https://localhost:8080/"
    },
    "id": "qVj2SeN7_OmB",
    "outputId": "c93acd04-74b1-4f92-a5f1-fb4d830f2d27"
   },
   "outputs": [
    {
     "name": "stdout",
     "output_type": "stream",
     "text": [
      "15\n"
     ]
    }
   ],
   "source": [
    "def myfunc(n):\r\n",
    "  return lambda a : a * n\r\n",
    "\r\n",
    "mytripler = myfunc(3)\r\n",
    "\r\n",
    "print(mytripler(5))"
   ]
  },
  {
   "cell_type": "markdown",
   "metadata": {
    "id": "-tyVqluG_SFK"
   },
   "source": [
    "ในทำนองเดียวกัน เราสามารถหาค่า 5*2 และ 5*2 ได้ โดยประกาศเพียงแค่ function เดียว\r\n",
    "\r\n"
   ]
  },
  {
   "cell_type": "code",
   "execution_count": null,
   "metadata": {
    "colab": {
     "base_uri": "https://localhost:8080/"
    },
    "id": "W84TDnNT_U_t",
    "outputId": "90c1f950-b42f-4cb7-b5b0-5b040c723d19"
   },
   "outputs": [
    {
     "name": "stdout",
     "output_type": "stream",
     "text": [
      "22\n",
      "33\n"
     ]
    }
   ],
   "source": [
    "def myfunc(n):\r\n",
    "  return lambda a : a * n\r\n",
    "\r\n",
    "mydoubler = myfunc(2)\r\n",
    "mytripler = myfunc(3)\r\n",
    "\r\n",
    "print(mydoubler(5))\r\n",
    "print(mytripler(5))"
   ]
  }
 ],
 "metadata": {
  "colab": {
   "name": "สำเนาของ 018_Python_Lambda.ipynb",
   "provenance": []
  },
  "kernelspec": {
   "display_name": "Python 3",
   "name": "python3"
  },
  "language_info": {
   "name": "python"
  }
 },
 "nbformat": 4,
 "nbformat_minor": 2
}
