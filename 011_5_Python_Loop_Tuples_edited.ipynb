{
 "cells": [
  {
   "cell_type": "markdown",
   "metadata": {
    "id": "bqjvsFJrYtM2"
   },
   "source": [
    "#### การ Loop ผ่าน Tuples"
   ]
  },
  {
   "cell_type": "markdown",
   "metadata": {
    "id": "xU-uGMgPYtM7"
   },
   "source": [
    "เราสามารถ loop ผ่าน tuple โดยการใช้ for loop\r\n"
   ]
  },
  {
   "cell_type": "markdown",
   "metadata": {
    "id": "oPTgr5oTYtM8"
   },
   "source": [
    "###### ตัวอย่าง\r\n",
    "loop และ print ค่าตัวแปรใน tuple \r\n"
   ]
  },
  {
   "cell_type": "code",
   "execution_count": 1,
   "metadata": {
    "id": "MLLWnis9YtM8",
    "outputId": "b1f575e7-bfa7-4cbe-817e-7d554f4eed67"
   },
   "outputs": [
    {
     "name": "stdout",
     "output_type": "stream",
     "text": [
      "Sushi\n",
      "Burger\n",
      "Salad\n"
     ]
    }
   ],
   "source": [
    "foodtuple = (\"Sushi\", \"Burger\", \"Salad\")\r\n",
    "for x in foodtuple:\r\n",
    "  print(x)"
   ]
  },
  {
   "cell_type": "markdown",
   "metadata": {
    "id": "M9H0i3imYtM-"
   },
   "source": [
    "สามารถเรียนรู้เพิ่มเติมเกี่ยวกับ for loop ได้ที่บทเนื้อหา python for loop ของเรา\n"
   ]
  },
  {
   "cell_type": "markdown",
   "metadata": {
    "id": "nN5LYOkUYtM_"
   },
   "source": [
    "###### วนซ้ำเลข Index\r\n",
    "\r\n",
    "เราสามารถ loop tuple โดยการอ้างอิงถึงเลข Index เราจะใช้คำสั่ง range() และ len() ในการสร้างการวนซ้ำ\r\n"
   ]
  },
  {
   "cell_type": "markdown",
   "metadata": {
    "id": "ZIrqW3ZzYtM_"
   },
   "source": [
    "###### ตัวอย่าง\r\n",
    "แสดงค่าทั้งหมดโดยใช้การอ้างอิงถึงเลข index "
   ]
  },
  {
   "cell_type": "code",
   "execution_count": 2,
   "metadata": {
    "id": "CDGfzoqeYtNA",
    "outputId": "0ed07b01-d833-43e2-8252-86dcfef961f0"
   },
   "outputs": [
    {
     "name": "stdout",
     "output_type": "stream",
     "text": [
      "Sushi\n",
      "Burger\n",
      "Salad\n"
     ]
    }
   ],
   "source": [
    "foodtuple = (\"Sushi\", \"Burger\", \"Salad\")\r\n",
    "for i in range(len(foodtuple)):\r\n",
    "  print(foodtuple[i])"
   ]
  },
  {
   "cell_type": "markdown",
   "metadata": {
    "id": "p7YJDay9YtNA"
   },
   "source": [
    "###### การใช้ While loop\r\n",
    "\r\n",
    "เราสามารถวนซ้ำ list ได้โดยการใช้ while loop ใช้คำสั่ง len() ในการหาความยาวของ tuple จากนั้นเราจะเริ่มจาก 0 และวนซ้ำไปเรื่อยๆโดยการอ้างอิงเลข index อย่าลืมที่จะเพิ่มเลข index ขึ้นรอบละ 1\r\n",
    "\r\n"
   ]
  },
  {
   "cell_type": "markdown",
   "metadata": {
    "id": "pqORaCYjYtNB"
   },
   "source": [
    "###### ตัวอย่าง\r\n",
    "\r\n",
    "แสดงค่าทั้งหมด โดยใช้ while loop"
   ]
  },
  {
   "cell_type": "code",
   "execution_count": 3,
   "metadata": {
    "id": "kJA27-SiYtNB",
    "outputId": "92af4854-8527-4578-dd2f-d3a45f34c543"
   },
   "outputs": [
    {
     "name": "stdout",
     "output_type": "stream",
     "text": [
      "Sushi\n",
      "Burger\n",
      "Salad\n"
     ]
    }
   ],
   "source": [
    "foodtuple = (\"Sushi\", \"Burger\", \"Salad\")\r\n",
    "i = 0\r\n",
    "while i < len(foodtuple):\r\n",
    "  print(foodtuple[i])\r\n",
    "  i = i + 1"
   ]
  }
 ],
 "metadata": {
  "colab": {
   "name": "011_5_Python_Loop_Tuples.ipynb",
   "provenance": []
  },
  "interpreter": {
   "hash": "8a42e8581704d812f174276cadf47b91a8b3cbce976324507688b69a62b18c0b"
  },
  "kernelspec": {
   "display_name": "Python 3.8.2 32-bit",
   "name": "python3"
  },
  "language_info": {
   "codemirror_mode": {
    "name": "ipython",
    "version": 3
   },
   "file_extension": ".py",
   "mimetype": "text/x-python",
   "name": "python",
   "nbconvert_exporter": "python",
   "pygments_lexer": "ipython3",
   "version": "3.8.2"
  }
 },
 "nbformat": 4,
 "nbformat_minor": 2
}
