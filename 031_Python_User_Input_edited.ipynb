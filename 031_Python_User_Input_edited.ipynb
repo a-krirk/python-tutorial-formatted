{
 "cells": [
  {
   "cell_type": "markdown",
   "metadata": {
    "id": "GmncBaf2uPYb"
   },
   "source": [
    "#### User Input"
   ]
  },
  {
   "cell_type": "markdown",
   "metadata": {
    "id": "hZaOqVAGumDK"
   },
   "source": [
    "สามารถให้ผู้ใช้งานป้อน input เข้ามาใน program ได้โดยใช้ method `input()`\r\n",
    "\r\n",
    "ตัวอย่างด้านล่าง เป็นการให้ผู้ใช้กรอก username และเมื่อผู้ใช้ป้อน username เข้าไปก็จะได้ผลลัพธ์ออกมา"
   ]
  },
  {
   "cell_type": "markdown",
   "metadata": {
    "id": "AXAR8nUqu62V"
   },
   "source": [
    "###### ตัวอย่าง"
   ]
  },
  {
   "cell_type": "code",
   "execution_count": 1,
   "metadata": {
    "colab": {
     "base_uri": "https://localhost:8080/"
    },
    "id": "qZzyy1Sit8B1",
    "outputId": "5aa76dee-31c3-4185-d3b9-b01d6909c44b"
   },
   "outputs": [
    {
     "name": "stdout",
     "output_type": "stream",
     "text": [
      "Username is: botnoi\n"
     ]
    }
   ],
   "source": [
    "username = input(\"Enter username:\")\r\n",
    "print(\"Username is: \" + username)"
   ]
  },
  {
   "cell_type": "markdown",
   "metadata": {
    "id": "T2bZL-sFvUF2"
   },
   "source": [
    "Python จะหยุดประมวลผลเมื่อรันโค้ดมาจนถึง function `input()` และจะรันต่อเมื่อผู้ใช้กรอก input เข้ามาแล้ว"
   ]
  }
 ],
 "metadata": {
  "colab": {
   "collapsed_sections": [],
   "name": "031_Python_User_input.ipynb",
   "provenance": []
  },
  "interpreter": {
   "hash": "00034aa5cd6c44013b830fd98c7a620a61a498e75425ca81fcc1166b84a69895"
  },
  "kernelspec": {
   "display_name": "Python 3.8.5 64-bit ('base': conda)",
   "name": "python3"
  },
  "language_info": {
   "codemirror_mode": {
    "name": "ipython",
    "version": 3
   },
   "file_extension": ".py",
   "mimetype": "text/x-python",
   "name": "python",
   "nbconvert_exporter": "python",
   "pygments_lexer": "ipython3",
   "version": "3.8.5"
  }
 },
 "nbformat": 4,
 "nbformat_minor": 2
}
