{
 "cells": [
  {
   "cell_type": "markdown",
   "metadata": {
    "id": "jvWY9Zk8JqBt"
   },
   "source": [
    "#### Unpack Tuples"
   ]
  },
  {
   "cell_type": "markdown",
   "metadata": {
    "id": "TO2yckyJJqBx"
   },
   "source": [
    "เมื่อเราสร้าง tuple เป็นปกติที่เราจะมีการกำหนดค่าให้ ซึ่งเราจะเรียกว่า \"packing\"\r\n"
   ]
  },
  {
   "cell_type": "markdown",
   "metadata": {
    "id": "QBoGrO27JqBz"
   },
   "source": [
    "###### ตัวอย่าง\n",
    "Packing a tuple:"
   ]
  },
  {
   "cell_type": "code",
   "execution_count": 1,
   "metadata": {
    "id": "yHNUqqq_JqB0"
   },
   "outputs": [],
   "source": [
    "food = (\"Sushi\", \"Burger\", \"Papaya salad\")"
   ]
  },
  {
   "cell_type": "markdown",
   "metadata": {
    "id": "E6c9yh9kJqB1"
   },
   "source": [
    "ใน python เราจะอนุญาตให้สามารถกระจายค่าแล้วกลับไปเป็นตัวแปรได้ เรียกว่า  \"unpacking\"\r\n"
   ]
  },
  {
   "cell_type": "markdown",
   "metadata": {
    "id": "T90ybdjZJqB2"
   },
   "source": [
    "###### ตัวอย่าง\r\n",
    "Unpacking a tuple\r\n",
    "\r\n",
    "Note : จำนวนของตัวแปรจำเป็นที่จะต้องเท่ากับจำนวนของค่าที่มีใน tuple มิฉะนั้นเราจำเป็นที่จะต้องใช้เครื่องหมาย * เพื่อรวบรวมค่าที่เหลือเข้าไว้ใน list\r\n"
   ]
  },
  {
   "cell_type": "code",
   "execution_count": 3,
   "metadata": {
    "id": "jgaR8lM7JqB2",
    "outputId": "13a77632-a527-4d09-f039-bab004f6ccb7"
   },
   "outputs": [
    {
     "name": "stdout",
     "output_type": "stream",
     "text": [
      "Sushi\n",
      "Burger\n",
      "Papaya salad\n"
     ]
    }
   ],
   "source": [
    "food = (\"Sushi\", \"Burger\", \"Papaya salad\")\r\n",
    "\r\n",
    "(Japan, Amarica, Thai) = food\r\n",
    "\r\n",
    "print(Japan)\r\n",
    "print(Amarica)\r\n",
    "print(Thai)"
   ]
  },
  {
   "cell_type": "markdown",
   "metadata": {
    "id": "62j67a4bJqB4"
   },
   "source": [
    "การใช้เครื่องหมาย *\r\n",
    "ถ้าจำนวนของตัวแปรมีน้อยกว่าจำนวนของค่าใน tuple เราสามารถใช้เครื่องหมาย * ใส่ไว้ด้านหน้าชื่อตัวแปร แล้วค่าที่เหลือจะถูกจัดเก็บอยู่ในตัวแปรนั้นทั้งหมด (กรณีที่ใช้*กับตัวแปรสุดท้าย)"
   ]
  },
  {
   "cell_type": "markdown",
   "metadata": {
    "id": "WQsLXi3gJqB4"
   },
   "source": [
    "###### ตัวอย่าง\r\n",
    "กำหนดให้ค่าที่เหลือเก็บอยู่ใน list ที่ชื่อ \"Thai\""
   ]
  },
  {
   "cell_type": "code",
   "execution_count": 6,
   "metadata": {
    "id": "81cGy8xjJqB5",
    "outputId": "db5204e6-2044-4ae2-c48e-7892b926bf12"
   },
   "outputs": [
    {
     "name": "stdout",
     "output_type": "stream",
     "text": [
      "Sushi\n",
      "Burger\n",
      "['Papaya salad', 'Pizza', 'Noodle', 'Curry', 'Soup']\n"
     ]
    }
   ],
   "source": [
    "food = (\"Sushi\", \"Burger\", \"Papaya salad\", \"Pizza\", \"Noodle\", \"Curry\", \"Soup\")\r\n",
    "\r\n",
    "(Japan, Amarica, *Thai) = food\r\n",
    "\r\n",
    "print(Japan)\r\n",
    "print(Amarica)\r\n",
    "print(Thai)"
   ]
  },
  {
   "cell_type": "markdown",
   "metadata": {
    "id": "e9Jtuz_oJqB6"
   },
   "source": [
    "ถ้าหากมีการใช้เครื่องหมาย * กับตัวแปรอื่นก่อนตัวแปรสุดท้าย python จะกำหนดค่าที่เหลือให้กับตัวแปรนั้น แต่จะเหลือค่าสุดท้ายไว้สำหรับตัวแปรสุดท้าย\r\n"
   ]
  },
  {
   "cell_type": "markdown",
   "metadata": {
    "id": "g0rhN4pMJqB6"
   },
   "source": [
    "###### ตัวอย่าง\r\n",
    "เพิ่ม list ของค่าให้กับตัวแปรชื่อ \"Thai\" \r\n"
   ]
  },
  {
   "cell_type": "code",
   "execution_count": 7,
   "metadata": {
    "id": "bfAurYAtJqB6",
    "outputId": "542118c0-7c31-4b09-d76b-ee358c855bd5"
   },
   "outputs": [
    {
     "name": "stdout",
     "output_type": "stream",
     "text": [
      "Sushi\n",
      "Burger\n",
      "['Papaya salad', 'Tom Yum Goong', 'Pad Thai']\n",
      "Noodle\n"
     ]
    }
   ],
   "source": [
    "food = (\"Sushi\", \"Burger\", \"Papaya salad\", \"Tom Yum Goong\", \"Pad Thai\", \"Noodle\")\r\n",
    "\r\n",
    "(Japan, Amarica, *Thai, China) = food\r\n",
    "\r\n",
    "print(Japan)\r\n",
    "print(Amarica)\r\n",
    "print(Thai)\r\n",
    "print(China)"
   ]
  }
 ],
 "metadata": {
  "colab": {
   "name": "011_4_Python_Unpack_Tuples.ipynb",
   "provenance": []
  },
  "interpreter": {
   "hash": "8a42e8581704d812f174276cadf47b91a8b3cbce976324507688b69a62b18c0b"
  },
  "kernelspec": {
   "display_name": "Python 3.8.2 32-bit",
   "name": "python3"
  },
  "language_info": {
   "codemirror_mode": {
    "name": "ipython",
    "version": 3
   },
   "file_extension": ".py",
   "mimetype": "text/x-python",
   "name": "python",
   "nbconvert_exporter": "python",
   "pygments_lexer": "ipython3",
   "version": "3.8.2"
  }
 },
 "nbformat": 4,
 "nbformat_minor": 2
}
