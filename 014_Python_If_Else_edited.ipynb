{
 "cells": [
  {
   "cell_type": "markdown",
   "metadata": {
    "id": "HIQzKSNxom9t"
   },
   "source": [
    "###### If ... Else"
   ]
  },
  {
   "cell_type": "markdown",
   "metadata": {
    "id": "H0paEVjyor3u"
   },
   "source": [
    "Python รองรับเงื่อนไขทางตรรกศาสตร์ แบบเดียวกับตรรกศาสตร์ในวิชาคณิตศาสตร์:\r\n",
    "\r\n",
    "\r\n",
    "* เท่ากับ: `a == b`\r\n",
    "* น้อยกว่า: `a < b`\r\n",
    "* ไม่เท่ากับ: `a != b`\r\n",
    "* น้อยกว่าหรือเท่ากับ: `a <= b`\r\n",
    "* มากกว่า: `a > b`\r\n",
    "* มากกว่าหรือเท่ากับ: `a >= b`\r\n",
    "เงื่อนไขเหล่านี้สามารถใช้ได้หลายวิธี โดยทั่วไปจะใช้ใน \"คำสั่ง if\" และลูป\r\n",
    "\r\n",
    "\"คำสั่ง if\" เขียนโดยใช้คีย์เวิร์ด `if`\r\n"
   ]
  },
  {
   "cell_type": "markdown",
   "metadata": {
    "id": "WaXT8i6brBW2"
   },
   "source": [
    "###### ตัวอย่าง\r\n",
    "\r\n",
    "คำสั่ง If "
   ]
  },
  {
   "cell_type": "code",
   "execution_count": 6,
   "metadata": {
    "colab": {
     "base_uri": "https://localhost:8080/"
    },
    "id": "F-epscAeomBg",
    "outputId": "7f90a92d-97e0-4001-b36b-a663f7b888f4"
   },
   "outputs": [
    {
     "name": "stdout",
     "output_type": "stream",
     "text": [
      "b มากกว่า a\n"
     ]
    }
   ],
   "source": [
    "a = 1\r\n",
    "b = 100\r\n",
    "if b > a:\r\n",
    "  print(\"b มากกว่า a\")"
   ]
  },
  {
   "cell_type": "markdown",
   "metadata": {
    "id": "dg_o-srsrN3X"
   },
   "source": [
    "ในตัวอย่างนี้เราใช้ตัวแปรสองตัวคือ a และ b ซึ่งใช้เป็นส่วนหนึ่งของคำสั่ง if เพื่อทดสอบว่า b มากกว่า a เนื่องจาก a คือ 1 และ b คือ 100 เรารู้ว่า 100 มากกว่า 1 ดังนั้นเราจึงพิมพ์ไปที่หน้าจอว่า \"b มากกว่า a\""
   ]
  },
  {
   "cell_type": "markdown",
   "metadata": {
    "id": "HGkN4n9lrfN2"
   },
   "source": [
    "###### Elif \r\n",
    "\r\n",
    "คีย์เวิร์ด `elif` เป็นวิธีของ Python ในการทำตามเงื่อนไขว่า \"หากเงื่อนไขก่อนหน้านี้ไม่เป็นความจริง ให้ลองใช้เงื่อนไขนี้\""
   ]
  },
  {
   "cell_type": "markdown",
   "metadata": {
    "id": "EMMRpI_7rp_Y"
   },
   "source": [
    "###### ตัวอย่าง"
   ]
  },
  {
   "cell_type": "code",
   "execution_count": 7,
   "metadata": {
    "colab": {
     "base_uri": "https://localhost:8080/"
    },
    "id": "QiGXAj__rtlU",
    "outputId": "d994d53e-e66b-4df2-d6cf-cbada40fbd90"
   },
   "outputs": [
    {
     "name": "stdout",
     "output_type": "stream",
     "text": [
      "a เท่ากับ b\n"
     ]
    }
   ],
   "source": [
    "a = 3\r\n",
    "b = 3\r\n",
    "if b > a:\r\n",
    "  print(\"b มากกว่า a\")\r\n",
    "elif a == b:\r\n",
    "  print(\"a เท่ากับ b\")"
   ]
  },
  {
   "cell_type": "markdown",
   "metadata": {
    "id": "lCNPVmEgr57p"
   },
   "source": [
    "ในตัวอย่างนี้ **a** เท่ากับ **b** ดังนั้นเงื่อนไขแรกไม่เป็นความจริง แต่เงื่อนไข **elif** เป็นจริง ดังนั้นเราจึงพิมพ์ไปที่หน้าจอว่า \"a เท่ากับ b \""
   ]
  },
  {
   "cell_type": "markdown",
   "metadata": {
    "id": "ioyXEwxZsBz6"
   },
   "source": [
    "###### Else \r\n",
    "\r\n",
    "คีย์เวิร์ด `else` จะทำตามเงื่อนไขอื่นทั้งหมด ที่ไม่เป็นไปตามเงื่อนไขก่อนหน้านี้\r\n",
    "\r\n"
   ]
  },
  {
   "cell_type": "markdown",
   "metadata": {
    "id": "HdvdYWOcsIBL"
   },
   "source": [
    "###### ตัวอย่าง"
   ]
  },
  {
   "cell_type": "code",
   "execution_count": 8,
   "metadata": {
    "colab": {
     "base_uri": "https://localhost:8080/"
    },
    "id": "rhVUwgiwsKHu",
    "outputId": "5c07bba3-b68d-4031-f67e-eb2103d60ea9"
   },
   "outputs": [
    {
     "name": "stdout",
     "output_type": "stream",
     "text": [
      "a มากกว่า b\n"
     ]
    }
   ],
   "source": [
    "a = 200\r\n",
    "b = 33\r\n",
    "if b > a:\r\n",
    "  print(\"b มากกว่า a\")\r\n",
    "elif a == b:\r\n",
    "  print(\"a เท่ากับ b\")\r\n",
    "else:\r\n",
    "  print(\"a มากกว่า b\")"
   ]
  },
  {
   "cell_type": "markdown",
   "metadata": {
    "id": "VM3w9b89sMeW"
   },
   "source": [
    "ในตัวอย่างนี้ a มากกว่า b ดังนั้นเงื่อนไขแรกไม่เป็นความจริง เงื่อนไข elif ก็ไม่เป็นจริงด้วย ดังนั้นเราจึงไปที่เงื่อนไข else และพิมพ์ไปที่หน้าจอว่า \"a มากกว่า b\"\n",
    "\n",
    "คุณสามารถใช้ **else** ได้ โดยไม่ต้องใช้**elif**\n"
   ]
  },
  {
   "cell_type": "markdown",
   "metadata": {
    "id": "v27Q9L52s4Gf"
   },
   "source": [
    "###### ตัวอย่าง\n"
   ]
  },
  {
   "cell_type": "code",
   "execution_count": 9,
   "metadata": {
    "colab": {
     "base_uri": "https://localhost:8080/"
    },
    "id": "nrXCRzE2s9MT",
    "outputId": "848b13da-591e-428b-8962-3115cfe1cc54"
   },
   "outputs": [
    {
     "name": "stdout",
     "output_type": "stream",
     "text": [
      "b ไม่ได้มีค่ามากกว่า a\n"
     ]
    }
   ],
   "source": [
    "a = 70\r\n",
    "b = 20\r\n",
    "if b > a:\r\n",
    "  print(\"b มากกว่า a\")\r\n",
    "else:\r\n",
    "  print(\"b ไม่ได้มีค่ามากกว่า a\")"
   ]
  },
  {
   "cell_type": "markdown",
   "metadata": {
    "id": "33uxmL3vtCyS"
   },
   "source": [
    "###### การย่อคำสั่ง if\n",
    "คำสั่ง if 1 บรรทัด\n",
    "\n",
    "\n"
   ]
  },
  {
   "cell_type": "code",
   "execution_count": 10,
   "metadata": {
    "colab": {
     "base_uri": "https://localhost:8080/"
    },
    "id": "koRCNttbteon",
    "outputId": "c2b4b59a-a4aa-4d3c-944e-02f71807a7df"
   },
   "outputs": [
    {
     "name": "stdout",
     "output_type": "stream",
     "text": [
      "a มีค่ามากกว่า b\n"
     ]
    }
   ],
   "source": [
    "if a > b: print(\"a มีค่ามากกว่า b\")"
   ]
  },
  {
   "cell_type": "markdown",
   "metadata": {
    "id": "bo54GTdWtDoH"
   },
   "source": [
    "###### การย่อคำสั่ง If ... Else \n",
    "หากคุณมีเพียงหนึ่งคำสั่งที่จะดำเนินการ หนึ่งคำสั่งสำหรับ if และอีกหนึ่งคำสั่งสำหรับคำสั่งอื่น คุณสามารถรวมทั้งหมดไว้ในบรรทัดเดียวกัน:\n",
    "\n"
   ]
  },
  {
   "cell_type": "markdown",
   "metadata": {
    "id": "CnuEGH0MtEbY"
   },
   "source": [
    "###### ตัวอย่าง\n",
    "คำสั่ง if else 1 บรรทัด:\n",
    "\n"
   ]
  },
  {
   "cell_type": "code",
   "execution_count": 11,
   "metadata": {
    "colab": {
     "base_uri": "https://localhost:8080/"
    },
    "id": "dCJrfeuMtpgq",
    "outputId": "c9b185b2-d3de-452d-b367-04c84a010e6d"
   },
   "outputs": [
    {
     "name": "stdout",
     "output_type": "stream",
     "text": [
      "B\n"
     ]
    }
   ],
   "source": [
    "a = 1\r\n",
    "b = 111\r\n",
    "print(\"A\") if a > b else print(\"B\")"
   ]
  },
  {
   "cell_type": "markdown",
   "metadata": {
    "id": "QscAkQwjuJ_O"
   },
   "source": [
    "\n",
    "คุณยังสามารถมีคำสั่ง else หลายรายการในบรรทัดเดียวกันได้:\n",
    "\n"
   ]
  },
  {
   "cell_type": "markdown",
   "metadata": {
    "id": "jevwBPzBtR0-"
   },
   "source": [
    "###### ตัวอย่าง\n",
    "คำสั่ง if else หนึ่งบรรทัด โดยมี 3 เงื่อนไข:\n",
    "\n"
   ]
  },
  {
   "cell_type": "code",
   "execution_count": 12,
   "metadata": {
    "colab": {
     "base_uri": "https://localhost:8080/"
    },
    "id": "-1xgqJ1nuQno",
    "outputId": "b2b17166-a6ce-47a6-fec3-aa38004da09c"
   },
   "outputs": [
    {
     "name": "stdout",
     "output_type": "stream",
     "text": [
      "=\n"
     ]
    }
   ],
   "source": [
    "a = 5\r\n",
    "b = 5\r\n",
    "print(\"A\") if a > b else print(\"=\") if a == b else print(\"B\")"
   ]
  },
  {
   "cell_type": "markdown",
   "metadata": {
    "id": "arQXN-oNtSwz"
   },
   "source": [
    "And\n",
    "คีย์เวิร์ด and เป็นโอเปอเรเตอร์เชิงตรรกะ และใช้เพื่อรวมคำสั่งแบบมีเงื่อนไข:\n",
    "\n"
   ]
  },
  {
   "cell_type": "markdown",
   "metadata": {
    "id": "x_OwQLmhtT5Q"
   },
   "source": [
    "###### ตัวอย่าง\r\n",
    "\r\n",
    "ทดสอบว่า a มากกว่า b และถ้า c มากกว่า a\r\n",
    "\r\n"
   ]
  },
  {
   "cell_type": "code",
   "execution_count": 13,
   "metadata": {
    "colab": {
     "base_uri": "https://localhost:8080/"
    },
    "id": "F-WO7BQouwYW",
    "outputId": "2ee669b6-5e46-4d71-943a-434f53392826"
   },
   "outputs": [],
   "source": [
    "a = 255\r\n",
    "b = 355\r\n",
    "c = 555\r\n",
    "if a > b and c > a:\r\n",
    "  print(\"เงื่อนไขทั้งสองเป็นจริง\")\r\n"
   ]
  },
  {
   "cell_type": "markdown",
   "metadata": {
    "id": "_0mHmNLytVKm"
   },
   "source": [
    "###### Or\n",
    "คีย์เวิร์ด **or** เป็นโอเปอเรเตอร์เชิงตรรกะ และใช้เพื่อรวมคำสั่งแบบมีเงื่อนไข:\n",
    "\n"
   ]
  },
  {
   "cell_type": "markdown",
   "metadata": {
    "id": "LBP3dLpbtWDL"
   },
   "source": [
    "###### ตัวอย่าง\n",
    "ทดสอบว่า **a** มากกว่า **b** หรือถ้า **a** มากกว่า **c**:\n",
    "\n",
    "\n"
   ]
  },
  {
   "cell_type": "code",
   "execution_count": 14,
   "metadata": {
    "colab": {
     "base_uri": "https://localhost:8080/"
    },
    "id": "KXH0MG6lvCG9",
    "outputId": "66d0084d-3d4c-4fe1-f51e-e3ea256fa26f"
   },
   "outputs": [],
   "source": [
    "a = 111\r\n",
    "b = 222\r\n",
    "c = 333\r\n",
    "if a > b or a > c:\r\n",
    "  print(\"มีอย่างน้อยหนึ่งเงื่อนไขเป็นจริง\")"
   ]
  },
  {
   "cell_type": "markdown",
   "metadata": {
    "id": "zf6Z0rgou0XW"
   },
   "source": [
    "###### Nested If \n",
    "คุณสามารถมีคำสั่ง if ภายใน if คำสั่ง ซึ่งเรียกว่า nested if "
   ]
  },
  {
   "cell_type": "markdown",
   "metadata": {
    "id": "9B1Y1Y7AvFOA"
   },
   "source": [
    "###### ตัวอย่าง\n"
   ]
  },
  {
   "cell_type": "code",
   "execution_count": 15,
   "metadata": {
    "colab": {
     "base_uri": "https://localhost:8080/"
    },
    "id": "bjq-2u_0vVDx",
    "outputId": "0fe2e162-9b74-453e-bbd5-49cf6199c95f"
   },
   "outputs": [
    {
     "name": "stdout",
     "output_type": "stream",
     "text": [
      "x มีค่ามากกว่า 17\n",
      "และมากกว่า 19\n"
     ]
    }
   ],
   "source": [
    "x = 21\r\n",
    "\r\n",
    "if x > 17:\r\n",
    "  print(\"x มีค่ามากกว่า 17\")\r\n",
    "  if x > 19:\r\n",
    "    print(\"และมากกว่า 19\")\r\n",
    "  else:\r\n",
    "    print(\"แต่มีค่าไม่เกิน 19\")"
   ]
  },
  {
   "cell_type": "markdown",
   "metadata": {
    "id": "v_h_mPchvF6x"
   },
   "source": [
    "###### คำสั่ง pass \n",
    "\n",
    "หากข้อความสั่งไม่สามารถว่างเปล่าได้ แต่ถ้าคุณมีเหตุผลบางอย่างที่มีคำสั่ง if ที่ไม่มีเนื้อหา ให้ใส่คำสั่ง pass เพื่อหลีกเลี่ยงข้อผิดพลาด\n"
   ]
  },
  {
   "cell_type": "markdown",
   "metadata": {
    "id": "a_rNeUqbvGjW"
   },
   "source": [
    "###### ตัวอย่าง\n"
   ]
  },
  {
   "cell_type": "code",
   "execution_count": 16,
   "metadata": {
    "id": "Lh84gwC7vfCO"
   },
   "outputs": [],
   "source": [
    "a = 333\r\n",
    "b = 111\r\n",
    "\r\n",
    "if b > a:\r\n",
    "  pass"
   ]
  }
 ],
 "metadata": {
  "colab": {
   "collapsed_sections": [],
   "name": "014_Python_If_Else.ipynb",
   "provenance": []
  },
  "interpreter": {
   "hash": "00034aa5cd6c44013b830fd98c7a620a61a498e75425ca81fcc1166b84a69895"
  },
  "kernelspec": {
   "display_name": "Python 3.8.5 64-bit ('base': conda)",
   "name": "python3"
  },
  "language_info": {
   "codemirror_mode": {
    "name": "ipython",
    "version": 3
   },
   "file_extension": ".py",
   "mimetype": "text/x-python",
   "name": "python",
   "nbconvert_exporter": "python",
   "pygments_lexer": "ipython3",
   "version": "3.8.5"
  }
 },
 "nbformat": 4,
 "nbformat_minor": 2
}
