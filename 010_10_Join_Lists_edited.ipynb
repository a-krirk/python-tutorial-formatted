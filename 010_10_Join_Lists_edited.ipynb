{
 "cells": [
  {
   "cell_type": "markdown",
   "metadata": {
    "id": "NK7uWeDRGvJJ"
   },
   "source": [
    "#### การ Join Lists"
   ]
  },
  {
   "cell_type": "markdown",
   "metadata": {
    "id": "AQdtZlfVGvJi"
   },
   "source": [
    "มีหลายวิธีที่สามารถรวม item ของ list 2 อันไว้รวมกันได้ โดยวิธีที่ง่ายที่สุดคือการใช้เครื่องหมาย `+`"
   ]
  },
  {
   "cell_type": "markdown",
   "metadata": {
    "id": "vAd42NBqGvJm"
   },
   "source": [
    "###### ตัวอย่าง\r\n",
    "รวม list 2 อันไว้ด้วยกัน"
   ]
  },
  {
   "cell_type": "code",
   "execution_count": null,
   "metadata": {
    "id": "RgX2QPiKGvJp",
    "outputId": "56eb1071-05d7-49ba-bb89-8719b80e6e90"
   },
   "outputs": [
    {
     "name": "stdout",
     "output_type": "stream",
     "text": [
      "['a', 'b', 'c', 1, 2, 3]\n"
     ]
    }
   ],
   "source": [
    "list1 = [\"a\", \"b\", \"c\"]\r\n",
    "list2 = [1, 2, 3]\r\n",
    "\r\n",
    "list3 = list1 + list2\r\n",
    "print(list3)"
   ]
  },
  {
   "cell_type": "markdown",
   "metadata": {
    "id": "c6-YjynHGvJz"
   },
   "source": [
    "มีอีกวิธีที่รวม item ของ list ทั้งสองอันได้ โดยการ append item ทั้งหมดจาก list2 มายัง list1 ทีละ item "
   ]
  },
  {
   "cell_type": "markdown",
   "metadata": {
    "id": "32EC2aB6GvJ2"
   },
   "source": [
    "###### ตัวอย่าง\r\n",
    "Append list2 ไปใน list1"
   ]
  },
  {
   "cell_type": "code",
   "execution_count": null,
   "metadata": {
    "id": "vYjtz8EWGvJ3",
    "outputId": "05236440-156a-4f09-f95b-170d5bbb1432"
   },
   "outputs": [
    {
     "name": "stdout",
     "output_type": "stream",
     "text": [
      "['a', 'b', 'c', 1, 2, 3]\n"
     ]
    }
   ],
   "source": [
    "list1 = [\"a\", \"b\" , \"c\"]\r\n",
    "list2 = [1, 2, 3]\r\n",
    "\r\n",
    "for x in list2:\r\n",
    "  list1.append(x)\r\n",
    "\r\n",
    "print(list1)"
   ]
  },
  {
   "cell_type": "markdown",
   "metadata": {
    "id": "oAFhocorGvJ5"
   },
   "source": [
    "สามารถใช้ method extend() ได้ โดยจะเป็นการเขียน item ทุกตัวใน list ต่อท้ายเข้าไป"
   ]
  },
  {
   "cell_type": "markdown",
   "metadata": {
    "id": "MjMM1CI4GvJ8"
   },
   "source": [
    "###### ตัวอย่าง\r\n",
    "ใช้ method extend() เพิ่ม item ของ list2 ไปใน list1"
   ]
  },
  {
   "cell_type": "code",
   "execution_count": null,
   "metadata": {
    "id": "EEZcw52rGvJ-",
    "outputId": "891b4961-b7c8-467e-a11e-92b6145e86bb"
   },
   "outputs": [
    {
     "name": "stdout",
     "output_type": "stream",
     "text": [
      "['a', 'b', 'c', 1, 2, 3]\n"
     ]
    }
   ],
   "source": [
    "list1 = [\"a\", \"b\" , \"c\"]\r\n",
    "list2 = [1, 2, 3]\r\n",
    "\r\n",
    "list1.extend(list2)\r\n",
    "print(list1)"
   ]
  }
 ],
 "metadata": {
  "colab": {
   "collapsed_sections": [],
   "name": "010_10_Join_Lists.ipynb",
   "provenance": []
  },
  "interpreter": {
   "hash": "00034aa5cd6c44013b830fd98c7a620a61a498e75425ca81fcc1166b84a69895"
  },
  "kernelspec": {
   "display_name": "Python 3.8.5 64-bit ('base': conda)",
   "name": "python3"
  },
  "language_info": {
   "codemirror_mode": {
    "name": "ipython",
    "version": 3
   },
   "file_extension": ".py",
   "mimetype": "text/x-python",
   "name": "python",
   "nbconvert_exporter": "python",
   "pygments_lexer": "ipython3",
   "version": "3.8.5"
  }
 },
 "nbformat": 4,
 "nbformat_minor": 2
}
