{
 "cells": [
  {
   "cell_type": "markdown",
   "metadata": {
    "id": "KSmMzBtcS3Fa"
   },
   "source": [
    "#### Casting"
   ]
  },
  {
   "cell_type": "markdown",
   "metadata": {
    "id": "kEqHuoswTEgB"
   },
   "source": [
    "###### การกำหนดชนิดของตัวแปร\r\n",
    "ในกรณีที่ต้องการกำหนดชนิดของตัวแปรแบบเฉพาะเจาะจง ก็สามารถทำได้โดยการ casting \r\n",
    "\r\n",
    "ภาษา Python เป็น object-oriented language จะมีการกำหนดชนิดของข้อมูลตาม classes ทำได้โดยใช้ constructor functions\r\n",
    "\r\n",
    "*   int() - เป็นการ construct ให้เป็นข้อมูลชนิด integer จากเดิมที่เป็นข้อมูลชนิด integer, float (จะมีปัดเศษทศนิยมออก) หรือ string \r\n",
    "*   float() - เป็นการ construct ให้เป็นข้อมูลชนิด float จากเดิมที่เป็นข้อมูลชนิด integer, float หรือ string \r\n",
    "*   str() - เป็นการ construct ให้เป็นข้อมูลชนิด string จากเดิมที่เป็นข้อมูลชนิด strings, integer และ float\r\n",
    "\r\n",
    "\r\n"
   ]
  },
  {
   "cell_type": "markdown",
   "metadata": {
    "id": "Y8cwQm0LTRcB"
   },
   "source": [
    "###### ตัวอย่าง\r\n",
    "Integers"
   ]
  },
  {
   "cell_type": "code",
   "execution_count": 1,
   "metadata": {
    "colab": {
     "base_uri": "https://localhost:8080/"
    },
    "id": "ct1nKJRuTTjq",
    "outputId": "35765b93-986f-4442-9ffb-5df0744ca683"
   },
   "outputs": [
    {
     "name": "stdout",
     "output_type": "stream",
     "text": [
      "2 3 5\n"
     ]
    }
   ],
   "source": [
    "x = int(2)   # x จะมีค่าเป็น 2\r\n",
    "y = int(3.8) # y จะมีค่าเป็น 3\r\n",
    "z = int(\"5\") # z จะมีค่าเป็น 5\r\n",
    "print(x,y,z)"
   ]
  },
  {
   "cell_type": "markdown",
   "metadata": {
    "id": "vsQkJX8_TWJm"
   },
   "source": [
    "###### ตัวอย่าง\r\n",
    "Floats"
   ]
  },
  {
   "cell_type": "code",
   "execution_count": 2,
   "metadata": {
    "colab": {
     "base_uri": "https://localhost:8080/"
    },
    "id": "a9-6Is_LTXUN",
    "outputId": "bfb6edb2-2989-41b4-8695-e4620e617392"
   },
   "outputs": [
    {
     "name": "stdout",
     "output_type": "stream",
     "text": [
      "5.0 2.4 6.0 4.8\n"
     ]
    }
   ],
   "source": [
    "x = float(5)     # x จะมีค่าเป็น 5.0\r\n",
    "y = float(2.4)   # y จะมีค่าเป็น 2.4\r\n",
    "z = float(\"6\")   # z จะมีค่าเป็น 6.0\r\n",
    "w = float(\"4.8\") # w จะมีค่าเป็น 4.8\r\n",
    "print(x,y,z,w)"
   ]
  },
  {
   "cell_type": "markdown",
   "metadata": {
    "id": "uZpxWzOcTZN1"
   },
   "source": [
    "###### ตัวอย่าง\r\n",
    "Strings"
   ]
  },
  {
   "cell_type": "code",
   "execution_count": 3,
   "metadata": {
    "colab": {
     "base_uri": "https://localhost:8080/"
    },
    "id": "HV7q4nT8TbHa",
    "outputId": "5070a76a-5e2e-4e26-9d20-02c9fd5c8f71"
   },
   "outputs": [
    {
     "name": "stdout",
     "output_type": "stream",
     "text": [
      "f7 3 5.0\n"
     ]
    }
   ],
   "source": [
    "x = str(\"f7\") # x จะมีค่าเป็น 'f7'\r\n",
    "y = str(3)    # y จะมีค่าเป็น '3'\r\n",
    "z = str(5.0)  # z จะมีค่าเป็น '5.0'\r\n",
    "print(x,y,z)"
   ]
  }
 ],
 "metadata": {
  "colab": {
   "name": "6.Python Casting.ipynb",
   "provenance": []
  },
  "interpreter": {
   "hash": "8a42e8581704d812f174276cadf47b91a8b3cbce976324507688b69a62b18c0b"
  },
  "kernelspec": {
   "display_name": "Python 3.8.2 32-bit",
   "name": "python3"
  },
  "language_info": {
   "codemirror_mode": {
    "name": "ipython",
    "version": 3
   },
   "file_extension": ".py",
   "mimetype": "text/x-python",
   "name": "python",
   "nbconvert_exporter": "python",
   "pygments_lexer": "ipython3",
   "version": "3.8.2"
  }
 },
 "nbformat": 4,
 "nbformat_minor": 2
}
