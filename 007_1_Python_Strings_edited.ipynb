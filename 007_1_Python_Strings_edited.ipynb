{
 "cells": [
  {
   "cell_type": "markdown",
   "metadata": {
    "id": "_k3mjhPdUatC"
   },
   "source": [
    "#### Strings"
   ]
  },
  {
   "cell_type": "markdown",
   "metadata": {
    "id": "gGhfY4ntUcOp"
   },
   "source": [
    "Strings ในภาษา python จะถูกคลุมด้วย single quotation marks หรือ double quotation marks ก็ได้\r\n",
    "\r\n",
    "จะใช้ 'สวัสดี' หรือ \"สวัสดี\" ก็ได้ผลแบบเดียวกัน\r\n",
    "\r\n",
    "สามารถใช้ฟังก์ชั่น print เพื่อแสดงค่าของ string literal (string literal เป็นการใช้ความสามารถของ array เข้ามาช่วยเพื่อเก็บ\r\n",
    "ตัวแปรได้มากกว่า 1 ตัวอักษร) "
   ]
  },
  {
   "cell_type": "markdown",
   "metadata": {
    "id": "N4o0bexrUgBN"
   },
   "source": [
    "###### ตัวอย่าง"
   ]
  },
  {
   "cell_type": "code",
   "execution_count": 1,
   "metadata": {
    "colab": {
     "base_uri": "https://localhost:8080/"
    },
    "id": "QnSnmVaFUiUR",
    "outputId": "ecf1476c-5b53-4126-c584-c15e2275d4d2"
   },
   "outputs": [
    {
     "name": "stdout",
     "output_type": "stream",
     "text": [
      "สวัสดี\n",
      "สวัสดี\n"
     ]
    }
   ],
   "source": [
    "print(\"สวัสดี\")\r\n",
    "print('สวัสดี')"
   ]
  },
  {
   "cell_type": "markdown",
   "metadata": {
    "id": "twcXCVHNUnS6"
   },
   "source": [
    "###### Strings ที่ยาวหลายบรรทัด\r\n",
    "สามารถใช้ three quotes เพื่อกำหนดค่าให้ตัวแปร String ที่ยาวหลายบรรทัด"
   ]
  },
  {
   "cell_type": "markdown",
   "metadata": {
    "id": "r74SjwzeWEfA"
   },
   "source": [
    "###### ตัวอย่าง\r\n",
    "สามารถใช้ three double quotes:"
   ]
  },
  {
   "cell_type": "code",
   "execution_count": 2,
   "metadata": {
    "colab": {
     "base_uri": "https://localhost:8080/"
    },
    "id": "TYBRpDnZWHMq",
    "outputId": "ecf0dab0-19cf-4ee4-b7e5-f146fe2efd9a"
   },
   "outputs": [
    {
     "name": "stdout",
     "output_type": "stream",
     "text": [
      "แก้มน้องนางนั้นแดงกว่าใคร\n",
      "ใจพี่จมแทบพสุธา\n",
      "ดวงฤทัยหรือดวงแก้วตา\n",
      "ดุจดวงดาราดวงดาวดวงไหน\n"
     ]
    }
   ],
   "source": [
    "a = \"\"\"แก้มน้องนางนั้นแดงกว่าใคร\r\n",
    "ใจพี่จมแทบพสุธา\r\n",
    "ดวงฤทัยหรือดวงแก้วตา\r\n",
    "ดุจดวงดาราดวงดาวดวงไหน\"\"\"\r\n",
    "print(a)"
   ]
  },
  {
   "cell_type": "markdown",
   "metadata": {
    "id": "2KQ0A3p7WNQe"
   },
   "source": [
    "หรือใช้ three single quotes"
   ]
  },
  {
   "cell_type": "code",
   "execution_count": 3,
   "metadata": {
    "colab": {
     "base_uri": "https://localhost:8080/"
    },
    "id": "BnSB14EJWP-h",
    "outputId": "f74a642f-ea13-4a53-9f94-c4f273c57b56"
   },
   "outputs": [
    {
     "name": "stdout",
     "output_type": "stream",
     "text": [
      "แก้มน้องนางนั้นแดงกว่าใคร\n",
      "ใจพี่จมแทบพสุธา\n",
      "ดวงฤทัยหรือดวงแก้วตา\n",
      "ดุจดวงดาราดวงดาวดวงไหน\n"
     ]
    }
   ],
   "source": [
    "a = '''แก้มน้องนางนั้นแดงกว่าใคร\r\n",
    "ใจพี่จมแทบพสุธา\r\n",
    "ดวงฤทัยหรือดวงแก้วตา\r\n",
    "ดุจดวงดาราดวงดาวดวงไหน'''\r\n",
    "print(a)\r\n"
   ]
  },
  {
   "cell_type": "markdown",
   "metadata": {
    "id": "jKNP72C9XDH1"
   },
   "source": [
    "###### Strings ก็คือ Arrays\r\n",
    "\r\n",
    "Strings ก็คือ arrays ของ bytes ที่ใช้แทนตัวอักษร unicode \r\n",
    "\r\n",
    "โดย Python ไม่มี data type แบบ character ดังนั้น character หนึ่งตัวก็คือ string ที่มีความยาวเท่ากับ 1 นั่นเอง\r\n",
    "\r\n",
    "สามารถใช้ Square brackets [] เพื่อเข้าถึงข้อมูลในแต่ละ element ของ string"
   ]
  },
  {
   "cell_type": "markdown",
   "metadata": {
    "id": "J6pMqR6SXHpc"
   },
   "source": [
    "###### ตัวอย่าง\r\n",
    "เข้าถึงตัวอักษรที่ตำแหน่งที่ 1 (ตัวอักษรตัวแรก คือตัวอักษรตำแหน่งที่ 0)"
   ]
  },
  {
   "cell_type": "code",
   "execution_count": 3,
   "metadata": {
    "colab": {
     "base_uri": "https://localhost:8080/"
    },
    "id": "KLGOJrwLXJDT",
    "outputId": "bbc81d58-8eea-4fc8-8d4d-31bf04f11715"
   },
   "outputs": [
    {
     "name": "stdout",
     "output_type": "stream",
     "text": [
      "ร\n"
     ]
    }
   ],
   "source": [
    "a = \"เริ่มต้นใหม่กับคนเดิม\"\r\n",
    "print(a[1])\r\n"
   ]
  },
  {
   "cell_type": "markdown",
   "metadata": {
    "id": "Q9Ak_dlyXLr0"
   },
   "source": [
    "###### การ Loop ค่าของ String\r\n",
    "\r\n",
    "เนื่องจาก string ก็เป็น arrays เราจึงสามารถ loop ผ่านตัวอักษรแต่ละตัวใน string ได้ โดยใช้ for loop"
   ]
  },
  {
   "cell_type": "markdown",
   "metadata": {
    "id": "_USiY4vhXNWw"
   },
   "source": [
    "###### ตัวอย่าง\r\n",
    "Loop ผ่านตัวอักษรในคำว่า \"ฝนตกไหม\""
   ]
  },
  {
   "cell_type": "code",
   "execution_count": 4,
   "metadata": {
    "colab": {
     "base_uri": "https://localhost:8080/"
    },
    "id": "3y7pTQ1gXQB5",
    "outputId": "5399de06-d2bc-44b7-b9e1-bbdf07cd7fdb"
   },
   "outputs": [
    {
     "name": "stdout",
     "output_type": "stream",
     "text": [
      "ฝ\n",
      "น\n",
      "ต\n",
      "ก\n",
      "ไ\n",
      "ห\n",
      "ม\n"
     ]
    }
   ],
   "source": [
    "for x in \"ฝนตกไหม\":\r\n",
    "  print(x)"
   ]
  },
  {
   "cell_type": "markdown",
   "metadata": {
    "id": "jsDDmK36XTi9"
   },
   "source": [
    "###### ความยาวของ String\r\n",
    "\r\n",
    "สามารถใช้ฟังก์ชั่น len() เพื่อหาความยาวของ string"
   ]
  },
  {
   "cell_type": "markdown",
   "metadata": {
    "id": "IKTi4uKCXVg3"
   },
   "source": [
    "###### ตัวอย่าง"
   ]
  },
  {
   "cell_type": "code",
   "execution_count": 5,
   "metadata": {
    "colab": {
     "base_uri": "https://localhost:8080/"
    },
    "id": "WdXuUbbgXWnG",
    "outputId": "2bd9caa8-e2a7-410a-86f0-06d0555e2e36"
   },
   "outputs": [
    {
     "name": "stdout",
     "output_type": "stream",
     "text": [
      "26\n"
     ]
    }
   ],
   "source": [
    "a = \"ไม่อยากรู้ว่าตัวเองเป็นใคร\"\r\n",
    "print(len(a))\r\n"
   ]
  },
  {
   "cell_type": "markdown",
   "metadata": {
    "id": "Lo74MsvkXYhG"
   },
   "source": [
    "###### การตรวจหาค่า String\r\n",
    "\r\n",
    "สามารถใช้ keyword in ในการตรวจดูว่ามีคำที่ต้องการค้นหาอยู่ใน String นั้นหรือไม่"
   ]
  },
  {
   "cell_type": "markdown",
   "metadata": {
    "id": "_YeFwWWiXbtK"
   },
   "source": [
    "###### ตัวอย่าง\r\n",
    "\r\n",
    "ตรวจดูว่ามีคำว่า \"เรา\" อยู่ใน String ที่ชื่อ song หรือไม่"
   ]
  },
  {
   "cell_type": "code",
   "execution_count": 6,
   "metadata": {
    "colab": {
     "base_uri": "https://localhost:8080/"
    },
    "id": "VZ8JqZDkXda9",
    "outputId": "ddaaf0cf-2443-47c8-c364-4ba1733c69e4"
   },
   "outputs": [
    {
     "name": "stdout",
     "output_type": "stream",
     "text": [
      "True\n"
     ]
    }
   ],
   "source": [
    "song = \"มันไม่มีคำว่าเราอยู่ในนั้น\"\r\n",
    "print(\"เรา\" in song)"
   ]
  },
  {
   "cell_type": "markdown",
   "metadata": {
    "id": "QrZWXkP9XfG2"
   },
   "source": [
    "อาจใช้ keyword in ควบคู่กับ if ก็ได้"
   ]
  },
  {
   "cell_type": "markdown",
   "metadata": {
    "id": "Obp--HFvXhP-"
   },
   "source": [
    "###### ตัวอย่าง\r\n",
    "\r\n",
    "ให้ Print ก็ต่อเมื่อมีคำว่า \"เรา\" อยู่ใน song"
   ]
  },
  {
   "cell_type": "code",
   "execution_count": 7,
   "metadata": {
    "colab": {
     "base_uri": "https://localhost:8080/"
    },
    "id": "7Q6iAPdpXjj-",
    "outputId": "3e52beed-ba90-4c2b-975e-fb2da274fa9a"
   },
   "outputs": [
    {
     "name": "stdout",
     "output_type": "stream",
     "text": [
      "ใช่ มันมีคำว่า \"เรา\" อยู่ใน song นะ\n"
     ]
    }
   ],
   "source": [
    "song = \"มันไม่มีคำว่าเราอยู่ในนั้น\"\r\n",
    "if \"เรา\" in song:\r\n",
    "  print(\"ใช่ มันมีคำว่า \\\"เรา\\\" อยู่ใน song นะ\")"
   ]
  }
 ],
 "metadata": {
  "colab": {
   "name": "7.1Python Strings.ipynb",
   "provenance": []
  },
  "interpreter": {
   "hash": "8a42e8581704d812f174276cadf47b91a8b3cbce976324507688b69a62b18c0b"
  },
  "kernelspec": {
   "display_name": "Python 3.8.2 32-bit",
   "name": "python3"
  },
  "language_info": {
   "codemirror_mode": {
    "name": "ipython",
    "version": 3
   },
   "file_extension": ".py",
   "mimetype": "text/x-python",
   "name": "python",
   "nbconvert_exporter": "python",
   "pygments_lexer": "ipython3",
   "version": "3.8.2"
  }
 },
 "nbformat": 4,
 "nbformat_minor": 2
}
