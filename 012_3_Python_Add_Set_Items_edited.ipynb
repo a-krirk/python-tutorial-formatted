{
 "cells": [
  {
   "cell_type": "markdown",
   "metadata": {
    "id": "PCTYYAXcvSWi"
   },
   "source": [
    "#### การเพิ่มข้อมูลใน set\r\n"
   ]
  },
  {
   "cell_type": "markdown",
   "metadata": {
    "id": "tx7rkQa3vSWn"
   },
   "source": [
    "###### การเพิ่มข้อมูล"
   ]
  },
  {
   "cell_type": "markdown",
   "metadata": {
    "id": "j7y_SgjwvSWo"
   },
   "source": [
    "เมื่อเราสร้าง set ขึ้นมาแล้ว เราจะไม่สามารถ แก้ไขข้อมูลได้ แต่สามารถเพิ่มข้อมูลได้\n",
    "\n",
    "ในการเพิ่มข้อมูล 1 ค่าใน set เราจะใช้คำสั่ง add()\n",
    "\n"
   ]
  },
  {
   "cell_type": "markdown",
   "metadata": {
    "id": "oGM_Gx6TvSWo"
   },
   "source": [
    "###### ตัวอย่าง\r\n",
    "เพิ่มข้อมูลใน set โดยใช้ add()"
   ]
  },
  {
   "cell_type": "code",
   "execution_count": 2,
   "metadata": {
    "id": "mqFKIoRXvSWp",
    "outputId": "69be1063-64c5-4fe5-f1b5-c7bce915d887"
   },
   "outputs": [
    {
     "name": "stdout",
     "output_type": "stream",
     "text": [
      "{'Salad', 'Sushi', 'Burger', 'Pizza'}\n"
     ]
    }
   ],
   "source": [
    "foodset = {\"Sushi\", \"Burger\", \"Salad\"}\r\n",
    "foodset.add(\"Pizza\")\r\n",
    "print(foodset)"
   ]
  },
  {
   "cell_type": "markdown",
   "metadata": {
    "id": "ob-IDLLGvSWr"
   },
   "source": [
    "###### เพิ่ม Sets\n",
    "การเพิ่มข้อมูล set นึงเข้าในอีก set นึงเราจะใช้คำสั่ง update()\n"
   ]
  },
  {
   "cell_type": "markdown",
   "metadata": {
    "id": "H541CY_ovSWs"
   },
   "source": [
    "###### ตัวอย่าง\r\n",
    "เพิ่มข้อมูลจาก meal ไปยัง foodset"
   ]
  },
  {
   "cell_type": "code",
   "execution_count": 3,
   "metadata": {
    "id": "s5umdQ5PvSWs",
    "outputId": "f04ca0a1-8f0b-4263-e7c3-a5e7575564c5"
   },
   "outputs": [
    {
     "name": "stdout",
     "output_type": "stream",
     "text": [
      "{'Curry', 'Burger', 'Pizza', 'Sushi', 'Salad', 'Noodle'}\n"
     ]
    }
   ],
   "source": [
    "foodset = {\"Sushi\", \"Burger\", \"Salad\"}\r\n",
    "meal = {\"Pizza\", \"Noodle\", \"Curry\"}\r\n",
    "foodset.update(meal)\r\n",
    "print(foodset)"
   ]
  },
  {
   "cell_type": "markdown",
   "metadata": {
    "id": "7yBKxiNsvSWt"
   },
   "source": [
    "###### เพิ่ม Iterable ใดๆ\r\n",
    "object ที่ใช้กับคำสั่ง update() ไม่จำเป็นที่จะต้องเป็น set เท่านั้น สามารถเป็น iterable ใดๆก็ได้ (tuples, lists, dictionaries, ฯลฯ)\r\n"
   ]
  },
  {
   "cell_type": "markdown",
   "metadata": {
    "id": "VWMyYsM7vSWu"
   },
   "source": [
    "###### ตัวอย่าง\r\n",
    "เพิ่มข้อมูลจาก list เข้าใน set\r\n"
   ]
  },
  {
   "cell_type": "code",
   "execution_count": 4,
   "metadata": {
    "id": "nh9GZ6WUvSWv",
    "outputId": "51499a9f-679f-418a-86d2-6acc945b4b11"
   },
   "outputs": [
    {
     "name": "stdout",
     "output_type": "stream",
     "text": [
      "{'Burger', 'Pizza', 'Sushi', 'Salad', 'Noodle'}\n"
     ]
    }
   ],
   "source": [
    "foodset = {\"Sushi\", \"Burger\", \"Salad\"}\r\n",
    "mylist = [\"Pizza\", \"Noodle\"]\r\n",
    "foodset.update(mylist)\r\n",
    "print(foodset)"
   ]
  }
 ],
 "metadata": {
  "colab": {
   "name": "012_3_Python_Add_Set_Items.ipynb",
   "provenance": []
  },
  "interpreter": {
   "hash": "8a42e8581704d812f174276cadf47b91a8b3cbce976324507688b69a62b18c0b"
  },
  "kernelspec": {
   "display_name": "Python 3.8.2 32-bit",
   "name": "python3"
  },
  "language_info": {
   "codemirror_mode": {
    "name": "ipython",
    "version": 3
   },
   "file_extension": ".py",
   "mimetype": "text/x-python",
   "name": "python",
   "nbconvert_exporter": "python",
   "pygments_lexer": "ipython3",
   "version": "3.8.2"
  }
 },
 "nbformat": 4,
 "nbformat_minor": 2
}
